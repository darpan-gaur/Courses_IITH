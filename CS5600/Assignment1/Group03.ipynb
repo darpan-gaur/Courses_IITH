{
  "cells": [
    {
      "cell_type": "markdown",
      "metadata": {
        "id": "yUrLyLuKhQod"
      },
      "source": [
        "### Data Mining - Assignment 1 - Expert Recommendation System"
      ]
    },
    {
      "cell_type": "markdown",
      "metadata": {
        "id": "BTZc7e_BhqF_"
      },
      "source": [
        "<h3>Team members:</h3>\n",
        "<center>\n",
        "    <h4>\n",
        "        <table>\n",
        "            <tr>\n",
        "                <th> Name </th>\n",
        "                <th> Roll Number </th>\n",
        "            </tr>\n",
        "            <tr>\n",
        "                <td> Kritik Agarwal </td>\n",
        "                <td> CS23MTECH11009 </td>\n",
        "            </tr>\n",
        "            <tr>\n",
        "                <td> Darpan Gaur </td>\n",
        "                <td> C021BTECH11004 </td>\n",
        "            </tr>\n",
        "            <tr>\n",
        "                <td> Hari Priyanka Allam </td>\n",
        "                <td> CC23M24P100001 </td>\n",
        "            </tr>\n",
        "            <tr>\n",
        "                <td> Maloth David </td>\n",
        "                <td> CS21BTECH11035 </td>\n",
        "            </tr>\n",
        "        </table>\n",
        "    </h4>\n",
        "</center>"
      ]
    },
    {
      "cell_type": "code",
      "execution_count": null,
      "metadata": {
        "colab": {
          "base_uri": "https://localhost:8080/"
        },
        "id": "XoRli9zJiBvF",
        "outputId": "a56b76ef-ce16-4b15-f63e-bae89be63289"
      },
      "outputs": [
        {
          "name": "stdout",
          "output_type": "stream",
          "text": [
            "Mounted at /content/drive\n"
          ]
        }
      ],
      "source": [
        "from google.colab import drive\n",
        "drive.mount('/content/drive')"
      ]
    },
    {
      "cell_type": "markdown",
      "metadata": {
        "id": "jGjvPJ7QhOFs"
      },
      "source": [
        "#### Download the Dataset"
      ]
    },
    {
      "cell_type": "code",
      "execution_count": null,
      "metadata": {
        "colab": {
          "base_uri": "https://localhost:8080/"
        },
        "id": "dqNUP8axf2Mc",
        "outputId": "8120e98a-05c0-4bc6-8ddb-56808ca9a734"
      },
      "outputs": [
        {
          "name": "stdout",
          "output_type": "stream",
          "text": [
            "File already exists at /content/drive/MyDrive/softwareengineering.stackexchange.com.7z. Skipping download.\n"
          ]
        }
      ],
      "source": [
        "import os\n",
        "import gdown\n",
        "\n",
        "# GDrive file link\n",
        "url = \"https://drive.google.com/file/d/19UhOq9Z5IVqM926cC3hvxcl726CTv-kT/view?usp=sharing\"\n",
        "\n",
        "# Output path\n",
        "output = \"/content/drive/MyDrive/softwareengineering.stackexchange.com.7z\"\n",
        "\n",
        "# Check if the file already exists\n",
        "if not os.path.exists(output):\n",
        "    print(f\"File does not exist. Downloading from {url}...\")\n",
        "    gdown.download(url, output, fuzzy=True)\n",
        "    print(\"Download complete.\")\n",
        "else:\n",
        "    print(f\"File already exists at {output}. Skipping download.\")\n"
      ]
    },
    {
      "cell_type": "markdown",
      "metadata": {
        "id": "_iRp7nraijzK"
      },
      "source": [
        "#### Unzip the files and convert to csv"
      ]
    },
    {
      "cell_type": "code",
      "execution_count": null,
      "metadata": {
        "colab": {
          "base_uri": "https://localhost:8080/"
        },
        "id": "QeALh239hNpU",
        "outputId": "44836b5d-9a0b-470c-a53d-829d42953271"
      },
      "outputs": [
        {
          "data": {
            "text/plain": [
              "0"
            ]
          },
          "execution_count": 3,
          "metadata": {},
          "output_type": "execute_result"
        }
      ],
      "source": [
        "# Unzip the Dataset File\n",
        "os.system( '7z x /content/drive/MyDrive/softwareengineering.stackexchange.com.7z -o/content/drive/MyDrive/DataMining/' )"
      ]
    },
    {
      "cell_type": "code",
      "execution_count": null,
      "metadata": {
        "colab": {
          "base_uri": "https://localhost:8080/"
        },
        "id": "gRgbTqUQkzcG",
        "outputId": "ec7adead-db84-481c-eecf-06fbf920b660"
      },
      "outputs": [
        {
          "name": "stdout",
          "output_type": "stream",
          "text": [
            "Cloning repository https://github.com/SkobelevIgor/stackexchange-xml-converter into /content/stackexchange-xml-converter...\n",
            "Clone complete.\n"
          ]
        }
      ],
      "source": [
        "import subprocess\n",
        "\n",
        "# GitHub repository URL\n",
        "repo_url = \"https://github.com/SkobelevIgor/stackexchange-xml-converter\"\n",
        "\n",
        "# Directory to clone the repository into\n",
        "clone_dir = \"/content/stackexchange-xml-converter\"\n",
        "\n",
        "# Check if the directory already exists\n",
        "if not os.path.exists(clone_dir):\n",
        "    print(f\"Cloning repository {repo_url} into {clone_dir}...\")\n",
        "\n",
        "    os.system(f\"git clone {repo_url} {clone_dir}\")\n",
        "    print(\"Clone complete.\")\n",
        "else:\n",
        "    print(f\"Repository already exists at {clone_dir}.\")"
      ]
    },
    {
      "cell_type": "code",
      "execution_count": null,
      "metadata": {
        "colab": {
          "base_uri": "https://localhost:8080/"
        },
        "id": "Eh-Wtf9slnGQ",
        "outputId": "db91cfbb-b065-4572-ced2-5e2186340737"
      },
      "outputs": [
        {
          "name": "stdout",
          "output_type": "stream",
          "text": [
            "Changed directory to /content/stackexchange-xml-converter\n",
            "Running 'go build'...\n",
            "'go' command not found. Installing Go...\n",
            "Go installed successfully. Retrying 'go build'...\n",
            "Build completed successfully after Go installation.\n"
          ]
        }
      ],
      "source": [
        "# Function to run a command and handle errors\n",
        "def run_command(command):\n",
        "    try:\n",
        "        subprocess.run(command, check=True)\n",
        "        return True\n",
        "    except subprocess.CalledProcessError as e:\n",
        "        print(f\"An error occurred while running {' '.join(command)}: {e}\")\n",
        "        return False\n",
        "\n",
        "# Install GoLang if not already installed\n",
        "def install_go():\n",
        "    print(\"'go' command not found. Installing Go...\")\n",
        "    return run_command([\"apt-get\", \"install\", \"golang\", \"-y\"])\n",
        "\n",
        "# Check if the directory exists\n",
        "if os.path.exists(clone_dir):\n",
        "    os.chdir(clone_dir)\n",
        "    print(f\"Changed directory to {clone_dir}\")\n",
        "\n",
        "    try:\n",
        "        print(\"Running 'go build'...\")\n",
        "        subprocess.run([\"go\", \"build\"], check=True)\n",
        "        print(\"Build completed successfully.\")\n",
        "    except FileNotFoundError:\n",
        "        # If GoLang is not installed, install it\n",
        "        if install_go():\n",
        "            print(\"Go installed successfully. Retrying 'go build'...\")\n",
        "            if run_command([\"go\", \"build\"]):\n",
        "                print(\"Build completed successfully after Go installation.\")\n",
        "            else:\n",
        "                print(\"Build failed after installing Go.\")\n",
        "        else:\n",
        "            print(\"Failed to install Go.\")\n",
        "    except subprocess.CalledProcessError as e:\n",
        "        print(f\"An error occurred during the build: {e}\")\n",
        "else:\n",
        "    print(f\"Directory {clone_dir} does not exist. Please clone the repository first.\")"
      ]
    },
    {
      "cell_type": "code",
      "execution_count": null,
      "metadata": {
        "colab": {
          "base_uri": "https://localhost:8080/"
        },
        "id": "-bKi721EmHvB",
        "outputId": "40b7e7be-4640-4eeb-c098-de44c644155b"
      },
      "outputs": [
        {
          "name": "stdout",
          "output_type": "stream",
          "text": [
            "Running command: /content/stackexchange-xml-converter/stackexchange-xml-converter -result-format=csv -source-path=/content/drive/MyDrive/DataMining/ -store-to-dir=/content/drive/MyDrive/DataMining/\n",
            "Conversion completed successfully.\n",
            "Deleted /content/drive/MyDrive/DataMining/Badges.xml\n",
            "Deleted /content/drive/MyDrive/DataMining/Comments.xml\n",
            "Deleted /content/drive/MyDrive/DataMining/PostHistory.xml\n",
            "Deleted /content/drive/MyDrive/DataMining/PostLinks.xml\n",
            "Deleted /content/drive/MyDrive/DataMining/Posts.xml\n",
            "Deleted /content/drive/MyDrive/DataMining/Tags.xml\n",
            "Deleted /content/drive/MyDrive/DataMining/Users.xml\n",
            "Deleted /content/drive/MyDrive/DataMining/Votes.xml\n"
          ]
        }
      ],
      "source": [
        "import glob\n",
        "\n",
        "converter_file = \"/content/stackexchange-xml-converter/stackexchange-xml-converter\"\n",
        "src_dir = \"/content/drive/MyDrive/DataMining/\"\n",
        "dest_dir = \"/content/drive/MyDrive/DataMining/\"\n",
        "\n",
        "# Check for XML files in the source directory\n",
        "xml_files = glob.glob(os.path.join(src_dir, \"*.xml\"))\n",
        "\n",
        "if xml_files:\n",
        "    command = [\n",
        "        converter_file,\n",
        "        \"-result-format=csv\",\n",
        "        f\"-source-path={src_dir}\",\n",
        "        f\"-store-to-dir={dest_dir}\"\n",
        "    ]\n",
        "\n",
        "    try:\n",
        "        print(f\"Running command: {' '.join(command)}\")\n",
        "        subprocess.run(command, check=True)\n",
        "        print(\"Conversion completed successfully.\")\n",
        "\n",
        "        # Delete XML files after conversion\n",
        "        for file in xml_files:\n",
        "            os.remove(file)\n",
        "            print(f\"Deleted {file}\")\n",
        "\n",
        "    except subprocess.CalledProcessError as e:\n",
        "        print(f\"An error occurred during conversion: {e}\")\n",
        "else:\n",
        "    print(f\"No XML files found in {src_dir}.\")"
      ]
    },
    {
      "cell_type": "markdown",
      "metadata": {
        "id": "_qh0ovIZpLWB"
      },
      "source": [
        "#### Import the Required Libraries"
      ]
    },
    {
      "cell_type": "code",
      "execution_count": null,
      "metadata": {
        "colab": {
          "base_uri": "https://localhost:8080/"
        },
        "id": "KfVZY-bgbvy0",
        "outputId": "2055ccca-f64b-4aea-f2a6-a35904a571b5"
      },
      "outputs": [
        {
          "name": "stdout",
          "output_type": "stream",
          "text": [
            "Collecting scikit-surprise\n",
            "  Downloading scikit_surprise-1.1.4.tar.gz (154 kB)\n",
            "\u001b[?25l     \u001b[90m━━━━━━━━━━━━━━━━━━━━━━━━━━━━━━━━━━━━━━━━\u001b[0m \u001b[32m0.0/154.4 kB\u001b[0m \u001b[31m?\u001b[0m eta \u001b[36m-:--:--\u001b[0m\r\u001b[2K     \u001b[91m━━━━━━━━━━━━━━━━━━━━━━━━━━━━━━━━━━━━━━━\u001b[0m\u001b[91m╸\u001b[0m \u001b[32m153.6/154.4 kB\u001b[0m \u001b[31m4.6 MB/s\u001b[0m eta \u001b[36m0:00:01\u001b[0m\r\u001b[2K     \u001b[90m━━━━━━━━━━━━━━━━━━━━━━━━━━━━━━━━━━━━━━━━\u001b[0m \u001b[32m154.4/154.4 kB\u001b[0m \u001b[31m3.1 MB/s\u001b[0m eta \u001b[36m0:00:00\u001b[0m\n",
            "\u001b[?25h  Installing build dependencies ... \u001b[?25l\u001b[?25hdone\n",
            "  Getting requirements to build wheel ... \u001b[?25l\u001b[?25hdone\n",
            "  Preparing metadata (pyproject.toml) ... \u001b[?25l\u001b[?25hdone\n",
            "Requirement already satisfied: joblib>=1.2.0 in /usr/local/lib/python3.10/dist-packages (from scikit-surprise) (1.4.2)\n",
            "Requirement already satisfied: numpy>=1.19.5 in /usr/local/lib/python3.10/dist-packages (from scikit-surprise) (1.26.4)\n",
            "Requirement already satisfied: scipy>=1.6.0 in /usr/local/lib/python3.10/dist-packages (from scikit-surprise) (1.13.1)\n",
            "Building wheels for collected packages: scikit-surprise\n",
            "  Building wheel for scikit-surprise (pyproject.toml) ... \u001b[?25l\u001b[?25hdone\n",
            "  Created wheel for scikit-surprise: filename=scikit_surprise-1.1.4-cp310-cp310-linux_x86_64.whl size=2357269 sha256=6d72af14b045a740083e4d464b491ddd3602148745f7438136d3e15f68e94b2e\n",
            "  Stored in directory: /root/.cache/pip/wheels/4b/3f/df/6acbf0a40397d9bf3ff97f582cc22fb9ce66adde75bc71fd54\n",
            "Successfully built scikit-surprise\n",
            "Installing collected packages: scikit-surprise\n",
            "Successfully installed scikit-surprise-1.1.4\n"
          ]
        }
      ],
      "source": [
        "%pip install scikit-surprise"
      ]
    },
    {
      "cell_type": "code",
      "execution_count": 20,
      "metadata": {
        "id": "bJaRAZp8e0nF"
      },
      "outputs": [],
      "source": [
        "import numpy as np\n",
        "import pandas as pd\n",
        "import os\n",
        "\n",
        "from scipy.stats import pearsonr\n",
        "from sklearn.metrics import mean_squared_error\n",
        "\n",
        "from surprise import KNNBaseline\n",
        "from surprise import Dataset\n",
        "from surprise import Reader\n",
        "from surprise import accuracy\n",
        "from surprise import SVD"
      ]
    },
    {
      "cell_type": "markdown",
      "metadata": {
        "id": "M17phzmDpmYI"
      },
      "source": [
        "#### Load the CSV files"
      ]
    },
    {
      "cell_type": "code",
      "execution_count": null,
      "metadata": {
        "colab": {
          "base_uri": "https://localhost:8080/"
        },
        "id": "himvlTvM_bGr",
        "outputId": "43bcc53f-9b11-489a-f909-c6b424403268"
      },
      "outputs": [
        {
          "name": "stdout",
          "output_type": "stream",
          "text": [
            "Loaded PostLinks.csv\n",
            "         Id  RelatedPostId  PostId  LinkTypeId             CreationDate\n",
            "0   6613628         261243  269546           1  2015-01-09T08:46:25.567\n",
            "1  10927609         335738  397157           1  2019-09-09T11:46:30.077\n",
            "2  10927608         377985  397157           1  2019-09-09T11:43:52.163\n",
            "3  10945537         377985  397157           3  2019-09-19T00:59:43.647\n",
            "4  11272483         321920  411220           1  2020-06-09T09:08:40.440\n",
            "Loaded Tags.csv\n",
            "   Id  ExcerptPostId  WikiPostId                TagName  Count\n",
            "0   1        84634.0     84633.0               comments    199\n",
            "1   3       133740.0    133739.0             code-smell    171\n",
            "2   4         4802.0      4801.0  programming-languages   1403\n",
            "3   5            NaN         NaN                  usage      8\n",
            "4   7       109610.0    109609.0               business    127\n",
            "Loaded Badges.csv\n",
            "   Id  UserId  Class     Name  TagBased                     Date\n",
            "0  12      11      3  Teacher     False  2010-09-01T19:40:38.967\n",
            "1  21       6      3  Teacher     False  2010-09-01T19:45:38.970\n",
            "2  22       9      3  Teacher     False  2010-09-01T19:45:39.080\n",
            "3  23      21      3  Teacher     False  2010-09-01T19:45:39.190\n",
            "4  43      14      3  Teacher     False  2010-09-01T19:50:39.347\n",
            "Loaded Users.csv\n",
            "    Id  AccountId  Reputation  Views  DownVotes  UpVotes      DisplayName  \\\n",
            "0  585    21694.0         131     13          0       27              njd   \n",
            "1  586   130929.0         101      4          0        0            misho   \n",
            "2  587    23033.0        4367    288          0     2009       sharptooth   \n",
            "3  588    21049.0         101      1          1       97    Mark Davidson   \n",
            "4  589    10709.0         747     47          1       31  Richard Gadsden   \n",
            "\n",
            "                     Location  ProfileImageUrl  \\\n",
            "0              United Kingdom              NaN   \n",
            "1              Minsk, Belarus              NaN   \n",
            "2                         NaN              NaN   \n",
            "3     England, United Kingdom              NaN   \n",
            "4  Manchester, United Kingdom              NaN   \n",
            "\n",
            "                         WebsiteUrl  \\\n",
            "0                  http://www.bl.uk   \n",
            "1                               NaN   \n",
            "2                               NaN   \n",
            "3  http://www.pablumfication.co.uk/   \n",
            "4      http://richard.gadsden.name/   \n",
            "\n",
            "                                             AboutMe             CreationDate  \\\n",
            "0  Software developer, with nearly 20 years' expe...  2010-09-09T10:12:21.813   \n",
            "1                                                NaN  2010-09-09T10:13:53.120   \n",
            "2                                                NaN  2010-09-09T10:18:06.977   \n",
            "3                                                NaN  2010-09-09T10:36:12.327   \n",
            "4  VB6 / VB.NET programmer, mostly Office, some A...  2010-09-09T10:41:47.337   \n",
            "\n",
            "            LastAccessDate  \n",
            "0  2022-08-30T19:36:21.053  \n",
            "1  2016-07-08T13:05:04.950  \n",
            "2  2021-06-23T14:59:04.297  \n",
            "3  2023-01-25T15:28:44.303  \n",
            "4  2023-11-20T11:44:55.773  \n",
            "Loaded Comments.csv\n",
            "      Id  PostId  UserId  Score  ContentLicense UserDisplayName  \\\n",
            "0   4694       1  2314.0     44             NaN             NaN   \n",
            "1   9422       1  1398.0      2             NaN             NaN   \n",
            "2  11378       1  2983.0    107             NaN             NaN   \n",
            "3  43716       1   934.0      0             NaN             NaN   \n",
            "4  49570       1  1724.0      1             NaN             NaN   \n",
            "\n",
            "                                                Text             CreationDate  \n",
            "0     I'm going to upvote any answer that says \"no\".  2010-09-16T22:21:03.907  \n",
            "1             @Renesis That's the smell of divinity.  2010-09-27T20:33:26.953  \n",
            "2  Your coworker made a sweeping generalization, ...  2010-10-01T17:25:46.300  \n",
            "3  In a perfect world or in a typical real softwa...  2010-12-15T14:39:51.373  \n",
            "4  @Thorbjørn - the examples are simplified but t...  2010-12-27T00:29:59.650  \n",
            "Loaded Votes.csv\n",
            "    Id  UserId  PostId  VoteTypeId  BountyAmount             CreationDate\n",
            "0    6     NaN       1           2           NaN  2010-09-01T00:00:00.000\n",
            "1   11     NaN       1           2           NaN  2010-09-01T00:00:00.000\n",
            "2   23     NaN       1           2           NaN  2010-09-01T00:00:00.000\n",
            "3   69     NaN       1           2           NaN  2010-09-01T00:00:00.000\n",
            "4  231     NaN       1           2           NaN  2010-09-01T00:00:00.000\n",
            "Loaded Posts.csv\n",
            "   Id  OwnerUserId  LastEditorUserId  PostTypeId  AcceptedAnswerId  Score  \\\n",
            "0   1          6.0             226.0           1              13.0     99   \n",
            "1   3         11.0              11.0           2               NaN     29   \n",
            "2   4          NaN               NaN           1              26.0     66   \n",
            "3   7         21.0               NaN           2               NaN     10   \n",
            "4   9         17.0             666.0           1               NaN     39   \n",
            "\n",
            "   ParentId  ViewCount  AnswerCount  CommentCount  ...  \\\n",
            "0       NaN    65597.0         34.0            10  ...   \n",
            "1       1.0        NaN          NaN            17  ...   \n",
            "2       NaN    10023.0         12.0             2  ...   \n",
            "3       1.0        NaN          NaN             0  ...   \n",
            "4       NaN    13944.0         24.0             1  ...   \n",
            "\n",
            "                                               Title  \\\n",
            "0                        \"Comments are a code smell\"   \n",
            "1                                                NaN   \n",
            "2  Getting non-programmers to understand the deve...   \n",
            "3                                                NaN   \n",
            "4                   How do you stay focused at work?   \n",
            "\n",
            "                                                Tags ContentLicense  \\\n",
            "0                           |comments|anti-patterns|   CC BY-SA 2.5   \n",
            "1                                                NaN   CC BY-SA 2.5   \n",
            "2  |business|project-management|development-process|   CC BY-SA 2.5   \n",
            "3                                                NaN   CC BY-SA 2.5   \n",
            "4                     |productivity|time-management|   CC BY-SA 2.5   \n",
            "\n",
            "                                                Body FavoriteCount  \\\n",
            "0  <p>A coworker of mine believes that <em>any</e...           NaN   \n",
            "1  <p>Ideally, code should be so well coded that ...           NaN   \n",
            "2  <p>When starting a project for a company that'...           NaN   \n",
            "3  <p>I think the answer is the usual \"It depends...           NaN   \n",
            "4  <p>Sometimes, the things I have to do for my j...           NaN   \n",
            "\n",
            "              CreationDate       CommunityOwnedDate               ClosedDate  \\\n",
            "0  2010-09-01T19:34:48.000  2011-01-31T09:04:54.130  2012-11-27T20:11:51.580   \n",
            "1  2010-09-01T19:36:50.053  2011-01-31T09:04:54.130                      NaN   \n",
            "2  2010-09-01T19:37:39.957  2022-11-03T13:52:50.803                      NaN   \n",
            "3  2010-09-01T19:42:16.797  2011-01-31T09:04:54.130                      NaN   \n",
            "4  2010-09-01T19:43:04.957  2011-01-04T21:22:43.957  2012-11-13T19:09:35.853   \n",
            "\n",
            "              LastEditDate         LastActivityDate  \n",
            "0  2011-11-25T22:32:41.300  2012-11-27T19:29:27.740  \n",
            "1  2010-09-01T20:41:14.273  2010-09-01T20:41:14.273  \n",
            "2  2010-09-01T19:45:26.117  2013-03-20T19:59:57.770  \n",
            "3                      NaN  2010-09-01T19:42:16.797  \n",
            "4  2010-09-11T09:35:35.957  2011-01-04T21:22:43.957  \n",
            "\n",
            "[5 rows x 22 columns]\n",
            "Loaded PostHistory.csv\n",
            "   Id  PostId  UserId  PostHistoryTypeId UserDisplayName ContentLicense  \\\n",
            "0   1       1     6.0                  2             NaN   CC BY-SA 2.5   \n",
            "1   2       1     6.0                  1             NaN   CC BY-SA 2.5   \n",
            "2   3       1     6.0                  3             NaN   CC BY-SA 2.5   \n",
            "3   7       3    11.0                  2             NaN   CC BY-SA 2.5   \n",
            "4   8       4     NaN                  2           user8   CC BY-SA 2.5   \n",
            "\n",
            "                           RevisionGUID  \\\n",
            "0  09047374-2b75-4102-9a0d-44204a8e5eb0   \n",
            "1  09047374-2b75-4102-9a0d-44204a8e5eb0   \n",
            "2  09047374-2b75-4102-9a0d-44204a8e5eb0   \n",
            "3  79ac904c-659b-40d8-afa6-0d4c49cd7404   \n",
            "4  96cc399e-b1d3-4352-96df-f900e93a13af   \n",
            "\n",
            "                                                Text Comment  \\\n",
            "0  A coworker of mine believes that there *any* u...     NaN   \n",
            "1                        \"Comments are a code smell\"     NaN   \n",
            "2                     |comments|holy-war|code-smell|     NaN   \n",
            "3  Ideally, code should be so well coded that it ...     NaN   \n",
            "4  When starting a project for a company that's n...     NaN   \n",
            "\n",
            "              CreationDate  \n",
            "0  2010-09-01T19:34:48.000  \n",
            "1  2010-09-01T19:34:48.000  \n",
            "2  2010-09-01T19:34:48.000  \n",
            "3  2010-09-01T19:36:50.053  \n",
            "4  2010-09-01T19:37:39.957  \n"
          ]
        }
      ],
      "source": [
        "folder_path = '/content/drive/MyDrive/DataMining/'\n",
        "\n",
        "csv_files = [f for f in os.listdir(folder_path) if f.endswith('.csv')]\n",
        "\n",
        "for csv_file in csv_files:\n",
        "    file_path = os.path.join(folder_path, csv_file)\n",
        "    df = pd.read_csv(file_path)\n",
        "    print(f'Loaded {csv_file}')\n",
        "    print(df.head())"
      ]
    },
    {
      "cell_type": "markdown",
      "metadata": {
        "id": "9gbTLpQ7phSY"
      },
      "source": [
        "#### Exercise 1"
      ]
    },
    {
      "cell_type": "markdown",
      "metadata": {
        "id": "LKPCshV9_7-N"
      },
      "source": [
        "Top 3 Answerers"
      ]
    },
    {
      "cell_type": "code",
      "execution_count": 22,
      "metadata": {
        "colab": {
          "base_uri": "https://localhost:8080/"
        },
        "id": "AAv6HSi8B_Uw",
        "outputId": "84d90344-4f27-491b-f00c-7f1ba1df7bad"
      },
      "outputs": [
        {
          "name": "stdout",
          "output_type": "stream",
          "text": [
            "Top 3 Answerers:\n",
            "       OwnerUserId  AnswerCount\n",
            "3189          9113         2839\n",
            "19912       177980         2326\n",
            "557           1204         2043\n"
          ]
        }
      ],
      "source": [
        "posts = pd.read_csv('./data/Posts.csv')\n",
        "\n",
        "answers = posts[posts['PostTypeId'] == 2]\n",
        "answerer_table = answers.groupby('OwnerUserId').size().reset_index(name='AnswerCount')\n",
        "answerer_table['OwnerUserId'] = answerer_table['OwnerUserId'].astype(int)\n",
        "top_3_answerers = answerer_table.sort_values(by='AnswerCount', ascending=False).head(3)\n",
        "\n",
        "print(\"Top 3 Answerers:\")\n",
        "print(top_3_answerers)"
      ]
    },
    {
      "cell_type": "markdown",
      "metadata": {
        "id": "UPFTuEFh_-1B"
      },
      "source": [
        "Top 3 Tags"
      ]
    },
    {
      "cell_type": "code",
      "execution_count": 23,
      "metadata": {
        "colab": {
          "base_uri": "https://localhost:8080/"
        },
        "id": "URF_MEgS_wXR",
        "outputId": "338e7a40-a752-4ab6-a3a3-093f4cc2d827"
      },
      "outputs": [
        {
          "name": "stdout",
          "output_type": "stream",
          "text": [
            "\n",
            "Top 3 Tags:\n",
            "       Tags  TagCount\n",
            "415  design      5162\n",
            "187      c#      4931\n",
            "773    java      4928\n"
          ]
        }
      ],
      "source": [
        "questions = posts[posts['PostTypeId'] == 1]\n",
        "questions.loc[:, 'Tags'] = questions['Tags'].apply(lambda x: str(x).strip('|').split('|'))\n",
        "\n",
        "tags_exploded = questions.explode('Tags')\n",
        "tags_exploded = tags_exploded[tags_exploded['Tags'].notnull() & (tags_exploded['Tags'] != '')]\n",
        "tags_table = tags_exploded.groupby('Tags').size().reset_index(name='TagCount')\n",
        "top_3_tags = tags_table.sort_values(by='TagCount', ascending=False).head(3)\n",
        "\n",
        "print(\"\\nTop 3 Tags:\")\n",
        "print(top_3_tags)"
      ]
    },
    {
      "cell_type": "markdown",
      "metadata": {
        "id": "iSxXqJnTqSg2"
      },
      "source": [
        "#### Exercise 2"
      ]
    },
    {
      "cell_type": "code",
      "execution_count": 24,
      "metadata": {
        "colab": {
          "base_uri": "https://localhost:8080/"
        },
        "id": "JjD9RzOYqT-Z",
        "outputId": "6c2c79de-a70a-4be4-c5bb-58e0eb23ef93"
      },
      "outputs": [
        {
          "name": "stdout",
          "output_type": "stream",
          "text": [
            "Number of expert answerers (>=20 answers): 1163\n",
            "Number of popular tags (>=20 annotations): 974\n",
            "\n",
            "Dimension of the Expert utility matrix:\n",
            "(1163, 974)\n",
            "\n",
            "Utility Matrix:\n",
            "Tags         .net  .net-core  3d  64-bit  abstract-class  abstract-factory  \\\n",
            "OwnerUserId                                                                  \n",
            "4               6          0   0       0               0                 1   \n",
            "6               0          0   0       0               0                 0   \n",
            "11              1          0   0       0               0                 0   \n",
            "14              0          0   0       0               0                 0   \n",
            "15              0          0   0       0               0                 0   \n",
            "...           ...        ...  ..     ...             ...               ...   \n",
            "356695          1          0   0       0               0                 0   \n",
            "366014          0          0   0       0               0                 0   \n",
            "373864          0          0   0       0               0                 0   \n",
            "378329          0          0   0       0               0                 0   \n",
            "379622          0          0   0       0               1                 0   \n",
            "\n",
            "Tags         abstraction  acceptance-testing  access  access-control  ...  \\\n",
            "OwnerUserId                                                           ...   \n",
            "4                      0                   4       1               0  ...   \n",
            "6                      1                   0       0               0  ...   \n",
            "11                     0                   0       0               0  ...   \n",
            "14                     0                   0       0               0  ...   \n",
            "15                     0                   0       0               0  ...   \n",
            "...                  ...                 ...     ...             ...  ...   \n",
            "356695                 0                   0       0               0  ...   \n",
            "366014                 0                   0       0               1  ...   \n",
            "373864                 0                   0       0               0  ...   \n",
            "378329                 0                   0       0               0  ...   \n",
            "379622                 0                   0       0               0  ...   \n",
            "\n",
            "Tags         wrapper  writing  x86  xamarin  xaml  xcode  xml  xslt  xunit  \\\n",
            "OwnerUserId                                                                  \n",
            "4                  0        1    0        0     0      0    1     0      0   \n",
            "6                  0        0    0        0     0      0    0     0      0   \n",
            "11                 0        0    0        0     0      0    0     0      0   \n",
            "14                 0        0    0        0     0      0    0     0      0   \n",
            "15                 0        0    0        0     0      1    0     0      0   \n",
            "...              ...      ...  ...      ...   ...    ...  ...   ...    ...   \n",
            "356695             0        0    0        0     0      0    0     0      0   \n",
            "366014             0        0    0        0     0      0    0     0      0   \n",
            "373864             0        0    0        0     0      0    0     0      0   \n",
            "378329             0        0    0        0     0      0    0     0      0   \n",
            "379622             0        0    0        0     0      0    0     0      0   \n",
            "\n",
            "Tags         zend-framework  \n",
            "OwnerUserId                  \n",
            "4                         1  \n",
            "6                         0  \n",
            "11                        0  \n",
            "14                        0  \n",
            "15                        0  \n",
            "...                     ...  \n",
            "356695                    0  \n",
            "366014                    0  \n",
            "373864                    0  \n",
            "378329                    0  \n",
            "379622                    0  \n",
            "\n",
            "[1163 rows x 974 columns]\n"
          ]
        }
      ],
      "source": [
        "questions = posts[posts['PostTypeId'] == 1][['Id', 'Tags']]\n",
        "\n",
        "answers = posts[posts['PostTypeId'] == 2][['OwnerUserId', 'ParentId']].dropna(subset=['OwnerUserId'])\n",
        "answers['OwnerUserId'] = answers['OwnerUserId'].astype(int)\n",
        "\n",
        "answerer_counts = answers.groupby('OwnerUserId').size().reset_index(name='AnswerCount')\n",
        "expert_answerers = answerer_counts[answerer_counts['AnswerCount'] >= 20]['OwnerUserId']\n",
        "\n",
        "questions['Tags'] = questions['Tags'].fillna('').str.strip('|').str.split('|')\n",
        "exploded_tags = questions.explode('Tags')\n",
        "\n",
        "tag_counts = exploded_tags.groupby('Tags').size().reset_index(name='TagCount')\n",
        "popular_tags = tag_counts[tag_counts['TagCount'] >= 20]['Tags']\n",
        "\n",
        "answerer_tags = pd.merge(answers, exploded_tags, left_on='ParentId', right_on='Id', how='left')\n",
        "\n",
        "filtered_data = answerer_tags[\n",
        "    (answerer_tags['OwnerUserId'].isin(expert_answerers)) &\n",
        "    (answerer_tags['Tags'].isin(popular_tags))\n",
        "]\n",
        "\n",
        "utility_matrix = pd.pivot_table(\n",
        "    filtered_data, index='OwnerUserId', columns='Tags', aggfunc='size', fill_value=0\n",
        ")\n",
        "\n",
        "utility_matrix.sort_index(inplace=True)\n",
        "utility_matrix.sort_index(axis=1, inplace=True)\n",
        "\n",
        "print(\"Number of expert answerers (>=20 answers):\", len(expert_answerers))\n",
        "print(\"Number of popular tags (>=20 annotations):\", len(popular_tags))\n",
        "\n",
        "print(\"\\nDimension of the Expert utility matrix:\")\n",
        "print(utility_matrix.shape)\n",
        "\n",
        "print(\"\\nUtility Matrix:\")\n",
        "print(utility_matrix)"
      ]
    },
    {
      "cell_type": "markdown",
      "metadata": {
        "id": "d1Q-dNq7BBvo"
      },
      "source": [
        "#### Exercise 3"
      ]
    },
    {
      "cell_type": "code",
      "execution_count": 25,
      "metadata": {
        "id": "jFtkQbwZBIws"
      },
      "outputs": [],
      "source": [
        "# Create the utility matrix by modifying each entry of the Expert matrix\n",
        "utility_matrix = utility_matrix.map(lambda x: x//3 if x < 15 else 5)"
      ]
    },
    {
      "cell_type": "code",
      "execution_count": 26,
      "metadata": {
        "id": "vMlmtKVpCcOQ"
      },
      "outputs": [],
      "source": [
        "# Test data split (bottom 15% of experts and rightmost 15% tags)\n",
        "test_experts = int(0.15 * utility_matrix.shape[0])\n",
        "test_tags = int(0.15 * utility_matrix.shape[1])\n",
        "\n",
        "test_matrix = utility_matrix.iloc[-test_experts:, -test_tags:]\n",
        "train_matrix = utility_matrix.iloc[:-test_experts, :-test_tags]"
      ]
    },
    {
      "cell_type": "code",
      "execution_count": 27,
      "metadata": {
        "colab": {
          "base_uri": "https://localhost:8080/"
        },
        "id": "uWrfujVPCenC",
        "outputId": "e4616a87-7dab-4683-9f00-67fc50f8f38e"
      },
      "outputs": [
        {
          "name": "stdout",
          "output_type": "stream",
          "text": [
            "Utility Matrix:\n",
            "Summation value: 41403\n",
            "Highest row sum: 1164\n",
            "Highest column sum: 1403\n",
            "\n",
            "Train and Test Data:\n",
            "Train matrix summation value: 28713\n",
            "Test matrix dimension: (174, 146)\n",
            "Test matrix summation value: 899\n"
          ]
        }
      ],
      "source": [
        "# Calculate the required values\n",
        "utility_sum = utility_matrix.sum().sum()\n",
        "highest_row_sum = utility_matrix.sum(axis=1).max()\n",
        "highest_col_sum = utility_matrix.sum(axis=0).max()\n",
        "\n",
        "train_sum = train_matrix.sum().sum()\n",
        "test_dim = test_matrix.shape\n",
        "test_sum = test_matrix.sum().sum()\n",
        "\n",
        "print(\"Utility Matrix:\")\n",
        "print(f\"Summation value: {utility_sum}\")\n",
        "print(f\"Highest row sum: {highest_row_sum}\")\n",
        "print(f\"Highest column sum: {highest_col_sum}\")\n",
        "\n",
        "print(\"\\nTrain and Test Data:\")\n",
        "print(f\"Train matrix summation value: {train_sum}\")\n",
        "print(f\"Test matrix dimension: {test_dim}\")\n",
        "print(f\"Test matrix summation value: {test_sum}\")"
      ]
    },
    {
      "cell_type": "markdown",
      "metadata": {
        "id": "VNzdrfXFM9rS"
      },
      "source": [
        "#### Exercise 4"
      ]
    },
    {
      "cell_type": "code",
      "execution_count": null,
      "metadata": {
        "id": "3NbZrF3AAwXL"
      },
      "outputs": [],
      "source": [
        "# Calculate Item-Item Similarity Matrix\n",
        "def calculate_item_similarity(matrix):\n",
        "    return matrix.T.corr(method='pearson')\n",
        "\n",
        "item_similarity_matrix = calculate_item_similarity(utility_matrix)\n",
        "user_similarity_matrix = utility_matrix.corr(method='pearson')"
      ]
    },
    {
      "cell_type": "code",
      "execution_count": null,
      "metadata": {
        "id": "UfRPi1fKA41P"
      },
      "outputs": [],
      "source": [
        "# Predict Rating for Item-Item (Simple Average)\n",
        "def predict_rating_simple_avg(user_id, tag_id, N):\n",
        "    if tag_id not in item_similarity_matrix.columns:\n",
        "        return 0\n",
        "    similar_tags = item_similarity_matrix[tag_id].nlargest(N+1).index[1:N+1]\n",
        "    ratings = utility_matrix.loc[user_id, similar_tags]\n",
        "    return ratings.mean() if not ratings.empty else 0"
      ]
    },
    {
      "cell_type": "code",
      "execution_count": null,
      "metadata": {
        "id": "Ry5CnVt4A7L4"
      },
      "outputs": [],
      "source": [
        "# Predict Rating for Item-Item (Weighted Average)\n",
        "def predict_rating_weighted_avg(user_id, tag_id, N):\n",
        "    if tag_id not in item_similarity_matrix.columns:\n",
        "        return 0\n",
        "    similar_tags = item_similarity_matrix[tag_id].nlargest(N+1).index[1:N+1]\n",
        "    weights = item_similarity_matrix[tag_id][similar_tags]\n",
        "    ratings = utility_matrix.loc[user_id, similar_tags]\n",
        "    valid_ratings = ratings.notnull()\n",
        "    weighted_sum = (ratings[valid_ratings] * weights[valid_ratings]).sum()\n",
        "    weight_sum = weights[valid_ratings].sum()\n",
        "    return weighted_sum / weight_sum if weight_sum != 0 else 0"
      ]
    },
    {
      "cell_type": "code",
      "execution_count": null,
      "metadata": {
        "id": "9R28_HmUA85t"
      },
      "outputs": [],
      "source": [
        "# Predict Rating for User-User (Simple Average)\n",
        "def predict_rating_simple_avg_user(user_id, tag_id, N):\n",
        "    if user_id not in user_similarity_matrix.index: # Check if user_id exists in the index\n",
        "        return 0\n",
        "    if tag_id not in utility_matrix.columns:\n",
        "        return 0\n",
        "    similar_users = user_similarity_matrix.loc[user_id].nlargest(N+1).index[1:N+1]\n",
        "    ratings = utility_matrix.loc[similar_users, tag_id]\n",
        "    return ratings.mean() if not ratings.empty else 0"
      ]
    },
    {
      "cell_type": "code",
      "execution_count": null,
      "metadata": {
        "id": "Rc2IqDGQA_T0"
      },
      "outputs": [],
      "source": [
        "# Predict Rating for User-User (Weighted Average)\n",
        "def predict_rating_weighted_avg_user(user_id, tag_id, N):\n",
        "    if user_id not in user_similarity_matrix.index: # Check if user_id exists in the index\n",
        "        return 0\n",
        "    if tag_id not in utility_matrix.columns:\n",
        "        return 0\n",
        "    similar_users = user_similarity_matrix.loc[user_id].nlargest(N+1).index[1:N+1]\n",
        "    weights = user_similarity_matrix.loc[user_id, similar_users]\n",
        "    ratings = utility_matrix.loc[similar_users, tag_id]\n",
        "    valid_ratings = ratings.notnull()\n",
        "    weighted_sum = (ratings[valid_ratings] * weights[valid_ratings]).sum()\n",
        "    weight_sum = weights[valid_ratings].sum()\n",
        "    return weighted_sum / weight_sum if weight_sum != 0 else 0"
      ]
    },
    {
      "cell_type": "code",
      "execution_count": null,
      "metadata": {
        "id": "C_KD91rVBCMG"
      },
      "outputs": [],
      "source": [
        "# Evaluate RMSE for Item-Item\n",
        "def evaluate_rmse(predict_function, N):\n",
        "    actual_ratings = []\n",
        "    predicted_ratings = []\n",
        "\n",
        "    for user_id in test_matrix.index:\n",
        "        for tag_id in test_matrix.columns:\n",
        "            if not pd.isnull(test_matrix.loc[user_id, tag_id]):\n",
        "                actual_ratings.append(test_matrix.loc[user_id, tag_id])\n",
        "                predicted_ratings.append(predict_function(user_id, tag_id, N))\n",
        "\n",
        "    return np.sqrt(mean_squared_error(actual_ratings, predicted_ratings))"
      ]
    },
    {
      "cell_type": "code",
      "execution_count": null,
      "metadata": {
        "id": "8DgEBLQgBEc3"
      },
      "outputs": [],
      "source": [
        "# Evaluate RMSE for User-User\n",
        "def evaluate_rmse_user(predict_function, N):\n",
        "    actual_ratings = []\n",
        "    predicted_ratings = []\n",
        "    for user_id in test_matrix.index:\n",
        "        for tag_id in test_matrix.columns:\n",
        "            if not pd.isnull(test_matrix.loc[user_id, tag_id]):\n",
        "                actual_ratings.append(test_matrix.loc[user_id, tag_id])\n",
        "                predicted_ratings.append(predict_function(user_id, tag_id, N))\n",
        "\n",
        "    return np.sqrt(mean_squared_error(actual_ratings, predicted_ratings))"
      ]
    },
    {
      "cell_type": "code",
      "execution_count": null,
      "metadata": {
        "colab": {
          "base_uri": "https://localhost:8080/"
        },
        "id": "-IO55l6sHbca",
        "outputId": "20a27e1a-f199-4f7f-cdf6-14c0df2c2461"
      },
      "outputs": [
        {
          "name": "stdout",
          "output_type": "stream",
          "text": [
            "Method | Rating Prediction Function | Metric | N=2 | N=3 | N=5\n",
            "------------------------------------------------------------\n",
            "Item-Item | Simple Average | RMSE | 0.3078 | 0.3078 | 0.3078 | \n",
            "Item-Item | Weighted Average | RMSE | 0.3078 | 0.3078 | 0.3078 | \n",
            "User-User | Simple Average | RMSE | 0.3078 | 0.3078 | 0.3078 | \n",
            "User-User | Weighted Average | RMSE | 0.3078 | 0.3078 | 0.3078 | \n"
          ]
        }
      ],
      "source": [
        "def display_results():\n",
        "    N_values = [2, 3, 5]\n",
        "\n",
        "    print(\"Method | Rating Prediction Function | Metric | N=2 | N=3 | N=5\")\n",
        "    print(\"------------------------------------------------------------\")\n",
        "\n",
        "    for method, predict_simple, predict_weighted in [\n",
        "        (\"Item-Item\", predict_rating_simple_avg, predict_rating_weighted_avg),\n",
        "        (\"User-User\", predict_rating_simple_avg_user, predict_rating_weighted_avg_user)\n",
        "    ]:\n",
        "        print(f\"{method} | Simple Average | RMSE |\", end=\" \")\n",
        "        for N in N_values:\n",
        "            rmse = evaluate_rmse(predict_simple, N) if method == \"Item-Item\" else evaluate_rmse_user(predict_simple, N)\n",
        "            print(f\"{rmse:.4f} |\", end=\" \")\n",
        "        print()\n",
        "\n",
        "        print(f\"{method} | Weighted Average | RMSE |\", end=\" \")\n",
        "        for N in N_values:\n",
        "            rmse = evaluate_rmse(predict_weighted, N) if method == \"Item-Item\" else evaluate_rmse_user(predict_weighted, N)\n",
        "            print(f\"{rmse:.4f} |\", end=\" \")\n",
        "        print()\n",
        "\n",
        "display_results()"
      ]
    },
    {
      "cell_type": "markdown",
      "metadata": {
        "id": "Ly3MprQfJOJZ"
      },
      "source": [
        "#### Exercise 5"
      ]
    },
    {
      "cell_type": "code",
      "execution_count": null,
      "metadata": {
        "id": "zsZNL7bEqU0W"
      },
      "outputs": [],
      "source": [
        "regularization_params = [(0.001, 0.003), (0.05, 0.05), (0.50, 0.75)]\n",
        "K_values = [2, 5, 10]\n",
        "num_iterations = 1000\n",
        "learning_rate = 0.0005\n",
        "tolerance = 1e-4"
      ]
    },
    {
      "cell_type": "code",
      "execution_count": null,
      "metadata": {
        "id": "PBjcx7y5BzrM"
      },
      "outputs": [],
      "source": [
        "# Define RMSE calculation function\n",
        "def calculate_rmse(user_item_matrix, P, Q):\n",
        "    predictions = np.dot(P, Q.T)\n",
        "    actual = user_item_matrix[user_item_matrix > 0]\n",
        "    predicted = predictions[user_item_matrix > 0]\n",
        "    return np.sqrt(mean_squared_error(actual, predicted))"
      ]
    },
    {
      "cell_type": "code",
      "execution_count": null,
      "metadata": {
        "id": "h9EZfoasB1-L"
      },
      "outputs": [],
      "source": [
        "# Define optimized SGD with and without regularization\n",
        "def sgd(utility_matrix, P, Q, learning_rate, lambda1=0, lambda2=0):\n",
        "    num_users, num_items = utility_matrix.shape\n",
        "\n",
        "    for iteration in range(num_iterations):\n",
        "        # Vectorized dot product for predictions\n",
        "        predictions = np.dot(P, Q.T)\n",
        "        error_matrix = (utility_matrix > 0) * (utility_matrix - predictions)\n",
        "\n",
        "        # Update P and Q\n",
        "        P += learning_rate * (np.dot(error_matrix, Q) - lambda1 * P)\n",
        "        Q += learning_rate * (np.dot(error_matrix.T, P) - lambda2 * Q)\n",
        "\n",
        "        # Check for convergence (if error is reducing)\n",
        "        cost = np.linalg.norm((utility_matrix - np.dot(P, Q.T)) * (utility_matrix > 0))\n",
        "        if cost < tolerance:\n",
        "            break\n",
        "\n",
        "    return P, Q\n",
        "\n",
        "results_df = pd.DataFrame(columns=[\"Method\", \"Metric\", \"K=2\", \"K=5\", \"K=10\"])"
      ]
    },
    {
      "cell_type": "code",
      "execution_count": null,
      "metadata": {
        "colab": {
          "base_uri": "https://localhost:8080/"
        },
        "id": "io59t4daB6kk",
        "outputId": "f7dd450c-3c3a-49df-d74c-365fd5b03007"
      },
      "outputs": [
        {
          "name": "stdout",
          "output_type": "stream",
          "text": [
            "                                    Method Metric       K=2       K=5  \\\n",
            "0                   Without Regularisation   RMSE  0.874779             \n",
            "1                   Without Regularisation   RMSE            0.734253   \n",
            "2                   Without Regularisation   RMSE                       \n",
            "3   With Regularisation λ1=0.001, λ2=0.003   RMSE  0.880756             \n",
            "4   With Regularisation λ1=0.001, λ2=0.003   RMSE            0.739713   \n",
            "5   With Regularisation λ1=0.001, λ2=0.003   RMSE                       \n",
            "6     With Regularisation λ1=0.05, λ2=0.05   RMSE  0.883248             \n",
            "7     With Regularisation λ1=0.05, λ2=0.05   RMSE            0.742098   \n",
            "8     With Regularisation λ1=0.05, λ2=0.05   RMSE                       \n",
            "9      With Regularisation λ1=0.5, λ2=0.75   RMSE  0.878045             \n",
            "10     With Regularisation λ1=0.5, λ2=0.75   RMSE            0.748843   \n",
            "11     With Regularisation λ1=0.5, λ2=0.75   RMSE                       \n",
            "\n",
            "        K=10  \n",
            "0             \n",
            "1             \n",
            "2   0.591676  \n",
            "3             \n",
            "4             \n",
            "5   0.595585  \n",
            "6             \n",
            "7             \n",
            "8   0.589883  \n",
            "9             \n",
            "10            \n",
            "11  0.594022  \n"
          ]
        }
      ],
      "source": [
        "# Loop through different K values and regularization settings\n",
        "for regularized, (lambda1, lambda2) in [(False, (0, 0))] + [(True, l1_l2) for l1_l2 in regularization_params]:\n",
        "    for K in K_values:\n",
        "        num_users, num_items = utility_matrix.shape\n",
        "        P = np.random.rand(num_users, K)\n",
        "        Q = np.random.rand(num_items, K)\n",
        "\n",
        "        P, Q = sgd(utility_matrix.values, P, Q, learning_rate, lambda1, lambda2)\n",
        "\n",
        "        rmse = calculate_rmse(utility_matrix.values, P, Q)\n",
        "\n",
        "        if not regularized:\n",
        "            results_df.loc[len(results_df)] = [\"Without Regularisation\", \"RMSE\", rmse if K == 2 else \"\", rmse if K == 5 else \"\", rmse if K == 10 else \"\"]\n",
        "        else:\n",
        "            method = f\"With Regularisation λ1={lambda1}, λ2={lambda2}\"\n",
        "            results_df.loc[len(results_df)] = [method, \"RMSE\", rmse if K == 2 else \"\", rmse if K == 5 else \"\", rmse if K == 10 else \"\"]\n",
        "\n",
        "print(results_df)"
      ]
    },
    {
      "cell_type": "markdown",
      "metadata": {
        "id": "96AIsEZBiJ7Z"
      },
      "source": [
        "#### Exercise 6"
      ]
    },
    {
      "cell_type": "code",
      "execution_count": null,
      "metadata": {
        "colab": {
          "base_uri": "https://localhost:8080/"
        },
        "id": "IcjKmiTJGlFm",
        "outputId": "98970578-b93e-4074-f165-6b3f291c30ec"
      },
      "outputs": [
        {
          "name": "stdout",
          "output_type": "stream",
          "text": [
            "Estimating biases using als...\n",
            "Computing the pearson_baseline similarity matrix...\n",
            "Done computing similarity matrix.\n",
            "RMSE: 0.3058\n",
            "RMSE for k=2: 0.3057722100059844\n",
            "Estimating biases using als...\n",
            "Computing the pearson_baseline similarity matrix...\n",
            "Done computing similarity matrix.\n",
            "RMSE: 0.3058\n",
            "RMSE for k=3: 0.3057722100059844\n",
            "Estimating biases using als...\n",
            "Computing the pearson_baseline similarity matrix...\n",
            "Done computing similarity matrix.\n",
            "RMSE: 0.3058\n",
            "RMSE for k=5: 0.3057722100059844\n"
          ]
        }
      ],
      "source": [
        "sim_options = {\n",
        "    \"name\": \"pearson_baseline\",\n",
        "    \"user_based\": False,\n",
        "}\n",
        "\n",
        "# Load the data from the utility\n",
        "reader = Reader(rating_scale=(0, 5))\n",
        "train_data = Dataset.load_from_df(train_matrix.stack().reset_index(), reader)\n",
        "test_data = Dataset.load_from_df(test_matrix.stack().reset_index(), reader)\n",
        "trainset = train_data.build_full_trainset()\n",
        "testset = test_data.build_full_trainset().build_testset()\n",
        "\n",
        "# run model for k = 2, 3, 5\n",
        "for k in [2, 3, 5]:\n",
        "    model = KNNBaseline(k=k, sim_options=sim_options)\n",
        "    model.fit(trainset)\n",
        "    predictions = model.test(testset)\n",
        "    rmse = accuracy.rmse(predictions)\n",
        "    print(f\"RMSE for k={k}: {rmse}\")"
      ]
    },
    {
      "cell_type": "code",
      "execution_count": null,
      "metadata": {
        "colab": {
          "base_uri": "https://localhost:8080/"
        },
        "id": "ocWLO9JxxS92",
        "outputId": "c98b62c3-8476-421b-dceb-6b8878dadbe9"
      },
      "outputs": [
        {
          "name": "stdout",
          "output_type": "stream",
          "text": [
            "RMSE: 0.3058\n",
            "RMSE for n_factors=2: 0.3058\n",
            "RMSE: 0.3058\n",
            "RMSE for n_factors=5: 0.3058\n",
            "RMSE: 0.3058\n",
            "RMSE for n_factors=10: 0.3058\n"
          ]
        }
      ],
      "source": [
        "train_data = Dataset.load_from_df(train_matrix.stack().reset_index(), reader)\n",
        "test_data = Dataset.load_from_df(test_matrix.stack().reset_index(), reader)\n",
        "\n",
        "\n",
        "# n_epochs = [100, 200, 300, 500]\n",
        "# lr_all = [0.001, 0.005, 0.01]\n",
        "# reg_pu = [0.01, 0.02, 0.05]\n",
        "# reg_qi = [0.01, 0.02, 0.05]\n",
        "\n",
        "# for n in n_epochs:\n",
        "#     for lr in lr_all:\n",
        "#         for pu in reg_pu:\n",
        "#             for qi in reg_qi:\n",
        "#                 model = SVD(n_factors=5, lr_all=lr, n_epochs=n, reg_pu=pu, reg_qi=qi)\n",
        "#                 model.fit(train_data.build_full_trainset())\n",
        "#                 predictions = model.test(test_data.build_full_trainset().build_testset())\n",
        "#                 rmse = accuracy.rmse(predictions)\n",
        "#                 print(f\"RMSE for n_epochs={n}, lr_all={lr}, reg_pu={pu}, reg_qi={qi}: {rmse:.4f}\")\n",
        "\n",
        "# run svd model for 3 n_factors :- 2, 5, 10\n",
        "for n_factors in [2, 5, 10]:\n",
        "    model = SVD(n_factors=n_factors, lr_all = 0.005, n_epochs=1000)\n",
        "    model.fit(train_data.build_full_trainset())\n",
        "    predictions = model.test(test_data.build_full_trainset().build_testset())\n",
        "    rmse = accuracy.rmse(predictions)\n",
        "    print(f\"RMSE for n_factors={n_factors}: {rmse:.4f}\")\n"
      ]
    }
  ],
  "metadata": {
    "colab": {
      "provenance": []
    },
    "kernelspec": {
      "display_name": "Python 3",
      "name": "python3"
    },
    "language_info": {
      "name": "python",
      "version": "3.11.4"
    }
  },
  "nbformat": 4,
  "nbformat_minor": 0
}
