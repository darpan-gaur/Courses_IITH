{
 "cells": [
  {
   "cell_type": "code",
   "execution_count": 1,
   "metadata": {},
   "outputs": [],
   "source": [
    "import numpy as np\n",
    "import matplotlib.pyplot as plt\n",
    "import pandas as pd\n",
    "from IPython.display import display"
   ]
  },
  {
   "cell_type": "code",
   "execution_count": 6,
   "metadata": {},
   "outputs": [],
   "source": [
    "# ! mkdir myTestCases\n",
    "for i in range(12):\n",
    "    # get p,q,r random numbers betwern 1, 1<<12\n",
    "    p = np.random.randint(1, 1<<12)\n",
    "    q = np.random.randint(1, 1<<12)\n",
    "    r = np.random.randint(1, 1<<12)\n",
    "    # generate a (pxq), b (qxr) matrices with values between 0, 10**3\n",
    "    a = np.random.randint(0, 10**3, (p,q))\n",
    "    b = np.random.randint(0, 10**3, (q,r))\n",
    "    # make testcases for matrix multiplication\n",
    "    # make input(i)\n",
    "    # print p, q, r in first line\n",
    "    # print a in next p lines\n",
    "    # print b in next q lines\n",
    "    # make output(i)\n",
    "    # print p, r in first line\n",
    "    # print c in next p lines\n",
    "    # save input(i) and output(i) in myTestCases\n",
    "    f = open(\"myTestCases/input\"+str(i)+\".txt\", \"w\")\n",
    "    f.write(str(p)+\" \"+str(q)+\" \"+str(r)+\"\\n\")\n",
    "    for row in a:\n",
    "        f.write(\" \".join(map(str, row))+\"\\n\")\n",
    "    for row in b:\n",
    "        f.write(\" \".join(map(str, row))+\"\\n\")\n",
    "    f.close()\n",
    "    f = open(\"myTestCases/output\"+str(i)+\".txt\", \"w\")\n",
    "    c = np.matmul(a,b)\n",
    "    # f.write(str(p)+\" \"+str(r)+\"\\n\")\n",
    "    for row in c:\n",
    "        f.write(\" \".join(map(str, row))+\"\\n\")\n",
    "    f.close()\n"
   ]
  },
  {
   "cell_type": "code",
   "execution_count": 3,
   "metadata": {},
   "outputs": [],
   "source": [
    "mallocShared = np.zeros((3, 5))\n",
    "mallocHost = np.zeros((3, 5))\n",
    "mallocDeviceHost = np.zeros((3, 5))\n",
    "buffers = np.zeros((3, 5))\n",
    "\n",
    "buffers[0] = [170, 169, 169, 170, 170]\n",
    "buffers[1] = [1265, 1270, 1274, 1272, 1274]\n",
    "buffers[2] = [10795, 10797, 10804, 10789, 10788]\n",
    "\n",
    "mallocShared[0] = [165, 164, 167, 166, 164]\n",
    "mallocShared[1] = [1258, 1264, 1266, 1255, 1261]\n",
    "mallocShared[2] = [10732, 10719, 10735, 10726, 10734]\n",
    "\n",
    "mallocHost[0] = [165, 164, 165, 164, 164]\n",
    "mallocHost[1] = [1254, 1250, 1259, 1259, 1263]\n",
    "mallocHost[2] = [10711, 10721, 10730, 10739, 10757]\n",
    "\n",
    "mallocDeviceHost[0] = [165, 163, 166, 164, 166]\n",
    "mallocDeviceHost[1] = [1270, 1264, 1270, 1264, 1266]\n",
    "mallocDeviceHost[2] = [10754, 10688, 10727, 10699, 10770]\n"
   ]
  },
  {
   "cell_type": "code",
   "execution_count": 4,
   "metadata": {},
   "outputs": [
    {
     "name": "stdout",
     "output_type": "stream",
     "text": [
      "Average time for each method in milliseconds for test Case 6,7,8\n"
     ]
    },
    {
     "data": {
      "text/html": [
       "<div>\n",
       "<style scoped>\n",
       "    .dataframe tbody tr th:only-of-type {\n",
       "        vertical-align: middle;\n",
       "    }\n",
       "\n",
       "    .dataframe tbody tr th {\n",
       "        vertical-align: top;\n",
       "    }\n",
       "\n",
       "    .dataframe thead th {\n",
       "        text-align: right;\n",
       "    }\n",
       "</style>\n",
       "<table border=\"1\" class=\"dataframe\">\n",
       "  <thead>\n",
       "    <tr style=\"text-align: right;\">\n",
       "      <th></th>\n",
       "      <th>Test Case 6</th>\n",
       "      <th>Test Case 7</th>\n",
       "      <th>Test Case 8</th>\n",
       "    </tr>\n",
       "  </thead>\n",
       "  <tbody>\n",
       "    <tr>\n",
       "      <th>Buffers</th>\n",
       "      <td>169.6</td>\n",
       "      <td>1271.0</td>\n",
       "      <td>10794.6</td>\n",
       "    </tr>\n",
       "    <tr>\n",
       "      <th>MallocShared</th>\n",
       "      <td>165.2</td>\n",
       "      <td>1260.8</td>\n",
       "      <td>10729.2</td>\n",
       "    </tr>\n",
       "    <tr>\n",
       "      <th>MallocHost</th>\n",
       "      <td>164.4</td>\n",
       "      <td>1257.0</td>\n",
       "      <td>10731.6</td>\n",
       "    </tr>\n",
       "    <tr>\n",
       "      <th>MallocDeviceHost</th>\n",
       "      <td>164.8</td>\n",
       "      <td>1266.8</td>\n",
       "      <td>10727.6</td>\n",
       "    </tr>\n",
       "  </tbody>\n",
       "</table>\n",
       "</div>"
      ],
      "text/plain": [
       "                  Test Case 6  Test Case 7  Test Case 8\n",
       "Buffers                 169.6       1271.0      10794.6\n",
       "MallocShared            165.2       1260.8      10729.2\n",
       "MallocHost              164.4       1257.0      10731.6\n",
       "MallocDeviceHost        164.8       1266.8      10727.6"
      ]
     },
     "metadata": {},
     "output_type": "display_data"
    }
   ],
   "source": [
    "# average for each method for test Case 6,7,8\n",
    "# make a 4x3 matrix\n",
    "average = np.zeros((4, 3))\n",
    "average[0] = [np.mean(buffers[0]), np.mean(buffers[1]), np.mean(buffers[2])]\n",
    "average[1] = [np.mean(mallocShared[0]), np.mean(mallocShared[1]), np.mean(mallocShared[2])]\n",
    "average[2] = [np.mean(mallocHost[0]), np.mean(mallocHost[1]), np.mean(mallocHost[2])]\n",
    "average[3] = [np.mean(mallocDeviceHost[0]), np.mean(mallocDeviceHost[1]), np.mean(mallocDeviceHost[2])]\n",
    "\n",
    "# print using pandas by giving column and row names\n",
    "print(\"Average time for each method in milliseconds for test Case 6,7,8\")\n",
    "df = pd.DataFrame(average, columns=['Test Case 6', 'Test Case 7', 'Test Case 8'], index=['Buffers', 'MallocShared', 'MallocHost', 'MallocDeviceHost'])\n",
    "# in HTML table format\n",
    "display(df)"
   ]
  },
  {
   "cell_type": "code",
   "execution_count": 5,
   "metadata": {},
   "outputs": [],
   "source": [
    "cpu = np.zeros((6, 3))\n",
    "cpu[0] = [0, 0, 0]\n",
    "cpu[1] = [0, 0, 0]\n",
    "cpu[2] = [5, 5, 5]\n",
    "cpu[3] = [48, 50, 51]\n",
    "cpu[4] = [493, 513, 513]\n",
    "cpu[5] = [4116, 4103, 4053]\n",
    "\n",
    "gpu = np.zeros((6, 3))\n",
    "gpu[0] = [48, 47, 47]\n",
    "gpu[1] = [47, 47, 46]\n",
    "gpu[2] = [47, 47, 48]\n",
    "gpu[3] = [50, 50, 49]\n",
    "gpu[4] = [65, 61, 62]\n",
    "gpu[5] = [166, 165, 166]"
   ]
  },
  {
   "cell_type": "code",
   "execution_count": 6,
   "metadata": {},
   "outputs": [
    {
     "name": "stdout",
     "output_type": "stream",
     "text": [
      "Average time for CPU and GPU for test Case 1,2,3,4,5,6\n"
     ]
    },
    {
     "data": {
      "text/html": [
       "<div>\n",
       "<style scoped>\n",
       "    .dataframe tbody tr th:only-of-type {\n",
       "        vertical-align: middle;\n",
       "    }\n",
       "\n",
       "    .dataframe tbody tr th {\n",
       "        vertical-align: top;\n",
       "    }\n",
       "\n",
       "    .dataframe thead th {\n",
       "        text-align: right;\n",
       "    }\n",
       "</style>\n",
       "<table border=\"1\" class=\"dataframe\">\n",
       "  <thead>\n",
       "    <tr style=\"text-align: right;\">\n",
       "      <th></th>\n",
       "      <th>Test Case 1</th>\n",
       "      <th>Test Case 2</th>\n",
       "      <th>Test Case 3</th>\n",
       "      <th>Test Case 4</th>\n",
       "      <th>Test Case 5</th>\n",
       "      <th>Test Case 6</th>\n",
       "    </tr>\n",
       "  </thead>\n",
       "  <tbody>\n",
       "    <tr>\n",
       "      <th>CPU</th>\n",
       "      <td>0.000000</td>\n",
       "      <td>0.000000</td>\n",
       "      <td>5.000000</td>\n",
       "      <td>49.666667</td>\n",
       "      <td>506.333333</td>\n",
       "      <td>4090.666667</td>\n",
       "    </tr>\n",
       "    <tr>\n",
       "      <th>GPU</th>\n",
       "      <td>47.333333</td>\n",
       "      <td>46.666667</td>\n",
       "      <td>47.333333</td>\n",
       "      <td>49.666667</td>\n",
       "      <td>62.666667</td>\n",
       "      <td>165.666667</td>\n",
       "    </tr>\n",
       "  </tbody>\n",
       "</table>\n",
       "</div>"
      ],
      "text/plain": [
       "     Test Case 1  Test Case 2  Test Case 3  Test Case 4  Test Case 5  \\\n",
       "CPU     0.000000     0.000000     5.000000    49.666667   506.333333   \n",
       "GPU    47.333333    46.666667    47.333333    49.666667    62.666667   \n",
       "\n",
       "     Test Case 6  \n",
       "CPU  4090.666667  \n",
       "GPU   165.666667  "
      ]
     },
     "metadata": {},
     "output_type": "display_data"
    },
    {
     "data": {
      "image/png": "[encoded data removed]",
      "text/plain": [
       "<Figure size 640x480 with 1 Axes>"
      ]
     },
     "metadata": {},
     "output_type": "display_data"
    }
   ],
   "source": [
    "# average for each method for test Case 1,2,3,4,5,6\n",
    "# make a 2x6 matrix\n",
    "average = np.zeros((2, 6))\n",
    "average[0] = [np.mean(cpu[0]), np.mean(cpu[1]), np.mean(cpu[2]), np.mean(cpu[3]), np.mean(cpu[4]), np.mean(cpu[5])]\n",
    "average[1] = [np.mean(gpu[0]), np.mean(gpu[1]), np.mean(gpu[2]), np.mean(gpu[3]), np.mean(gpu[4]), np.mean(gpu[5])]\n",
    "# print using pandas by giving column and row names\n",
    "print(\"Average time for CPU and GPU for test Case 1,2,3,4,5,6\")\n",
    "df = pd.DataFrame(average, columns=['Test Case 1', 'Test Case 2', 'Test Case 3', 'Test Case 4', 'Test Case 5', 'Test Case 6'], index=['CPU', 'GPU'])\n",
    "# in HTML table format\n",
    "display(df)\n",
    "\n",
    "# make a graph with x axis as test case and y axis as time\n",
    "x = np.arange(1, 7)\n",
    "plt.plot(x, average[0], label='CPU', marker='o')\n",
    "plt.plot(x, average[1], label='GPU', marker='o')\n",
    "plt.xlabel('Test Case')\n",
    "plt.ylabel('Time in milliseconds')\n",
    "plt.title('CPU vs GPU')\n",
    "plt.legend()\n",
    "plt.show()"
   ]
  },
  {
   "cell_type": "code",
   "execution_count": 10,
   "metadata": {},
   "outputs": [
    {
     "name": "stdout",
     "output_type": "stream",
     "text": [
      "Average time for MatMul and TiledMatMul for test Case 1,2,3,4,5,6,7,8\n"
     ]
    },
    {
     "data": {
      "text/html": [
       "<div>\n",
       "<style scoped>\n",
       "    .dataframe tbody tr th:only-of-type {\n",
       "        vertical-align: middle;\n",
       "    }\n",
       "\n",
       "    .dataframe tbody tr th {\n",
       "        vertical-align: top;\n",
       "    }\n",
       "\n",
       "    .dataframe thead th {\n",
       "        text-align: right;\n",
       "    }\n",
       "</style>\n",
       "<table border=\"1\" class=\"dataframe\">\n",
       "  <thead>\n",
       "    <tr style=\"text-align: right;\">\n",
       "      <th></th>\n",
       "      <th>MatMul</th>\n",
       "      <th>TiledMatMul</th>\n",
       "    </tr>\n",
       "  </thead>\n",
       "  <tbody>\n",
       "    <tr>\n",
       "      <th>Test Case 1</th>\n",
       "      <td>48.0</td>\n",
       "      <td>73.0</td>\n",
       "    </tr>\n",
       "    <tr>\n",
       "      <th>Test Case 2</th>\n",
       "      <td>48.0</td>\n",
       "      <td>71.0</td>\n",
       "    </tr>\n",
       "    <tr>\n",
       "      <th>Test Case 3</th>\n",
       "      <td>48.0</td>\n",
       "      <td>72.0</td>\n",
       "    </tr>\n",
       "    <tr>\n",
       "      <th>Test Case 4</th>\n",
       "      <td>50.0</td>\n",
       "      <td>73.0</td>\n",
       "    </tr>\n",
       "    <tr>\n",
       "      <th>Test Case 5</th>\n",
       "      <td>63.0</td>\n",
       "      <td>81.0</td>\n",
       "    </tr>\n",
       "    <tr>\n",
       "      <th>Test Case 6</th>\n",
       "      <td>166.0</td>\n",
       "      <td>150.0</td>\n",
       "    </tr>\n",
       "    <tr>\n",
       "      <th>Test Case 7</th>\n",
       "      <td>1239.0</td>\n",
       "      <td>876.0</td>\n",
       "    </tr>\n",
       "    <tr>\n",
       "      <th>Test Case 8</th>\n",
       "      <td>10701.0</td>\n",
       "      <td>7354.0</td>\n",
       "    </tr>\n",
       "  </tbody>\n",
       "</table>\n",
       "</div>"
      ],
      "text/plain": [
       "              MatMul  TiledMatMul\n",
       "Test Case 1     48.0         73.0\n",
       "Test Case 2     48.0         71.0\n",
       "Test Case 3     48.0         72.0\n",
       "Test Case 4     50.0         73.0\n",
       "Test Case 5     63.0         81.0\n",
       "Test Case 6    166.0        150.0\n",
       "Test Case 7   1239.0        876.0\n",
       "Test Case 8  10701.0       7354.0"
      ]
     },
     "metadata": {},
     "output_type": "display_data"
    },
    {
     "data": {
      "text/plain": [
       "<matplotlib.legend.Legend at 0x7f0e6eb6fc10>"
      ]
     },
     "execution_count": 10,
     "metadata": {},
     "output_type": "execute_result"
    },
    {
     "data": {
      "image/png": "[encoded data removed]",
      "text/plain": [
       "<Figure size 640x480 with 1 Axes>"
      ]
     },
     "metadata": {},
     "output_type": "display_data"
    }
   ],
   "source": [
    "MatMul = np.zeros((1, 8))\n",
    "TiledMatMul = np.zeros((1, 8))\n",
    "\n",
    "TiledMatMul[0] = [73, 71, 72, 73, 81, 150, 876, 7354]\n",
    "MatMul[0] = [48, 48, 48, 50, 63, 166, 1239, 10701]\n",
    "\n",
    "data = {'MatMul': MatMul[0], 'TiledMatMul': TiledMatMul[0]}\n",
    "\n",
    "print(\"Average time for MatMul and TiledMatMul for test Case 1,2,3,4,5,6,7,8\")\n",
    "df = pd.DataFrame(data, index=['Test Case 1', 'Test Case 2', 'Test Case 3', 'Test Case 4', 'Test Case 5', 'Test Case 6', 'Test Case 7', 'Test Case 8'])\n",
    "# in HTML table format\n",
    "display(df)\n",
    "\n",
    "# make a graph with x axis as test case and y axis as time\n",
    "x = np.arange(1, 9)\n",
    "plt.plot(x, MatMul[0], label='MatMul', marker='o')\n",
    "plt.plot(x, TiledMatMul[0], label='TiledMatMul', marker='o')\n",
    "plt.xlabel('Test Case')\n",
    "plt.ylabel('Time in milliseconds')\n",
    "plt.title('MatMul vs TiledMatMul')\n",
    "plt.legend()\n",
    "\n"
   ]
  },
  {
   "cell_type": "code",
   "execution_count": null,
   "metadata": {},
   "outputs": [],
   "source": []
  }
 ],
 "metadata": {
  "kernelspec": {
   "display_name": "test",
   "language": "python",
   "name": "python3"
  },
  "language_info": {
   "codemirror_mode": {
    "name": "ipython",
    "version": 3
   },
   "file_extension": ".py",
   "mimetype": "text/x-python",
   "name": "python",
   "nbconvert_exporter": "python",
   "pygments_lexer": "ipython3",
   "version": "3.11.4"
  }
 },
 "nbformat": 4,
 "nbformat_minor": 2
}
