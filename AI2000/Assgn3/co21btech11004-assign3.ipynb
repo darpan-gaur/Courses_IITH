{
 "cells": [
  {
   "cell_type": "code",
   "execution_count": 1,
   "metadata": {},
   "outputs": [],
   "source": [
    "import numpy as np\n",
    "import matplotlib.pyplot as plt\n",
    "import pandas as pd\n",
    "import random\n",
    "from sklearn.ensemble import GradientBoostingClassifier\n",
    "from sklearn.metrics import accuracy_score\n",
    "from sklearn.tree import DecisionTreeClassifier\n",
    "from sklearn.ensemble import RandomForestClassifier\n",
    "from tqdm import tqdm"
   ]
  },
  {
   "cell_type": "code",
   "execution_count": 2,
   "metadata": {},
   "outputs": [],
   "source": [
    "# set display options\n",
    "pd.set_option('display.max_columns', 150)\n",
    "\n",
    "# set seed # seed = 1->4, 42->14\n",
    "seed = 23\n",
    "np.random.seed(seed)\n",
    "random.seed(seed)"
   ]
  },
  {
   "cell_type": "markdown",
   "metadata": {},
   "source": [
    "## Que 5"
   ]
  },
  {
   "cell_type": "markdown",
   "metadata": {},
   "source": [
    "### Decision Tree"
   ]
  },
  {
   "cell_type": "code",
   "execution_count": 3,
   "metadata": {},
   "outputs": [],
   "source": [
    "class node():\n",
    "    '''\n",
    "    Represents a node in the decision tree\n",
    "    '''\n",
    "    def __init__(self, feature=None, thr=None, left=None, right=None, perd_label=None):\n",
    "        self.feature = feature\n",
    "        self.thr = thr\n",
    "        self.left = left\n",
    "        self.right = right\n",
    "        self.perd_label = perd_label"
   ]
  },
  {
   "cell_type": "code",
   "execution_count": 4,
   "metadata": {},
   "outputs": [],
   "source": [
    "class DecisionTree():\n",
    "    '''\n",
    "    Decision Tree Classifier\n",
    "    '''\n",
    "    def __init__(self, min_samples=2, max_depth=10, m_features=None):\n",
    "        self.min_samples = min_samples\n",
    "        self.max_depth = max_depth\n",
    "        self.m_features = m_features\n",
    "    \n",
    "    def entropy(self, data):\n",
    "        '''\n",
    "        Calculate entropy of a dataset\n",
    "        '''\n",
    "        unique, counts = np.unique(data, return_counts=True)\n",
    "        prob = counts / len(data)\n",
    "        return -np.sum(prob * np.log2(prob))\n",
    "    \n",
    "    def info_gain(self, root, left, right):\n",
    "        '''\n",
    "        Calculate information gain\n",
    "        '''\n",
    "        wl = len(left) / len(root)\n",
    "        wr = len(right) / len(root)\n",
    "        return self.entropy(root) - wl * self.entropy(left) - wr * self.entropy(right)\n",
    "    \n",
    "    def temp_split(self, data, feature, thr):\n",
    "        '''\n",
    "        Split data into left and right based on threshold\n",
    "        '''\n",
    "        left = data[data[feature] <= thr]\n",
    "        right = data[data[feature] > thr]\n",
    "        return left, right\n",
    "    \n",
    "    def best_split(self, data):\n",
    "        '''\n",
    "        Find the best split\n",
    "        '''\n",
    "        \n",
    "        # cols is list of columns indices except the last one\n",
    "        cols = list(range(len(data.columns) - 1))\n",
    "        \n",
    "        if self.m_features is not None and self.m_features < len(cols):\n",
    "            cols = random.sample(cols, self. m_features)\n",
    "\n",
    "        best_split = {'ig': -1e9, 'feature': None, 'thr': None, 'left': None, 'right': None}\n",
    "        # for idx in range(len(data.columns) - 1):\n",
    "        for idx in cols:\n",
    "            for thr in np.unique(data.iloc[:, idx]):\n",
    "                left, right = self.temp_split(data, data.columns[idx], thr)\n",
    "                if len(left) > 0 and len(right) > 0:\n",
    "                    ig = self.info_gain(data.iloc[:, -1], left.iloc[:, -1], right.iloc[:, -1])\n",
    "                    if ig > best_split['ig']:\n",
    "                        best_split['ig'] = ig\n",
    "                        best_split['feature'] = data.columns[idx]\n",
    "                        best_split['thr'] = thr\n",
    "                        best_split['left'] = left\n",
    "                        best_split['right'] = right\n",
    "\n",
    "        return best_split\n",
    "    \n",
    "    \n",
    "    def set_label(self, data):\n",
    "        '''\n",
    "        Set the label of a node\n",
    "        '''\n",
    "        unique, counts = np.unique(data, return_counts=True)\n",
    "        return unique[np.argmax(counts)]\n",
    "    \n",
    "    def build_tree(self, data, depth=0):\n",
    "        '''\n",
    "        Build the decision tree\n",
    "        '''\n",
    "        if len(data) >= self.min_samples and depth <= self.max_depth:\n",
    "            split = self.best_split(data)\n",
    "            if split['ig'] > 0:\n",
    "                left = self.build_tree(split['left'], depth + 1)\n",
    "                right = self.build_tree(split['right'], depth + 1)\n",
    "                return node(feature=split['feature'], thr=split['thr'], left=left, right=right)\n",
    "        \n",
    "        return node(perd_label=self.set_label(data.iloc[:, -1]))\n",
    "        \n",
    "    def fit(self, X_train, y_train):\n",
    "        '''\n",
    "        Fit the model\n",
    "        '''\n",
    "        self.root = self.build_tree(pd.concat([X_train, y_train], axis=1))\n",
    "\n",
    "    def predict(self, X_test):\n",
    "        '''\n",
    "        Predict the label\n",
    "        '''\n",
    "        y_pred = []\n",
    "        for i in range(len(X_test)):\n",
    "            node = self.root\n",
    "            while node.perd_label is None:\n",
    "                if X_test[node.feature].iloc[i] <= node.thr:\n",
    "                    node = node.left\n",
    "                else:\n",
    "                    node = node.right\n",
    "            y_pred.append(node.perd_label)\n",
    "        return y_pred\n",
    "    \n",
    "    def accuracy(self, y_test, y_pred):\n",
    "        '''\n",
    "        Calculate accuracy\n",
    "        '''\n",
    "        return np.sum(y_test == y_pred) / len(y_test)   \n",
    "    \n",
    "# height of the tree\n",
    "def height(node):\n",
    "    if node is None:\n",
    "        return 0\n",
    "    return 1 + max(height(node.left), height(node.right))"
   ]
  },
  {
   "cell_type": "code",
   "execution_count": 5,
   "metadata": {},
   "outputs": [
    {
     "data": {
      "text/plain": [
       "[0, 1, 2, 3, 4, 5, 6, 7, 8, 9]"
      ]
     },
     "execution_count": 5,
     "metadata": {},
     "output_type": "execute_result"
    }
   ],
   "source": [
    "list(range(10))"
   ]
  },
  {
   "cell_type": "markdown",
   "metadata": {},
   "source": [
    "## (a) Random Forest"
   ]
  },
  {
   "cell_type": "code",
   "execution_count": 6,
   "metadata": {},
   "outputs": [],
   "source": [
    "class RandomForest:\n",
    "    '''\n",
    "    Random Forest Classifier\n",
    "    '''\n",
    "    def __init__(self, ratio=0.8, m_features=None, max_depth=10, min_samples=2):\n",
    "        self.ratio = ratio\n",
    "        self.m_features = m_features\n",
    "        self.max_depth = max_depth\n",
    "        self.min_samples = min_samples\n",
    "\n",
    "    def subsample_bootstrap(self, X, y):\n",
    "        '''\n",
    "        Create a subsample of the dataset\n",
    "        \n",
    "        return: bootstrapped dataset, obb dataset\n",
    "        '''\n",
    "        n = len(X)\n",
    "        idx = np.random.choice(n, size=int(n * self.ratio), replace=True)\n",
    "        return X.iloc[idx], y.iloc[idx], X.iloc[~idx], y.iloc[~idx]    \n",
    "    \n",
    "    def build(self, X_train, y_train, n_trees=10):\n",
    "        '''\n",
    "        Build the random forest\n",
    "        '''\n",
    "        self.trees = []\n",
    "        obb_err = []\n",
    "        for i in range(n_trees):\n",
    "            X_sub, y_sub, X_obb, y_obb = self.subsample_bootstrap(X_train, y_train)\n",
    "            tree = DecisionTree(m_features=self.m_features, max_depth=self.max_depth, min_samples=self.min_samples)\n",
    "            tree.fit(X_sub, y_sub)\n",
    "            self.trees.append(tree)\n",
    "            y_pred = tree.predict(X_obb)\n",
    "            obb_err.append(1-tree.accuracy(y_obb, y_pred))\n",
    "        return obb_err\n",
    "        \n",
    "    def predict(self, X_test):\n",
    "        '''\n",
    "        Predict the label\n",
    "        '''\n",
    "        y_pred = []\n",
    "        for tree in self.trees:\n",
    "            y_pred.append(tree.predict(X_test))\n",
    "        return np.array(y_pred).T\n",
    "    \n",
    "    def majority_vote(self, y_pred):\n",
    "        '''\n",
    "        Get the majority vote\n",
    "        '''\n",
    "        return np.array([np.argmax(np.bincount(y_pred[i])) for i in range(len(y_pred))])\n",
    "\n",
    "    def accuracy(self, y_test, y_pred):\n",
    "        '''\n",
    "        Calculate accuracy\n",
    "        '''\n",
    "        return np.sum(y_test == y_pred) / len(y_test)"
   ]
  },
  {
   "cell_type": "code",
   "execution_count": 7,
   "metadata": {},
   "outputs": [],
   "source": [
    "def split_data(data, split_ratio=0.7):\n",
    "    idx = np.random.permutation(data.index)\n",
    "    split = int(split_ratio * len(data))\n",
    "    # retun X_trian, y_train, X_test, y_test\n",
    "    return data.iloc[idx[:split], :-1], data.iloc[idx[:split], -1], data.iloc[idx[split:], :-1], data.iloc[idx[split:], -1]"
   ]
  },
  {
   "cell_type": "code",
   "execution_count": 8,
   "metadata": {},
   "outputs": [],
   "source": [
    "# load spam dataset\n",
    "data = np.loadtxt(\"spam.data\")\n",
    "\n",
    "# split the dataset\n",
    "X_train, y_train, X_test, y_test = split_data(pd.DataFrame(data), split_ratio=0.7)"
   ]
  },
  {
   "cell_type": "code",
   "execution_count": 9,
   "metadata": {},
   "outputs": [
    {
     "name": "stdout",
     "output_type": "stream",
     "text": [
      "0.9261404779145547\n"
     ]
    }
   ],
   "source": [
    "forest = RandomForest(ratio=0.3, m_features=7, max_depth=30, min_samples=2)\n",
    "\n",
    "# build the random forest\n",
    "obb_error = forest.build(X_train, y_train, n_trees=5)\n",
    "\n",
    "# predict the label\n",
    "y_pred = forest.predict(X_test).astype(int)\n",
    "\n",
    "# get the majority vote\n",
    "y_pred = forest.majority_vote(y_pred).astype(int)\n",
    "\n",
    "# calculate accuracy\n",
    "print(forest.accuracy(y_test, y_pred))"
   ]
  },
  {
   "cell_type": "code",
   "execution_count": 10,
   "metadata": {},
   "outputs": [
    {
     "data": {
      "text/plain": [
       "[0.082815734989648,\n",
       " 0.08488612836438925,\n",
       " 0.10351966873706009,\n",
       " 0.09420289855072461,\n",
       " 0.09316770186335399]"
      ]
     },
     "execution_count": 10,
     "metadata": {},
     "output_type": "execute_result"
    }
   ],
   "source": [
    "obb_error"
   ]
  },
  {
   "cell_type": "code",
   "execution_count": 11,
   "metadata": {},
   "outputs": [
    {
     "name": "stdout",
     "output_type": "stream",
     "text": [
      "0.9348298334540188\n"
     ]
    }
   ],
   "source": [
    "# sklearn random forest\n",
    "clf = RandomForestClassifier(n_estimators=5, criterion='entropy')\n",
    "clf.fit(X_train, y_train)\n",
    "y_pred = clf.predict(X_test)\n",
    "print(accuracy_score(y_test, y_pred))"
   ]
  },
  {
   "cell_type": "markdown",
   "metadata": {},
   "source": [
    "## Que 5 (b)"
   ]
  },
  {
   "cell_type": "code",
   "execution_count": 12,
   "metadata": {},
   "outputs": [
    {
     "name": "stderr",
     "output_type": "stream",
     "text": [
      "100%|██████████| 12/12 [10:06<00:00, 50.58s/it]\n"
     ]
    },
    {
     "data": {
      "image/png": "[encoded data removed]",
      "text/plain": [
       "<Figure size 640x480 with 1 Axes>"
      ]
     },
     "metadata": {},
     "output_type": "display_data"
    },
    {
     "data": {
      "text/plain": [
       "11"
      ]
     },
     "execution_count": 12,
     "metadata": {},
     "output_type": "execute_result"
    }
   ],
   "source": [
    "# get optimal m_features\n",
    "m_features = [i for i in range(1, len(X_train.columns)+1, 5)]\n",
    "\n",
    "acc = []\n",
    "for m in tqdm(m_features):\n",
    "    forest = RandomForest(ratio=0.3, m_features=m)\n",
    "    forest.build(X_train, y_train, n_trees=5)\n",
    "    y_pred = forest.predict(X_test).astype(int)\n",
    "    y_pred = forest.majority_vote(y_pred).astype(int)\n",
    "    acc.append(forest.accuracy(y_test, y_pred))\n",
    "\n",
    "plt.plot(m_features, acc)\n",
    "plt.xlabel('m_features')\n",
    "plt.ylabel('Accuracy')\n",
    "plt.title('Random Forest')\n",
    "plt.show()\n",
    "\n",
    "optimal_m = m_features[np.argmax(acc)]\n",
    "optimal_m"
   ]
  },
  {
   "cell_type": "code",
   "execution_count": 13,
   "metadata": {},
   "outputs": [
    {
     "name": "stderr",
     "output_type": "stream",
     "text": [
      "100%|██████████| 57/57 [00:05<00:00, 10.86it/s]\n"
     ]
    },
    {
     "data": {
      "image/png": "[encoded data removed]",
      "text/plain": [
       "<Figure size 640x480 with 1 Axes>"
      ]
     },
     "metadata": {},
     "output_type": "display_data"
    },
    {
     "name": "stdout",
     "output_type": "stream",
     "text": [
      "22\n"
     ]
    }
   ],
   "source": [
    "# get optimal m_features\n",
    "m_features = [i for i in range(1, len(X_train.columns) + 1)]\n",
    "\n",
    "# store the accuracy\n",
    "acc = []\n",
    "for m in tqdm(m_features):\n",
    "    clf = RandomForestClassifier(n_estimators=10, max_features=m, criterion='entropy')\n",
    "    clf.fit(X_train, y_train)\n",
    "    y_pred = clf.predict(X_test)\n",
    "    acc.append(accuracy_score(y_test, y_pred))\n",
    "\n",
    "plt.plot(m_features, acc)\n",
    "plt.xlabel('m_features')\n",
    "plt.ylabel('accuracy')\n",
    "plt.title('Random Forest')\n",
    "plt.show()\n",
    "\n",
    "# get optimal m_features, argmax\n",
    "opt_m = m_features[np.argmax(acc)]\n",
    "print(opt_m)\n"
   ]
  },
  {
   "cell_type": "markdown",
   "metadata": {},
   "source": [
    "## Que 5 (c)"
   ]
  },
  {
   "cell_type": "code",
   "execution_count": 14,
   "metadata": {},
   "outputs": [
    {
     "name": "stderr",
     "output_type": "stream",
     "text": [
      "100%|██████████| 19/19 [1:04:03<00:00, 202.27s/it]\n"
     ]
    }
   ],
   "source": [
    "# obb score and test score \n",
    "obb_score = []\n",
    "test_score = []\n",
    "for n_est in tqdm(range(5, 100, 5)):\n",
    "    forest = RandomForest(ratio=0.3, m_features=optimal_m)\n",
    "    obb_error = forest.build(X_train, y_train, n_trees=n_est)\n",
    "    y_pred = forest.predict(X_test).astype(int)\n",
    "    y_pred = forest.majority_vote(y_pred).astype(int)\n",
    "    test_score.append(1-forest.accuracy(y_test, y_pred))\n",
    "    obb_score.append(np.mean(obb_error))"
   ]
  },
  {
   "cell_type": "code",
   "execution_count": 35,
   "metadata": {},
   "outputs": [
    {
     "data": {
      "image/png": "[encoded data removed]",
      "text/plain": [
       "<Figure size 640x480 with 1 Axes>"
      ]
     },
     "metadata": {},
     "output_type": "display_data"
    }
   ],
   "source": [
    "plt.plot(range(5, 100, 5), obb_score, label='OOB Error')\n",
    "plt.plot(range(5, 100, 5), test_score, label='Test Error')\n",
    "plt.xlabel('n_estimators')\n",
    "plt.ylabel('OOB Error, test error')\n",
    "plt.title('Random Forest')\n",
    "plt.legend()\n",
    "plt.show()"
   ]
  },
  {
   "cell_type": "markdown",
   "metadata": {},
   "source": [
    "## Que 6 (a)"
   ]
  },
  {
   "cell_type": "code",
   "execution_count": 16,
   "metadata": {},
   "outputs": [
    {
     "name": "stdout",
     "output_type": "stream",
     "text": [
      "train_data shape: (24999, 111)\n",
      "test_data shape: (14718, 111)\n"
     ]
    }
   ],
   "source": [
    "# load data\n",
    "train_data = pd.read_csv('./loan_train.csv')\n",
    "test_data = pd.read_csv('./loan_test.csv')\n",
    "\n",
    "print(f'train_data shape: {train_data.shape}')\n",
    "print(f'test_data shape: {test_data.shape}')"
   ]
  },
  {
   "cell_type": "code",
   "execution_count": 17,
   "metadata": {},
   "outputs": [
    {
     "name": "stdout",
     "output_type": "stream",
     "text": [
      "unique values of loan_status from train_data: loan_status\n",
      "Fully Paid     20827\n",
      "Charged Off     3474\n",
      "Current          698\n",
      "Name: count, dtype: int64\n",
      "\n",
      "unique values of loan_status from test_data: loan_status\n",
      "Fully Paid     12123\n",
      "Charged Off     2153\n",
      "Current          442\n",
      "Name: count, dtype: int64\n"
     ]
    }
   ],
   "source": [
    "# print unique values of loan_status from train_data, test_data\n",
    "print(f'unique values of loan_status from train_data: {train_data[\"loan_status\"].value_counts()}')\n",
    "\n",
    "print(f'\\nunique values of loan_status from test_data: {test_data[\"loan_status\"].value_counts()}')"
   ]
  },
  {
   "cell_type": "code",
   "execution_count": 18,
   "metadata": {},
   "outputs": [
    {
     "name": "stdout",
     "output_type": "stream",
     "text": [
      "\n",
      "train_data data types: \n",
      "float64    74\n",
      "object     24\n",
      "int64      13\n",
      "Name: count, dtype: int64\n",
      "\n",
      "test_data data types: \n",
      "float64    74\n",
      "object     24\n",
      "int64      13\n",
      "Name: count, dtype: int64\n"
     ]
    }
   ],
   "source": [
    "# print data types of columns\n",
    "print(f'\\ntrain_data data types: \\n{train_data.dtypes.value_counts()}')\n",
    "\n",
    "print(f'\\ntest_data data types: \\n{test_data.dtypes.value_counts()}')"
   ]
  },
  {
   "cell_type": "code",
   "execution_count": 19,
   "metadata": {},
   "outputs": [
    {
     "name": "stdout",
     "output_type": "stream",
     "text": [
      "\n",
      "null_values_train\n",
      "                                null_count  null_percentage\n",
      "verification_status_joint            24999       100.000000\n",
      "annual_inc_joint                     24999       100.000000\n",
      "mo_sin_old_rev_tl_op                 24999       100.000000\n",
      "mo_sin_old_il_acct                   24999       100.000000\n",
      "bc_util                              24999       100.000000\n",
      "bc_open_to_buy                       24999       100.000000\n",
      "avg_cur_bal                          24999       100.000000\n",
      "acc_open_past_24mths                 24999       100.000000\n",
      "inq_last_12m                         24999       100.000000\n",
      "total_cu_tl                          24999       100.000000\n",
      "inq_fi                               24999       100.000000\n",
      "total_rev_hi_lim                     24999       100.000000\n",
      "all_util                             24999       100.000000\n",
      "max_bal_bc                           24999       100.000000\n",
      "open_rv_24m                          24999       100.000000\n",
      "open_rv_12m                          24999       100.000000\n",
      "il_util                              24999       100.000000\n",
      "total_bal_il                         24999       100.000000\n",
      "mths_since_rcnt_il                   24999       100.000000\n",
      "open_il_24m                          24999       100.000000\n",
      "open_il_12m                          24999       100.000000\n",
      "open_il_6m                           24999       100.000000\n",
      "open_acc_6m                          24999       100.000000\n",
      "tot_cur_bal                          24999       100.000000\n",
      "tot_coll_amt                         24999       100.000000\n",
      "mo_sin_rcnt_rev_tl_op                24999       100.000000\n",
      "mo_sin_rcnt_tl                       24999       100.000000\n",
      "mort_acc                             24999       100.000000\n",
      "num_rev_tl_bal_gt_0                  24999       100.000000\n",
      "total_bc_limit                       24999       100.000000\n",
      "total_bal_ex_mort                    24999       100.000000\n",
      "tot_hi_cred_lim                      24999       100.000000\n",
      "percent_bc_gt_75                     24999       100.000000\n",
      "pct_tl_nvr_dlq                       24999       100.000000\n",
      "num_tl_op_past_12m                   24999       100.000000\n",
      "num_tl_90g_dpd_24m                   24999       100.000000\n",
      "num_tl_30dpd                         24999       100.000000\n",
      "num_tl_120dpd_2m                     24999       100.000000\n",
      "num_sats                             24999       100.000000\n",
      "num_rev_accts                        24999       100.000000\n",
      "mths_since_recent_bc                 24999       100.000000\n",
      "num_op_rev_tl                        24999       100.000000\n",
      "num_il_tl                            24999       100.000000\n",
      "num_bc_tl                            24999       100.000000\n",
      "num_bc_sats                          24999       100.000000\n",
      "num_actv_rev_tl                      24999       100.000000\n",
      "num_actv_bc_tl                       24999       100.000000\n",
      "num_accts_ever_120_pd                24999       100.000000\n",
      "mths_since_recent_revol_delinq       24999       100.000000\n",
      "mths_since_recent_inq                24999       100.000000\n",
      "mths_since_recent_bc_dlq             24999       100.000000\n",
      "dti_joint                            24999       100.000000\n",
      "total_il_high_credit_limit           24999       100.000000\n",
      "mths_since_last_major_derog          24999       100.000000\n",
      "next_pymnt_d                         24301        97.207888\n",
      "mths_since_last_record               23320        93.283731\n",
      "mths_since_last_delinq               16240        64.962599\n",
      "desc                                  8193        32.773311\n",
      "pub_rec_bankruptcies                   417         1.668067\n",
      "last_pymnt_d                            45         0.180007\n",
      "\n",
      "null_values_test\n",
      "                                null_count  null_percentage\n",
      "verification_status_joint            14718       100.000000\n",
      "annual_inc_joint                     14718       100.000000\n",
      "mo_sin_old_rev_tl_op                 14718       100.000000\n",
      "mo_sin_old_il_acct                   14718       100.000000\n",
      "bc_util                              14718       100.000000\n",
      "bc_open_to_buy                       14718       100.000000\n",
      "avg_cur_bal                          14718       100.000000\n",
      "acc_open_past_24mths                 14718       100.000000\n",
      "inq_last_12m                         14718       100.000000\n",
      "total_cu_tl                          14718       100.000000\n",
      "inq_fi                               14718       100.000000\n",
      "total_rev_hi_lim                     14718       100.000000\n",
      "all_util                             14718       100.000000\n",
      "max_bal_bc                           14718       100.000000\n",
      "open_rv_24m                          14718       100.000000\n",
      "open_rv_12m                          14718       100.000000\n",
      "il_util                              14718       100.000000\n",
      "total_bal_il                         14718       100.000000\n",
      "mths_since_rcnt_il                   14718       100.000000\n",
      "open_il_24m                          14718       100.000000\n",
      "open_il_12m                          14718       100.000000\n",
      "open_il_6m                           14718       100.000000\n",
      "open_acc_6m                          14718       100.000000\n",
      "tot_cur_bal                          14718       100.000000\n",
      "tot_coll_amt                         14718       100.000000\n",
      "mo_sin_rcnt_rev_tl_op                14718       100.000000\n",
      "mo_sin_rcnt_tl                       14718       100.000000\n",
      "mort_acc                             14718       100.000000\n",
      "num_rev_tl_bal_gt_0                  14718       100.000000\n",
      "total_bc_limit                       14718       100.000000\n",
      "total_bal_ex_mort                    14718       100.000000\n",
      "tot_hi_cred_lim                      14718       100.000000\n",
      "percent_bc_gt_75                     14718       100.000000\n",
      "pct_tl_nvr_dlq                       14718       100.000000\n",
      "num_tl_op_past_12m                   14718       100.000000\n",
      "num_tl_90g_dpd_24m                   14718       100.000000\n",
      "num_tl_30dpd                         14718       100.000000\n",
      "num_tl_120dpd_2m                     14718       100.000000\n",
      "num_sats                             14718       100.000000\n",
      "num_rev_accts                        14718       100.000000\n",
      "mths_since_recent_bc                 14718       100.000000\n",
      "num_op_rev_tl                        14718       100.000000\n",
      "num_il_tl                            14718       100.000000\n",
      "num_bc_tl                            14718       100.000000\n",
      "num_bc_sats                          14718       100.000000\n",
      "num_actv_rev_tl                      14718       100.000000\n",
      "num_actv_bc_tl                       14718       100.000000\n",
      "num_accts_ever_120_pd                14718       100.000000\n",
      "mths_since_recent_revol_delinq       14718       100.000000\n",
      "mths_since_recent_inq                14718       100.000000\n",
      "mths_since_recent_bc_dlq             14718       100.000000\n",
      "dti_joint                            14718       100.000000\n",
      "total_il_high_credit_limit           14718       100.000000\n",
      "mths_since_last_major_derog          14718       100.000000\n",
      "next_pymnt_d                         14276        96.996875\n",
      "mths_since_last_record               13611        92.478598\n",
      "mths_since_last_delinq                9442        64.152738\n",
      "desc                                  4749        32.266612\n",
      "emp_title                             2453        16.666667\n",
      "emp_length                            1034         7.025411\n"
     ]
    }
   ],
   "source": [
    "# find null values count and percentage for each column\n",
    "null_values_train = train_data.isnull().sum()\n",
    "\n",
    "null_values_train = pd.DataFrame(null_values_train, columns=['null_count'])\n",
    "\n",
    "null_values_train['null_percentage'] = null_values_train['null_count'] / train_data.shape[0] * 100\n",
    "\n",
    "# sort null_values_train by null_percentage\n",
    "null_values_train.sort_values(by='null_percentage', ascending=False, inplace=True)\n",
    "\n",
    "# print null_values_train\n",
    "print(\"\\nnull_values_train\")\n",
    "print(null_values_train.head(60))\n",
    "\n",
    "# find null values count and percentage for each column\n",
    "null_values_test = test_data.isnull().sum()\n",
    "\n",
    "null_values_test = pd.DataFrame(null_values_test, columns=['null_count'])\n",
    "\n",
    "null_values_test['null_percentage'] = null_values_test['null_count'] / test_data.shape[0] * 100\n",
    "\n",
    "# sort null_values_test by null_percentage\n",
    "null_values_test.sort_values(by='null_percentage', ascending=False, inplace=True)\n",
    "\n",
    "# print null_values_test\n",
    "print(\"\\nnull_values_test\")\n",
    "print(null_values_test.head(60))"
   ]
  },
  {
   "cell_type": "code",
   "execution_count": 20,
   "metadata": {},
   "outputs": [],
   "source": [
    "# drop columns that have more than 20% missing values\n",
    "train_data = train_data.drop(columns=null_values_train[null_values_train['null_percentage'] > 20].index)\n",
    "\n",
    "test_data = test_data.drop(columns=null_values_test[null_values_test['null_percentage'] > 20].index)"
   ]
  },
  {
   "cell_type": "code",
   "execution_count": 21,
   "metadata": {},
   "outputs": [
    {
     "name": "stdout",
     "output_type": "stream",
     "text": [
      "\n",
      "top 10 unique values in columns with dtype object\n",
      "\n",
      "term: 2 different values \n",
      " [' 36 months' ' 60 months']\n",
      "\n",
      "int_rate: 361 different values \n",
      " ['7.51%' '8.94%' '13.57%' '20.89%' '17.49%' '7.88%' '14.91%' '7.90%'\n",
      " '11.71%' '12.53%']\n",
      "\n",
      "grade: 7 different values \n",
      " ['A' 'C' 'F' 'D' 'B' 'E' 'G']\n",
      "\n",
      "sub_grade: 35 different values \n",
      " ['A4' 'A5' 'C3' 'F1' 'D5' 'D2' 'B3' 'B5' 'C2' 'C1']\n",
      "\n",
      "emp_title: 19953 different values \n",
      " ['15' '1400' '36000' '553742017' '  old palm inc'\n",
      " ' Brocade Communications' ' CenturyLink'\n",
      " ' Department of Homeland Security' ' Down To Earth Distributors, Inc.'\n",
      " ' pacific crane maintenance company']\n",
      "\n",
      "emp_length: 12 different values \n",
      " ['10+ years' '1 year' '4 years' '5 years' '7 years' '6 years' '2 years'\n",
      " '8 years' '< 1 year' '3 years']\n",
      "\n",
      "home_ownership: 4 different values \n",
      " ['RENT' 'OWN' 'MORTGAGE' 'OTHER']\n",
      "\n",
      "verification_status: 3 different values \n",
      " ['Source Verified' 'Not Verified' 'Verified']\n",
      "\n",
      "issue_d: 55 different values \n",
      " ['10-Sep' '10-Jan' '9-Oct' '11-Nov' '11-Jul' '9-Dec' '10-Jun' '11-Feb'\n",
      " '11-Oct' '11-Sep']\n",
      "\n",
      "loan_status: 3 different values \n",
      " ['Charged Off' 'Fully Paid' 'Current']\n",
      "\n",
      "pymnt_plan: 1 different values \n",
      " ['n']\n",
      "\n",
      "url: 24999 different values \n",
      " ['https://lendingclub.com/browse/loanDetail.action?loan_id=573354'\n",
      " 'https://lendingclub.com/browse/loanDetail.action?loan_id=476321'\n",
      " 'https://lendingclub.com/browse/loanDetail.action?loan_id=451484'\n",
      " 'https://lendingclub.com/browse/loanDetail.action?loan_id=1018129'\n",
      " 'https://lendingclub.com/browse/loanDetail.action?loan_id=800018'\n",
      " 'https://lendingclub.com/browse/loanDetail.action?loan_id=471391'\n",
      " 'https://lendingclub.com/browse/loanDetail.action?loan_id=521762'\n",
      " 'https://lendingclub.com/browse/loanDetail.action?loan_id=664532'\n",
      " 'https://lendingclub.com/browse/loanDetail.action?loan_id=973622'\n",
      " 'https://lendingclub.com/browse/loanDetail.action?loan_id=882849']\n",
      "\n",
      "purpose: 14 different values \n",
      " ['home_improvement' 'other' 'major_purchase' 'debt_consolidation'\n",
      " 'credit_card' 'house' 'small_business' 'wedding' 'medical' 'moving']\n",
      "\n",
      "title: 12894 different values \n",
      " ['homeimproement' 'Green City' 'payoff w/in 2 years' 'Loan I' 'save %'\n",
      " 'Invest in Lending Club Notes' 'Discover' 'Help With Divorce Expenses'\n",
      " 'Consolidation Loan' 'home improvement']\n",
      "\n",
      "zip_code: 787 different values \n",
      " ['076xx' '300xx' '310xx' '488xx' '334xx' '939xx' '640xx' '480xx' '974xx'\n",
      " '980xx']\n",
      "\n",
      "addr_state: 50 different values \n",
      " ['NJ' 'GA' 'MI' 'FL' 'CA' 'MO' 'OR' 'WA' 'CT' 'PA']\n",
      "\n",
      "earliest_cr_line: 495 different values \n",
      " ['1-Feb' 'Feb-97' 'Mar-00' 'Jun-99' '4-Jun' 'Aug-93' 'Feb-96' 'Feb-00'\n",
      " 'Aug-98' 'Mar-99']\n",
      "\n",
      "revol_util: 1060 different values \n",
      " ['1.20%' '14%' '34.40%' '91.40%' '9.40%' '2.80%' '19.10%' '37.40%'\n",
      " '55.40%' '25.30%']\n",
      "\n",
      "initial_list_status: 1 different values \n",
      " ['f']\n",
      "\n",
      "last_pymnt_d: 102 different values \n",
      " ['11-Mar' '10-Mar' '11-Dec' '16-May' '15-Sep' '10-May' '15-Feb' '13-May'\n",
      " '13-Dec' '12-Nov']\n",
      "\n",
      "last_credit_pull_d: 102 different values \n",
      " ['11-Jul' '10-Feb' '11-Dec' '16-May' '10-May' '15-Sep' '13-Dec' '16-Apr'\n",
      " '16-Jan' '15-Nov']\n",
      "\n",
      "application_type: 1 different values \n",
      " ['INDIVIDUAL']\n",
      "\n"
     ]
    },
    {
     "data": {
      "text/html": [
       "<div>\n",
       "<style scoped>\n",
       "    .dataframe tbody tr th:only-of-type {\n",
       "        vertical-align: middle;\n",
       "    }\n",
       "\n",
       "    .dataframe tbody tr th {\n",
       "        vertical-align: top;\n",
       "    }\n",
       "\n",
       "    .dataframe thead th {\n",
       "        text-align: right;\n",
       "    }\n",
       "</style>\n",
       "<table border=\"1\" class=\"dataframe\">\n",
       "  <thead>\n",
       "    <tr style=\"text-align: right;\">\n",
       "      <th></th>\n",
       "      <th>term</th>\n",
       "      <th>int_rate</th>\n",
       "      <th>grade</th>\n",
       "      <th>sub_grade</th>\n",
       "      <th>emp_title</th>\n",
       "      <th>emp_length</th>\n",
       "      <th>home_ownership</th>\n",
       "      <th>verification_status</th>\n",
       "      <th>issue_d</th>\n",
       "      <th>loan_status</th>\n",
       "      <th>pymnt_plan</th>\n",
       "      <th>url</th>\n",
       "      <th>purpose</th>\n",
       "      <th>title</th>\n",
       "      <th>zip_code</th>\n",
       "      <th>addr_state</th>\n",
       "      <th>earliest_cr_line</th>\n",
       "      <th>revol_util</th>\n",
       "      <th>initial_list_status</th>\n",
       "      <th>last_pymnt_d</th>\n",
       "      <th>last_credit_pull_d</th>\n",
       "      <th>application_type</th>\n",
       "    </tr>\n",
       "  </thead>\n",
       "  <tbody>\n",
       "    <tr>\n",
       "      <th>count</th>\n",
       "      <td>24999</td>\n",
       "      <td>24999</td>\n",
       "      <td>24999</td>\n",
       "      <td>24999</td>\n",
       "      <td>24993</td>\n",
       "      <td>24958</td>\n",
       "      <td>24999</td>\n",
       "      <td>24999</td>\n",
       "      <td>24999</td>\n",
       "      <td>24999</td>\n",
       "      <td>24999</td>\n",
       "      <td>24999</td>\n",
       "      <td>24999</td>\n",
       "      <td>24991</td>\n",
       "      <td>24999</td>\n",
       "      <td>24999</td>\n",
       "      <td>24999</td>\n",
       "      <td>24970</td>\n",
       "      <td>24999</td>\n",
       "      <td>24954</td>\n",
       "      <td>24999</td>\n",
       "      <td>24999</td>\n",
       "    </tr>\n",
       "    <tr>\n",
       "      <th>unique</th>\n",
       "      <td>2</td>\n",
       "      <td>361</td>\n",
       "      <td>7</td>\n",
       "      <td>35</td>\n",
       "      <td>19952</td>\n",
       "      <td>11</td>\n",
       "      <td>4</td>\n",
       "      <td>3</td>\n",
       "      <td>55</td>\n",
       "      <td>3</td>\n",
       "      <td>1</td>\n",
       "      <td>24999</td>\n",
       "      <td>14</td>\n",
       "      <td>12893</td>\n",
       "      <td>787</td>\n",
       "      <td>50</td>\n",
       "      <td>495</td>\n",
       "      <td>1059</td>\n",
       "      <td>1</td>\n",
       "      <td>101</td>\n",
       "      <td>102</td>\n",
       "      <td>1</td>\n",
       "    </tr>\n",
       "    <tr>\n",
       "      <th>top</th>\n",
       "      <td>36 months</td>\n",
       "      <td>10.99%</td>\n",
       "      <td>B</td>\n",
       "      <td>A4</td>\n",
       "      <td>Bank of America</td>\n",
       "      <td>10+ years</td>\n",
       "      <td>RENT</td>\n",
       "      <td>Not Verified</td>\n",
       "      <td>11-Dec</td>\n",
       "      <td>Fully Paid</td>\n",
       "      <td>n</td>\n",
       "      <td>https://lendingclub.com/browse/loanDetail.acti...</td>\n",
       "      <td>debt_consolidation</td>\n",
       "      <td>Debt Consolidation</td>\n",
       "      <td>100xx</td>\n",
       "      <td>CA</td>\n",
       "      <td>Nov-98</td>\n",
       "      <td>0%</td>\n",
       "      <td>f</td>\n",
       "      <td>16-May</td>\n",
       "      <td>16-May</td>\n",
       "      <td>INDIVIDUAL</td>\n",
       "    </tr>\n",
       "    <tr>\n",
       "      <th>freq</th>\n",
       "      <td>18203</td>\n",
       "      <td>602</td>\n",
       "      <td>7497</td>\n",
       "      <td>1831</td>\n",
       "      <td>109</td>\n",
       "      <td>5565</td>\n",
       "      <td>12034</td>\n",
       "      <td>10762</td>\n",
       "      <td>1426</td>\n",
       "      <td>20827</td>\n",
       "      <td>24999</td>\n",
       "      <td>1</td>\n",
       "      <td>11932</td>\n",
       "      <td>1407</td>\n",
       "      <td>409</td>\n",
       "      <td>4414</td>\n",
       "      <td>246</td>\n",
       "      <td>606</td>\n",
       "      <td>24999</td>\n",
       "      <td>769</td>\n",
       "      <td>6530</td>\n",
       "      <td>24999</td>\n",
       "    </tr>\n",
       "  </tbody>\n",
       "</table>\n",
       "</div>"
      ],
      "text/plain": [
       "              term int_rate  grade sub_grade        emp_title emp_length  \\\n",
       "count        24999    24999  24999     24999            24993      24958   \n",
       "unique           2      361      7        35            19952         11   \n",
       "top      36 months   10.99%      B        A4  Bank of America  10+ years   \n",
       "freq         18203      602   7497      1831              109       5565   \n",
       "\n",
       "       home_ownership verification_status issue_d loan_status pymnt_plan  \\\n",
       "count           24999               24999   24999       24999      24999   \n",
       "unique              4                   3      55           3          1   \n",
       "top              RENT        Not Verified  11-Dec  Fully Paid          n   \n",
       "freq            12034               10762    1426       20827      24999   \n",
       "\n",
       "                                                      url             purpose  \\\n",
       "count                                               24999               24999   \n",
       "unique                                              24999                  14   \n",
       "top     https://lendingclub.com/browse/loanDetail.acti...  debt_consolidation   \n",
       "freq                                                    1               11932   \n",
       "\n",
       "                     title zip_code addr_state earliest_cr_line revol_util  \\\n",
       "count                24991    24999      24999            24999      24970   \n",
       "unique               12893      787         50              495       1059   \n",
       "top     Debt Consolidation    100xx         CA           Nov-98         0%   \n",
       "freq                  1407      409       4414              246        606   \n",
       "\n",
       "       initial_list_status last_pymnt_d last_credit_pull_d application_type  \n",
       "count                24999        24954              24999            24999  \n",
       "unique                   1          101                102                1  \n",
       "top                      f       16-May             16-May       INDIVIDUAL  \n",
       "freq                 24999          769               6530            24999  "
      ]
     },
     "execution_count": 21,
     "metadata": {},
     "output_type": "execute_result"
    }
   ],
   "source": [
    "# print unique values in columns with dtype object\n",
    "tp = 10\n",
    "print(f\"\\ntop {tp} unique values in columns with dtype object\\n\")\n",
    "for col in train_data.select_dtypes(include='object').columns:\n",
    "    # print(f'{col}: {train_data[col].unique()}')\n",
    "    print(f'{col}: {len(train_data[col].unique())} different values \\n {train_data[col].unique()[:tp]}\\n')\n",
    "    \n",
    "train_data.describe(include='object')"
   ]
  },
  {
   "cell_type": "markdown",
   "metadata": {},
   "source": [
    "Convert object columns to category"
   ]
  },
  {
   "cell_type": "code",
   "execution_count": 22,
   "metadata": {},
   "outputs": [],
   "source": [
    "# term\n",
    "train_data['term'] = train_data['term'].str.extract('(\\d+)').astype('int')\n",
    "test_data['term'] = test_data['term'].str.extract('(\\d+)').astype('int')\n",
    "\n",
    "# int_rate\n",
    "train_data['int_rate'] = train_data['int_rate'].str.extract('(\\d+\\.\\d+)').astype('float')\n",
    "test_data['int_rate'] = test_data['int_rate'].str.extract('(\\d+\\.\\d+)').astype('float')"
   ]
  },
  {
   "cell_type": "code",
   "execution_count": 23,
   "metadata": {},
   "outputs": [],
   "source": [
    "# grade\n",
    "train_data['grade'] = train_data['grade'].map({'A': 0, 'B': 1, 'C': 2, 'D': 3, 'E': 4, 'F': 5, 'G': 6})\n",
    "test_data['grade'] = test_data['grade'].map({'A': 0, 'B': 1, 'C': 2, 'D': 3, 'E': 4, 'F': 5, 'G': 6})\n",
    "\n",
    "# sub_grade -> drop col\n",
    "\n",
    "# emp_title -> drop col\n",
    "\n",
    "# emp_length\n",
    "train_data['emp_length'] = train_data['emp_length'].map({'< 1 year': 0, '1 year': 1, '2 years': 2, '3 years': 3, '4 years': 4, '5 years': 5, '6 years': 6, '7 years': 7, '8 years': 8, '9 years': 9, '10+ years': 10})\n",
    "test_data['emp_length'] = test_data['emp_length'].map({'< 1 year': 0, '1 year': 1, '2 years': 2, '3 years': 3, '4 years': 4, '5 years': 5, '6 years': 6, '7 years': 7, '8 years': 8, '9 years': 9, '10+ years': 10})\n",
    "\n",
    "# home_ownership\n",
    "train_data['home_ownership'] = train_data['home_ownership'].map({'MORTGAGE': 0, 'RENT': 1, 'OWN': 2, 'ANY': 3, 'OTHER': 3, 'NONE': 3})\n",
    "test_data['home_ownership'] = test_data['home_ownership'].map({'MORTGAGE': 0, 'RENT': 1, 'OWN': 2, 'ANY': 3, 'OTHER': 3, 'NONE': 3})\n",
    "\n",
    "# verification_status\n",
    "train_data['verification_status'] = train_data['verification_status'].map({'Not Verified': 0, 'Source Verified': 1, 'Verified': 2})\n",
    "test_data['verification_status'] = test_data['verification_status'].map({'Not Verified': 0, 'Source Verified': 1, 'Verified': 2})\n",
    "\n",
    "# issue_d -> drop col\n",
    "\n",
    "# loan_status -> target col\n",
    "train_data = train_data[train_data['loan_status'].isin(['Fully Paid', 'Charged Off'])]\n",
    "train_data['loan_status'] = train_data['loan_status'].map({'Fully Paid': 1, 'Charged Off': -1})\n",
    "\n",
    "test_data = test_data[test_data['loan_status'].isin(['Fully Paid', 'Charged Off'])]\n",
    "test_data['loan_status'] = test_data['loan_status'].map({'Fully Paid': 1, 'Charged Off': -1})\n",
    "\n",
    "# pymnt_plan -> drop col\n",
    "\n",
    "# url -> drop col\n",
    "\n",
    "# purpose -> drop col\n",
    "\n",
    "# title -> drop col\n",
    "\n",
    "# zip_code -> drop col\n",
    "\n",
    "# addr_state -> drop col\n",
    "\n",
    "# earliest_cr_line -> drop col\n",
    "\n",
    "# revol_util -> drop col\n",
    "\n",
    "# initial_list_status -> drop col\n",
    "\n",
    "# last_pymnt_d -> drop col\n",
    "\n",
    "# last_credit_pull_d -> drop col\n",
    "\n",
    "# application_type -> drop col"
   ]
  },
  {
   "cell_type": "code",
   "execution_count": 24,
   "metadata": {},
   "outputs": [],
   "source": [
    "# drop columns of less use with dtpye object\n",
    "cols = [\"sub_grade\", \"emp_title\", \"issue_d\", \"pymnt_plan\", \"url\", \"purpose\", \"title\", \"zip_code\", \"addr_state\", \"earliest_cr_line\", \"revol_util\", \"initial_list_status\", \"last_pymnt_d\", \"last_credit_pull_d\", \"application_type\"]\n",
    "train_data = train_data.drop(columns=cols)\n",
    "test_data = test_data.drop(columns=cols)"
   ]
  },
  {
   "cell_type": "code",
   "execution_count": 25,
   "metadata": {},
   "outputs": [
    {
     "data": {
      "image/png": "[encoded data removed]",
      "text/plain": [
       "<Figure size 1000x500 with 1 Axes>"
      ]
     },
     "metadata": {},
     "output_type": "display_data"
    }
   ],
   "source": [
    "# use random forest for feature importance\n",
    "\n",
    "X = train_data.drop(columns=['loan_status'])\n",
    "y = train_data['loan_status']\n",
    "\n",
    "rf = RandomForestClassifier(n_estimators=100, random_state=seed)\n",
    "rf.fit(X, y)\n",
    "\n",
    "# plot feature importance\n",
    "plt.figure(figsize=(10, 5))\n",
    "plt.bar(X.columns, rf.feature_importances_)\n",
    "plt.xticks(rotation=90)\n",
    "plt.show()\n"
   ]
  },
  {
   "cell_type": "code",
   "execution_count": 26,
   "metadata": {},
   "outputs": [],
   "source": [
    "# drop columns with importance less than 0.0003\n",
    "cols = X.columns[rf.feature_importances_ < 0.0003]\n",
    "train_data = train_data.drop(columns=cols)\n",
    "test_data = test_data.drop(columns=cols)\n",
    "\n",
    "# drop id, member_id cols as they are not useful\n",
    "train_data = train_data.drop(columns=['id', 'member_id'])\n",
    "test_data = test_data.drop(columns=['id', 'member_id'])\n"
   ]
  },
  {
   "cell_type": "code",
   "execution_count": 27,
   "metadata": {},
   "outputs": [
    {
     "name": "stdout",
     "output_type": "stream",
     "text": [
      "<class 'pandas.core.frame.DataFrame'>\n",
      "Index: 24301 entries, 0 to 24998\n",
      "Data columns (total 28 columns):\n",
      " #   Column                   Non-Null Count  Dtype  \n",
      "---  ------                   --------------  -----  \n",
      " 0   loan_amnt                24301 non-null  int64  \n",
      " 1   funded_amnt              24301 non-null  int64  \n",
      " 2   funded_amnt_inv          24301 non-null  float64\n",
      " 3   term                     24301 non-null  int64  \n",
      " 4   int_rate                 24301 non-null  float64\n",
      " 5   installment              24301 non-null  float64\n",
      " 6   grade                    24301 non-null  int64  \n",
      " 7   emp_length               24261 non-null  float64\n",
      " 8   home_ownership           24301 non-null  int64  \n",
      " 9   annual_inc               24301 non-null  float64\n",
      " 10  verification_status      24301 non-null  int64  \n",
      " 11  loan_status              24301 non-null  int64  \n",
      " 12  dti                      24301 non-null  float64\n",
      " 13  delinq_2yrs              24301 non-null  int64  \n",
      " 14  inq_last_6mths           24301 non-null  int64  \n",
      " 15  open_acc                 24301 non-null  int64  \n",
      " 16  pub_rec                  24301 non-null  int64  \n",
      " 17  revol_bal                24301 non-null  int64  \n",
      " 18  total_acc                24301 non-null  int64  \n",
      " 19  total_pymnt              24301 non-null  float64\n",
      " 20  total_pymnt_inv          24301 non-null  float64\n",
      " 21  total_rec_prncp          24301 non-null  float64\n",
      " 22  total_rec_int            24301 non-null  float64\n",
      " 23  total_rec_late_fee       24301 non-null  float64\n",
      " 24  recoveries               24301 non-null  float64\n",
      " 25  collection_recovery_fee  24301 non-null  float64\n",
      " 26  last_pymnt_amnt          24301 non-null  float64\n",
      " 27  pub_rec_bankruptcies     23884 non-null  float64\n",
      "dtypes: float64(15), int64(13)\n",
      "memory usage: 5.4 MB\n"
     ]
    }
   ],
   "source": [
    "train_data.info()"
   ]
  },
  {
   "cell_type": "code",
   "execution_count": 28,
   "metadata": {},
   "outputs": [],
   "source": [
    "# replace missing values with median\n",
    "train_data = train_data.fillna(train_data.median())\n",
    "\n",
    "test_data = test_data.fillna(test_data.median())\n"
   ]
  },
  {
   "cell_type": "markdown",
   "metadata": {},
   "source": [
    "## Que 6 (b)"
   ]
  },
  {
   "cell_type": "code",
   "execution_count": 29,
   "metadata": {},
   "outputs": [],
   "source": [
    "def get_metrics(learning_rate=0.1, n_estimators=100, max_depth=3):\n",
    "    gb = GradientBoostingClassifier(learning_rate=learning_rate, n_estimators=n_estimators, max_depth=max_depth, random_state=seed)\n",
    "    gb.fit(X, y)\n",
    "    y_pred = gb.predict(X_test)\n",
    "    accuracy = accuracy_score(y_test, y_pred)\n",
    "    precision = np.sum((y_test == 1) & (y_pred == 1)) / np.sum(y_pred == 1)\n",
    "    recall = np.sum((y_test == 1) & (y_pred == 1)) / np.sum(y_test == 1)\n",
    "    return accuracy, precision, recall"
   ]
  },
  {
   "cell_type": "code",
   "execution_count": 30,
   "metadata": {},
   "outputs": [
    {
     "name": "stdout",
     "output_type": "stream",
     "text": [
      "accuracy: 0.9946763799383581\n",
      "precision: 0.9938509469541691\n",
      "recall: 0.9999175121669553\n"
     ]
    }
   ],
   "source": [
    "# gradient boosting\n",
    "X = train_data.drop(columns=['loan_status'])\n",
    "y = train_data['loan_status']\n",
    "\n",
    "X_test = test_data.drop(columns=['loan_status'])\n",
    "y_test = test_data['loan_status']\n",
    "\n",
    "accuracy, precision, recall = get_metrics(n_estimators=100)\n",
    "\n",
    "print(f'accuracy: {accuracy}')\n",
    "print(f'precision: {precision}')\n",
    "print(f'recall: {recall}')"
   ]
  },
  {
   "cell_type": "code",
   "execution_count": 31,
   "metadata": {},
   "outputs": [
    {
     "name": "stdout",
     "output_type": "stream",
     "text": [
      "learning_rate: 0.001, accuracy: 0.8491874474642757, precision: 0.8491874474642757, recall: 1.0\n",
      "learning_rate: 0.01, accuracy: 0.97219108994116, precision: 0.9682907348242812, recall: 1.0\n",
      "learning_rate: 0.05, accuracy: 0.9899831885682264, precision: 0.9883417577042231, recall: 1.0\n",
      "learning_rate: 0.1, accuracy: 0.9946763799383581, precision: 0.9938509469541691, recall: 0.9999175121669553\n",
      "learning_rate: 0.15, accuracy: 0.9954469038946484, precision: 0.9949105237235265, recall: 0.9997525365008662\n",
      "learning_rate: 0.2, accuracy: 0.9962174278509386, precision: 0.9957282510474, recall: 0.9998350243339107\n",
      "best learning_rate: 0.2\n",
      "best accuracy: 0.9962174278509386\n"
     ]
    }
   ],
   "source": [
    "# hyperparameter tuning -> learning_rate, n_estimators, max_depth\n",
    "learning_rates = [0.001, 0.01, 0.05, 0.1, 0.15, 0.2]\n",
    "\n",
    "accuracies = []\n",
    "for learning_rate in learning_rates:\n",
    "    accuracy, precision, recall = get_metrics(learning_rate=learning_rate)\n",
    "    accuracies.append(accuracy)\n",
    "    print(f'learning_rate: {learning_rate}, accuracy: {accuracy}, precision: {precision}, recall: {recall}')\n",
    "\n",
    "lr = learning_rates[np.argmax(accuracies)]\n",
    "\n",
    "print(f'best learning_rate: {lr}')\n",
    "print(f'best accuracy: {np.max(accuracies)}')"
   ]
  },
  {
   "cell_type": "code",
   "execution_count": 32,
   "metadata": {},
   "outputs": [
    {
     "name": "stdout",
     "output_type": "stream",
     "text": [
      "n_estimator: 50, accuracy: 0.9950966657326983, precision: 0.9943400869493889, recall: 0.9999175121669553\n",
      "n_estimator: 100, accuracy: 0.9962174278509386, precision: 0.9957282510474, recall: 0.9998350243339107\n",
      "n_estimator: 200, accuracy: 0.9972681423367891, precision: 0.996875, recall: 0.9999175121669553\n",
      "n_estimator: 300, accuracy: 0.9974782852339591, precision: 0.9971210002467714, recall: 0.9999175121669553\n",
      "n_estimator: 500, accuracy: 0.9976884281311291, precision: 0.9973671219351654, recall: 0.9999175121669553\n",
      "n_estimator: 700, accuracy: 0.9977584757635192, precision: 0.9974491895005348, recall: 0.9999175121669553\n",
      "n_estimator: 1000, accuracy: 0.9979686186606893, precision: 0.9976954732510288, recall: 0.9999175121669553\n",
      "n_estimator: 1250, accuracy: 0.9981087139254693, precision: 0.9978597299967072, recall: 0.9999175121669553\n",
      "n_estimator: 1500, accuracy: 0.9981087139254693, precision: 0.9978597299967072, recall: 0.9999175121669553\n",
      "n_estimator: 1700, accuracy: 0.9981087139254693, precision: 0.9978597299967072, recall: 0.9999175121669553\n",
      "best n_estimator: 1250\n",
      "best accuracy: 0.9981087139254693\n"
     ]
    }
   ],
   "source": [
    "# hyperparameter tuning -> n_estimators\n",
    "n_estimators = [50, 100, 200, 300, 500, 700, 1000, 1250, 1500, 1700]\n",
    "\n",
    "accuracies = []\n",
    "for n_estimator in n_estimators:\n",
    "    accuracy, precision, recall = get_metrics(learning_rate=lr, n_estimators=n_estimator)\n",
    "    accuracies.append(accuracy)\n",
    "    print(f'n_estimator: {n_estimator}, accuracy: {accuracy}, precision: {precision}, recall: {recall}')\n",
    "\n",
    "ne = n_estimators[np.argmax(accuracies)]\n",
    "\n",
    "print(f'best n_estimator: {ne}')\n",
    "print(f'best accuracy: {np.max(accuracies)}')\n"
   ]
  },
  {
   "cell_type": "code",
   "execution_count": 33,
   "metadata": {},
   "outputs": [
    {
     "name": "stdout",
     "output_type": "stream",
     "text": [
      "max_depth: 3, accuracy: 0.9981087139254693, precision: 0.9978597299967072, recall: 0.9999175121669553\n",
      "max_depth: 5, accuracy: 0.9982488091902494, precision: 0.997942048073757, recall: 1.0\n",
      "max_depth: 7, accuracy: 0.9982488091902494, precision: 0.997942048073757, recall: 1.0\n",
      "max_depth: 9, accuracy: 0.9981087139254693, precision: 0.9977777777777778, recall: 1.0\n",
      "best max_depth: 5\n",
      "best accuracy: 0.9982488091902494\n"
     ]
    }
   ],
   "source": [
    "max_depths = [3, 5, 7, 9]\n",
    "\n",
    "accuracies = []\n",
    "for max_depth in max_depths:\n",
    "    accuracy, precision, recall = get_metrics(learning_rate=lr, n_estimators=ne, max_depth=max_depth)\n",
    "    accuracies.append(accuracy)\n",
    "    print(f'max_depth: {max_depth}, accuracy: {accuracy}, precision: {precision}, recall: {recall}')\n",
    "\n",
    "md = max_depths[np.argmax(accuracies)]\n",
    "\n",
    "print(f'best max_depth: {md}')\n",
    "print(f'best accuracy: {np.max(accuracies)}')\n"
   ]
  },
  {
   "cell_type": "code",
   "execution_count": 34,
   "metadata": {},
   "outputs": [
    {
     "name": "stdout",
     "output_type": "stream",
     "text": [
      "accuracy: 0.9969179041748389\n",
      "precision: 0.9979388243053838\n",
      "recall: 0.9984327311721521\n"
     ]
    }
   ],
   "source": [
    "# decision tree\n",
    "dt = DecisionTreeClassifier(random_state=seed, criterion='entropy')\n",
    "dt.fit(X, y)\n",
    "\n",
    "y_pred = dt.predict(X_test)\n",
    "\n",
    "accuracy = accuracy_score(y_test, y_pred)\n",
    "print(f'accuracy: {accuracy}')\n",
    "\n",
    "precision = np.sum((y_test == 1) & (y_pred == 1)) / np.sum(y_pred == 1)\n",
    "print(f'precision: {precision}')\n",
    "\n",
    "recall = np.sum((y_test == 1) & (y_pred == 1)) / np.sum(y_test == 1)\n",
    "print(f'recall: {recall}')"
   ]
  },
  {
   "cell_type": "code",
   "execution_count": null,
   "metadata": {},
   "outputs": [],
   "source": []
  }
 ],
 "metadata": {
  "kernelspec": {
   "display_name": "test",
   "language": "python",
   "name": "python3"
  },
  "language_info": {
   "codemirror_mode": {
    "name": "ipython",
    "version": 3
   },
   "file_extension": ".py",
   "mimetype": "text/x-python",
   "name": "python",
   "nbconvert_exporter": "python",
   "pygments_lexer": "ipython3",
   "version": "3.11.4"
  }
 },
 "nbformat": 4,
 "nbformat_minor": 2
}
