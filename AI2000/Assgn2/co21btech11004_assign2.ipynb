{
 "cells": [
  {
   "cell_type": "code",
   "execution_count": 1,
   "metadata": {},
   "outputs": [],
   "source": [
    "# import libraies\n",
    "import numpy as np\n",
    "import matplotlib.pyplot as plt\n",
    "import pandas as pd\n",
    "\n",
    "from sklearn import svm"
   ]
  },
  {
   "cell_type": "markdown",
   "metadata": {},
   "source": [
    "## Que 4"
   ]
  },
  {
   "cell_type": "code",
   "execution_count": 2,
   "metadata": {},
   "outputs": [
    {
     "name": "stdout",
     "output_type": "stream",
     "text": [
      "train shape: (1561, 3)\n",
      "test shape: (424, 3)\n"
     ]
    }
   ],
   "source": [
    "# load data: features.train and features.test, almbook\n",
    "train = pd.read_csv('features.train', sep='\\s+', header=None, names=['digitLabel', 'f1', 'f2'])\n",
    "test = pd.read_csv('features.test', sep='\\s+', header=None, names=['digitLabel', 'f1', 'f2'])\n",
    "\n",
    "# get only 1 and 5\n",
    "train = train[(train['digitLabel'] == 1) | (train['digitLabel'] == 5)]\n",
    "test = test[(test['digitLabel'] == 1) | (test['digitLabel'] == 5)]\n",
    "\n",
    "# print shape\n",
    "print(f\"train shape: {train.shape}\")\n",
    "print(f\"test shape: {test.shape}\")\n",
    "\n",
    "def get_X_y_train_test(train, test):\n",
    "    # get X and y\n",
    "    X_train = train[['f1', 'f2']].values\n",
    "    y_train = train['digitLabel'].values\n",
    "    X_test = test[['f1', 'f2']].values\n",
    "    y_test = test['digitLabel'].values\n",
    "    return X_train, y_train, X_test, y_test"
   ]
  },
  {
   "cell_type": "code",
   "execution_count": 3,
   "metadata": {},
   "outputs": [
    {
     "name": "stdout",
     "output_type": "stream",
     "text": [
      "Accuracy: 0.9787735849056604\n",
      "Number of support vectors: 28\n"
     ]
    }
   ],
   "source": [
    "# part (a)\n",
    "\n",
    "# get X and y\n",
    "X_train, y_train, X_test, y_test = get_X_y_train_test(train, test)\n",
    "\n",
    "# create linear kernel svm\n",
    "linear_kernel_svm = svm.SVC(kernel='linear')\n",
    "\n",
    "# fit the model\n",
    "linear_kernel_svm.fit(X_train, y_train)\n",
    "\n",
    "# get accuracy and support vectors\n",
    "accuracy = linear_kernel_svm.score(X_test, y_test)\n",
    "support_vectors = linear_kernel_svm.support_vectors_\n",
    "\n",
    "print(f\"Accuracy: {accuracy}\")\n",
    "print(f\"Number of support vectors: {len(support_vectors)}\")"
   ]
  },
  {
   "cell_type": "code",
   "execution_count": 4,
   "metadata": {},
   "outputs": [
    {
     "name": "stdout",
     "output_type": "stream",
     "text": [
      "n: 50\n",
      "Accuracy: 0.9811320754716981\n",
      "Number of support vectors: 2\n",
      "n: 100\n",
      "Accuracy: 0.9811320754716981\n",
      "Number of support vectors: 4\n",
      "n: 200\n",
      "Accuracy: 0.9811320754716981\n",
      "Number of support vectors: 8\n",
      "n: 800\n",
      "Accuracy: 0.9811320754716981\n",
      "Number of support vectors: 14\n"
     ]
    }
   ],
   "source": [
    "# part (b)\n",
    "n_points = [50, 100, 200, 800]\n",
    "for n in n_points:\n",
    "    # get X and y\n",
    "    X_train, y_train, X_test, y_test = get_X_y_train_test(train, test)\n",
    "    X_train = X_train[:n]\n",
    "    y_train = y_train[:n]\n",
    "\n",
    "    # create linear kernel svm\n",
    "    linear_kernel_svm = svm.SVC(kernel='linear')\n",
    "\n",
    "    # fit the model\n",
    "    linear_kernel_svm.fit(X_train, y_train)\n",
    "\n",
    "    # get accuracy and support vectors\n",
    "    accuracy = linear_kernel_svm.score(X_test, y_test)\n",
    "    support_vectors = linear_kernel_svm.support_vectors_\n",
    "\n",
    "    print(f\"n: {n}\")\n",
    "    print(f\"Accuracy: {accuracy}\")\n",
    "    print(f\"Number of support vectors: {len(support_vectors)}\")"
   ]
  },
  {
   "cell_type": "code",
   "execution_count": 5,
   "metadata": {},
   "outputs": [
    {
     "name": "stdout",
     "output_type": "stream",
     "text": [
      "Train Error\n"
     ]
    },
    {
     "data": {
      "text/html": [
       "<div>\n",
       "<style scoped>\n",
       "    .dataframe tbody tr th:only-of-type {\n",
       "        vertical-align: middle;\n",
       "    }\n",
       "\n",
       "    .dataframe tbody tr th {\n",
       "        vertical-align: top;\n",
       "    }\n",
       "\n",
       "    .dataframe thead th {\n",
       "        text-align: right;\n",
       "    }\n",
       "</style>\n",
       "<table border=\"1\" class=\"dataframe\">\n",
       "  <thead>\n",
       "    <tr style=\"text-align: right;\">\n",
       "      <th></th>\n",
       "      <th>2</th>\n",
       "      <th>5</th>\n",
       "    </tr>\n",
       "  </thead>\n",
       "  <tbody>\n",
       "    <tr>\n",
       "      <th>0.0001</th>\n",
       "      <td>0.008969</td>\n",
       "      <td>0.004484</td>\n",
       "    </tr>\n",
       "    <tr>\n",
       "      <th>0.0010</th>\n",
       "      <td>0.004484</td>\n",
       "      <td>0.004484</td>\n",
       "    </tr>\n",
       "    <tr>\n",
       "      <th>0.0100</th>\n",
       "      <td>0.004484</td>\n",
       "      <td>0.003844</td>\n",
       "    </tr>\n",
       "    <tr>\n",
       "      <th>1.0000</th>\n",
       "      <td>0.003203</td>\n",
       "      <td>0.003203</td>\n",
       "    </tr>\n",
       "  </tbody>\n",
       "</table>\n",
       "</div>"
      ],
      "text/plain": [
       "               2         5\n",
       "0.0001  0.008969  0.004484\n",
       "0.0010  0.004484  0.004484\n",
       "0.0100  0.004484  0.003844\n",
       "1.0000  0.003203  0.003203"
      ]
     },
     "metadata": {},
     "output_type": "display_data"
    },
    {
     "name": "stdout",
     "output_type": "stream",
     "text": [
      "Test Error\n"
     ]
    },
    {
     "data": {
      "text/html": [
       "<div>\n",
       "<style scoped>\n",
       "    .dataframe tbody tr th:only-of-type {\n",
       "        vertical-align: middle;\n",
       "    }\n",
       "\n",
       "    .dataframe tbody tr th {\n",
       "        vertical-align: top;\n",
       "    }\n",
       "\n",
       "    .dataframe thead th {\n",
       "        text-align: right;\n",
       "    }\n",
       "</style>\n",
       "<table border=\"1\" class=\"dataframe\">\n",
       "  <thead>\n",
       "    <tr style=\"text-align: right;\">\n",
       "      <th></th>\n",
       "      <th>2</th>\n",
       "      <th>5</th>\n",
       "    </tr>\n",
       "  </thead>\n",
       "  <tbody>\n",
       "    <tr>\n",
       "      <th>0.0001</th>\n",
       "      <td>0.016509</td>\n",
       "      <td>0.018868</td>\n",
       "    </tr>\n",
       "    <tr>\n",
       "      <th>0.0010</th>\n",
       "      <td>0.016509</td>\n",
       "      <td>0.021226</td>\n",
       "    </tr>\n",
       "    <tr>\n",
       "      <th>0.0100</th>\n",
       "      <td>0.018868</td>\n",
       "      <td>0.021226</td>\n",
       "    </tr>\n",
       "    <tr>\n",
       "      <th>1.0000</th>\n",
       "      <td>0.018868</td>\n",
       "      <td>0.021226</td>\n",
       "    </tr>\n",
       "  </tbody>\n",
       "</table>\n",
       "</div>"
      ],
      "text/plain": [
       "               2         5\n",
       "0.0001  0.016509  0.018868\n",
       "0.0010  0.016509  0.021226\n",
       "0.0100  0.018868  0.021226\n",
       "1.0000  0.018868  0.021226"
      ]
     },
     "metadata": {},
     "output_type": "display_data"
    },
    {
     "name": "stdout",
     "output_type": "stream",
     "text": [
      "Number of Support Vectors\n"
     ]
    },
    {
     "data": {
      "text/html": [
       "<div>\n",
       "<style scoped>\n",
       "    .dataframe tbody tr th:only-of-type {\n",
       "        vertical-align: middle;\n",
       "    }\n",
       "\n",
       "    .dataframe tbody tr th {\n",
       "        vertical-align: top;\n",
       "    }\n",
       "\n",
       "    .dataframe thead th {\n",
       "        text-align: right;\n",
       "    }\n",
       "</style>\n",
       "<table border=\"1\" class=\"dataframe\">\n",
       "  <thead>\n",
       "    <tr style=\"text-align: right;\">\n",
       "      <th></th>\n",
       "      <th>2</th>\n",
       "      <th>5</th>\n",
       "    </tr>\n",
       "  </thead>\n",
       "  <tbody>\n",
       "    <tr>\n",
       "      <th>0.0001</th>\n",
       "      <td>236.0</td>\n",
       "      <td>26.0</td>\n",
       "    </tr>\n",
       "    <tr>\n",
       "      <th>0.0010</th>\n",
       "      <td>76.0</td>\n",
       "      <td>25.0</td>\n",
       "    </tr>\n",
       "    <tr>\n",
       "      <th>0.0100</th>\n",
       "      <td>34.0</td>\n",
       "      <td>23.0</td>\n",
       "    </tr>\n",
       "    <tr>\n",
       "      <th>1.0000</th>\n",
       "      <td>24.0</td>\n",
       "      <td>21.0</td>\n",
       "    </tr>\n",
       "  </tbody>\n",
       "</table>\n",
       "</div>"
      ],
      "text/plain": [
       "            2     5\n",
       "0.0001  236.0  26.0\n",
       "0.0010   76.0  25.0\n",
       "0.0100   34.0  23.0\n",
       "1.0000   24.0  21.0"
      ]
     },
     "metadata": {},
     "output_type": "display_data"
    }
   ],
   "source": [
    "# part (c)\n",
    "\n",
    "# get X and y\n",
    "X_train, y_train, X_test, y_test = get_X_y_train_test(train, test)\n",
    "\n",
    "# create polynomial kernel svm\n",
    "reg_param = [0.0001, 0.001, 0.01, 1]\n",
    "degree = [2, 5]\n",
    "\n",
    "# table to store results\n",
    "results = np.zeros((len(reg_param), len(degree), 3))\n",
    "\n",
    "for i, C in enumerate(reg_param):\n",
    "    for j, d in enumerate(degree):\n",
    "        polynomial_kernel_svm = svm.SVC(kernel='poly', C=C, degree=d, gamma=1, coef0=1)\n",
    "\n",
    "        # fit the model\n",
    "        polynomial_kernel_svm.fit(X_train, y_train)\n",
    "\n",
    "        # train accuracy\n",
    "        train_accuracy = polynomial_kernel_svm.score(X_train, y_train)\n",
    "        train_error = 1 - train_accuracy\n",
    "        \n",
    "        # get accuracy and support vectors\n",
    "        test_accuracy = polynomial_kernel_svm.score(X_test, y_test)\n",
    "        test_error = 1 - test_accuracy\n",
    "        support_vectors = polynomial_kernel_svm.support_vectors_\n",
    "\n",
    "        results[i, j] = [train_error, test_error, len(support_vectors)]\n",
    "\n",
    "# print 3 tables, #1: train error, #2: test error, #3: number of support vectors\n",
    "table1 = pd.DataFrame(results[:, :, 0], index=reg_param, columns=degree)\n",
    "table2 = pd.DataFrame(results[:, :, 1], index=reg_param, columns=degree)\n",
    "table3 = pd.DataFrame(results[:, :, 2], index=reg_param, columns=degree)\n",
    "\n",
    "print(\"Train Error\")\n",
    "display(table1)\n",
    "\n",
    "print(\"Test Error\")\n",
    "display(table2)\n",
    "\n",
    "print(\"Number of Support Vectors\")\n",
    "display(table3)\n"
   ]
  },
  {
   "cell_type": "code",
   "execution_count": 6,
   "metadata": {},
   "outputs": [
    {
     "data": {
      "text/html": [
       "<div>\n",
       "<style scoped>\n",
       "    .dataframe tbody tr th:only-of-type {\n",
       "        vertical-align: middle;\n",
       "    }\n",
       "\n",
       "    .dataframe tbody tr th {\n",
       "        vertical-align: top;\n",
       "    }\n",
       "\n",
       "    .dataframe thead th {\n",
       "        text-align: right;\n",
       "    }\n",
       "</style>\n",
       "<table border=\"1\" class=\"dataframe\">\n",
       "  <thead>\n",
       "    <tr style=\"text-align: right;\">\n",
       "      <th></th>\n",
       "      <th>train error</th>\n",
       "      <th>test error</th>\n",
       "      <th>number of support vectors</th>\n",
       "    </tr>\n",
       "  </thead>\n",
       "  <tbody>\n",
       "    <tr>\n",
       "      <th>0.01</th>\n",
       "      <td>0.003844</td>\n",
       "      <td>0.023585</td>\n",
       "      <td>403.0</td>\n",
       "    </tr>\n",
       "    <tr>\n",
       "      <th>1.00</th>\n",
       "      <td>0.004484</td>\n",
       "      <td>0.021226</td>\n",
       "      <td>31.0</td>\n",
       "    </tr>\n",
       "    <tr>\n",
       "      <th>100.00</th>\n",
       "      <td>0.003203</td>\n",
       "      <td>0.018868</td>\n",
       "      <td>22.0</td>\n",
       "    </tr>\n",
       "    <tr>\n",
       "      <th>10000.00</th>\n",
       "      <td>0.002562</td>\n",
       "      <td>0.023585</td>\n",
       "      <td>20.0</td>\n",
       "    </tr>\n",
       "    <tr>\n",
       "      <th>1000000.00</th>\n",
       "      <td>0.000641</td>\n",
       "      <td>0.023585</td>\n",
       "      <td>17.0</td>\n",
       "    </tr>\n",
       "  </tbody>\n",
       "</table>\n",
       "</div>"
      ],
      "text/plain": [
       "            train error  test error  number of support vectors\n",
       "0.01           0.003844    0.023585                      403.0\n",
       "1.00           0.004484    0.021226                       31.0\n",
       "100.00         0.003203    0.018868                       22.0\n",
       "10000.00       0.002562    0.023585                       20.0\n",
       "1000000.00     0.000641    0.023585                       17.0"
      ]
     },
     "metadata": {},
     "output_type": "display_data"
    }
   ],
   "source": [
    "# part (d)\n",
    "\n",
    "# get X and y\n",
    "X_train, y_train, X_test, y_test = get_X_y_train_test(train, test)\n",
    "\n",
    "# create rbf kernel svm\n",
    "reg_param = [0.01, 1, 100, 10**4, 10**6]\n",
    "\n",
    "# table to store results\n",
    "results = np.zeros((len(reg_param), 3))\n",
    "\n",
    "for i, C in enumerate(reg_param):\n",
    "    rbf_kernel_svm = svm.SVC(kernel='rbf', C=C, gamma=1)\n",
    "\n",
    "    # fit the model\n",
    "    rbf_kernel_svm.fit(X_train, y_train)\n",
    "\n",
    "    # train accuracy\n",
    "    train_accuracy = rbf_kernel_svm.score(X_train, y_train)\n",
    "    train_error = 1 - train_accuracy\n",
    "\n",
    "    # get accuracy and support vectors\n",
    "    test_accuracy = rbf_kernel_svm.score(X_test, y_test)\n",
    "    test_error = 1 - test_accuracy\n",
    "    support_vectors = rbf_kernel_svm.support_vectors_\n",
    "\n",
    "    results[i] = [train_error, test_error, len(support_vectors)]\n",
    "\n",
    "# display results\n",
    "table = pd.DataFrame(results, index=reg_param, columns=['train error', 'test error', 'number of support vectors'])\n",
    "display(table)"
   ]
  },
  {
   "cell_type": "markdown",
   "metadata": {},
   "source": [
    "## Que 5"
   ]
  },
  {
   "cell_type": "code",
   "execution_count": 7,
   "metadata": {},
   "outputs": [],
   "source": [
    "# load data\n",
    "train_X = pd.read_csv('./gisette/GISETTE/gisette_train.data', sep='\\s+', header=None)\n",
    "train_y = pd.read_csv('./gisette/GISETTE/gisette_train.labels', header=None)\n",
    "test_X = pd.read_csv('./gisette/GISETTE/gisette_valid.data', sep='\\s+', header=None)\n",
    "test_y = pd.read_csv('./gisette/gisette_valid.labels', header=None)"
   ]
  },
  {
   "cell_type": "code",
   "execution_count": 8,
   "metadata": {},
   "outputs": [
    {
     "name": "stderr",
     "output_type": "stream",
     "text": [
      "/home/darpan/Documents/.venv/test/lib/python3.11/site-packages/sklearn/utils/validation.py:1300: DataConversionWarning: A column-vector y was passed when a 1d array was expected. Please change the shape of y to (n_samples, ), for example using ravel().\n",
      "  y = column_or_1d(y, warn=True)\n"
     ]
    },
    {
     "name": "stdout",
     "output_type": "stream",
     "text": [
      "Linear Kernel\n",
      "Train accuracy: 1.0\n",
      "Test accuracy: 0.976\n",
      "Train error: 0.0\n",
      "Test error: 0.02400000000000002\n",
      "Number of support vectors: 1084\n"
     ]
    }
   ],
   "source": [
    "# part (a) linear kernel\n",
    "linear_kernel_svm = svm.SVC(kernel='linear')\n",
    "linear_kernel_svm.fit(train_X, train_y)\n",
    "\n",
    "accuracy_train = linear_kernel_svm.score(train_X, train_y)\n",
    "accuracy_test = linear_kernel_svm.score(test_X, test_y)\n",
    "support_vectors = linear_kernel_svm.support_vectors_\n",
    "\n",
    "print(f\"Linear Kernel\")\n",
    "print(f\"Train accuracy: {accuracy_train}\")\n",
    "print(f\"Test accuracy: {accuracy_test}\")\n",
    "print(f\"Train error: {1 - accuracy_train}\")\n",
    "print(f\"Test error: {1 - accuracy_test}\")\n",
    "print(f\"Number of support vectors: {len(support_vectors)}\")"
   ]
  },
  {
   "cell_type": "code",
   "execution_count": 9,
   "metadata": {},
   "outputs": [
    {
     "name": "stderr",
     "output_type": "stream",
     "text": [
      "/home/darpan/Documents/.venv/test/lib/python3.11/site-packages/sklearn/utils/validation.py:1300: DataConversionWarning: A column-vector y was passed when a 1d array was expected. Please change the shape of y to (n_samples, ), for example using ravel().\n",
      "  y = column_or_1d(y, warn=True)\n"
     ]
    },
    {
     "name": "stdout",
     "output_type": "stream",
     "text": [
      "RBF Kernel\n",
      "Train accuracy: 1.0\n",
      "Test accuracy: 0.5\n",
      "Train error: 0.0\n",
      "Test error: 0.5\n",
      "Number of support vectors: 6000\n"
     ]
    }
   ],
   "source": [
    "# part (b) rbf kernel\n",
    "rbf_kernel_svm = svm.SVC(kernel='rbf', gamma=0.001)\n",
    "rbf_kernel_svm.fit(train_X, train_y)\n",
    "\n",
    "accuracy_train = rbf_kernel_svm.score(train_X, train_y)\n",
    "accuracy_test = rbf_kernel_svm.score(test_X, test_y)\n",
    "support_vectors = rbf_kernel_svm.support_vectors_\n",
    "\n",
    "print(f\"RBF Kernel\")\n",
    "print(f\"Train accuracy: {accuracy_train}\")\n",
    "print(f\"Test accuracy: {accuracy_test}\")\n",
    "print(f\"Train error: {1 - accuracy_train}\")\n",
    "print(f\"Test error: {1 - accuracy_test}\")\n",
    "print(f\"Number of support vectors: {len(support_vectors)}\")"
   ]
  },
  {
   "cell_type": "code",
   "execution_count": 10,
   "metadata": {},
   "outputs": [
    {
     "name": "stderr",
     "output_type": "stream",
     "text": [
      "/home/darpan/Documents/.venv/test/lib/python3.11/site-packages/sklearn/utils/validation.py:1300: DataConversionWarning: A column-vector y was passed when a 1d array was expected. Please change the shape of y to (n_samples, ), for example using ravel().\n",
      "  y = column_or_1d(y, warn=True)\n"
     ]
    },
    {
     "name": "stdout",
     "output_type": "stream",
     "text": [
      "Polynomial Kernel\n",
      "Train accuracy: 1.0\n",
      "Test accuracy: 0.979\n",
      "Train error: 0.0\n",
      "Test error: 0.02100000000000002\n",
      "Number of support vectors: 1755\n"
     ]
    }
   ],
   "source": [
    "# part (b) polynomial kernel\n",
    "polynomial_kernel_svm = svm.SVC(kernel='poly', degree=2, gamma=1, coef0=1)\n",
    "polynomial_kernel_svm.fit(train_X, train_y)\n",
    "\n",
    "accuracy_train = polynomial_kernel_svm.score(train_X, train_y)\n",
    "accuracy_test = polynomial_kernel_svm.score(test_X, test_y)\n",
    "support_vectors = polynomial_kernel_svm.support_vectors_\n",
    "\n",
    "print(f\"Polynomial Kernel\")\n",
    "print(f\"Train accuracy: {accuracy_train}\")\n",
    "print(f\"Test accuracy: {accuracy_test}\")\n",
    "print(f\"Train error: {1 - accuracy_train}\")\n",
    "print(f\"Test error: {1 - accuracy_test}\")\n",
    "print(f\"Number of support vectors: {len(support_vectors)}\")"
   ]
  },
  {
   "cell_type": "code",
   "execution_count": null,
   "metadata": {},
   "outputs": [],
   "source": []
  }
 ],
 "metadata": {
  "kernelspec": {
   "display_name": "test",
   "language": "python",
   "name": "python3"
  },
  "language_info": {
   "codemirror_mode": {
    "name": "ipython",
    "version": 3
   },
   "file_extension": ".py",
   "mimetype": "text/x-python",
   "name": "python",
   "nbconvert_exporter": "python",
   "pygments_lexer": "ipython3",
   "version": "3.11.4"
  }
 },
 "nbformat": 4,
 "nbformat_minor": 2
}
