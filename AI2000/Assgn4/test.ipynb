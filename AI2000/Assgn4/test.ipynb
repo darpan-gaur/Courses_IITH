{
 "cells": [
  {
   "cell_type": "code",
   "execution_count": null,
   "metadata": {},
   "outputs": [],
   "source": [
    "import numpy as np\n",
    "from numpy.random import rand\n",
    "from sklearn.metrics import accuracy_score, precision_score, recall_score\n",
    "\n",
    "\n",
    "class LogisticRegressionClassifier:\n",
    "    def __init__(self, learning_rate=0.01, epochs=1):\n",
    "        self.learning_rate = learning_rate\n",
    "        self.epochs = epochs\n",
    "        self.weights = []\n",
    "        self.loss = []\n",
    "\n",
    "    def sigmoid(self, z):\n",
    "        return 1 / (1 + np.exp(-z))\n",
    "\n",
    "    def cross_entropy(self, y_pred, y):\n",
    "        return -np.mean(y * (np.log(y_pred)) - (1 - y) * np.log(1 - y_pred))\n",
    "\n",
    "    def gradient_descent(self, x, y, y_pred):\n",
    "        m = x.shape[0]\n",
    "        dw = (1 / m) * np.dot(x.T, (y_pred - y))\n",
    "        db = (1 / m) * np.sum(y_pred - y)\n",
    "        return dw, db\n",
    "\n",
    "    def fit(self, x, y):\n",
    "        m, n = x.shape\n",
    "        self.weights = np.zeros((n, 1))\n",
    "        b = 0\n",
    "        y = y.reshape(m, 1)\n",
    "        for epoch in range(self.epochs):\n",
    "            y_hat = self.sigmoid(np.dot(x, self.weights) + b)\n",
    "            dw, db = self.gradient_descent(x, y, y_hat)\n",
    "            self.weights -= self.learning_rate * dw\n",
    "            b -= self.learning_rate * db\n",
    "            l = self.cross_entropy(y, self.sigmoid(np.dot(x, self.weights) + b))\n",
    "            self.loss.append(l)\n",
    "            print(f\"Epoch: {epoch}, Loss: {l}\")\n",
    "\n",
    "    def predict(self, x, b=0):\n",
    "        preds = self.sigmoid(np.dot(x, self.weights) + b)\n",
    "        pred_classification = [1 if i > 0.5 else 0 for i in preds]\n",
    "        return np.array(pred_classification)"
   ]
  },
  {
   "cell_type": "code",
   "execution_count": 3,
   "metadata": {},
   "outputs": [
    {
     "name": "stdout",
     "output_type": "stream",
     "text": [
      "0.5\n",
      "0.5\n",
      "1.0\n"
     ]
    },
    {
     "name": "stderr",
     "output_type": "stream",
     "text": [
      "/tmp/ipykernel_20618/4159234233.py:17: RuntimeWarning: divide by zero encountered in log\n",
      "  return -np.mean(y * (np.log(y_pred)) - (1 - y) * np.log(1 - y_pred))\n",
      "/home/darpan/Documents/.venv/test/lib/python3.11/site-packages/numpy/core/_methods.py:118: RuntimeWarning: invalid value encountered in reduce\n",
      "  ret = umr_sum(arr, axis, dtype, out, keepdims, where=where)\n"
     ]
    }
   ],
   "source": [
    "train_data = [\n",
    "    [0.346, 0.780, 0],\n",
    "    [0.303, 0.439, 0],\n",
    "    [0.358, 0.729, 0],\n",
    "    [0.602, 0.863, 1],\n",
    "    [0.790, 0.753, 1],\n",
    "    [0.611, 0.965, 1],\n",
    "]\n",
    "test_data = [\n",
    "    [0.959, 0.382, 0],\n",
    "    [0.750, 0.306, 0],\n",
    "    [0.395, 0.760, 0],\n",
    "    [0.823, 0.764, 1],\n",
    "    [0.761, 0.874, 1],\n",
    "    [0.844, 0.435, 1],\n",
    "]\n",
    "\n",
    "train_data = np.array(train_data)\n",
    "test_data = np.array(test_data)\n",
    "\n",
    "x_train = train_data[:, :-1]\n",
    "y_train = train_data[:, -1]\n",
    "\n",
    "x_test = test_data[:, :-1]\n",
    "y_test = test_data[:, -1]\n",
    "\n",
    "model = LogisticRegressionClassifier(0.01, 5)\n",
    "model.fit(x_train, y_train)\n",
    "preds = model.predict(x_test)\n",
    "\n",
    "print(accuracy_score(y_test, preds))\n",
    "print(precision_score(y_test, preds))\n",
    "print(recall_score(y_test, preds))"
   ]
  },
  {
   "cell_type": "code",
   "execution_count": null,
   "metadata": {},
   "outputs": [],
   "source": []
  }
 ],
 "metadata": {
  "kernelspec": {
   "display_name": "test",
   "language": "python",
   "name": "python3"
  },
  "language_info": {
   "codemirror_mode": {
    "name": "ipython",
    "version": 3
   },
   "file_extension": ".py",
   "mimetype": "text/x-python",
   "name": "python",
   "nbconvert_exporter": "python",
   "pygments_lexer": "ipython3",
   "version": "3.11.4"
  }
 },
 "nbformat": 4,
 "nbformat_minor": 2
}
