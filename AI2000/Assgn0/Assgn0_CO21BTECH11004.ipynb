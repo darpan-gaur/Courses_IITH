{
 "cells": [
  {
   "cell_type": "markdown",
   "metadata": {},
   "source": [
    "# Assignment 0\n",
    "# 1 Numpy\n",
    "## Name : Darpan Gaur\n",
    "## Roll No : CO21BTECH11004"
   ]
  },
  {
   "cell_type": "code",
   "execution_count": 7,
   "metadata": {},
   "outputs": [],
   "source": [
    "# (a)\n",
    "import numpy as np"
   ]
  },
  {
   "cell_type": "code",
   "execution_count": 2,
   "metadata": {},
   "outputs": [
    {
     "name": "stdout",
     "output_type": "stream",
     "text": [
      "[0. 0. 0. 0. 0. 0. 0. 0. 0. 0.]\n"
     ]
    }
   ],
   "source": [
    "# (b) Create a null vector of size 10, and output the vector to the terminal.\n",
    "null_vector = np.zeros(10)\n",
    "print(null_vector)"
   ]
  },
  {
   "cell_type": "code",
   "execution_count": 3,
   "metadata": {},
   "outputs": [
    {
     "name": "stdout",
     "output_type": "stream",
     "text": [
      "[0. 0. 0. 0. 1. 0. 0. 0. 0. 0.]\n"
     ]
    }
   ],
   "source": [
    "# (c) Create a null vector of size 10 but the fifth value which is 1.\n",
    "null_vector = np.zeros(10)\n",
    "null_vector[4] = 1\n",
    "print(null_vector)"
   ]
  },
  {
   "cell_type": "code",
   "execution_count": 4,
   "metadata": {},
   "outputs": [
    {
     "name": "stdout",
     "output_type": "stream",
     "text": [
      "Original vector: [0 1 2 3 4 5 6 7 8 9]\n",
      "Reversed vector: [9 8 7 6 5 4 3 2 1 0]\n"
     ]
    }
   ],
   "source": [
    "# (d) Reverse a vector (first element becomes last).\n",
    "vector = np.arange(10)\n",
    "print(f\"Original vector: {vector}\")\n",
    "reversed_vector = vector[::-1]\n",
    "print(f\"Reversed vector: {reversed_vector}\")"
   ]
  },
  {
   "cell_type": "code",
   "execution_count": 5,
   "metadata": {},
   "outputs": [
    {
     "name": "stdout",
     "output_type": "stream",
     "text": [
      "[[0. 1. 0. 1. 0. 1. 0. 1.]\n",
      " [1. 0. 1. 0. 1. 0. 1. 0.]\n",
      " [0. 1. 0. 1. 0. 1. 0. 1.]\n",
      " [1. 0. 1. 0. 1. 0. 1. 0.]\n",
      " [0. 1. 0. 1. 0. 1. 0. 1.]\n",
      " [1. 0. 1. 0. 1. 0. 1. 0.]\n",
      " [0. 1. 0. 1. 0. 1. 0. 1.]\n",
      " [1. 0. 1. 0. 1. 0. 1. 0.]]\n"
     ]
    }
   ],
   "source": [
    "# (e) Create an n × n array with checkerboard pattern of zeros and ones.\n",
    "n = 8\n",
    "checkerboard = np.zeros((n, n))\n",
    "checkerboard[1::2, ::2] = 1\n",
    "checkerboard[::2, 1::2] = 1\n",
    "print(checkerboard)"
   ]
  },
  {
   "cell_type": "code",
   "execution_count": 7,
   "metadata": {},
   "outputs": [
    {
     "name": "stdout",
     "output_type": "stream",
     "text": [
      "Original array:\n",
      "[[ 6  4  5 21 18]\n",
      " [ 3  8 12  7  0]\n",
      " [12 14  0  0 21]\n",
      " [ 7  1  8 18  8]\n",
      " [ 8  7  7 12  5]]\n",
      "Sorted array:\n",
      "[[12 14  0  0 21]\n",
      " [ 6  4  5 21 18]\n",
      " [ 8  7  7 12  5]\n",
      " [ 7  1  8 18  8]\n",
      " [ 3  8 12  7  0]]\n"
     ]
    }
   ],
   "source": [
    "# (f) Given an n × n array, sort the rows of array according to mth column of array.\n",
    "n = 5\n",
    "m = 2\n",
    "array = np.random.randint(0, 23, (n, n))\n",
    "print(f\"Original array:\\n{array}\")\n",
    "sorted_array = array[array[:, m].argsort()]\n",
    "print(f\"Sorted array:\\n{sorted_array}\")\n"
   ]
  },
  {
   "cell_type": "code",
   "execution_count": 8,
   "metadata": {},
   "outputs": [
    {
     "name": "stdout",
     "output_type": "stream",
     "text": [
      "[[0. 1. 2. 3. 4.]\n",
      " [1. 2. 3. 4. 5.]\n",
      " [2. 3. 4. 5. 6.]\n",
      " [3. 4. 5. 6. 7.]\n",
      " [4. 5. 6. 7. 8.]]\n"
     ]
    }
   ],
   "source": [
    "# (g) Create an n × n array with (i + j)th element equal to i + j.\n",
    "n = 5\n",
    "array = np.fromfunction(lambda i, j: i + j, (n, n))\n",
    "print(array)"
   ]
  },
  {
   "cell_type": "code",
   "execution_count": 12,
   "metadata": {},
   "outputs": [
    {
     "name": "stdout",
     "output_type": "stream",
     "text": [
      "x, y, z = (1, 5, 4)\n"
     ]
    }
   ],
   "source": [
    "# (h) Consider a (6, 7, 8) shape array, what is the index (x, y, z) of the 100th element (of the entire structure)?\n",
    "shape = (6, 7, 8)\n",
    "index = np.unravel_index(100, shape)\n",
    "print(f\"x, y, z = {index}\")"
   ]
  },
  {
   "cell_type": "code",
   "execution_count": 8,
   "metadata": {},
   "outputs": [
    {
     "name": "stdout",
     "output_type": "stream",
     "text": [
      "Matrix 1:\n",
      "[[7 1 6]\n",
      " [7 4 9]\n",
      " [0 5 3]\n",
      " [5 1 4]\n",
      " [5 5 1]]\n",
      "Matrix 2:\n",
      "[[1 6]\n",
      " [8 1]\n",
      " [4 2]]\n",
      "Product:\n",
      "[[39 55]\n",
      " [75 64]\n",
      " [52 11]\n",
      " [29 39]\n",
      " [49 37]]\n"
     ]
    }
   ],
   "source": [
    "# (i) Multiply a 5 × 3 matrix by a 3 × 2 matrix (real matrix product).\n",
    "matrix1 = np.random.randint(0, 10, (5, 3))\n",
    "matrix2 = np.random.randint(0, 10, (3, 2))\n",
    "product = np.dot(matrix1, matrix2)\n",
    "print(f\"Matrix 1:\\n{matrix1}\")\n",
    "print(f\"Matrix 2:\\n{matrix2}\")\n",
    "print(f\"Product:\\n{product}\")"
   ]
  },
  {
   "cell_type": "code",
   "execution_count": 9,
   "metadata": {},
   "outputs": [
    {
     "name": "stdout",
     "output_type": "stream",
     "text": [
      "Original vector: [91 14 28 99 30 43 33 16 57 47]\n",
      "Vector with maximum value replaced by 0: [91 14 28  0 30 43 33 16 57 47]\n"
     ]
    }
   ],
   "source": [
    "# (j) Create a random vector of size 10 and replace the maximum value by 0.\n",
    "vector = np.random.randint(0, 100, 10)\n",
    "print(f\"Original vector: {vector}\")\n",
    "max_index = np.argmax(vector)\n",
    "vector[max_index] = 0\n",
    "print(f\"Vector with maximum value replaced by 0: {vector}\")"
   ]
  },
  {
   "cell_type": "code",
   "execution_count": 10,
   "metadata": {},
   "outputs": [
    {
     "name": "stdout",
     "output_type": "stream",
     "text": [
      "Vector: [94 41 25 56 93 67  6 20 64 43]\n",
      "Scalar: 50\n",
      "Closest value to the scalar: 56\n"
     ]
    }
   ],
   "source": [
    "# (k) How to find the closest value (to a given scalar) in a vector?\n",
    "vector = np.random.randint(0, 100, 10)\n",
    "scalar = 50\n",
    "closest_value = vector[np.abs(vector - scalar).argmin()]\n",
    "print(f\"Vector: {vector}\")\n",
    "print(f\"Scalar: {scalar}\")\n",
    "print(f\"Closest value to the scalar: {closest_value}\")"
   ]
  },
  {
   "cell_type": "code",
   "execution_count": 16,
   "metadata": {},
   "outputs": [
    {
     "name": "stdout",
     "output_type": "stream",
     "text": [
      "Original matrix:\n",
      "[[0.49385559 0.15427036 0.04067541]\n",
      " [0.75470963 0.66203253 0.37369755]\n",
      " [0.48988025 0.57633341 0.18282969]\n",
      " [0.10796426 0.48406802 0.2271423 ]\n",
      " [0.07442291 0.05211021 0.06351876]]\n",
      "Matrix with mean of each row subtracted from corresponding row:\n",
      "[[ 2.64255140e-01 -7.53300971e-02 -1.88925043e-01]\n",
      " [ 1.57896392e-01  6.52192964e-02 -2.23115688e-01]\n",
      " [ 7.35324700e-02  1.59985624e-01 -2.33518094e-01]\n",
      " [-1.65093935e-01  2.11009829e-01 -4.59158937e-02]\n",
      " [ 1.10722878e-02 -1.12404198e-02  1.68131970e-04]]\n"
     ]
    }
   ],
   "source": [
    "# (l) Subtract the mean of each row from each corresponding row of a matrix.\n",
    "matrix = np.random.random((5, 3))\n",
    "print(f\"Original matrix:\\n{matrix}\")\n",
    "mean = matrix.mean(axis=1)\n",
    "matrix -= mean[:, np.newaxis]\n",
    "print(f\"Matrix with mean of each row subtracted from corresponding row:\\n{matrix}\")"
   ]
  },
  {
   "cell_type": "code",
   "execution_count": 19,
   "metadata": {},
   "outputs": [
    {
     "name": "stdout",
     "output_type": "stream",
     "text": [
      "Original vector: [6 6 5 9 2 6 2 7 7 7]\n",
      "Indices: [2 0 8 5 7]\n",
      "Vector with 1 added to each element indexed by the second vector: [7 6 6 9 2 7 2 8 8 7]\n"
     ]
    }
   ],
   "source": [
    "# (m) Consider a given vector, how to add 1 to each element indexed by a second vector (be careful with repeated indices - you should consider it only once)?\n",
    "vector = np.random.randint(0, 10, 10)\n",
    "print(f\"Original vector: {vector}\")\n",
    "indices = np.random.randint(0, 10, 5)\n",
    "print(f\"Indices: {indices}\")\n",
    "vector += np.bincount(indices, minlength=len(vector))\n",
    "print(f\"Vector with 1 added to each element indexed by the second vector: {vector}\")\n"
   ]
  },
  {
   "cell_type": "code",
   "execution_count": 20,
   "metadata": {},
   "outputs": [
    {
     "name": "stdout",
     "output_type": "stream",
     "text": [
      "Array: [6 8 3 2 9 1 1 4 7 9 9 2 9 8 9 3 4 7 6 9 2 1 0 9 2 7 1 2 9 4 6 7 3 7 6 3 9\n",
      " 3 6 7 3 4 8 2 1 9 9 7 4 9 8 8 1 7 8 0 0 9 5 8 6 2 0 7 3 1 8 6 1 5 6 4 8 4\n",
      " 0 9 8 2 6 7 8 7 5 9 6 4 5 1 2 9 2 8 9 2 5 1 8 2 0 0]\n",
      "Most frequent value: 9\n"
     ]
    }
   ],
   "source": [
    "# (n) How to find the most frequent value in an array?\n",
    "array = np.random.randint(0, 10, 100)\n",
    "print(f\"Array: {array}\")\n",
    "most_frequent_value = np.bincount(array).argmax()\n",
    "print(f\"Most frequent value: {most_frequent_value}\")"
   ]
  },
  {
   "cell_type": "code",
   "execution_count": 21,
   "metadata": {},
   "outputs": [
    {
     "name": "stdout",
     "output_type": "stream",
     "text": [
      "Original matrix:\n",
      "[[7 6 4 6 4 5 1 0 0 1]\n",
      " [3 1 0 1 9 5 7 7 5 8]\n",
      " [1 7 6 1 6 2 9 5 2 7]\n",
      " [0 2 4 5 8 7 2 7 9 3]\n",
      " [1 8 0 7 0 3 5 1 1 1]\n",
      " [0 6 7 6 3 4 2 1 0 9]\n",
      " [6 1 0 8 7 3 6 5 2 1]\n",
      " [2 0 3 1 9 3 6 2 3 0]\n",
      " [4 6 4 9 1 6 5 0 9 1]\n",
      " [9 5 9 1 4 9 6 2 8 9]]\n",
      "3x3 blocks:\n",
      "[[[[7 6 4]\n",
      "   [3 1 0]\n",
      "   [1 7 6]]\n",
      "\n",
      "  [[6 4 6]\n",
      "   [1 0 1]\n",
      "   [7 6 1]]\n",
      "\n",
      "  [[4 6 4]\n",
      "   [0 1 9]\n",
      "   [6 1 6]]\n",
      "\n",
      "  [[6 4 5]\n",
      "   [1 9 5]\n",
      "   [1 6 2]]\n",
      "\n",
      "  [[4 5 1]\n",
      "   [9 5 7]\n",
      "   [6 2 9]]\n",
      "\n",
      "  [[5 1 0]\n",
      "   [5 7 7]\n",
      "   [2 9 5]]\n",
      "\n",
      "  [[1 0 0]\n",
      "   [7 7 5]\n",
      "   [9 5 2]]\n",
      "\n",
      "  [[0 0 1]\n",
      "   [7 5 8]\n",
      "   [5 2 7]]]\n",
      "\n",
      "\n",
      " [[[3 1 0]\n",
      "   [1 7 6]\n",
      "   [0 2 4]]\n",
      "\n",
      "  [[1 0 1]\n",
      "   [7 6 1]\n",
      "   [2 4 5]]\n",
      "\n",
      "  [[0 1 9]\n",
      "   [6 1 6]\n",
      "   [4 5 8]]\n",
      "\n",
      "  [[1 9 5]\n",
      "   [1 6 2]\n",
      "   [5 8 7]]\n",
      "\n",
      "  [[9 5 7]\n",
      "   [6 2 9]\n",
      "   [8 7 2]]\n",
      "\n",
      "  [[5 7 7]\n",
      "   [2 9 5]\n",
      "   [7 2 7]]\n",
      "\n",
      "  [[7 7 5]\n",
      "   [9 5 2]\n",
      "   [2 7 9]]\n",
      "\n",
      "  [[7 5 8]\n",
      "   [5 2 7]\n",
      "   [7 9 3]]]\n",
      "\n",
      "\n",
      " [[[1 7 6]\n",
      "   [0 2 4]\n",
      "   [1 8 0]]\n",
      "\n",
      "  [[7 6 1]\n",
      "   [2 4 5]\n",
      "   [8 0 7]]\n",
      "\n",
      "  [[6 1 6]\n",
      "   [4 5 8]\n",
      "   [0 7 0]]\n",
      "\n",
      "  [[1 6 2]\n",
      "   [5 8 7]\n",
      "   [7 0 3]]\n",
      "\n",
      "  [[6 2 9]\n",
      "   [8 7 2]\n",
      "   [0 3 5]]\n",
      "\n",
      "  [[2 9 5]\n",
      "   [7 2 7]\n",
      "   [3 5 1]]\n",
      "\n",
      "  [[9 5 2]\n",
      "   [2 7 9]\n",
      "   [5 1 1]]\n",
      "\n",
      "  [[5 2 7]\n",
      "   [7 9 3]\n",
      "   [1 1 1]]]\n",
      "\n",
      "\n",
      " [[[0 2 4]\n",
      "   [1 8 0]\n",
      "   [0 6 7]]\n",
      "\n",
      "  [[2 4 5]\n",
      "   [8 0 7]\n",
      "   [6 7 6]]\n",
      "\n",
      "  [[4 5 8]\n",
      "   [0 7 0]\n",
      "   [7 6 3]]\n",
      "\n",
      "  [[5 8 7]\n",
      "   [7 0 3]\n",
      "   [6 3 4]]\n",
      "\n",
      "  [[8 7 2]\n",
      "   [0 3 5]\n",
      "   [3 4 2]]\n",
      "\n",
      "  [[7 2 7]\n",
      "   [3 5 1]\n",
      "   [4 2 1]]\n",
      "\n",
      "  [[2 7 9]\n",
      "   [5 1 1]\n",
      "   [2 1 0]]\n",
      "\n",
      "  [[7 9 3]\n",
      "   [1 1 1]\n",
      "   [1 0 9]]]\n",
      "\n",
      "\n",
      " [[[1 8 0]\n",
      "   [0 6 7]\n",
      "   [6 1 0]]\n",
      "\n",
      "  [[8 0 7]\n",
      "   [6 7 6]\n",
      "   [1 0 8]]\n",
      "\n",
      "  [[0 7 0]\n",
      "   [7 6 3]\n",
      "   [0 8 7]]\n",
      "\n",
      "  [[7 0 3]\n",
      "   [6 3 4]\n",
      "   [8 7 3]]\n",
      "\n",
      "  [[0 3 5]\n",
      "   [3 4 2]\n",
      "   [7 3 6]]\n",
      "\n",
      "  [[3 5 1]\n",
      "   [4 2 1]\n",
      "   [3 6 5]]\n",
      "\n",
      "  [[5 1 1]\n",
      "   [2 1 0]\n",
      "   [6 5 2]]\n",
      "\n",
      "  [[1 1 1]\n",
      "   [1 0 9]\n",
      "   [5 2 1]]]\n",
      "\n",
      "\n",
      " [[[0 6 7]\n",
      "   [6 1 0]\n",
      "   [2 0 3]]\n",
      "\n",
      "  [[6 7 6]\n",
      "   [1 0 8]\n",
      "   [0 3 1]]\n",
      "\n",
      "  [[7 6 3]\n",
      "   [0 8 7]\n",
      "   [3 1 9]]\n",
      "\n",
      "  [[6 3 4]\n",
      "   [8 7 3]\n",
      "   [1 9 3]]\n",
      "\n",
      "  [[3 4 2]\n",
      "   [7 3 6]\n",
      "   [9 3 6]]\n",
      "\n",
      "  [[4 2 1]\n",
      "   [3 6 5]\n",
      "   [3 6 2]]\n",
      "\n",
      "  [[2 1 0]\n",
      "   [6 5 2]\n",
      "   [6 2 3]]\n",
      "\n",
      "  [[1 0 9]\n",
      "   [5 2 1]\n",
      "   [2 3 0]]]\n",
      "\n",
      "\n",
      " [[[6 1 0]\n",
      "   [2 0 3]\n",
      "   [4 6 4]]\n",
      "\n",
      "  [[1 0 8]\n",
      "   [0 3 1]\n",
      "   [6 4 9]]\n",
      "\n",
      "  [[0 8 7]\n",
      "   [3 1 9]\n",
      "   [4 9 1]]\n",
      "\n",
      "  [[8 7 3]\n",
      "   [1 9 3]\n",
      "   [9 1 6]]\n",
      "\n",
      "  [[7 3 6]\n",
      "   [9 3 6]\n",
      "   [1 6 5]]\n",
      "\n",
      "  [[3 6 5]\n",
      "   [3 6 2]\n",
      "   [6 5 0]]\n",
      "\n",
      "  [[6 5 2]\n",
      "   [6 2 3]\n",
      "   [5 0 9]]\n",
      "\n",
      "  [[5 2 1]\n",
      "   [2 3 0]\n",
      "   [0 9 1]]]\n",
      "\n",
      "\n",
      " [[[2 0 3]\n",
      "   [4 6 4]\n",
      "   [9 5 9]]\n",
      "\n",
      "  [[0 3 1]\n",
      "   [6 4 9]\n",
      "   [5 9 1]]\n",
      "\n",
      "  [[3 1 9]\n",
      "   [4 9 1]\n",
      "   [9 1 4]]\n",
      "\n",
      "  [[1 9 3]\n",
      "   [9 1 6]\n",
      "   [1 4 9]]\n",
      "\n",
      "  [[9 3 6]\n",
      "   [1 6 5]\n",
      "   [4 9 6]]\n",
      "\n",
      "  [[3 6 2]\n",
      "   [6 5 0]\n",
      "   [9 6 2]]\n",
      "\n",
      "  [[6 2 3]\n",
      "   [5 0 9]\n",
      "   [6 2 8]]\n",
      "\n",
      "  [[2 3 0]\n",
      "   [0 9 1]\n",
      "   [2 8 9]]]]\n"
     ]
    }
   ],
   "source": [
    "# (o) Extract all the contiguous 3 × 3 blocks from a random 10 × 10 matrix.\n",
    "matrix = np.random.randint(0, 10, (10, 10))\n",
    "print(f\"Original matrix:\\n{matrix}\")\n",
    "n = 3\n",
    "blocks = np.lib.stride_tricks.sliding_window_view(matrix, (n, n))\n",
    "print(f\"3x3 blocks:\\n{blocks}\")"
   ]
  },
  {
   "cell_type": "code",
   "execution_count": 30,
   "metadata": {},
   "outputs": [
    {
     "name": "stdout",
     "output_type": "stream",
     "text": [
      "Matrix:\n",
      "[[8 4 0]\n",
      " [1 2 3]\n",
      " [7 9 7]]\n",
      "Rank: 3\n",
      "Trace: 17\n",
      "Determinant: -47.999999999999986\n"
     ]
    }
   ],
   "source": [
    "# (p) Compute the rank, trace and determinant of a matrix.\n",
    "matrix = np.random.randint(0, 10, (3, 3))\n",
    "print(f\"Matrix:\\n{matrix}\")\n",
    "rank = np.linalg.matrix_rank(matrix)\n",
    "trace = np.trace(matrix)\n",
    "determinant = np.linalg.det(matrix)\n",
    "print(f\"Rank: {rank}\")\n",
    "print(f\"Trace: {trace}\")\n",
    "print(f\"Determinant: {determinant}\")"
   ]
  },
  {
   "cell_type": "code",
   "execution_count": null,
   "metadata": {},
   "outputs": [],
   "source": []
  }
 ],
 "metadata": {
  "kernelspec": {
   "display_name": "test",
   "language": "python",
   "name": "python3"
  },
  "language_info": {
   "codemirror_mode": {
    "name": "ipython",
    "version": 3
   },
   "file_extension": ".py",
   "mimetype": "text/x-python",
   "name": "python",
   "nbconvert_exporter": "python",
   "pygments_lexer": "ipython3",
   "version": "3.11.4"
  }
 },
 "nbformat": 4,
 "nbformat_minor": 2
}
