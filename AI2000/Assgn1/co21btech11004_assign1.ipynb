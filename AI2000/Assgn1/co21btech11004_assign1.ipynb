{
 "cells": [
  {
   "cell_type": "markdown",
   "metadata": {},
   "source": [
    "## Name : Darpan Gaur\n",
    "## Roll Number : CO21BTECH11004"
   ]
  },
  {
   "cell_type": "code",
   "execution_count": 1,
   "metadata": {},
   "outputs": [],
   "source": [
    "# import libraries\n",
    "import numpy as np\n",
    "import pandas as pd\n",
    "import matplotlib.pyplot as plt"
   ]
  },
  {
   "cell_type": "markdown",
   "metadata": {},
   "source": [
    "## Problem 3"
   ]
  },
  {
   "cell_type": "code",
   "execution_count": 2,
   "metadata": {},
   "outputs": [],
   "source": [
    "# read data\n",
    "# df = pd.read_csv('./wine+quality/winequality-white.csv', sep=';')\n",
    "df = pd.read_csv('./wine+quality/winequality-red.csv', sep=';')\n",
    "df.rename(columns={\"quality\": \"label\"}, inplace=True)\n",
    "# label < 7 -> 0, label >= 7 -> 1\n",
    "df['label'] = df['label'].apply(lambda x: 1 if x >= 7 else 0)"
   ]
  },
  {
   "cell_type": "code",
   "execution_count": 3,
   "metadata": {},
   "outputs": [],
   "source": [
    "# seed = 4, 6, 10\n",
    "seed = 10\n",
    "np.random.seed(seed)\n",
    "def split_data(data, split_ratio=0.75):\n",
    "    idx = np.random.permutation(data.index)\n",
    "    split = int(split_ratio * len(data))\n",
    "    # retun X_trian, y_train, X_test, y_test\n",
    "    return data.iloc[idx[:split], :-1], data.iloc[idx[:split], -1], data.iloc[idx[split:], :-1], data.iloc[idx[split:], -1]\n",
    "\n",
    "X_train, y_train, X_test, y_test = split_data(df)"
   ]
  },
  {
   "cell_type": "code",
   "execution_count": 4,
   "metadata": {},
   "outputs": [],
   "source": [
    "class node():\n",
    "    '''\n",
    "    Represents a node in the decision tree\n",
    "    '''\n",
    "    def __init__(self, feature=None, thr=None, left=None, right=None, perd_label=None):\n",
    "        self.feature = feature\n",
    "        self.thr = thr\n",
    "        self.left = left\n",
    "        self.right = right\n",
    "        self.perd_label = perd_label"
   ]
  },
  {
   "cell_type": "code",
   "execution_count": 6,
   "metadata": {},
   "outputs": [
    {
     "name": "stdout",
     "output_type": "stream",
     "text": [
      "Accuracy: 0.8725\n"
     ]
    }
   ],
   "source": [
    "class DecisionTree():\n",
    "    '''\n",
    "    Decision Tree Classifier\n",
    "    '''\n",
    "    def __init__(self, min_samples=2, max_depth=10):\n",
    "        self.min_samples = min_samples\n",
    "        self.max_depth = max_depth\n",
    "    \n",
    "    def entropy(self, data):\n",
    "        '''\n",
    "        Calculate entropy of a dataset\n",
    "        '''\n",
    "        unique, counts = np.unique(data, return_counts=True)\n",
    "        prob = counts / len(data)\n",
    "        return -np.sum(prob * np.log2(prob))\n",
    "    \n",
    "    def info_gain(self, root, left, right):\n",
    "        '''\n",
    "        Calculate information gain\n",
    "        '''\n",
    "        wl = len(left) / len(root)\n",
    "        wr = len(right) / len(root)\n",
    "        return self.entropy(root) - wl * self.entropy(left) - wr * self.entropy(right)\n",
    "    \n",
    "    def temp_split(self, data, feature, thr):\n",
    "        '''\n",
    "        Split data into left and right based on threshold\n",
    "        '''\n",
    "        left = data[data[feature] <= thr]\n",
    "        right = data[data[feature] > thr]\n",
    "        return left, right\n",
    "    \n",
    "    def best_split(self, data):\n",
    "        '''\n",
    "        Find the best split\n",
    "        '''\n",
    "        best_split = {'ig': -1e9, 'feature': None, 'thr': None, 'left': None, 'right': None}\n",
    "        for idx in range(len(data.columns) - 1):\n",
    "            for thr in np.unique(data.iloc[:, idx]):\n",
    "                left, right = self.temp_split(data, data.columns[idx], thr)\n",
    "                if len(left) > 0 and len(right) > 0:\n",
    "                    ig = self.info_gain(data.iloc[:, -1], left.iloc[:, -1], right.iloc[:, -1])\n",
    "                    if ig > best_split['ig']:\n",
    "                        best_split['ig'] = ig\n",
    "                        best_split['feature'] = data.columns[idx]\n",
    "                        best_split['thr'] = thr\n",
    "                        best_split['left'] = left\n",
    "                        best_split['right'] = right\n",
    "\n",
    "        return best_split\n",
    "    \n",
    "    \n",
    "    def set_label(self, data):\n",
    "        '''\n",
    "        Set the label of a node\n",
    "        '''\n",
    "        unique, counts = np.unique(data, return_counts=True)\n",
    "        return unique[np.argmax(counts)]\n",
    "    \n",
    "    def build_tree(self, data, depth=0):\n",
    "        '''\n",
    "        Build the decision tree\n",
    "        '''\n",
    "        if len(data) >= self.min_samples and depth <= self.max_depth:\n",
    "            split = self.best_split(data)\n",
    "            if split['ig'] > 0:\n",
    "                left = self.build_tree(split['left'], depth + 1)\n",
    "                right = self.build_tree(split['right'], depth + 1)\n",
    "                return node(feature=split['feature'], thr=split['thr'], left=left, right=right)\n",
    "        \n",
    "        return node(perd_label=self.set_label(data.iloc[:, -1]))\n",
    "        \n",
    "    def fit(self, X_train, y_train):\n",
    "        '''\n",
    "        Fit the model\n",
    "        '''\n",
    "        self.root = self.build_tree(pd.concat([X_train, y_train], axis=1))\n",
    "\n",
    "    def predict(self, X_test):\n",
    "        '''\n",
    "        Predict the label\n",
    "        '''\n",
    "        y_pred = []\n",
    "        for i in range(len(X_test)):\n",
    "            node = self.root\n",
    "            while node.perd_label is None:\n",
    "                if X_test[node.feature].iloc[i] <= node.thr:\n",
    "                    node = node.left\n",
    "                else:\n",
    "                    node = node.right\n",
    "            y_pred.append(node.perd_label)\n",
    "        return y_pred\n",
    "    \n",
    "    def accuracy(self, y_test, y_pred):\n",
    "        '''\n",
    "        Calculate accuracy\n",
    "        '''\n",
    "        return np.sum(y_test == y_pred) / len(y_test)   \n",
    "    \n",
    "\n",
    "# fit the model\n",
    "# model = DecisionTree(1, 100)\n",
    "model = DecisionTree(2, 5)\n",
    "model.fit(X_train, y_train)\n",
    "\n",
    "# predict the label\n",
    "y_pred = model.predict(X_test)\n",
    "\n",
    "# calculate accuracy\n",
    "accuracy = model.accuracy(y_test, y_pred)\n",
    "print(f'Accuracy: {accuracy}')"
   ]
  },
  {
   "cell_type": "code",
   "execution_count": null,
   "metadata": {},
   "outputs": [
    {
     "name": "stdout",
     "output_type": "stream",
     "text": [
      "Height of the tree: 5\n"
     ]
    }
   ],
   "source": [
    "# print height of the tree\n",
    "def height(node):\n",
    "    if node is None:\n",
    "        return 0\n",
    "    return 1 + max(height(node.left), height(node.right))\n",
    "\n",
    "print(f'Height of the tree: {height(model.root)}')"
   ]
  },
  {
   "cell_type": "code",
   "execution_count": null,
   "metadata": {},
   "outputs": [
    {
     "name": "stdout",
     "output_type": "stream",
     "text": [
      "Average accuracy: 0.8754716981132077\n"
     ]
    }
   ],
   "source": [
    "# k-fold cross validation\n",
    "def k_fold(data, k=10):\n",
    "    idx = np.random.permutation(data.index)\n",
    "    split = int(len(data) / k)\n",
    "    for i in range(k):\n",
    "        test_idx = idx[i * split: (i + 1) * split]\n",
    "        train_idx = np.concatenate([idx[:i * split], idx[(i + 1) * split:]])\n",
    "        yield data.iloc[train_idx], data.iloc[test_idx]\n",
    "\n",
    "k = 10\n",
    "accuracies = []\n",
    "for train, test in k_fold(df, k):\n",
    "    X_train, y_train, X_test, y_test = train.iloc[:, :-1], train.iloc[:, -1], test.iloc[:, :-1], test.iloc[:, -1]\n",
    "    # model = DecisionTree(1, 100)\n",
    "    model = DecisionTree(2, 5)\n",
    "    model.fit(X_train, y_train)\n",
    "    y_pred = model.predict(X_test)\n",
    "    accuracies.append(model.accuracy(y_test, y_pred))\n",
    "\n",
    "print(f'Average accuracy: {np.mean(accuracies)}')"
   ]
  },
  {
   "cell_type": "code",
   "execution_count": 7,
   "metadata": {},
   "outputs": [
    {
     "name": "stdout",
     "output_type": "stream",
     "text": [
      "Accuracy: 0.8525\n"
     ]
    }
   ],
   "source": [
    "# use gini index\n",
    "class DecisionTreeGini():\n",
    "    '''\n",
    "    Decision Tree Classifier using Gini Index\n",
    "    '''\n",
    "    def __init__(self, min_samples=2, max_depth=10):\n",
    "        self.min_samples = min_samples\n",
    "        self.max_depth = max_depth\n",
    "\n",
    "    def gini(self, data):\n",
    "        '''\n",
    "        Calculate gini index of a dataset\n",
    "        '''\n",
    "        unique, counts = np.unique(data, return_counts=True)\n",
    "        prob = counts / len(data)\n",
    "        return 1 - np.sum(prob ** 2)\n",
    "    \n",
    "    def info_gain(self, root, left, right):\n",
    "        '''\n",
    "        Calculate information gain\n",
    "        '''\n",
    "        wl = len(left) / len(root)\n",
    "        wr = len(right) / len(root)\n",
    "        return self.gini(root) - wl * self.gini(left) - wr * self.gini(right)\n",
    "    \n",
    "    def temp_split(self, data, feature, thr):\n",
    "        '''\n",
    "        Split data into left and right based on threshold\n",
    "        '''\n",
    "        left = data[data[feature] <= thr]\n",
    "        right = data[data[feature] > thr]\n",
    "        return left, right\n",
    "    \n",
    "    def best_split(self, data):\n",
    "        '''\n",
    "        Find the best split\n",
    "        '''\n",
    "        best_split = {'ig': -1e9, 'feature': None, 'thr': None, 'left': None, 'right': None}\n",
    "        for idx in range(len(data.columns) - 1):\n",
    "            for thr in np.unique(data.iloc[:, idx]):\n",
    "                left, right = self.temp_split(data, data.columns[idx], thr)\n",
    "                if len(left) > 0 and len(right) > 0:\n",
    "                    ig = self.info_gain(data.iloc[:, -1], left.iloc[:, -1], right.iloc[:, -1])\n",
    "                    if ig > best_split['ig']:\n",
    "                        best_split['ig'] = ig\n",
    "                        best_split['feature'] = data.columns[idx]\n",
    "                        best_split['thr'] = thr\n",
    "                        best_split['left'] = left\n",
    "                        best_split['right'] = right\n",
    "\n",
    "        return best_split\n",
    "    \n",
    "    def set_label(self, data):\n",
    "        '''\n",
    "        Set the label of a node\n",
    "        '''\n",
    "        unique, counts = np.unique(data, return_counts=True)\n",
    "        return unique[np.argmax(counts)]\n",
    "    \n",
    "    def build_tree(self, data, depth=0):\n",
    "        '''\n",
    "        Build the decision tree\n",
    "        '''\n",
    "        if len(data) >= self.min_samples and depth <= self.max_depth:\n",
    "            split = self.best_split(data)\n",
    "            if split['ig'] > 0:\n",
    "                left = self.build_tree(split['left'], depth + 1)\n",
    "                right = self.build_tree(split['right'], depth + 1)\n",
    "                return node(feature=split['feature'], thr=split['thr'], left=left, right=right)\n",
    "        \n",
    "        return node(perd_label=self.set_label(data.iloc[:, -1]))\n",
    "    \n",
    "    def fit(self, X_train, y_train):\n",
    "        '''\n",
    "        Fit the model\n",
    "        '''\n",
    "        self.root = self.build_tree(pd.concat([X_train, y_train], axis=1))\n",
    "\n",
    "    def predict(self, X_test):\n",
    "        '''\n",
    "        Predict the label\n",
    "        '''\n",
    "        y_pred = []\n",
    "        for i in range(len(X_test)):\n",
    "            node = self.root\n",
    "            while node.perd_label is None:\n",
    "                if X_test[node.feature].iloc[i] <= node.thr:\n",
    "                    node = node.left\n",
    "                else:\n",
    "                    node = node.right\n",
    "            y_pred.append(node.perd_label)\n",
    "        return y_pred\n",
    "    \n",
    "    def accuracy(self, y_test, y_pred):\n",
    "        '''\n",
    "        Calculate accuracy\n",
    "        '''\n",
    "        return np.sum(y_test == y_pred) / len(y_test) \n",
    "    \n",
    "# fit the model\n",
    "model = DecisionTreeGini(2, 100)\n",
    "model.fit(X_train, y_train)\n",
    "\n",
    "# predict the label\n",
    "y_pred = model.predict(X_test)\n",
    "\n",
    "# calculate accuracy\n",
    "accuracy = model.accuracy(y_test, y_pred)\n",
    "print(f'Accuracy: {accuracy}')"
   ]
  },
  {
   "cell_type": "code",
   "execution_count": null,
   "metadata": {},
   "outputs": [
    {
     "name": "stdout",
     "output_type": "stream",
     "text": [
      "Average accuracy: 0.8761006289308175\n"
     ]
    }
   ],
   "source": [
    "k = 10\n",
    "accuracies = []\n",
    "for train, test in k_fold(df, k):\n",
    "    X_train, y_train, X_test, y_test = train.iloc[:, :-1], train.iloc[:, -1], test.iloc[:, :-1], test.iloc[:, -1]\n",
    "    model = DecisionTreeGini(1, 100)\n",
    "    model.fit(X_train, y_train)\n",
    "    y_pred = model.predict(X_test)\n",
    "    accuracies.append(model.accuracy(y_test, y_pred))\n",
    "\n",
    "print(f'Average accuracy: {np.mean(accuracies)}')"
   ]
  },
  {
   "cell_type": "code",
   "execution_count": 8,
   "metadata": {},
   "outputs": [
    {
     "name": "stdout",
     "output_type": "stream",
     "text": [
      "Height of the tree: 17\n"
     ]
    }
   ],
   "source": [
    "# print height of the tree\n",
    "def height(node):\n",
    "    if node is None:\n",
    "        return 0\n",
    "    return 1 + max(height(node.left), height(node.right))\n",
    "\n",
    "print(f'Height of the tree: {height(model.root)}')"
   ]
  }
 ],
 "metadata": {
  "kernelspec": {
   "display_name": "test",
   "language": "python",
   "name": "python3"
  },
  "language_info": {
   "codemirror_mode": {
    "name": "ipython",
    "version": 3
   },
   "file_extension": ".py",
   "mimetype": "text/x-python",
   "name": "python",
   "nbconvert_exporter": "python",
   "pygments_lexer": "ipython3",
   "version": "3.11.4"
  }
 },
 "nbformat": 4,
 "nbformat_minor": 2
}
