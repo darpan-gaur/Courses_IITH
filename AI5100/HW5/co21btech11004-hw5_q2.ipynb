{
 "cells": [
  {
   "cell_type": "code",
   "execution_count": 1,
   "metadata": {},
   "outputs": [],
   "source": [
    "# library import\n",
    "from io import open\n",
    "import glob\n",
    "import os\n",
    "import random\n",
    "import time\n",
    "import math\n",
    "import matplotlib.pyplot as plt\n",
    "import matplotlib.ticker as ticker\n",
    "import unicodedata\n",
    "import string\n",
    "from tqdm import tqdm\n",
    "\n",
    "import numpy as np\n",
    "from sklearn.model_selection import train_test_split\n",
    "\n",
    "import torch\n",
    "import torch.nn as nn\n",
    "import torch.nn.functional as F"
   ]
  },
  {
   "cell_type": "code",
   "execution_count": 2,
   "metadata": {},
   "outputs": [
    {
     "data": {
      "text/plain": [
       "<torch._C.Generator at 0x7f2512cd7af0>"
      ]
     },
     "execution_count": 2,
     "metadata": {},
     "output_type": "execute_result"
    }
   ],
   "source": [
    "seed = 42\n",
    "random.seed(seed)\n",
    "np.random.seed(seed)\n",
    "torch.manual_seed(seed)"
   ]
  },
  {
   "cell_type": "markdown",
   "metadata": {},
   "source": [
    "## Preparing the data"
   ]
  },
  {
   "cell_type": "code",
   "execution_count": 3,
   "metadata": {},
   "outputs": [
    {
     "name": "stdout",
     "output_type": "stream",
     "text": [
      "['data/names/Arabic.txt', 'data/names/Chinese.txt', 'data/names/French.txt', 'data/names/German.txt', 'data/names/Greek.txt', 'data/names/Czech.txt', 'data/names/Italian.txt', 'data/names/Dutch.txt', 'data/names/Korean.txt', 'data/names/English.txt', 'data/names/Portuguese.txt', 'data/names/Irish.txt', 'data/names/Scottish.txt', 'data/names/Japanese.txt', 'data/names/Vietnamese.txt', 'data/names/Polish.txt', 'data/names/Russian.txt', 'data/names/Spanish.txt']\n",
      "Slusarski\n"
     ]
    }
   ],
   "source": [
    "def findFiles(path): return glob.glob(path)\n",
    "\n",
    "print(findFiles('data/names/*.txt'))\n",
    "\n",
    "all_letters = string.ascii_letters + \" .,;'\"\n",
    "n_letters = len(all_letters)\n",
    "\n",
    "# Turn a Unicode string to plain ASCII, thanks to https://stackoverflow.com/a/518232/2809427\n",
    "def unicodeToAscii(s):\n",
    "    return ''.join(\n",
    "        c for c in unicodedata.normalize('NFD', s)\n",
    "        if unicodedata.category(c) != 'Mn'\n",
    "        and c in all_letters\n",
    "    )\n",
    "\n",
    "print(unicodeToAscii('Ślusàrski'))\n",
    "\n",
    "# Build the category_lines dictionary, a list of names per language\n",
    "category_lines = {}\n",
    "all_categories = []\n",
    "\n",
    "# Read a file and split into lines\n",
    "def readLines(filename):\n",
    "    lines = open(filename, encoding='utf-8').read().strip().split('\\n')\n",
    "    return [unicodeToAscii(line) for line in lines]\n",
    "\n",
    "for filename in findFiles('data/names/*.txt'):\n",
    "    category = os.path.splitext(os.path.basename(filename))[0]\n",
    "    all_categories.append(category)\n",
    "    lines = readLines(filename)\n",
    "    category_lines[category] = lines\n",
    "\n",
    "n_categories = len(all_categories)"
   ]
  },
  {
   "cell_type": "code",
   "execution_count": 4,
   "metadata": {},
   "outputs": [
    {
     "name": "stdout",
     "output_type": "stream",
     "text": [
      "['Abandonato', 'Abatangelo', 'Abatantuono', 'Abate', 'Abategiovanni']\n"
     ]
    }
   ],
   "source": [
    "print(category_lines['Italian'][:5])"
   ]
  },
  {
   "cell_type": "markdown",
   "metadata": {},
   "source": [
    "## Turning names to Tensor"
   ]
  },
  {
   "cell_type": "code",
   "execution_count": 5,
   "metadata": {},
   "outputs": [
    {
     "name": "stdout",
     "output_type": "stream",
     "text": [
      "tensor([[0., 0., 0., 0., 0., 0., 0., 0., 0., 0., 0., 0., 0., 0., 0., 0., 0., 0.,\n",
      "         0., 0., 0., 0., 0., 0., 0., 0., 0., 0., 0., 0., 0., 0., 0., 0., 0., 1.,\n",
      "         0., 0., 0., 0., 0., 0., 0., 0., 0., 0., 0., 0., 0., 0., 0., 0., 0., 0.,\n",
      "         0., 0., 0.]])\n",
      "torch.Size([1, 5, 57])\n"
     ]
    }
   ],
   "source": [
    "# Find letter index from all_letters, e.g. \"a\" = 0\n",
    "def letterToIndex(letter):\n",
    "    return all_letters.find(letter)\n",
    "\n",
    "# Just for demonstration, turn a letter into a <1 x n_letters> Tensor\n",
    "def letterToTensor(letter):\n",
    "    tensor = torch.zeros(1, n_letters)\n",
    "    tensor[0][letterToIndex(letter)] = 1\n",
    "    return tensor\n",
    "\n",
    "# Turn a line into a <line_length x 1 x n_letters>,\n",
    "# or an array of one-hot letter vectors\n",
    "# def lineToTensor(line):\n",
    "#     tensor = torch.zeros(len(line), 1, n_letters)\n",
    "#     for li, letter in enumerate(line):\n",
    "#         tensor[li][0][letterToIndex(letter)] = 1\n",
    "#     return tensor\n",
    "\n",
    "def lineToTensor(line):\n",
    "    tensor = torch.zeros(1, len(line), n_letters)\n",
    "    for li, letter in enumerate(line):\n",
    "        tensor[0][li][letterToIndex(letter)] = 1\n",
    "    return tensor\n",
    "\n",
    "print(letterToTensor('J'))\n",
    "\n",
    "print(lineToTensor('Jones').size())"
   ]
  },
  {
   "cell_type": "code",
   "execution_count": 6,
   "metadata": {},
   "outputs": [
    {
     "name": "stdout",
     "output_type": "stream",
     "text": [
      "torch.Size([1, 3, 57])\n"
     ]
    }
   ],
   "source": [
    "print(lineToTensor('Ali').size())"
   ]
  },
  {
   "cell_type": "markdown",
   "metadata": {},
   "source": [
    "## Dataset Creation"
   ]
  },
  {
   "cell_type": "code",
   "execution_count": 7,
   "metadata": {},
   "outputs": [],
   "source": [
    "def category_encoder(categories):\n",
    "    category_dict = {category: i for i, category in enumerate(categories)}\n",
    "    return category_dict\n",
    "\n",
    "def get_category_counts(category_dict):\n",
    "    category_count_dict = {category: len(category_dict[category]) for category in category_dict}\n",
    "    return category_count_dict"
   ]
  },
  {
   "cell_type": "code",
   "execution_count": 8,
   "metadata": {},
   "outputs": [
    {
     "name": "stdout",
     "output_type": "stream",
     "text": [
      "{'Arabic': 0, 'Chinese': 1, 'French': 2, 'German': 3, 'Greek': 4, 'Czech': 5, 'Italian': 6, 'Dutch': 7, 'Korean': 8, 'English': 9, 'Portuguese': 10, 'Irish': 11, 'Scottish': 12, 'Japanese': 13, 'Vietnamese': 14, 'Polish': 15, 'Russian': 16, 'Spanish': 17}\n",
      "{'Arabic': 2000, 'Chinese': 268, 'French': 277, 'German': 724, 'Greek': 203, 'Czech': 519, 'Italian': 709, 'Dutch': 297, 'Korean': 94, 'English': 3668, 'Portuguese': 74, 'Irish': 232, 'Scottish': 100, 'Japanese': 991, 'Vietnamese': 73, 'Polish': 139, 'Russian': 9408, 'Spanish': 298}\n"
     ]
    }
   ],
   "source": [
    "category_dict = category_encoder(category_lines.keys())\n",
    "print(category_dict)\n",
    "category_count_dict = get_category_counts(category_lines)\n",
    "print(category_count_dict)"
   ]
  },
  {
   "cell_type": "code",
   "execution_count": 9,
   "metadata": {},
   "outputs": [
    {
     "name": "stdout",
     "output_type": "stream",
     "text": [
      "X shape: torch.Size([20074, 20, 57])\n",
      "y shape: torch.Size([20074])\n"
     ]
    }
   ],
   "source": [
    "X = []\n",
    "y = []\n",
    "\n",
    "for category in category_lines.keys():\n",
    "    for i, name in enumerate(category_lines[category]):\n",
    "        name = name + ' ' * (20 - len(name))\n",
    "        name = lineToTensor(name)\n",
    "        X.append(name)\n",
    "        y.append(torch.tensor(category_dict[category]).view(1))\n",
    "\n",
    "X = torch.cat(X, dim=0)\n",
    "y = torch.cat(y, dim=0)\n",
    "\n",
    "print(f'X shape: {X.shape}')\n",
    "print(f'y shape: {y.shape}')"
   ]
  },
  {
   "cell_type": "code",
   "execution_count": 10,
   "metadata": {},
   "outputs": [],
   "source": [
    "X_train, X_test, y_train, y_test = train_test_split(X, y, test_size=0.2, random_state=seed)"
   ]
  },
  {
   "cell_type": "code",
   "execution_count": 11,
   "metadata": {},
   "outputs": [],
   "source": [
    "batch_size = 4\n",
    "train_dataset = torch.utils.data.TensorDataset(X_train, y_train)\n",
    "train_loader = torch.utils.data.DataLoader(train_dataset, batch_size=batch_size, shuffle=True)\n",
    "\n",
    "test_dataset = torch.utils.data.TensorDataset(X_test, y_test)\n",
    "test_loader = torch.utils.data.DataLoader(test_dataset, batch_size=batch_size, shuffle=False)"
   ]
  },
  {
   "cell_type": "markdown",
   "metadata": {},
   "source": [
    "## Creating the Network"
   ]
  },
  {
   "cell_type": "code",
   "execution_count": 12,
   "metadata": {},
   "outputs": [],
   "source": [
    "device = torch.device('cuda' if torch.cuda.is_available() else 'cpu')"
   ]
  },
  {
   "cell_type": "code",
   "execution_count": 13,
   "metadata": {},
   "outputs": [
    {
     "data": {
      "text/plain": [
       "RNN(\n",
       "  (rnn): RNN(57, 128, batch_first=True)\n",
       "  (h2o): Linear(in_features=128, out_features=18, bias=True)\n",
       "  (softmax): LogSoftmax(dim=1)\n",
       ")"
      ]
     },
     "execution_count": 13,
     "metadata": {},
     "output_type": "execute_result"
    }
   ],
   "source": [
    "class RNN(nn.Module):\n",
    "    def __init__(self, input_size, hidden_size, output_size, num_layers=1):\n",
    "        super(RNN, self).__init__()\n",
    "\n",
    "        self.input_size = input_size\n",
    "        self.hidden_size = hidden_size\n",
    "        self.output_size = output_size\n",
    "        self.num_layers = num_layers\n",
    "\n",
    "        # self.i2h = nn.Linear(input_size, hidden_size)\n",
    "        # self.h2h = nn.Linear(hidden_size, hidden_size)\n",
    "        self.rnn = nn.RNN(input_size, hidden_size, num_layers, batch_first=True)\n",
    "        self.h2o = nn.Linear(hidden_size, output_size)\n",
    "        self.softmax = nn.LogSoftmax(dim=1)\n",
    "\n",
    "    def forward(self, input, hidden):\n",
    "        # hidden = F.tanh(self.i2h(input) + self.h2h(hidden))\n",
    "        output, _ = self.rnn(input, hidden)\n",
    "        output = self.h2o(output[:, -1, :])\n",
    "        output = self.softmax(output)\n",
    "        return output\n",
    "\n",
    "    def initHidden(self, batch_size):\n",
    "        return torch.zeros(self.num_layers, batch_size, self.hidden_size).to(device)\n",
    "\n",
    "n_hidden = 128\n",
    "rnn = RNN(n_letters, n_hidden, n_categories)\n",
    "rnn.to(device)"
   ]
  },
  {
   "cell_type": "markdown",
   "metadata": {},
   "source": [
    "## Training"
   ]
  },
  {
   "cell_type": "code",
   "execution_count": 14,
   "metadata": {},
   "outputs": [],
   "source": [
    "EPOCHS = 30"
   ]
  },
  {
   "cell_type": "markdown",
   "metadata": {},
   "source": [
    "### Training the network"
   ]
  },
  {
   "cell_type": "code",
   "execution_count": 15,
   "metadata": {},
   "outputs": [],
   "source": [
    "criterion = nn.NLLLoss()\n",
    "optimizer = torch.optim.Adam(rnn.parameters(), lr=0.001)"
   ]
  },
  {
   "cell_type": "code",
   "execution_count": 16,
   "metadata": {},
   "outputs": [],
   "source": [
    "def testRNN(model, test_loader, criterion):\n",
    "    model.eval()\n",
    "    test_loss = 0.0\n",
    "    correct = 0\n",
    "    total = 0\n",
    "    with torch.no_grad():\n",
    "        for data in test_loader:\n",
    "            inputs, labels = data\n",
    "            inputs, labels = inputs.to(device), labels.to(device)\n",
    "            hidden = model.initHidden(inputs.size(0)).to(device)\n",
    "            outputs = model(inputs, hidden)\n",
    "            loss = criterion(outputs, labels)\n",
    "            test_loss += loss.item()\n",
    "            _, predicted = outputs.max(1)\n",
    "            total += labels.size(0)\n",
    "            correct += (predicted == labels).sum().item()\n",
    "\n",
    "    test_loss /= len(test_loader)\n",
    "    accuracy = 100 * correct / total\n",
    "    return test_loss, accuracy"
   ]
  },
  {
   "cell_type": "code",
   "execution_count": 17,
   "metadata": {},
   "outputs": [],
   "source": [
    "def trainRNN(model, train_loader, criterion, optimizer, n_epochs=20):\n",
    "    train_loss = []\n",
    "    train_acc = []  \n",
    "    test_loss = []\n",
    "    test_acc = []\n",
    "\n",
    "    for epoch in range(n_epochs):\n",
    "        model.train()\n",
    "        running_loss = 0.0\n",
    "        correct = 0\n",
    "        total = 0\n",
    "        for bt, data in enumerate(tqdm(train_loader)):\n",
    "            inputs, labels = data\n",
    "            inputs, labels = inputs.to(device), labels.to(device)\n",
    "            optimizer.zero_grad()\n",
    "            hidden = model.initHidden(inputs.size(0)).to(device)\n",
    "            outputs = model(inputs, hidden)\n",
    "            loss = criterion(outputs, labels)\n",
    "            loss.backward()\n",
    "            optimizer.step()\n",
    "\n",
    "            running_loss += loss.item()\n",
    "            _, predicted = outputs.max(1)\n",
    "            total += labels.size(0)\n",
    "            correct += predicted.eq(labels).sum().item()\n",
    "\n",
    "            \n",
    "            # print(f'Epoch {epoch+1}/{n_epochs} Batch {bt+1}/{len(train_loader)} Loss: {loss.item()} Acc: {100 * correct / total}')\n",
    "\n",
    "        train_loss.append(running_loss / len(train_loader))\n",
    "        train_acc.append(100 * correct / total)\n",
    "\n",
    "        test_loss_, test_acc_ = testRNN(model, test_loader, criterion)\n",
    "        test_loss.append(test_loss_)\n",
    "        test_acc.append(test_acc_)\n",
    "\n",
    "        print(f'Epoch {epoch+1}/{n_epochs} Train Loss: {train_loss[-1]} Train Acc: {train_acc[-1]} Test Loss: {test_loss[-1]} Test Acc: {test_acc[-1]}')\n",
    "    return train_loss, train_acc, test_loss, test_acc"
   ]
  },
  {
   "cell_type": "code",
   "execution_count": 18,
   "metadata": {},
   "outputs": [
    {
     "name": "stderr",
     "output_type": "stream",
     "text": [
      "100%|██████████| 4015/4015 [00:19<00:00, 206.88it/s]\n"
     ]
    },
    {
     "name": "stdout",
     "output_type": "stream",
     "text": [
      "Epoch 1/30 Train Loss: 1.8718023894287432 Train Acc: 46.14857712186313 Test Loss: 1.8044371996742796 Test Acc: 47.57160647571607\n"
     ]
    },
    {
     "name": "stderr",
     "output_type": "stream",
     "text": [
      "100%|██████████| 4015/4015 [00:19<00:00, 209.19it/s]\n"
     ]
    },
    {
     "name": "stdout",
     "output_type": "stream",
     "text": [
      "Epoch 2/30 Train Loss: 1.8354756493014683 Train Acc: 46.559561616539014 Test Loss: 1.8278769165633684 Test Acc: 47.57160647571607\n"
     ]
    },
    {
     "name": "stderr",
     "output_type": "stream",
     "text": [
      "100%|██████████| 4015/4015 [00:19<00:00, 209.53it/s]\n"
     ]
    },
    {
     "name": "stdout",
     "output_type": "stream",
     "text": [
      "Epoch 3/30 Train Loss: 1.8521563270840222 Train Acc: 46.42256678498038 Test Loss: 1.8407016694842582 Test Acc: 47.57160647571607\n"
     ]
    },
    {
     "name": "stderr",
     "output_type": "stream",
     "text": [
      "100%|██████████| 4015/4015 [00:19<00:00, 210.38it/s]\n"
     ]
    },
    {
     "name": "stdout",
     "output_type": "stream",
     "text": [
      "Epoch 4/30 Train Loss: 1.8575180539678073 Train Acc: 46.20462046204621 Test Loss: 1.810795684051941 Test Acc: 47.57160647571607\n"
     ]
    },
    {
     "name": "stderr",
     "output_type": "stream",
     "text": [
      "100%|██████████| 4015/4015 [00:19<00:00, 210.76it/s]\n"
     ]
    },
    {
     "name": "stdout",
     "output_type": "stream",
     "text": [
      "Epoch 5/30 Train Loss: 1.855454554110951 Train Acc: 46.24198268883492 Test Loss: 1.8775303571585165 Test Acc: 47.57160647571607\n"
     ]
    },
    {
     "name": "stderr",
     "output_type": "stream",
     "text": [
      "100%|██████████| 4015/4015 [00:19<00:00, 210.54it/s]\n"
     ]
    },
    {
     "name": "stdout",
     "output_type": "stream",
     "text": [
      "Epoch 6/30 Train Loss: 1.8554604893306719 Train Acc: 46.796189052867554 Test Loss: 1.82139725885187 Test Acc: 48.59277708592777\n"
     ]
    },
    {
     "name": "stderr",
     "output_type": "stream",
     "text": [
      "100%|██████████| 4015/4015 [00:19<00:00, 210.77it/s]\n"
     ]
    },
    {
     "name": "stdout",
     "output_type": "stream",
     "text": [
      "Epoch 7/30 Train Loss: 1.8317084567039128 Train Acc: 46.89582165763746 Test Loss: 1.849175610568419 Test Acc: 45.50435865504359\n"
     ]
    },
    {
     "name": "stderr",
     "output_type": "stream",
     "text": [
      "100%|██████████| 4015/4015 [00:18<00:00, 211.92it/s]\n"
     ]
    },
    {
     "name": "stdout",
     "output_type": "stream",
     "text": [
      "Epoch 8/30 Train Loss: 1.8655157431496183 Train Acc: 46.92072980882994 Test Loss: 1.8341740288463722 Test Acc: 47.57160647571607\n"
     ]
    },
    {
     "name": "stderr",
     "output_type": "stream",
     "text": [
      "100%|██████████| 4015/4015 [00:18<00:00, 211.60it/s]\n"
     ]
    },
    {
     "name": "stdout",
     "output_type": "stream",
     "text": [
      "Epoch 9/30 Train Loss: 1.8679737417368336 Train Acc: 46.789962015069435 Test Loss: 1.8531240158940692 Test Acc: 47.795765877957656\n"
     ]
    },
    {
     "name": "stderr",
     "output_type": "stream",
     "text": [
      "100%|██████████| 4015/4015 [00:19<00:00, 210.93it/s]\n"
     ]
    },
    {
     "name": "stdout",
     "output_type": "stream",
     "text": [
      "Epoch 10/30 Train Loss: 1.8634775507123502 Train Acc: 46.98922722460925 Test Loss: 1.8369300009244942 Test Acc: 47.447073474470734\n"
     ]
    },
    {
     "name": "stderr",
     "output_type": "stream",
     "text": [
      "100%|██████████| 4015/4015 [00:18<00:00, 211.70it/s]\n"
     ]
    },
    {
     "name": "stdout",
     "output_type": "stream",
     "text": [
      "Epoch 11/30 Train Loss: 1.8638632008103029 Train Acc: 46.88959461983934 Test Loss: 1.8522442740154457 Test Acc: 47.12328767123287\n"
     ]
    },
    {
     "name": "stderr",
     "output_type": "stream",
     "text": [
      "100%|██████████| 4015/4015 [00:18<00:00, 211.34it/s]\n"
     ]
    },
    {
     "name": "stdout",
     "output_type": "stream",
     "text": [
      "Epoch 12/30 Train Loss: 1.849282238848628 Train Acc: 46.85223239305063 Test Loss: 1.8473604002381225 Test Acc: 48.318804483188046\n"
     ]
    },
    {
     "name": "stderr",
     "output_type": "stream",
     "text": [
      "100%|██████████| 4015/4015 [00:19<00:00, 211.21it/s]\n"
     ]
    },
    {
     "name": "stdout",
     "output_type": "stream",
     "text": [
      "Epoch 13/30 Train Loss: 1.8420375259697512 Train Acc: 47.113767980571645 Test Loss: 1.8604987814013227 Test Acc: 45.952677459526775\n"
     ]
    },
    {
     "name": "stderr",
     "output_type": "stream",
     "text": [
      "100%|██████████| 4015/4015 [00:18<00:00, 211.99it/s]\n"
     ]
    },
    {
     "name": "stdout",
     "output_type": "stream",
     "text": [
      "Epoch 14/30 Train Loss: 1.8540922413430505 Train Acc: 46.403885671586025 Test Loss: 1.8628557528335734 Test Acc: 47.17310087173101\n"
     ]
    },
    {
     "name": "stderr",
     "output_type": "stream",
     "text": [
      "100%|██████████| 4015/4015 [00:18<00:00, 212.69it/s]\n"
     ]
    },
    {
     "name": "stdout",
     "output_type": "stream",
     "text": [
      "Epoch 15/30 Train Loss: 1.8252788027449236 Train Acc: 46.322934180210474 Test Loss: 1.8287253687937421 Test Acc: 41.917808219178085\n"
     ]
    },
    {
     "name": "stderr",
     "output_type": "stream",
     "text": [
      "100%|██████████| 4015/4015 [00:19<00:00, 211.21it/s]\n"
     ]
    },
    {
     "name": "stdout",
     "output_type": "stream",
     "text": [
      "Epoch 16/30 Train Loss: 1.8185277380800782 Train Acc: 46.235755651036804 Test Loss: 1.811204276444665 Test Acc: 47.19800747198008\n"
     ]
    },
    {
     "name": "stderr",
     "output_type": "stream",
     "text": [
      "100%|██████████| 4015/4015 [00:18<00:00, 211.46it/s]\n"
     ]
    },
    {
     "name": "stdout",
     "output_type": "stream",
     "text": [
      "Epoch 17/30 Train Loss: 1.8160030762032882 Train Acc: 46.93318388442618 Test Loss: 1.7992861991622058 Test Acc: 46.82440846824409\n"
     ]
    },
    {
     "name": "stderr",
     "output_type": "stream",
     "text": [
      "100%|██████████| 4015/4015 [00:18<00:00, 211.76it/s]\n"
     ]
    },
    {
     "name": "stdout",
     "output_type": "stream",
     "text": [
      "Epoch 18/30 Train Loss: 1.8205630982241328 Train Acc: 46.50351827635594 Test Loss: 1.6874984067185703 Test Acc: 47.073474470734745\n"
     ]
    },
    {
     "name": "stderr",
     "output_type": "stream",
     "text": [
      "100%|██████████| 4015/4015 [00:19<00:00, 209.65it/s]\n"
     ]
    },
    {
     "name": "stdout",
     "output_type": "stream",
     "text": [
      "Epoch 19/30 Train Loss: 1.6305733863343188 Train Acc: 50.78149324366399 Test Loss: 1.525880268778637 Test Acc: 54.99377334993773\n"
     ]
    },
    {
     "name": "stderr",
     "output_type": "stream",
     "text": [
      "100%|██████████| 4015/4015 [00:19<00:00, 211.23it/s]\n"
     ]
    },
    {
     "name": "stdout",
     "output_type": "stream",
     "text": [
      "Epoch 20/30 Train Loss: 1.5514822724775166 Train Acc: 53.61479544180833 Test Loss: 1.4902947968302436 Test Acc: 56.93648816936488\n"
     ]
    },
    {
     "name": "stderr",
     "output_type": "stream",
     "text": [
      "100%|██████████| 4015/4015 [00:18<00:00, 211.96it/s]\n"
     ]
    },
    {
     "name": "stdout",
     "output_type": "stream",
     "text": [
      "Epoch 21/30 Train Loss: 1.5210533999361255 Train Acc: 55.3334578740893 Test Loss: 1.4757842647794828 Test Acc: 58.655043586550434\n"
     ]
    },
    {
     "name": "stderr",
     "output_type": "stream",
     "text": [
      "100%|██████████| 4015/4015 [00:18<00:00, 211.93it/s]\n"
     ]
    },
    {
     "name": "stdout",
     "output_type": "stream",
     "text": [
      "Epoch 22/30 Train Loss: 1.4866263696218691 Train Acc: 57.08948253315898 Test Loss: 1.443180873887094 Test Acc: 58.804483188044834\n"
     ]
    },
    {
     "name": "stderr",
     "output_type": "stream",
     "text": [
      "100%|██████████| 4015/4015 [00:19<00:00, 211.08it/s]\n"
     ]
    },
    {
     "name": "stdout",
     "output_type": "stream",
     "text": [
      "Epoch 23/30 Train Loss: 1.4538515779782426 Train Acc: 58.889096456815494 Test Loss: 1.4078439102838358 Test Acc: 60.99626400996264\n"
     ]
    },
    {
     "name": "stderr",
     "output_type": "stream",
     "text": [
      "100%|██████████| 4015/4015 [00:18<00:00, 211.99it/s]\n"
     ]
    },
    {
     "name": "stdout",
     "output_type": "stream",
     "text": [
      "Epoch 24/30 Train Loss: 1.424250984763446 Train Acc: 59.58029765240675 Test Loss: 1.4802523066875974 Test Acc: 57.80821917808219\n"
     ]
    },
    {
     "name": "stderr",
     "output_type": "stream",
     "text": [
      "100%|██████████| 4015/4015 [00:18<00:00, 212.39it/s]\n"
     ]
    },
    {
     "name": "stdout",
     "output_type": "stream",
     "text": [
      "Epoch 25/30 Train Loss: 1.4136562853842825 Train Acc: 60.29640699919049 Test Loss: 1.399276870501365 Test Acc: 60.971357409713576\n"
     ]
    },
    {
     "name": "stderr",
     "output_type": "stream",
     "text": [
      "100%|██████████| 4015/4015 [00:18<00:00, 212.22it/s]\n"
     ]
    },
    {
     "name": "stdout",
     "output_type": "stream",
     "text": [
      "Epoch 26/30 Train Loss: 1.402120264914527 Train Acc: 60.813251136434396 Test Loss: 1.3301121593597698 Test Acc: 62.640099626400996\n"
     ]
    },
    {
     "name": "stderr",
     "output_type": "stream",
     "text": [
      "100%|██████████| 4015/4015 [00:18<00:00, 211.37it/s]\n"
     ]
    },
    {
     "name": "stdout",
     "output_type": "stream",
     "text": [
      "Epoch 27/30 Train Loss: 1.3768538581550696 Train Acc: 61.39859268945762 Test Loss: 1.3277828499045876 Test Acc: 63.8854296388543\n"
     ]
    },
    {
     "name": "stderr",
     "output_type": "stream",
     "text": [
      "100%|██████████| 4015/4015 [00:18<00:00, 212.11it/s]\n"
     ]
    },
    {
     "name": "stdout",
     "output_type": "stream",
     "text": [
      "Epoch 28/30 Train Loss: 1.3843694616985944 Train Acc: 61.36123046266891 Test Loss: 1.3586053091873123 Test Acc: 62.465753424657535\n"
     ]
    },
    {
     "name": "stderr",
     "output_type": "stream",
     "text": [
      "100%|██████████| 4015/4015 [00:18<00:00, 212.05it/s]\n"
     ]
    },
    {
     "name": "stdout",
     "output_type": "stream",
     "text": [
      "Epoch 29/30 Train Loss: 1.3845828331082568 Train Acc: 61.35500342487079 Test Loss: 1.3441094384436862 Test Acc: 64.18430884184309\n"
     ]
    },
    {
     "name": "stderr",
     "output_type": "stream",
     "text": [
      "100%|██████████| 4015/4015 [00:18<00:00, 211.37it/s]\n"
     ]
    },
    {
     "name": "stdout",
     "output_type": "stream",
     "text": [
      "Epoch 30/30 Train Loss: 1.3599179454983454 Train Acc: 62.1271561118376 Test Loss: 1.4297699978615925 Test Acc: 58.30635118306351\n"
     ]
    }
   ],
   "source": [
    "train_loss, train_acc, test_loss, test_acc = trainRNN(rnn, train_loader, criterion, optimizer, EPOCHS)"
   ]
  },
  {
   "cell_type": "markdown",
   "metadata": {},
   "source": [
    "## Plotting the results"
   ]
  },
  {
   "cell_type": "code",
   "execution_count": 19,
   "metadata": {},
   "outputs": [
    {
     "data": {
      "image/png": "[encoded data removed]",
      "text/plain": [
       "<Figure size 1000x500 with 2 Axes>"
      ]
     },
     "metadata": {},
     "output_type": "display_data"
    }
   ],
   "source": [
    "# plot loss, acc\n",
    "plt.figure(figsize=(10, 5))\n",
    "plt.subplot(1, 2, 1)\n",
    "plt.plot(train_loss, label='train')\n",
    "plt.plot(test_loss, label='test')\n",
    "plt.title('Loss')\n",
    "plt.xlabel('Epochs')\n",
    "plt.ylabel('Loss')\n",
    "plt.legend()\n",
    "\n",
    "plt.subplot(1, 2, 2)\n",
    "plt.plot(train_acc, label='train')\n",
    "plt.plot(test_acc, label='test')\n",
    "plt.title('Accuracy')\n",
    "plt.xlabel('Epochs')\n",
    "plt.ylabel('Accuracy')\n",
    "plt.legend()\n",
    "\n",
    "# title of the plot\n",
    "plt.suptitle('RNN Training Results')\n",
    "plt.show()"
   ]
  },
  {
   "cell_type": "markdown",
   "metadata": {},
   "source": [
    "### RNN\n",
    "- Trained for 30 epochs\n",
    "- Train accuracy : 62.1%\n",
    "- Test accuracy  : 58.3%\n",
    "- Can be trained more"
   ]
  },
  {
   "cell_type": "markdown",
   "metadata": {},
   "source": [
    "# Que 2 (b)\n",
    "## GRU"
   ]
  },
  {
   "cell_type": "code",
   "execution_count": 20,
   "metadata": {},
   "outputs": [
    {
     "data": {
      "text/plain": [
       "GRU(\n",
       "  (gru): GRU(57, 128, batch_first=True)\n",
       "  (h2o): Linear(in_features=128, out_features=18, bias=True)\n",
       "  (softmax): LogSoftmax(dim=1)\n",
       ")"
      ]
     },
     "execution_count": 20,
     "metadata": {},
     "output_type": "execute_result"
    }
   ],
   "source": [
    "class GRU(nn.Module):\n",
    "    def __init__(self, input_size, hidden_size, output_size, num_layers=1):\n",
    "        super(GRU, self).__init__()\n",
    "\n",
    "        self.input_size = input_size\n",
    "        self.hidden_size = hidden_size\n",
    "        self.num_layers = num_layers\n",
    "        self.output_size = output_size\n",
    "\n",
    "        # self.i2h = nn.Linear(input_size, hidden_size)\n",
    "        # self.h2h = nn.Linear(hidden_size, hidden_size)\n",
    "        # Gated Recurrent Unit\n",
    "        self.gru = nn.GRU(input_size, hidden_size, num_layers, batch_first=True)\n",
    "        self.h2o = nn.Linear(hidden_size, output_size)\n",
    "        self.softmax = nn.LogSoftmax(dim=1)\n",
    "\n",
    "    def forward(self, input, hidden):\n",
    "        # hidden = F.tanh(self.i2h(input) + self.h2h(hidden))\n",
    "        output, _ = self.gru(input, hidden)\n",
    "        # output = self.h2o(hidden)\n",
    "        # output = self.softmax(output)\n",
    "        output = self.h2o(output[:, -1, :])\n",
    "        output = self.softmax(output)\n",
    "        return output\n",
    "\n",
    "    def initHidden(self, batch_size):\n",
    "        return torch.zeros(self.num_layers, batch_size, self.hidden_size)\n",
    "\n",
    "n_hidden = 128\n",
    "gru = GRU(n_letters, n_hidden, n_categories)\n",
    "gru.to(device)"
   ]
  },
  {
   "cell_type": "code",
   "execution_count": 21,
   "metadata": {},
   "outputs": [],
   "source": [
    "def testGRU(model, test_loader, criterion):\n",
    "    model.eval()\n",
    "    test_loss = 0.0\n",
    "    correct = 0\n",
    "    total = 0\n",
    "    with torch.no_grad():\n",
    "        for data in test_loader:\n",
    "            inputs, labels = data\n",
    "            inputs, labels = inputs.to(device), labels.to(device)\n",
    "            hidden = model.initHidden(labels.size(0)).to(device)\n",
    "            out = model(inputs, hidden)\n",
    "            loss = criterion(out, labels)\n",
    "            test_loss += loss.item()\n",
    "            _, predicted = torch.max(out, 1)\n",
    "            total += labels.size(0)\n",
    "            correct += (predicted == labels).sum().item()\n",
    "    # print(f'Test Loss: {test_loss / len(test_loader)} Acc: {100 * correct / total}')\n",
    "    return test_loss / len(test_loader), 100 * correct / total"
   ]
  },
  {
   "cell_type": "code",
   "execution_count": 22,
   "metadata": {},
   "outputs": [],
   "source": [
    "def trainGRU(model, train_loader, criterion, optimizer, n_epochs=20):\n",
    "    \n",
    "    train_loss = []\n",
    "    train_acc = []  \n",
    "    test_loss = []\n",
    "    test_acc = []\n",
    "\n",
    "    for epoch in range(n_epochs):\n",
    "        model.train()\n",
    "        running_loss = 0.0\n",
    "        correct = 0\n",
    "        total = 0\n",
    "        for bt, data in enumerate(tqdm(train_loader)):\n",
    "            inputs, labels = data\n",
    "            inputs, labels = inputs.to(device), labels.to(device)\n",
    "            # print(inputs.size())\n",
    "            optimizer.zero_grad()\n",
    "            hidden = model.initHidden(inputs.size(0)).to(device)\n",
    "            output = model(inputs, hidden)\n",
    "            loss = criterion(output, labels)\n",
    "            loss.backward()\n",
    "            optimizer.step()\n",
    "\n",
    "            running_loss += loss.item()\n",
    "            _, predicted = torch.max(output, 1)\n",
    "            total += labels.size(0)\n",
    "            correct += (predicted == labels).sum().item()\n",
    "\n",
    "            # print(f'Epoch {epoch+1}/{n_epochs} Batch {bt+1}/{len(train_loader)} Loss: {loss.item()} Acc: {100 * correct / total}')\n",
    "\n",
    "        train_loss.append(running_loss / len(train_loader))\n",
    "        train_acc.append(100 * correct / total)\n",
    "\n",
    "        test_l, test_a = testGRU(model, test_loader, criterion)\n",
    "        test_loss.append(test_l)\n",
    "        test_acc.append(test_a)\n",
    "\n",
    "        print(f'Epoch {epoch+1}/{n_epochs} Loss: {running_loss / len(train_loader)} Acc: {100 * correct / total} Test Loss: {test_l} Test Acc: {test_a}')\n",
    "    return train_loss, train_acc, test_loss, test_acc"
   ]
  },
  {
   "cell_type": "code",
   "execution_count": 23,
   "metadata": {},
   "outputs": [],
   "source": [
    "criterian = nn.NLLLoss()\n",
    "optimizer = torch.optim.Adam(gru.parameters(), lr=0.001)"
   ]
  },
  {
   "cell_type": "code",
   "execution_count": 24,
   "metadata": {},
   "outputs": [
    {
     "name": "stderr",
     "output_type": "stream",
     "text": [
      "  0%|          | 0/4015 [00:00<?, ?it/s]"
     ]
    },
    {
     "name": "stderr",
     "output_type": "stream",
     "text": [
      "100%|██████████| 4015/4015 [00:20<00:00, 196.28it/s]\n"
     ]
    },
    {
     "name": "stdout",
     "output_type": "stream",
     "text": [
      "Epoch 1/30 Loss: 1.389826173399567 Acc: 58.99495609938352 Test Loss: 1.060260773233817 Test Acc: 69.04109589041096\n"
     ]
    },
    {
     "name": "stderr",
     "output_type": "stream",
     "text": [
      "100%|██████████| 4015/4015 [00:20<00:00, 197.99it/s]\n"
     ]
    },
    {
     "name": "stdout",
     "output_type": "stream",
     "text": [
      "Epoch 2/30 Loss: 0.9185146049807453 Acc: 72.88125038918986 Test Loss: 0.8278364496653672 Test Acc: 75.26774595267746\n"
     ]
    },
    {
     "name": "stderr",
     "output_type": "stream",
     "text": [
      "100%|██████████| 4015/4015 [00:20<00:00, 197.13it/s]\n"
     ]
    },
    {
     "name": "stdout",
     "output_type": "stream",
     "text": [
      "Epoch 3/30 Loss: 0.7383683324511688 Acc: 77.77570209851174 Test Loss: 0.7185659819622098 Test Acc: 79.07845579078456\n"
     ]
    },
    {
     "name": "stderr",
     "output_type": "stream",
     "text": [
      "100%|██████████| 4015/4015 [00:20<00:00, 197.19it/s]\n"
     ]
    },
    {
     "name": "stdout",
     "output_type": "stream",
     "text": [
      "Epoch 4/30 Loss: 0.6348867036887893 Acc: 80.46578242729933 Test Loss: 0.6424096091878271 Test Acc: 80.0747198007472\n"
     ]
    },
    {
     "name": "stderr",
     "output_type": "stream",
     "text": [
      "100%|██████████| 4015/4015 [00:20<00:00, 196.21it/s]\n"
     ]
    },
    {
     "name": "stdout",
     "output_type": "stream",
     "text": [
      "Epoch 5/30 Loss: 0.5590047507420061 Acc: 82.45843452269756 Test Loss: 0.6187035854167174 Test Acc: 81.3200498132005\n"
     ]
    },
    {
     "name": "stderr",
     "output_type": "stream",
     "text": [
      "100%|██████████| 4015/4015 [00:20<00:00, 197.27it/s]\n"
     ]
    },
    {
     "name": "stdout",
     "output_type": "stream",
     "text": [
      "Epoch 6/30 Loss: 0.501565343452347 Acc: 84.14596176598792 Test Loss: 0.6123387611296929 Test Acc: 81.81818181818181\n"
     ]
    },
    {
     "name": "stderr",
     "output_type": "stream",
     "text": [
      "100%|██████████| 4015/4015 [00:20<00:00, 197.55it/s]\n"
     ]
    },
    {
     "name": "stdout",
     "output_type": "stream",
     "text": [
      "Epoch 7/30 Loss: 0.45057976240864517 Acc: 85.44741266579489 Test Loss: 0.6020141611938943 Test Acc: 82.11706102117061\n"
     ]
    },
    {
     "name": "stderr",
     "output_type": "stream",
     "text": [
      "100%|██████████| 4015/4015 [00:20<00:00, 197.06it/s]\n"
     ]
    },
    {
     "name": "stdout",
     "output_type": "stream",
     "text": [
      "Epoch 8/30 Loss: 0.4046632205794146 Acc: 86.82358801917928 Test Loss: 0.6045320719236893 Test Acc: 82.04234122042341\n"
     ]
    },
    {
     "name": "stderr",
     "output_type": "stream",
     "text": [
      "100%|██████████| 4015/4015 [00:20<00:00, 197.62it/s]\n"
     ]
    },
    {
     "name": "stdout",
     "output_type": "stream",
     "text": [
      "Epoch 9/30 Loss: 0.3606349576754116 Acc: 88.18108225916932 Test Loss: 0.6149464914167012 Test Acc: 81.94271481942715\n"
     ]
    },
    {
     "name": "stderr",
     "output_type": "stream",
     "text": [
      "100%|██████████| 4015/4015 [00:20<00:00, 198.28it/s]\n"
     ]
    },
    {
     "name": "stdout",
     "output_type": "stream",
     "text": [
      "Epoch 10/30 Loss: 0.32500542928927545 Acc: 89.02173236191544 Test Loss: 0.6663551349415358 Test Acc: 81.44458281444582\n"
     ]
    },
    {
     "name": "stderr",
     "output_type": "stream",
     "text": [
      "100%|██████████| 4015/4015 [00:20<00:00, 197.48it/s]\n"
     ]
    },
    {
     "name": "stdout",
     "output_type": "stream",
     "text": [
      "Epoch 11/30 Loss: 0.28646299647775714 Acc: 90.5162214334641 Test Loss: 0.6588563923424161 Test Acc: 81.5442092154421\n"
     ]
    },
    {
     "name": "stderr",
     "output_type": "stream",
     "text": [
      "100%|██████████| 4015/4015 [00:20<00:00, 198.06it/s]\n"
     ]
    },
    {
     "name": "stdout",
     "output_type": "stream",
     "text": [
      "Epoch 12/30 Loss: 0.2564359140596497 Acc: 91.06420075969861 Test Loss: 0.6989678530372292 Test Acc: 81.69364881693649\n"
     ]
    },
    {
     "name": "stderr",
     "output_type": "stream",
     "text": [
      "100%|██████████| 4015/4015 [00:20<00:00, 198.66it/s]\n"
     ]
    },
    {
     "name": "stdout",
     "output_type": "stream",
     "text": [
      "Epoch 13/30 Loss: 0.22851301210673736 Acc: 92.02939161840712 Test Loss: 0.7164746392626624 Test Acc: 81.5442092154421\n"
     ]
    },
    {
     "name": "stderr",
     "output_type": "stream",
     "text": [
      "100%|██████████| 4015/4015 [00:20<00:00, 199.03it/s]\n"
     ]
    },
    {
     "name": "stdout",
     "output_type": "stream",
     "text": [
      "Epoch 14/30 Loss: 0.2112077422947244 Acc: 92.50887352886232 Test Loss: 0.7319669071951856 Test Acc: 81.51930261519303\n"
     ]
    },
    {
     "name": "stderr",
     "output_type": "stream",
     "text": [
      "100%|██████████| 4015/4015 [00:20<00:00, 198.07it/s]\n"
     ]
    },
    {
     "name": "stdout",
     "output_type": "stream",
     "text": [
      "Epoch 15/30 Loss: 0.19264796134040368 Acc: 93.12535027087614 Test Loss: 0.7730950242329501 Test Acc: 81.49439601494396\n"
     ]
    },
    {
     "name": "stderr",
     "output_type": "stream",
     "text": [
      "100%|██████████| 4015/4015 [00:20<00:00, 197.19it/s]\n"
     ]
    },
    {
     "name": "stdout",
     "output_type": "stream",
     "text": [
      "Epoch 16/30 Loss: 0.17502555783762042 Acc: 93.86014073105424 Test Loss: 0.8439563080813628 Test Acc: 80.72229140722291\n"
     ]
    },
    {
     "name": "stderr",
     "output_type": "stream",
     "text": [
      "100%|██████████| 4015/4015 [00:20<00:00, 198.40it/s]\n"
     ]
    },
    {
     "name": "stdout",
     "output_type": "stream",
     "text": [
      "Epoch 17/30 Loss: 0.1623933560123386 Acc: 94.33962264150944 Test Loss: 0.8397650951184984 Test Acc: 80.34869240348692\n"
     ]
    },
    {
     "name": "stderr",
     "output_type": "stream",
     "text": [
      "100%|██████████| 4015/4015 [00:20<00:00, 198.12it/s]\n"
     ]
    },
    {
     "name": "stdout",
     "output_type": "stream",
     "text": [
      "Epoch 18/30 Loss: 0.15535441104682576 Acc: 94.4890715486643 Test Loss: 0.8460973947710458 Test Acc: 80.92154420921544\n"
     ]
    },
    {
     "name": "stderr",
     "output_type": "stream",
     "text": [
      "100%|██████████| 4015/4015 [00:20<00:00, 197.22it/s]\n"
     ]
    },
    {
     "name": "stdout",
     "output_type": "stream",
     "text": [
      "Epoch 19/30 Loss: 0.15038443412913297 Acc: 94.66342860701164 Test Loss: 0.8674184968615507 Test Acc: 81.02117061021171\n"
     ]
    },
    {
     "name": "stderr",
     "output_type": "stream",
     "text": [
      "100%|██████████| 4015/4015 [00:20<00:00, 197.72it/s]\n"
     ]
    },
    {
     "name": "stdout",
     "output_type": "stream",
     "text": [
      "Epoch 20/30 Loss: 0.13909246143419982 Acc: 95.02459679930257 Test Loss: 0.8670110166949782 Test Acc: 81.14570361145704\n"
     ]
    },
    {
     "name": "stderr",
     "output_type": "stream",
     "text": [
      "100%|██████████| 4015/4015 [00:20<00:00, 198.29it/s]\n"
     ]
    },
    {
     "name": "stdout",
     "output_type": "stream",
     "text": [
      "Epoch 21/30 Loss: 0.13595567359408336 Acc: 95.05573198829318 Test Loss: 0.8974185073844921 Test Acc: 81.19551681195517\n"
     ]
    },
    {
     "name": "stderr",
     "output_type": "stream",
     "text": [
      "100%|██████████| 4015/4015 [00:20<00:00, 198.32it/s]\n"
     ]
    },
    {
     "name": "stdout",
     "output_type": "stream",
     "text": [
      "Epoch 22/30 Loss: 0.13214862375110695 Acc: 95.20518089544804 Test Loss: 0.9166621255220084 Test Acc: 80.62266500622665\n"
     ]
    },
    {
     "name": "stderr",
     "output_type": "stream",
     "text": [
      "100%|██████████| 4015/4015 [00:20<00:00, 197.51it/s]\n"
     ]
    },
    {
     "name": "stdout",
     "output_type": "stream",
     "text": [
      "Epoch 23/30 Loss: 0.1294329022251603 Acc: 95.34217572700666 Test Loss: 0.908421081305908 Test Acc: 81.1706102117061\n"
     ]
    },
    {
     "name": "stderr",
     "output_type": "stream",
     "text": [
      "100%|██████████| 4015/4015 [00:20<00:00, 198.20it/s]\n"
     ]
    },
    {
     "name": "stdout",
     "output_type": "stream",
     "text": [
      "Epoch 24/30 Loss: 0.12262197823281386 Acc: 95.59748427672956 Test Loss: 0.9531422751744989 Test Acc: 80.94645080946451\n"
     ]
    },
    {
     "name": "stderr",
     "output_type": "stream",
     "text": [
      "100%|██████████| 4015/4015 [00:20<00:00, 198.29it/s]\n"
     ]
    },
    {
     "name": "stdout",
     "output_type": "stream",
     "text": [
      "Epoch 25/30 Loss: 0.12342758323106094 Acc: 95.50407870975776 Test Loss: 0.922303065283655 Test Acc: 80.74719800747198\n"
     ]
    },
    {
     "name": "stderr",
     "output_type": "stream",
     "text": [
      "100%|██████████| 4015/4015 [00:20<00:00, 197.57it/s]\n"
     ]
    },
    {
     "name": "stdout",
     "output_type": "stream",
     "text": [
      "Epoch 26/30 Loss: 0.11669840943417242 Acc: 95.62861946572016 Test Loss: 0.9636846333662152 Test Acc: 80.8717310087173\n"
     ]
    },
    {
     "name": "stderr",
     "output_type": "stream",
     "text": [
      "100%|██████████| 4015/4015 [00:20<00:00, 196.55it/s]\n"
     ]
    },
    {
     "name": "stdout",
     "output_type": "stream",
     "text": [
      "Epoch 27/30 Loss: 0.12028013531279416 Acc: 95.54144093654648 Test Loss: 0.9438036027858312 Test Acc: 81.44458281444582\n"
     ]
    },
    {
     "name": "stderr",
     "output_type": "stream",
     "text": [
      "100%|██████████| 4015/4015 [00:20<00:00, 198.36it/s]\n"
     ]
    },
    {
     "name": "stdout",
     "output_type": "stream",
     "text": [
      "Epoch 28/30 Loss: 0.11527298678924512 Acc: 95.8963820910393 Test Loss: 0.958290747974346 Test Acc: 80.67247820672478\n"
     ]
    },
    {
     "name": "stderr",
     "output_type": "stream",
     "text": [
      "100%|██████████| 4015/4015 [00:20<00:00, 197.59it/s]\n"
     ]
    },
    {
     "name": "stdout",
     "output_type": "stream",
     "text": [
      "Epoch 29/30 Loss: 0.1167640727035078 Acc: 95.62239242792204 Test Loss: 0.9613178048917318 Test Acc: 80.67247820672478\n"
     ]
    },
    {
     "name": "stderr",
     "output_type": "stream",
     "text": [
      "100%|██████████| 4015/4015 [00:20<00:00, 197.60it/s]\n"
     ]
    },
    {
     "name": "stdout",
     "output_type": "stream",
     "text": [
      "Epoch 30/30 Loss: 0.10573175844120203 Acc: 96.00846877140545 Test Loss: 0.9776431226814125 Test Acc: 80.97135740971358\n"
     ]
    }
   ],
   "source": [
    "train_loss, train_acc, test_loss, test_acc = trainGRU(gru, train_loader, criterion, optimizer, n_epochs=EPOCHS)"
   ]
  },
  {
   "cell_type": "code",
   "execution_count": 25,
   "metadata": {},
   "outputs": [
    {
     "data": {
      "image/png": "[encoded data removed]",
      "text/plain": [
       "<Figure size 1000x500 with 2 Axes>"
      ]
     },
     "metadata": {},
     "output_type": "display_data"
    }
   ],
   "source": [
    "# plot loss, acc\n",
    "plt.figure(figsize=(10, 5))\n",
    "plt.subplot(1, 2, 1)\n",
    "plt.plot(train_loss, label='train')\n",
    "plt.plot(test_loss, label='test')\n",
    "plt.title('Loss')\n",
    "plt.xlabel('Epochs')\n",
    "plt.ylabel('Loss')\n",
    "plt.legend()\n",
    "\n",
    "plt.subplot(1, 2, 2)\n",
    "plt.plot(train_acc, label='train')\n",
    "plt.plot(test_acc, label='test')\n",
    "plt.title('Accuracy')\n",
    "plt.xlabel('Epochs')\n",
    "plt.ylabel('Accuracy')\n",
    "plt.legend()\n",
    "\n",
    "# title of the plot\n",
    "plt.suptitle('GRU Training Results')\n",
    "plt.show()"
   ]
  },
  {
   "cell_type": "markdown",
   "metadata": {},
   "source": [
    "### GRU\n",
    "- Trained for 30 epochs\n",
    "- Saturatino in test acurrcy after 5 epochs\n",
    "- Train accuracy : 96%\n",
    "- Test accuracy  : 81%"
   ]
  },
  {
   "cell_type": "markdown",
   "metadata": {},
   "source": [
    "# Que 2 (c)\n",
    "## LSTM"
   ]
  },
  {
   "cell_type": "code",
   "execution_count": 26,
   "metadata": {},
   "outputs": [
    {
     "data": {
      "text/plain": [
       "LSTM(\n",
       "  (lstm): LSTM(57, 128, batch_first=True)\n",
       "  (h2o): Linear(in_features=128, out_features=18, bias=True)\n",
       "  (softmax): LogSoftmax(dim=1)\n",
       ")"
      ]
     },
     "execution_count": 26,
     "metadata": {},
     "output_type": "execute_result"
    }
   ],
   "source": [
    "class LSTM(nn.Module):\n",
    "    def __init__(self, input_size, hidden_size, output_size, num_layers=1):\n",
    "        super(LSTM, self).__init__()\n",
    "\n",
    "        self.input_size = input_size\n",
    "        self.hidden_size = hidden_size\n",
    "        self.output_size = output_size\n",
    "        self.num_layers = num_layers\n",
    "    \n",
    "        # self.i2h = nn.Linear(input_size, hidden_size)\n",
    "        # self.h2h = nn.Linear(hidden_size, hidden_size)\n",
    "        # Long Short-Term Memory\n",
    "        self.lstm = nn.LSTM(input_size, hidden_size, num_layers, batch_first=True)\n",
    "        self.h2o = nn.Linear(hidden_size, output_size)\n",
    "        self.softmax = nn.LogSoftmax(dim=1)\n",
    "\n",
    "    def forward(self, input, hidden, cell_state):\n",
    "        # hidden = F.tanh(self.i2h(input) + self.h2h(hidden))\n",
    "        output, _ = self.lstm(input, (hidden, cell_state))\n",
    "        output = self.h2o(output[:, -1 , :])\n",
    "        output = self.softmax(output)\n",
    "        return output\n",
    "\n",
    "    def initHidden(self, batch_size):\n",
    "        return torch.zeros(self.num_layers, batch_size, self.hidden_size)\n",
    "\n",
    "n_hidden = 128\n",
    "lstm = LSTM(n_letters, n_hidden, n_categories)\n",
    "lstm.to(device)"
   ]
  },
  {
   "cell_type": "code",
   "execution_count": 27,
   "metadata": {},
   "outputs": [],
   "source": [
    "criterion = nn.NLLLoss()\n",
    "optimizer = torch.optim.Adam(lstm.parameters(), lr=0.001)"
   ]
  },
  {
   "cell_type": "code",
   "execution_count": 28,
   "metadata": {},
   "outputs": [],
   "source": [
    "def testLSTM(model, test_loader, criterion):\n",
    "    model.eval()\n",
    "    test_loss = 0.0\n",
    "    correct = 0\n",
    "    total = 0\n",
    "    for bt, data in enumerate(test_loader):\n",
    "        inputs, labels = data\n",
    "        inputs, labels = inputs.to(device), labels.to(device)\n",
    "        hidden = model.initHidden(inputs.size(0)).to(device)\n",
    "        cell_state = model.initHidden(inputs.size(0)).to(device)\n",
    "        output = model(inputs, hidden, cell_state)\n",
    "        loss = criterion(output, labels)\n",
    "        test_loss += loss.item()\n",
    "        _, predicted = torch.max(output, 1)\n",
    "        total += labels.size(0)\n",
    "        correct += (predicted == labels).sum().item()\n",
    "    return test_loss / len(test_loader), 100 * correct / total"
   ]
  },
  {
   "cell_type": "code",
   "execution_count": 29,
   "metadata": {},
   "outputs": [],
   "source": [
    "def trainLSTM(model, train_loader, criterion, optimizer, n_epochs=20):\n",
    "    train_loss = []\n",
    "    train_acc = []  \n",
    "    test_loss = []\n",
    "    test_acc = []\n",
    "\n",
    "    for epoch in range(n_epochs):\n",
    "        model.train()\n",
    "        running_loss = 0.0\n",
    "        correct = 0\n",
    "        total = 0\n",
    "        for bt, data in enumerate(tqdm(train_loader)):\n",
    "            inputs, labels = data\n",
    "            inputs, labels = inputs.to(device), labels.to(device)\n",
    "            optimizer.zero_grad()\n",
    "            hidden = model.initHidden(inputs.size(0)).to(device)\n",
    "            cell_state = model.initHidden(inputs.size(0)).to(device)\n",
    "            output = model(inputs, hidden, cell_state)\n",
    "            loss = criterion(output, labels)\n",
    "            loss.backward()\n",
    "            optimizer.step()\n",
    "\n",
    "            running_loss += loss.item()\n",
    "            _, predicted = torch.max(output, 1)\n",
    "            total += labels.size(0)\n",
    "            correct += (predicted == labels).sum().item()\n",
    "\n",
    "            # print(f'Epoch {epoch+1}/{n_epochs} Batch {bt+1}/{len(train_loader)} Loss: {loss.item()} Acc: {100 * correct / total}')\n",
    "    \n",
    "        train_loss.append(running_loss / len(train_loader))\n",
    "        train_acc.append(100 * correct / total)\n",
    "\n",
    "        e_test_loss, e_test_acc = testLSTM(model, test_loader, criterion)\n",
    "        test_loss.append(e_test_loss)\n",
    "        test_acc.append(e_test_acc)\n",
    "\n",
    "        print(f'Epoch {epoch+1}/{n_epochs} Loss: {running_loss / len(train_loader)} Acc: {100 * correct / total} Test Loss: {e_test_loss} Test Acc: {e_test_acc}')\n",
    "    return train_loss, train_acc, test_loss, test_acc"
   ]
  },
  {
   "cell_type": "code",
   "execution_count": 30,
   "metadata": {},
   "outputs": [
    {
     "name": "stderr",
     "output_type": "stream",
     "text": [
      "  0%|          | 0/4015 [00:00<?, ?it/s]"
     ]
    },
    {
     "name": "stderr",
     "output_type": "stream",
     "text": [
      "100%|██████████| 4015/4015 [00:21<00:00, 187.03it/s]\n"
     ]
    },
    {
     "name": "stdout",
     "output_type": "stream",
     "text": [
      "Epoch 1/30 Loss: 1.7830425922305393 Acc: 48.45880814496544 Test Loss: 1.4874003120137758 Test Acc: 54.52054794520548\n"
     ]
    },
    {
     "name": "stderr",
     "output_type": "stream",
     "text": [
      "100%|██████████| 4015/4015 [00:21<00:00, 188.22it/s]\n"
     ]
    },
    {
     "name": "stdout",
     "output_type": "stream",
     "text": [
      "Epoch 2/30 Loss: 1.3810469377593393 Acc: 60.57662370010586 Test Loss: 1.2425747758141195 Test Acc: 65.0560398505604\n"
     ]
    },
    {
     "name": "stderr",
     "output_type": "stream",
     "text": [
      "100%|██████████| 4015/4015 [00:21<00:00, 188.58it/s]\n"
     ]
    },
    {
     "name": "stdout",
     "output_type": "stream",
     "text": [
      "Epoch 3/30 Loss: 1.1629924309326876 Acc: 67.87471199950184 Test Loss: 1.0878955954286933 Test Acc: 69.14072229140723\n"
     ]
    },
    {
     "name": "stderr",
     "output_type": "stream",
     "text": [
      "100%|██████████| 4015/4015 [00:21<00:00, 188.40it/s]\n"
     ]
    },
    {
     "name": "stdout",
     "output_type": "stream",
     "text": [
      "Epoch 4/30 Loss: 0.9538014978281736 Acc: 72.9248396537767 Test Loss: 0.8861975096690466 Test Acc: 75.093399750934\n"
     ]
    },
    {
     "name": "stderr",
     "output_type": "stream",
     "text": [
      "100%|██████████| 4015/4015 [00:21<00:00, 187.64it/s]\n"
     ]
    },
    {
     "name": "stdout",
     "output_type": "stream",
     "text": [
      "Epoch 5/30 Loss: 0.8087390729998456 Acc: 76.78560308861074 Test Loss: 0.8026321695238492 Test Acc: 76.4881693648817\n"
     ]
    },
    {
     "name": "stderr",
     "output_type": "stream",
     "text": [
      "100%|██████████| 4015/4015 [00:21<00:00, 188.53it/s]\n"
     ]
    },
    {
     "name": "stdout",
     "output_type": "stream",
     "text": [
      "Epoch 6/30 Loss: 0.715053190259026 Acc: 78.64126035245035 Test Loss: 0.791864967766307 Test Acc: 76.43835616438356\n"
     ]
    },
    {
     "name": "stderr",
     "output_type": "stream",
     "text": [
      "100%|██████████| 4015/4015 [00:21<00:00, 187.84it/s]\n"
     ]
    },
    {
     "name": "stdout",
     "output_type": "stream",
     "text": [
      "Epoch 7/30 Loss: 0.6481735488601017 Acc: 80.34124167133695 Test Loss: 0.6974272705116468 Test Acc: 79.47696139476962\n"
     ]
    },
    {
     "name": "stderr",
     "output_type": "stream",
     "text": [
      "100%|██████████| 4015/4015 [00:21<00:00, 188.17it/s]\n"
     ]
    },
    {
     "name": "stdout",
     "output_type": "stream",
     "text": [
      "Epoch 8/30 Loss: 0.5921895523108762 Acc: 81.63646553334578 Test Loss: 0.6634980996062646 Test Acc: 80.82191780821918\n"
     ]
    },
    {
     "name": "stderr",
     "output_type": "stream",
     "text": [
      "100%|██████████| 4015/4015 [00:21<00:00, 187.71it/s]\n"
     ]
    },
    {
     "name": "stdout",
     "output_type": "stream",
     "text": [
      "Epoch 9/30 Loss: 0.5386310172322132 Acc: 83.36758204122299 Test Loss: 0.6586213733047683 Test Acc: 80.52303860523038\n"
     ]
    },
    {
     "name": "stderr",
     "output_type": "stream",
     "text": [
      "100%|██████████| 4015/4015 [00:21<00:00, 188.52it/s]\n"
     ]
    },
    {
     "name": "stdout",
     "output_type": "stream",
     "text": [
      "Epoch 10/30 Loss: 0.4901306951670885 Acc: 84.22068621956535 Test Loss: 0.6467019966882194 Test Acc: 81.1706102117061\n"
     ]
    },
    {
     "name": "stderr",
     "output_type": "stream",
     "text": [
      "100%|██████████| 4015/4015 [00:21<00:00, 188.34it/s]\n"
     ]
    },
    {
     "name": "stdout",
     "output_type": "stream",
     "text": [
      "Epoch 11/30 Loss: 0.4519270456152675 Acc: 85.69649417771966 Test Loss: 0.6229730663119833 Test Acc: 81.51930261519303\n"
     ]
    },
    {
     "name": "stderr",
     "output_type": "stream",
     "text": [
      "100%|██████████| 4015/4015 [00:21<00:00, 188.20it/s]\n"
     ]
    },
    {
     "name": "stdout",
     "output_type": "stream",
     "text": [
      "Epoch 12/30 Loss: 0.4100565867280211 Acc: 86.860950245968 Test Loss: 0.6552347864529281 Test Acc: 81.04607721046077\n"
     ]
    },
    {
     "name": "stderr",
     "output_type": "stream",
     "text": [
      "100%|██████████| 4015/4015 [00:21<00:00, 187.46it/s]\n"
     ]
    },
    {
     "name": "stdout",
     "output_type": "stream",
     "text": [
      "Epoch 13/30 Loss: 0.3778180624718915 Acc: 87.98804408742761 Test Loss: 0.6580697322760418 Test Acc: 81.1706102117061\n"
     ]
    },
    {
     "name": "stderr",
     "output_type": "stream",
     "text": [
      "100%|██████████| 4015/4015 [00:21<00:00, 188.06it/s]\n"
     ]
    },
    {
     "name": "stdout",
     "output_type": "stream",
     "text": [
      "Epoch 14/30 Loss: 0.34567479118088223 Acc: 88.69169935861511 Test Loss: 0.6328068874735856 Test Acc: 82.66500622665006\n"
     ]
    },
    {
     "name": "stderr",
     "output_type": "stream",
     "text": [
      "100%|██████████| 4015/4015 [00:21<00:00, 188.25it/s]\n"
     ]
    },
    {
     "name": "stdout",
     "output_type": "stream",
     "text": [
      "Epoch 15/30 Loss: 0.3231051799460284 Acc: 89.45139796998568 Test Loss: 0.6586318373688028 Test Acc: 81.64383561643835\n"
     ]
    },
    {
     "name": "stderr",
     "output_type": "stream",
     "text": [
      "100%|██████████| 4015/4015 [00:21<00:00, 187.89it/s]\n"
     ]
    },
    {
     "name": "stdout",
     "output_type": "stream",
     "text": [
      "Epoch 16/30 Loss: 0.2928891614386419 Acc: 90.26713992153933 Test Loss: 0.6780282356444087 Test Acc: 82.04234122042341\n"
     ]
    },
    {
     "name": "stderr",
     "output_type": "stream",
     "text": [
      "100%|██████████| 4015/4015 [00:21<00:00, 188.64it/s]\n"
     ]
    },
    {
     "name": "stdout",
     "output_type": "stream",
     "text": [
      "Epoch 17/30 Loss: 0.2690309429427606 Acc: 91.21364966685348 Test Loss: 0.7113553480515387 Test Acc: 81.46948941469489\n"
     ]
    },
    {
     "name": "stderr",
     "output_type": "stream",
     "text": [
      "100%|██████████| 4015/4015 [00:21<00:00, 187.87it/s]\n"
     ]
    },
    {
     "name": "stdout",
     "output_type": "stream",
     "text": [
      "Epoch 18/30 Loss: 0.2520117390623494 Acc: 91.68067750171244 Test Loss: 0.6815961920021538 Test Acc: 82.39103362391033\n"
     ]
    },
    {
     "name": "stderr",
     "output_type": "stream",
     "text": [
      "100%|██████████| 4015/4015 [00:21<00:00, 188.78it/s]\n"
     ]
    },
    {
     "name": "stdout",
     "output_type": "stream",
     "text": [
      "Epoch 19/30 Loss: 0.233904588954009 Acc: 92.30960831932249 Test Loss: 0.7859794983354469 Test Acc: 81.5442092154421\n"
     ]
    },
    {
     "name": "stderr",
     "output_type": "stream",
     "text": [
      "100%|██████████| 4015/4015 [00:21<00:00, 187.76it/s]\n"
     ]
    },
    {
     "name": "stdout",
     "output_type": "stream",
     "text": [
      "Epoch 20/30 Loss: 0.21418045242062955 Acc: 92.65832243601719 Test Loss: 0.7607560862753583 Test Acc: 81.36986301369863\n"
     ]
    },
    {
     "name": "stderr",
     "output_type": "stream",
     "text": [
      "100%|██████████| 4015/4015 [00:21<00:00, 188.29it/s]\n"
     ]
    },
    {
     "name": "stdout",
     "output_type": "stream",
     "text": [
      "Epoch 21/30 Loss: 0.20053665629033304 Acc: 93.44292919858023 Test Loss: 0.7869329006902969 Test Acc: 81.27023661270236\n"
     ]
    },
    {
     "name": "stderr",
     "output_type": "stream",
     "text": [
      "100%|██████████| 4015/4015 [00:21<00:00, 188.32it/s]\n"
     ]
    },
    {
     "name": "stdout",
     "output_type": "stream",
     "text": [
      "Epoch 22/30 Loss: 0.18625304278837204 Acc: 93.71069182389937 Test Loss: 0.8427445755180567 Test Acc: 80.47322540473225\n"
     ]
    },
    {
     "name": "stderr",
     "output_type": "stream",
     "text": [
      "100%|██████████| 4015/4015 [00:21<00:00, 187.76it/s]\n"
     ]
    },
    {
     "name": "stdout",
     "output_type": "stream",
     "text": [
      "Epoch 23/30 Loss: 0.17576431380286062 Acc: 94.14658446976773 Test Loss: 0.8302438531036681 Test Acc: 81.22042341220424\n"
     ]
    },
    {
     "name": "stderr",
     "output_type": "stream",
     "text": [
      "100%|██████████| 4015/4015 [00:21<00:00, 186.84it/s]\n"
     ]
    },
    {
     "name": "stdout",
     "output_type": "stream",
     "text": [
      "Epoch 24/30 Loss: 0.1718782344928356 Acc: 94.10922224297902 Test Loss: 0.8090136737115998 Test Acc: 81.02117061021171\n"
     ]
    },
    {
     "name": "stderr",
     "output_type": "stream",
     "text": [
      "100%|██████████| 4015/4015 [00:21<00:00, 188.23it/s]\n"
     ]
    },
    {
     "name": "stdout",
     "output_type": "stream",
     "text": [
      "Epoch 25/30 Loss: 0.16269460837691857 Acc: 94.43925524627934 Test Loss: 0.847895044033736 Test Acc: 81.3200498132005\n"
     ]
    },
    {
     "name": "stderr",
     "output_type": "stream",
     "text": [
      "100%|██████████| 4015/4015 [00:21<00:00, 188.04it/s]\n"
     ]
    },
    {
     "name": "stdout",
     "output_type": "stream",
     "text": [
      "Epoch 26/30 Loss: 0.15167267568443363 Acc: 94.81287751416652 Test Loss: 0.8392765897837657 Test Acc: 80.12453300124533\n"
     ]
    },
    {
     "name": "stderr",
     "output_type": "stream",
     "text": [
      "100%|██████████| 4015/4015 [00:21<00:00, 187.64it/s]\n"
     ]
    },
    {
     "name": "stdout",
     "output_type": "stream",
     "text": [
      "Epoch 27/30 Loss: 0.1436304316319197 Acc: 94.86269381655147 Test Loss: 0.8962051586574158 Test Acc: 80.82191780821918\n"
     ]
    },
    {
     "name": "stderr",
     "output_type": "stream",
     "text": [
      "100%|██████████| 4015/4015 [00:21<00:00, 187.78it/s]\n"
     ]
    },
    {
     "name": "stdout",
     "output_type": "stream",
     "text": [
      "Epoch 28/30 Loss: 0.13660409375991203 Acc: 95.3546298026029 Test Loss: 0.8902897256525211 Test Acc: 81.04607721046077\n"
     ]
    },
    {
     "name": "stderr",
     "output_type": "stream",
     "text": [
      "100%|██████████| 4015/4015 [00:21<00:00, 187.82it/s]\n"
     ]
    },
    {
     "name": "stdout",
     "output_type": "stream",
     "text": [
      "Epoch 29/30 Loss: 0.13447483331127885 Acc: 95.32972165141042 Test Loss: 0.9018745848871219 Test Acc: 80.99626400996264\n"
     ]
    },
    {
     "name": "stderr",
     "output_type": "stream",
     "text": [
      "100%|██████████| 4015/4015 [00:21<00:00, 187.81it/s]\n"
     ]
    },
    {
     "name": "stdout",
     "output_type": "stream",
     "text": [
      "Epoch 30/30 Loss: 0.13375117634506736 Acc: 95.25499719783299 Test Loss: 0.9180197370352525 Test Acc: 80.92154420921544\n"
     ]
    }
   ],
   "source": [
    "train_loss, train_acc, test_loss, test_acc = trainLSTM(lstm, train_loader, criterion, optimizer, n_epochs=EPOCHS)"
   ]
  },
  {
   "cell_type": "code",
   "execution_count": 31,
   "metadata": {},
   "outputs": [
    {
     "data": {
      "image/png": "[encoded data removed]",
      "text/plain": [
       "<Figure size 1000x500 with 2 Axes>"
      ]
     },
     "metadata": {},
     "output_type": "display_data"
    }
   ],
   "source": [
    "# plot loss, acc\n",
    "plt.figure(figsize=(10, 5))\n",
    "plt.subplot(1, 2, 1)\n",
    "plt.plot(train_loss, label='train')\n",
    "plt.plot(test_loss, label='test')\n",
    "plt.title('Loss')\n",
    "plt.xlabel('Epochs')\n",
    "plt.ylabel('Loss')\n",
    "plt.legend()\n",
    "\n",
    "plt.subplot(1, 2, 2)\n",
    "plt.plot(train_acc, label='train')\n",
    "plt.plot(test_acc, label='test')\n",
    "plt.title('Accuracy')\n",
    "plt.xlabel('Epochs')\n",
    "plt.ylabel('Accuracy')\n",
    "plt.legend()\n",
    "\n",
    "# title of the plot\n",
    "plt.suptitle('LSTM Training Results')\n",
    "plt.show()"
   ]
  },
  {
   "cell_type": "markdown",
   "metadata": {},
   "source": [
    "### LSTM\n",
    "- Trained for 30 epochs\n",
    "- Saturatino in test acurrcy after 10 epochs\n",
    "- Train accuracy : 95%\n",
    "- Test accuracy  : 81%"
   ]
  },
  {
   "cell_type": "markdown",
   "metadata": {},
   "source": [
    "### Comparision between RNN, GRU, LSTM\n",
    "- Training all models for 30 epochs with same initial learning rate of 0.001\n",
    "- Train Accuracy : RNN (62.1%) < GRU (96 %) ~= LSTM (95%)\n",
    "- Test Accuracy  : RNN (58.3%) < GRU (81 %) ~= LSTM (81%)"
   ]
  }
 ],
 "metadata": {
  "kernelspec": {
   "display_name": "myenv",
   "language": "python",
   "name": "python3"
  },
  "language_info": {
   "codemirror_mode": {
    "name": "ipython",
    "version": 3
   },
   "file_extension": ".py",
   "mimetype": "text/x-python",
   "name": "python",
   "nbconvert_exporter": "python",
   "pygments_lexer": "ipython3",
   "version": "3.12.7"
  }
 },
 "nbformat": 4,
 "nbformat_minor": 2
}
