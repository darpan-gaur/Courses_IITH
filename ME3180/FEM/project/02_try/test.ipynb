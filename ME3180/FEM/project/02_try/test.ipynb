{
 "cells": [
  {
   "cell_type": "code",
   "execution_count": 2,
   "metadata": {},
   "outputs": [],
   "source": [
    "import numpy as np"
   ]
  },
  {
   "cell_type": "code",
   "execution_count": 12,
   "metadata": {},
   "outputs": [
    {
     "name": "stdout",
     "output_type": "stream",
     "text": [
      "[[ 4.66666667e+06  1.40000000e+07 -4.66666667e+06  1.40000000e+07\n",
      "   0.00000000e+00  0.00000000e+00]\n",
      " [ 1.40000000e+07  5.60000000e+07 -1.40000000e+07  2.80000000e+07\n",
      "   0.00000000e+00  0.00000000e+00]\n",
      " [-4.66666667e+06 -1.40000000e+07  1.03333333e+07  0.00000000e+00\n",
      "  -4.66666667e+06  1.40000000e+07]\n",
      " [ 1.40000000e+07  2.80000000e+07  0.00000000e+00  1.12000000e+08\n",
      "  -1.40000000e+07  2.80000000e+07]\n",
      " [ 0.00000000e+00  0.00000000e+00 -4.66666667e+06 -1.40000000e+07\n",
      "   4.66666667e+06 -1.40000000e+07]\n",
      " [ 0.00000000e+00  0.00000000e+00  1.40000000e+07  2.80000000e+07\n",
      "  -1.40000000e+07  5.60000000e+07]]\n",
      "[  3.         -4.5000105  12.000006  -94.5000045  -3.000006   51.000021 ]\n"
     ]
    }
   ],
   "source": [
    "E = 210e9\n",
    "I = 4e-4\n",
    "L = 12\n",
    "\n",
    "# integration of two functions\n",
    "def integrate(f, g, a, b, n, le):\n",
    "    h = (b - a) / n\n",
    "    s = 0.5 * (f(a) * g(a, le) + f(b) * g(b, le))\n",
    "    for i in range(1, n):\n",
    "        s += f(a + i * h) * g(a + i * h, le)\n",
    "    return s * h\n",
    "\n",
    "def f_l(x):\n",
    "    # return -10000*(6-x)/6\n",
    "    return 1\n",
    "\n",
    "def f_r(x):\n",
    "    # return -10000*(x-6)/6\n",
    "    return 1\n",
    "\n",
    "# g(x) contains 4 functions. integrate f(x) with each of them\n",
    "def g(x, L):\n",
    "    g1 = 1-(3*x**2)/(L**2) + (2*x**3)/(L**3)\n",
    "    g2 = x-(2*x**2)/(L) + (x**3)/(L**3)\n",
    "    g3 = (3*x**2)/(L**2) - (2*x**3)/(L**3)\n",
    "    g4 = -(x**2)/(L) + (x**3)/(L**2)\n",
    "    return np.array([g1, g2, g3, g4])\n",
    "\n",
    "# F = integrate(f, g, 0, L, 1000)\n",
    "# print(F)\n",
    "\n",
    "def get_kel(L):\n",
    "    return E*I/L**3 * np.array([[12, 6*L, -12, 6*L], [6*L, 4*L**2, -6*L, 2*L**2], [-12, -6*L, 12, -6*L], [6*L, 2*L**2, -6*L, 4*L**2]])\n",
    "\n",
    "n = 3\n",
    "K = np.zeros((2*n, 2*n))\n",
    "F = np.zeros(2*n)\n",
    "q = 10000\n",
    "for i in range(n-1):\n",
    "    le = L/(n-1)\n",
    "\n",
    "    K[2*i:2*i+4, 2*i:2*i+4] += get_kel(le)\n",
    "    if (i==0):\n",
    "        F[2*i:2*i+4] += integrate(f_l, g, i*le, (i+1)*le, 1000, le)\n",
    "\n",
    "    else:\n",
    "        F[2*i:2*i+4] += integrate(f_r, g, i*le, (i+1)*le, 1000, le)\n",
    "    # F[2*i:2*i+4] += q*le/12 * np.array([6, le, 6, -le])\n",
    "\n",
    "k_stiff = 1000000\n",
    "K[2,2] += k_stiff\n",
    "# print(K[n//2, n//2])\n",
    "print(K)\n",
    "print(F)\n"
   ]
  },
  {
   "cell_type": "code",
   "execution_count": 5,
   "metadata": {},
   "outputs": [
    {
     "name": "stdout",
     "output_type": "stream",
     "text": [
      "[-21000.005       -2999.995       -8999.995       11999.99999999] [ -69000.085       573000.265        39000.085      -372000.35999999]\n"
     ]
    }
   ],
   "source": [
    "F_l = integrate(f_l, g, 0, L/2, 1000, L/2)\n",
    "F_r = integrate(f_r, g, L/2, L, 1000, L/2)\n",
    "print(F_l, F_r)"
   ]
  },
  {
   "cell_type": "code",
   "execution_count": 4,
   "metadata": {},
   "outputs": [
    {
     "name": "stdout",
     "output_type": "stream",
     "text": [
      "4666666.666666666\n"
     ]
    }
   ],
   "source": [
    "E = 210e9\n",
    "I = 4e-4\n",
    "L = 12\n",
    "n = 3\n",
    "le = L/(n-1)\n",
    "\n",
    "print(E*I/(le*le*le)*12)"
   ]
  },
  {
   "cell_type": "code",
   "execution_count": 16,
   "metadata": {},
   "outputs": [
    {
     "name": "stdout",
     "output_type": "stream",
     "text": [
      "[-72000. -36000. -72000.]\n"
     ]
    }
   ],
   "source": [
    "w = 10000\n",
    "l = 12\n",
    "\n",
    "F2 = np.array([-w*l*l/20, -6*w*l/20, -w*l*l/20])\n",
    "print(F2)"
   ]
  },
  {
   "cell_type": "code",
   "execution_count": 17,
   "metadata": {},
   "outputs": [
    {
     "name": "stdout",
     "output_type": "stream",
     "text": [
      "-162000.0\n",
      "20000000.0\n"
     ]
    }
   ],
   "source": [
    "W_ = 10000\n",
    "L_ = 6\n",
    "\n",
    "print(-9*W_*(L_**2)/20)\n",
    "numerator = -9*W_*(L_**2)/20\n",
    "denominator = 6*E*I/(L_**2) + k_stiff*L_\n",
    "print(denominator)"
   ]
  },
  {
   "cell_type": "code",
   "execution_count": null,
   "metadata": {},
   "outputs": [],
   "source": []
  }
 ],
 "metadata": {
  "kernelspec": {
   "display_name": "base",
   "language": "python",
   "name": "python3"
  },
  "language_info": {
   "codemirror_mode": {
    "name": "ipython",
    "version": 3
   },
   "file_extension": ".py",
   "mimetype": "text/x-python",
   "name": "python",
   "nbconvert_exporter": "python",
   "pygments_lexer": "ipython3",
   "version": "3.11.4"
  }
 },
 "nbformat": 4,
 "nbformat_minor": 2
}
