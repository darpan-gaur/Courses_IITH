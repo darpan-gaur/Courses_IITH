{
 "cells": [
  {
   "cell_type": "code",
   "execution_count": 7,
   "metadata": {},
   "outputs": [],
   "source": [
    "import numpy as np"
   ]
  },
  {
   "cell_type": "code",
   "execution_count": 8,
   "metadata": {},
   "outputs": [],
   "source": [
    "def readInputData(filename):\n",
    "    with open(filename, 'r') as file:\n",
    "        lines = file.readlines()\n",
    "\n",
    "    data = {}\n",
    "    \n",
    "    # Parse material properties\n",
    "    data['Material_Props'] = {}\n",
    "    for i in range(len(lines)):\n",
    "        if i < len(lines) - 1 and 'Material_Props:' in lines[i]:\n",
    "            data['Material_Props']['Youngs_modulus'] = float(lines[i+1].split(':')[1])\n",
    "            data['Material_Props']['Moment_of_inertia'] = float(lines[i+2].split(':')[1])\n",
    "    \n",
    "    # Parse number of nodes\n",
    "    for i in range(len(lines)):\n",
    "        if i < len(lines) and 'No._nodes:' in lines[i]:\n",
    "            data['No._nodes'] = int(lines[i].split(':')[1])\n",
    "    \n",
    "    # Parse nodal coordinates\n",
    "    data['Nodal_coords'] = []\n",
    "    for i in range(len(lines)):\n",
    "        if i < len(lines) and 'Nodal_coords:' in lines[i]:\n",
    "            j = i + 1\n",
    "            while j < len(lines) and lines[j].strip():\n",
    "                data['Nodal_coords'].append(float(lines[j]))\n",
    "                j += 1\n",
    "\n",
    "    data['Nodal_coords'] = np.array(data['Nodal_coords'])\n",
    "    \n",
    "    # Parse element connectivity\n",
    "    data['Element_connectivity'] = []\n",
    "    for i in range(len(lines)):\n",
    "        if i < len(lines) and 'Element_connectivity:' in lines[i]:\n",
    "            j = i + 1\n",
    "            while j < len(lines) and lines[j].strip():\n",
    "                data['Element_connectivity'].append(list(map(int, lines[j].split())))\n",
    "                j += 1\n",
    "\n",
    "    data['Element_connectivity'] = np.array(data['Element_connectivity'])\n",
    "\n",
    "    # Parse prescribed DOFs\n",
    "    data['Prescribed_DOFs'] = []\n",
    "    for i in range(len(lines)):\n",
    "        if i < len(lines) and 'No._nodes_with_prescribed_DOFs:' in lines[i]:\n",
    "            num_dofs = int(lines[i].split(':')[1])\n",
    "            j = i + 2  # Skip \"Node_#, DOF#, Value\"\n",
    "            for _ in range(num_dofs):\n",
    "                if j < len(lines):\n",
    "                    node_dof_value = list(map(float, lines[j].split()))\n",
    "                    data['Prescribed_DOFs'].append(node_dof_value)\n",
    "                    j += 1\n",
    "\n",
    "    data['Prescribed_DOFs'] = np.array(data['Prescribed_DOFs'])\n",
    "    \n",
    "    # Parse spring stiffness\n",
    "    data['Spring_stiffness'] = []\n",
    "    for i in range(len(lines)):\n",
    "        if i < len(lines) and 'No._nodes_with_spring_stiffness:' in lines[i]:\n",
    "            num_springs = int(lines[i].split(':')[1])\n",
    "            j = i + 2\n",
    "            for _ in range(num_springs):\n",
    "                if j < len(lines):\n",
    "                    node_spring_value = list(map(float, lines[j].split()))\n",
    "                    data['Spring_stiffness'].append(node_spring_value)\n",
    "                    j += 1\n",
    "\n",
    "    data['Spring_stiffness'] = np.array(data['Spring_stiffness'])\n",
    "\n",
    "    # Parse prescribed loads\n",
    "    data['Prescribed_loads'] = []\n",
    "    for i in range(len(lines)):\n",
    "        if i < len(lines) and 'No._nodes_with_prescribed_loads:' in lines[i]:\n",
    "            num_loads = int(lines[i].split(':')[1])\n",
    "            j = i + 2  # Skip \"Node_#, DOF#, Traction_components\"\n",
    "            for _ in range(num_loads):\n",
    "                if j < len(lines):\n",
    "                    node_load_value = list(map(float, lines[j].split()))\n",
    "                    data['Prescribed_loads'].append(node_load_value)\n",
    "                    j += 1\n",
    "\n",
    "    data['Prescribed_loads'] = np.array(data['Prescribed_loads'])\n",
    "\n",
    "    # Parse body forces\n",
    "    data['Body_forces'] = []\n",
    "    for i in range(len(lines)):\n",
    "        if i < len(lines) and 'No._prescribed_bodyforces:' in lines[i]:\n",
    "            num_bodyforces = int(lines[i].split(':')[1])\n",
    "            j = i + 1\n",
    "            for _ in range(num_bodyforces):\n",
    "                if j+1 < len(lines):\n",
    "                    bodyforce_type = lines[j].split(':')[1].strip()\n",
    "                    data['Body_forces'].append({'type': bodyforce_type, 'start_end_coords': [], 'val': []})\n",
    "                    k = j + 2  # Skip \"Coordinate, Value:\"\n",
    "                    while k < len(lines) and lines[k].strip() and lines[k].split()[0] != 'type:':\n",
    "                        coord, val = tuple(map(float, lines[k].split(',')))\n",
    "                        data['Body_forces'][-1]['start_end_coords'].append(coord)\n",
    "                        data['Body_forces'][-1]['val'].append(val)\n",
    "                        k += 1\n",
    "                    \n",
    "                    # Create lambda function for body force\n",
    "                    if bodyforce_type == 'uniform':\n",
    "                        data['Body_forces'][-1]['fn'] = lambda x: data['Body_forces'][-1]['val'][0]\n",
    "                    elif bodyforce_type == 'linear':\n",
    "                        x1, x2 = data['Body_forces'][-1]['start_end_coords']\n",
    "                        f1, f2 = data['Body_forces'][-1]['val']\n",
    "                        fn = lambda x: (f1 + (f2 - f1) * (x - x1) / (x2 - x1))\n",
    "                        data['Body_forces'][-1]['fn'] = fn\n",
    "                    else:\n",
    "                        raise NotImplementedError(\"Only uniform and linear body forces are supported\")\n",
    "                    j = k\n",
    "\n",
    "    return data"
   ]
  },
  {
   "cell_type": "code",
   "execution_count": 9,
   "metadata": {},
   "outputs": [
    {
     "data": {
      "text/plain": [
       "{'Material_Props': {'Youngs_modulus': 210000000.0,\n",
       "  'Moment_of_inertia': 0.0004},\n",
       " 'No._nodes': 3,\n",
       " 'Nodal_coords': array([ 0.,  6., 12.]),\n",
       " 'Element_connectivity': array([[1, 2],\n",
       "        [2, 3]]),\n",
       " 'Prescribed_DOFs': array([[1., 1., 0.],\n",
       "        [3., 1., 0.]]),\n",
       " 'Spring_stiffness': array([[   2., 1000.]]),\n",
       " 'Prescribed_loads': array([], dtype=float64),\n",
       " 'Body_forces': [{'type': 'linear',\n",
       "   'start_end_coords': [0.0, 6.0],\n",
       "   'val': [10.0, 0.0],\n",
       "   'fn': <function __main__.readInputData.<locals>.<lambda>(x)>},\n",
       "  {'type': 'linear',\n",
       "   'start_end_coords': [6.0, 12.0],\n",
       "   'val': [0.0, 10.0],\n",
       "   'fn': <function __main__.readInputData.<locals>.<lambda>(x)>}]}"
      ]
     },
     "execution_count": 9,
     "metadata": {},
     "output_type": "execute_result"
    }
   ],
   "source": [
    "input_file = 'input_beam.txt'\n",
    "data = readInputData(input_file)\n",
    "data"
   ]
  },
  {
   "cell_type": "code",
   "execution_count": 10,
   "metadata": {},
   "outputs": [],
   "source": [
    "E = data['Material_Props']['Youngs_modulus']\n",
    "I = data['Material_Props']['Moment_of_inertia']"
   ]
  },
  {
   "cell_type": "code",
   "execution_count": 12,
   "metadata": {},
   "outputs": [
    {
     "name": "stdout",
     "output_type": "stream",
     "text": [
      "2\n"
     ]
    },
    {
     "data": {
      "text/plain": [
       "(array([-0.57735027,  0.57735027]), array([1., 1.]))"
      ]
     },
     "execution_count": 12,
     "metadata": {},
     "output_type": "execute_result"
    }
   ],
   "source": [
    "nen = len(data['Element_connectivity'][0])\n",
    "print(nen)\n",
    "ngp = nen\n",
    "zeta, W = np.polynomial.legendre.leggauss(ngp)\n",
    "zeta, W"
   ]
  },
  {
   "cell_type": "code",
   "execution_count": 11,
   "metadata": {},
   "outputs": [],
   "source": [
    "def shape_fn(nen, zeta, le):\n",
    "    if nen == 2:\n",
    "        Nu1 = 0.25 * ((1-zeta)**2) * (2 + zeta)\n",
    "        Nth1 = (le / 8) * ((1-zeta)**2) * (1+zeta)\n",
    "        Nu2 = 0.25 * ((1+zeta)**2) * (2 - zeta)\n",
    "        Nth2 = (le / 8) * ((1+zeta)**2) * (zeta-1)\n",
    "\n",
    "        N = np.array([Nu1, Nth1, Nu2, Nth2])\n",
    "\n",
    "        d2N = (1/le) * np.array([\n",
    "            6*zeta/le,\n",
    "             3*zeta - 1, \n",
    "             -6*zeta/le,\n",
    "             3*zeta + 1])\n",
    "        \n",
    "        return N, d2N\n",
    "    else:\n",
    "        raise NotImplementedError(\"Only 2-noded elements are supported\")"
   ]
  },
  {
   "cell_type": "markdown",
   "metadata": {},
   "source": [
    "Stiffness matrix and force vector for 1st element of the beam"
   ]
  },
  {
   "cell_type": "code",
   "execution_count": 26,
   "metadata": {},
   "outputs": [
    {
     "name": "stdout",
     "output_type": "stream",
     "text": [
      "[[  4666.66666667  14000.          -4666.66666667  14000.        ]\n",
      " [ 14000.          56000.         -14000.          28000.        ]\n",
      " [ -4666.66666667 -14000.           4666.66666667 -14000.        ]\n",
      " [ 14000.          28000.         -14000.          56000.        ]]\n",
      "[[  4666.66666667  14000.          -4666.66666667  14000.        ]\n",
      " [ 14000.          56000.         -14000.          28000.        ]\n",
      " [ -4666.66666667 -14000.           4666.66666667 -14000.        ]\n",
      " [ 14000.          28000.         -14000.          56000.        ]]\n",
      "True\n"
     ]
    }
   ],
   "source": [
    "def get_kel(id_a, id_b, nen):\n",
    "    kel = np.zeros((2*nen, 2*nen))\n",
    "    fel = np.zeros((2*nen, 1))\n",
    "    xae = data['Nodal_coords'][id_a]\n",
    "    xbe = data['Nodal_coords'][id_b]\n",
    "\n",
    "    le = xbe - xae\n",
    "    for i in range(2*nen):\n",
    "        for j in range(2*nen):\n",
    "            val = 0.0\n",
    "            for z, w in zip(zeta, W):\n",
    "                temp = shape_fn(nen, z, le)\n",
    "                d2Ni = temp[1][i] # Value of d2N_i / dx2 at zeta\n",
    "                d2Nj = temp[1][j] # Value of d2N_j / dx2 at zeta\n",
    "                val += d2Ni * d2Nj * w\n",
    "            val *= (E*I*(le/2))\n",
    "            kel[i, j] = val\n",
    "    return kel,le\n",
    "\n",
    "kel, le = get_kel(0, 1, 2)\n",
    "\n",
    "correct_result = (E*I/(le**3))*np.array([\n",
    "        [12, 6*le, -12, 6*le],\n",
    "        [6*le, 4*le**2, -6*le, 2*le**2],\n",
    "        [-12, -6*le, 12, -6*le],\n",
    "        [6*le, 2*le**2, -6*le, 4*le**2]\n",
    "    ]\n",
    ")\n",
    "\n",
    "print(kel)\n",
    "print(correct_result)\n",
    "print(np.allclose(kel, correct_result))"
   ]
  },
  {
   "cell_type": "code",
   "execution_count": 27,
   "metadata": {},
   "outputs": [
    {
     "name": "stdout",
     "output_type": "stream",
     "text": [
      "[[-21.66666667]\n",
      " [-20.        ]\n",
      " [ -8.33333333]\n",
      " [ 10.        ]]\n"
     ]
    }
   ],
   "source": [
    "bodyforces = data['Body_forces']\n",
    "def get_fel(bodyforces, id_a, id_b, nen):\n",
    "    fel = np.zeros((2*nen, 1))\n",
    "    xae = data['Nodal_coords'][id_a]\n",
    "    xbe = data['Nodal_coords'][id_b]\n",
    "    for q in bodyforces:\n",
    "        coords = q['start_end_coords']\n",
    "        fn = q['fn']\n",
    "        x1, x2 = coords\n",
    "        zeta_to_x = lambda zeta: ((x2 + x1)/2 + ((x2 - x1)/2)*zeta)\n",
    "    # Check if [xae, xbe] overlaps with the body force coordinates\n",
    "        if xae > x2 or xbe < x1:\n",
    "            continue\n",
    "        else:\n",
    "        # Find the overlapping region\n",
    "            x_start = max(xae, x1)\n",
    "            x_end = min(xbe, x2)\n",
    "\n",
    "            le = x_end - x_start\n",
    "\n",
    "        # If le is close to 0, we can ignore the body force\n",
    "            if abs(le) < 1e-10:\n",
    "                continue\n",
    "\n",
    "            for j in range(2*nen):\n",
    "                val = 0.0\n",
    "                for z, w in zip(zeta, W):\n",
    "                    temp = shape_fn(nen, z, le)\n",
    "                    Ni = temp[0][j]\n",
    "                    val += Ni * fn(zeta_to_x(z)) * w\n",
    "                val *= (le/2)\n",
    "                fel[j] += val\n",
    "    return fel\n",
    "\n",
    "fel = get_fel(bodyforces, 0, 1, 2)\n",
    "\n",
    "print(fel)"
   ]
  },
  {
   "cell_type": "code",
   "execution_count": 28,
   "metadata": {},
   "outputs": [
    {
     "name": "stdout",
     "output_type": "stream",
     "text": [
      "2\n"
     ]
    }
   ],
   "source": [
    "print(nen)"
   ]
  },
  {
   "cell_type": "code",
   "execution_count": 29,
   "metadata": {},
   "outputs": [
    {
     "name": "stdout",
     "output_type": "stream",
     "text": [
      "[[  4666.66666667  14000.          -4666.66666667  14000.\n",
      "       0.              0.        ]\n",
      " [ 14000.          56000.         -14000.          28000.\n",
      "       0.              0.        ]\n",
      " [ -4666.66666667 -14000.           9333.33333333      0.\n",
      "   -4666.66666667  14000.        ]\n",
      " [ 14000.          28000.              0.         112000.\n",
      "  -14000.          28000.        ]\n",
      " [     0.              0.          -4666.66666667 -14000.\n",
      "    4666.66666667 -14000.        ]\n",
      " [     0.              0.          14000.          28000.\n",
      "  -14000.          56000.        ]]\n",
      "[[-21.66666667]\n",
      " [-20.        ]\n",
      " [  0.        ]\n",
      " [ 20.        ]\n",
      " [ 21.66666667]\n",
      " [-20.        ]]\n"
     ]
    }
   ],
   "source": [
    "nnodes = data[\"No._nodes\"]\n",
    "\n",
    "# data[\"Element_connectivity\"]\n",
    "K = np.zeros((2*nnodes, 2*nnodes))\n",
    "F = np.zeros((2*nnodes, 1))\n",
    "\n",
    "for i in range(len(data['Element_connectivity'])):\n",
    "    elem = data['Element_connectivity'][i]\n",
    "    elem = [x-1 for x in elem]  # Convert to 0-based indexing\n",
    "    \n",
    "    # kel    # local stiffness matrix, given\n",
    "    # kel = np.array([[12, 6, -12, 6], [6, 4, -6, 2], [-12, -6, 12, -6], [6, 2, -6, 4]])\n",
    "    kel = get_kel(elem[0], elem[1], nen)[0]\n",
    "    fel = get_fel(bodyforces, elem[0], elem[1], nen)\n",
    "    \n",
    "    # Assemble\n",
    "    for j in range(nen):\n",
    "        for k in range(nen):\n",
    "            K[2*elem[j], 2*elem[k]] += kel[2*j, 2*k]\n",
    "            K[2*elem[j], 2*elem[k]+1] += kel[2*j, 2*k+1]\n",
    "            K[2*elem[j]+1, 2*elem[k]] += kel[2*j+1, 2*k]\n",
    "            K[2*elem[j]+1, 2*elem[k]+1] += kel[2*j+1, 2*k+1]\n",
    "\n",
    "    # fel   # local force vector, given\n",
    "\n",
    "    # Assemble F\n",
    "    for j in range(nen):\n",
    "        F[2*elem[j]] += fel[2*j]\n",
    "        F[2*elem[j]+1] += fel[2*j+1]\n",
    "\n",
    "print(K)\n",
    "print(F)"
   ]
  },
  {
   "cell_type": "code",
   "execution_count": null,
   "metadata": {},
   "outputs": [],
   "source": [
    "[[  4666.66666667  14000.          -4666.66666667  14000.\n",
    "       0.              0.        ]\n",
    " [ 14000.          56000.         -14000.          28000.\n",
    "       0.              0.        ]\n",
    " [ -4666.66666667 -14000.           9333.33333333      0.\n",
    "   -4666.66666667  14000.        ]\n",
    " [ 14000.          28000.              0.         112000.\n",
    "  -14000.          28000.        ]\n",
    " [     0.              0.          -4666.66666667 -14000.\n",
    "    4666.66666667 -14000.        ]\n",
    " [     0.              0.          14000.          28000.\n",
    "  -14000.          56000.        ]]\n",
    "[[-21.66666667]\n",
    " [-20.        ]\n",
    " [-30.        ]\n",
    " [-10.        ]\n",
    " [ -8.33333333]\n",
    " [ 10.        ]]"
   ]
  }
 ],
 "metadata": {
  "kernelspec": {
   "display_name": "course",
   "language": "python",
   "name": "python3"
  },
  "language_info": {
   "codemirror_mode": {
    "name": "ipython",
    "version": 3
   },
   "file_extension": ".py",
   "mimetype": "text/x-python",
   "name": "python",
   "nbconvert_exporter": "python",
   "pygments_lexer": "ipython3",
   "version": "3.11.4"
  }
 },
 "nbformat": 4,
 "nbformat_minor": 2
}
