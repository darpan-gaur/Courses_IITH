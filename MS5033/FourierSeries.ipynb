{
 "cells": [
  {
   "cell_type": "code",
   "execution_count": null,
   "id": "4de60ba1",
   "metadata": {},
   "outputs": [],
   "source": [
    "%matplotlib inline\n",
    "import numpy as np\n",
    "import matplotlib.pyplot as plt\n",
    "mylambda = np.pi/2.\n",
    "Fs = 100 #no. of samples\n",
    "x = np.linspace(0,2*np.pi,3*Fs+1)\n",
    "y = np.sin((2*np.pi*x)/mylambda)\n",
    "plt.plot(x,y)\n"
   ]
  },
  {
   "cell_type": "code",
   "execution_count": null,
   "id": "6baead56",
   "metadata": {},
   "outputs": [],
   "source": [
    "x = np.linspace(0,1,201)\n",
    "wx = 2*np.pi*x\n",
    "plt.axes().set_aspect('equal')\n",
    "plt.plot(np.cos(wx), np.sin(wx))"
   ]
  },
  {
   "cell_type": "code",
   "execution_count": null,
   "id": "8bad6ec5",
   "metadata": {},
   "outputs": [],
   "source": [
    "x = np.linspace(0,2,201)\n",
    "mylambda = 1\n",
    "sqwave = np.sign(np.sin(2*np.pi*x)/mylambda)\n",
    "plt.plot(x,sqwave)\n",
    "y1 = (4./np.pi)*np.sin((2*np.pi*x)/mylambda)\n",
    "y3 = y1 + (4./(3.*np.pi))*np.sin((2*np.pi*3*x)/mylambda)\n",
    "y5 = y3 + (4./(5.*np.pi))*np.sin((2*np.pi*5*x)/mylambda)\n",
    "plt.show\n",
    "plt.plot(x,y1)\n",
    "plt.plot(x,y3)\n",
    "plt.plot(x,y5)"
   ]
  },
  {
   "cell_type": "code",
   "execution_count": null,
   "id": "eefedc88",
   "metadata": {},
   "outputs": [],
   "source": [
    "x = np.linspace(-10.*np.pi, 10.*np.pi, 10000)\n",
    "plt.plot(x,np.sin(x))"
   ]
  },
  {
   "cell_type": "code",
   "execution_count": null,
   "id": "0c588bbd",
   "metadata": {},
   "outputs": [],
   "source": [
    "plt.show"
   ]
  },
  {
   "cell_type": "code",
   "execution_count": null,
   "id": "6db9b2da",
   "metadata": {},
   "outputs": [],
   "source": [
    "plt.plot(x,np.sin(x))\n",
    "plt.plot(x,np.sin(2*x))\n",
    "plt.plot(x,np.sin(x)+np.sin(2*x))"
   ]
  },
  {
   "cell_type": "code",
   "execution_count": null,
   "id": "2b897a51",
   "metadata": {},
   "outputs": [],
   "source": [
    "expr = np.zeros_like(x)\n",
    "for i in range(1,101,2):\n",
    "    expr = expr + (1.0/i)*np.sin(i*x)\n",
    "plt.plot(x,expr)\n",
    "plt.xlim(-np.pi,np.pi)"
   ]
  },
  {
   "cell_type": "code",
   "execution_count": null,
   "id": "965ab09f",
   "metadata": {},
   "outputs": [],
   "source": [
    "from scipy.signal import square\n",
    "from scipy.integrate import quad\n",
    "x=np.linspace(-np.pi,np.pi,1000)\n",
    "y=square(x) \n",
    "\n",
    "fc=lambda x:square(x)*np.cos(i*x)  \n",
    "fs=lambda x:square(x)*np.sin(i*x)\n",
    "\n",
    "n=50\n",
    "\n",
    "An=[]\n",
    "Bn=[]\n",
    "sum=0\n",
    "\n",
    "for i in range(n):\n",
    "    an=quad(fc,-np.pi,np.pi)[0]*(1.0/np.pi)\n",
    "    An.append(an)\n",
    "\n",
    "for i in range(n):\n",
    "    bn=quad(fs,-np.pi,np.pi)[0]*(1.0/np.pi)\n",
    "    Bn.append(bn)\n",
    "\n",
    "for i in range(n):\n",
    "    if i==0.0:\n",
    "        sum=sum+An[i]/2\n",
    "    else:\n",
    "        sum=sum+(An[i]*np.cos(i*x)+Bn[i]*np.sin(i*x))\n",
    "\n",
    "plt.plot(x,sum,'g')\n",
    "plt.plot(x,y,'b')\n",
    "plt.title(\"fourier series for square wave\")\n",
    "plt.show()"
   ]
  },
  {
   "cell_type": "code",
   "execution_count": null,
   "id": "7b5caa2e",
   "metadata": {},
   "outputs": [],
   "source": [
    "%reset\n",
    "import numpy as np\n",
    "from scipy.signal import square\n",
    "import matplotlib.pyplot as plt\n",
    "from scipy.integrate import simps\n",
    "L=4 # Periodicity of the periodic function f(x)\n",
    "waveno=4 # No of waves in period L\n",
    "samples=1000\n",
    "terms=100\n",
    "\n",
    "x=np.linspace(0,L,samples,endpoint=False)\n",
    "\n",
    "y=square(2.0*np.pi*x*waveno/L)\n",
    "\n",
    "A0 = 2./L*simps(y,x)\n",
    "An= lambda n:2.0/L*simps(y*np.cos(2.*np.pi*n*x/L),x)\n",
    "Bn= lambda n:2.0/L*simps(y*np.sin(2.*np.pi*n*x/L),x)\n",
    "\n",
    "expr = A0/2. + sum([An(k)*np.cos(2.*np.pi*k*x/L)+Bn(k)*np.sin(2.*np.pi*k*x/L) for k in range(1,terms+1)])\n",
    "\n",
    "plt.plot(x,expr,label=\"Fourier series\")\n",
    "plt.plot(x,y,label=\"Square wave\")\n",
    "plt.xlabel(\"$x$\")\n",
    "plt.ylabel(\"$y=f(x)$\")\n",
    "plt.legend(loc='best',prop={'size':10})\n",
    "plt.show()"
   ]
  },
  {
   "cell_type": "code",
   "execution_count": null,
   "id": "2555622b",
   "metadata": {},
   "outputs": [],
   "source": [
    "np.sum?"
   ]
  },
  {
   "cell_type": "code",
   "execution_count": null,
   "id": "521778fb",
   "metadata": {},
   "outputs": [],
   "source": [
    "sum?"
   ]
  },
  {
   "cell_type": "code",
   "execution_count": null,
   "id": "502433b9",
   "metadata": {},
   "outputs": [],
   "source": []
  }
 ],
 "metadata": {
  "kernelspec": {
   "display_name": "test",
   "language": "python",
   "name": "python3"
  },
  "language_info": {
   "codemirror_mode": {
    "name": "ipython",
    "version": 3
   },
   "file_extension": ".py",
   "mimetype": "text/x-python",
   "name": "python",
   "nbconvert_exporter": "python",
   "pygments_lexer": "ipython3",
   "version": "3.12.3"
  }
 },
 "nbformat": 4,
 "nbformat_minor": 5
}
