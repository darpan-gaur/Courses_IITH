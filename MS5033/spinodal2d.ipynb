{
 "cells": [
  {
   "cell_type": "code",
   "execution_count": null,
   "metadata": {
    "id": "lanOJqwLpyrb"
   },
   "outputs": [],
   "source": [
    "import numpy as np  \n",
    "import matplotlib.pyplot as plt\n",
    "%matplotlib inline\n",
    "#size of the box\n",
    "Nx = 256\n",
    "Ny = 256\n",
    "#Initial composition \n",
    "c = 0.5*np.ones([Nx,Ny])\n",
    "#Noise - seed (mimic thermal fluctuations) \n",
    "np.random.seed(1024)\n",
    "random_num = np.random.normal(0,0.01,(Nx,Ny))\n",
    "\n",
    "c = c - random_num\n",
    "\n",
    "\n",
    "X,Y = np.meshgrid(range(Nx),range(Ny))        \n",
    "plt.contourf(X,Y,c,cmap = 'jet')\n",
    "plt.colorbar()\n",
    "plt.show()\n",
    "\n",
    "dx = 1.0\n",
    "dy = 1.0\n",
    "dt = 0.5\n",
    "cnew = c\n",
    "#delkx is grid spacing along kx in Fourier space\n",
    "#delky is grid spacing along ky in Fourier space\n",
    "\n",
    "delkx = 2*np.pi/(Nx*dx)\n",
    "delky = 2*np.pi/(Ny*dy)\n",
    "\n",
    "#A is the prefactor of free energy f = A (c**2) * (1-c)**2\n",
    "#A is inversely proportional to temperature\n",
    "\n",
    "A = 1 \n",
    "\n",
    "#M is the scaled constant mobility where diffusivity D = M (d^2f/dc^2) \n",
    "M = 1\n",
    "\n",
    "# kappa is the scaled gradient energy coefficient (interfacial energy)\n",
    "kappa = 1\n",
    "\n",
    "# Outer iterations of 1000\n",
    "for m in range(1000):\n",
    "    # Inner iterations of 100\n",
    "    for n in range(100):\n",
    "        \n",
    "        #g stores the first derivative of free energy df/dc = 2*A*c*(1-c)*(1-2c)\n",
    "        mult = np.multiply(1-cnew,1-2*cnew)\n",
    "        g = 2*A*np.multiply(cnew,mult)\n",
    "        ghat = np.fft.fft2(g)\n",
    "        chat = np.fft.fft2(cnew)\n",
    "        \n",
    "        for i in range(Nx):\n",
    "            if i <= Nx/2:\n",
    "                kx = i*delkx\n",
    "            else:\n",
    "                kx = (i-Nx)*delkx\n",
    "            for j in range(Ny):\n",
    "                if j <= Ny/2:\n",
    "                    ky = j*delky\n",
    "                else:\n",
    "                    ky = (j-Ny)*delky\n",
    "                    \n",
    "                k2 = kx**2 + ky**2\n",
    "                k4 = k2**2\n",
    "                chat[i,j] = (chat[i,j] - M*dt*k2*ghat[i,j])/(1+2*M*kappa*k4*dt)\n",
    "            \n",
    "        cnew = np.fft.ifft2(chat).real\n",
    "    \n",
    "    X,Y = np.meshgrid(range(Nx),range(Ny))        \n",
    "    plt.contourf(X,Y,cnew,cmap = 'jet')\n",
    "    plt.colorbar()    \n",
    "    plt.show()\n",
    "    \n",
    "    "
   ]
  },
  {
   "cell_type": "code",
   "execution_count": null,
   "metadata": {
    "id": "CBUg2Kghpyrd"
   },
   "outputs": [],
   "source": []
  },
  {
   "cell_type": "code",
   "execution_count": null,
   "metadata": {
    "id": "C20bxhqbpyre"
   },
   "outputs": [],
   "source": [
    "Nx"
   ]
  },
  {
   "cell_type": "code",
   "execution_count": null,
   "metadata": {
    "id": "cNNkIqY0pyrf"
   },
   "outputs": [],
   "source": [
    "Ny"
   ]
  },
  {
   "cell_type": "code",
   "execution_count": null,
   "metadata": {
    "id": "_3Yl_i21pyrg"
   },
   "outputs": [],
   "source": [
    "import numpy as np\n",
    "import matplotlib.pyplot as plt\n",
    "%matplotlib inline\n",
    "Nx = 256\n",
    "Ny = 256\n",
    "c = 0.5*np.ones([Nx,Ny])\n",
    "np.random.seed(9999)\n",
    "random_num = np.random.normal(0,0.01,(Nx,Ny))\n",
    "c = c - random_num\n",
    "X,Y = np.meshgrid(range(Nx),range(Ny))        \n",
    "plt.contourf(X,Y,c,cmap = 'jet')\n",
    "plt.colorbar()\n",
    "plt.show()"
   ]
  },
  {
   "cell_type": "code",
   "execution_count": null,
   "metadata": {
    "id": "SVlUPf0hpyrg"
   },
   "outputs": [],
   "source": [
    "dx = 1.0\n",
    "dy = 1.0\n",
    "dt = 0.5\n",
    "cnew = c\n",
    "#delkx is grid spacing along kx in Fourier space\n",
    "#delky is grid spacing along ky in Fourier space\n",
    "delkx = 2*np.pi/(Nx*dx)\n",
    "delky = 2*np.pi/(Ny*dy)\n",
    "#A is the prefactor of free energy f = A (c**2) * (1-c)**2\n",
    "A = 1 \n",
    "#M is the scaled constant mobility where diffusivity = M (d^2f/dc^2)\n",
    "M = 1\n",
    "# kappa is the scaled gradient energy coefficient\n",
    "kappa = 1"
   ]
  },
  {
   "cell_type": "code",
   "execution_count": null,
   "metadata": {
    "id": "p1M-HovYpyri"
   },
   "outputs": [],
   "source": [
    "mult = np.multiply(1-cnew,1-2*cnew)\n",
    "g = 2*A*np.multiply(cnew,mult)"
   ]
  },
  {
   "cell_type": "code",
   "execution_count": null,
   "metadata": {
    "id": "9PxUqTTfpyri"
   },
   "outputs": [],
   "source": [
    "g.shape"
   ]
  },
  {
   "cell_type": "code",
   "execution_count": null,
   "metadata": {
    "id": "GVMO9bqmpyri"
   },
   "outputs": [],
   "source": [
    "a = 1 - cnew\n",
    "a.shape"
   ]
  },
  {
   "cell_type": "code",
   "execution_count": null,
   "metadata": {
    "id": "Gi17TSPdpyrj"
   },
   "outputs": [],
   "source": [
    "b = 1 - 2*cnew\n",
    "b.shape"
   ]
  },
  {
   "cell_type": "code",
   "execution_count": null,
   "metadata": {
    "id": "YbYC3_wdpyrk"
   },
   "outputs": [],
   "source": [
    "delkx"
   ]
  },
  {
   "cell_type": "code",
   "execution_count": null,
   "metadata": {
    "id": "6d2yTsaEpyrk"
   },
   "outputs": [],
   "source": [
    "delky"
   ]
  },
  {
   "cell_type": "code",
   "execution_count": null,
   "metadata": {
    "id": "fFfVXgTnpyrl"
   },
   "outputs": [],
   "source": [
    "for i in range(Nx):\n",
    "    if i <= Nx/2:\n",
    "        kx = i * delkx\n",
    "    else:\n",
    "        kx = (i-Nx)*delkx\n"
   ]
  },
  {
   "cell_type": "code",
   "execution_count": null,
   "metadata": {
    "id": "K2jHpks4pyrl"
   },
   "outputs": [],
   "source": [
    "kx"
   ]
  },
  {
   "cell_type": "code",
   "execution_count": null,
   "metadata": {
    "id": "3bicTojCpyrl"
   },
   "outputs": [],
   "source": [
    "delkx = 2*np.pi/(Nx*dx)\n",
    "delky = 2*np.pi/(Ny*dy)\n",
    "\n",
    "kx = np.zeros(Nx)\n",
    "for i in range(Nx):\n",
    "    if i < Nx/2:\n",
    "        kx[i] = i * delkx\n",
    "    else:\n",
    "        kx[i] = (i-Nx)*delkx\n",
    "        \n",
    "ky = np.zeros(Ny)\n",
    "for i in range(Ny):\n",
    "    if i < Ny/2:\n",
    "        ky[i] = i * delky\n",
    "    else:\n",
    "        ky[i] = (i-Ny)*delky"
   ]
  },
  {
   "cell_type": "code",
   "execution_count": null,
   "metadata": {
    "id": "bRLJcdhGpyrm"
   },
   "outputs": [],
   "source": [
    "print(kx.shape)\n",
    "print(ky.shape)\n"
   ]
  },
  {
   "cell_type": "code",
   "execution_count": null,
   "metadata": {
    "id": "wGe28pFipyrm"
   },
   "outputs": [],
   "source": [
    "kx.shape"
   ]
  },
  {
   "cell_type": "code",
   "execution_count": null,
   "metadata": {
    "id": "SYqCmNV9pyrn"
   },
   "outputs": [],
   "source": [
    "x = np.zeros(Nx)\n",
    "for i in range(Nx):\n",
    "    x[i] = i * dx\n",
    "y = np.zeros(Ny)\n",
    "for i in range(Ny):\n",
    "    y[i] = i * dy"
   ]
  },
  {
   "cell_type": "code",
   "execution_count": null,
   "metadata": {
    "id": "09y-9cAtpyrn"
   },
   "outputs": [],
   "source": [
    "y"
   ]
  },
  {
   "cell_type": "code",
   "execution_count": null,
   "metadata": {
    "id": "ND22etnVpyro"
   },
   "outputs": [],
   "source": [
    "kx"
   ]
  },
  {
   "cell_type": "code",
   "execution_count": null,
   "metadata": {
    "id": "bZFQcTP9pyro"
   },
   "outputs": [],
   "source": [
    "kx"
   ]
  },
  {
   "cell_type": "code",
   "execution_count": null,
   "metadata": {
    "id": "EEKpHEX6pyrp"
   },
   "outputs": [],
   "source": [
    "kpow2 = np.zeros([Nx,Ny])\n",
    "kpow2.shape"
   ]
  },
  {
   "cell_type": "code",
   "execution_count": null,
   "metadata": {
    "id": "fUvcEW05pyrp"
   },
   "outputs": [],
   "source": [
    "for i in range(Nx):\n",
    "    for j in range(Ny):\n",
    "        kpow2[i,j] = kx[i]**2 + ky[j]**2\n"
   ]
  },
  {
   "cell_type": "code",
   "execution_count": null,
   "metadata": {
    "id": "EKFrMJkVpyrq"
   },
   "outputs": [],
   "source": [
    "kpow4 = np.zeros([Nx,Ny])\n",
    "kpow4 = np.square(kpow2)\n",
    "kpow4.shape\n",
    "kpow4"
   ]
  },
  {
   "cell_type": "code",
   "execution_count": null,
   "metadata": {
    "id": "-gCq4ZU7pyrq"
   },
   "outputs": [],
   "source": [
    "kpow2"
   ]
  },
  {
   "cell_type": "code",
   "execution_count": null,
   "metadata": {
    "id": "lHLDZ1hOpyrq"
   },
   "outputs": [],
   "source": [
    "ghat = np.fft.fft2(g)\n",
    "chat = np.fft.fft2(cnew)"
   ]
  },
  {
   "cell_type": "code",
   "execution_count": null,
   "metadata": {
    "id": "vojxfJTypyrq"
   },
   "outputs": [],
   "source": [
    "mult = np.multiply(1-cnew,1-2*cnew)\n",
    "g = 2*A*np.multiply(cnew,mult)\n",
    "ghat = np.fft.fft2(g)\n",
    "chat = np.fft.fft2(cnew)\n",
    "chat = (chat - M*dt*kpow2*ghat)/(1+2*M*kappa*kpow4*dt)\n",
    "cnew = np.fft.ifft2(chat).real\n",
    "X,Y = np.meshgrid(range(Nx),range(Ny))        \n",
    "plt.contourf(X,Y,cnew,cmap = 'jet')\n",
    "plt.colorbar()    \n",
    "plt.show()"
   ]
  },
  {
   "cell_type": "code",
   "execution_count": null,
   "metadata": {
    "id": "-GD7azdkpyrr",
    "outputId": "20c6b6f7-d519-4e54-8f61-60af7f19003d"
   },
   "outputs": [],
   "source": [
    "import numpy as np\n",
    "%matplotlib inline\n",
    "import matplotlib.pyplot as plt\n",
    "from matplotlib.animation import FuncAnimation\n",
    "Nx = 256\n",
    "Ny = 256\n",
    "c = 0.21*np.ones([Nx,Ny])\n",
    "np.random.seed(9999)\n",
    "random_num = np.random.normal(0,0.2,(Nx,Ny))\n",
    "c = c - random_num\n",
    "X,Y = np.meshgrid(range(Nx),range(Ny))        \n",
    "plt.contourf(X,Y,c,cmap = 'jet')\n",
    "plt.colorbar()\n",
    "plt.show()\n",
    "dx = 1.0\n",
    "dy = 1.0\n",
    "dt = 0.5\n",
    "cnew = c\n",
    "#delkx is grid spacing along kx in Fourier space\n",
    "#delky is grid spacing along ky in Fourier space\n",
    "delkx = 2*np.pi/(Nx*dx)\n",
    "delky = 2*np.pi/(Ny*dy)\n",
    "#A is the prefactor of free energy f = A (c**2) * (1-c)**2\n",
    "A = 1 \n",
    "#M is the scaled constant mobility where diffusivity = M (d^2f/dc^2)\n",
    "M = 1\n",
    "# kappa is the scaled gradient energy coefficient\n",
    "kappa = 1\n",
    "\n",
    "delkx = 2*np.pi/(Nx*dx)\n",
    "delky = 2*np.pi/(Ny*dy)\n",
    "\n",
    "kx = np.zeros(Nx)\n",
    "for i in range(Nx):\n",
    "    if i < Nx/2:\n",
    "        kx[i] = i * delkx\n",
    "    else:\n",
    "        kx[i] = (i-Nx)*delkx\n",
    "        \n",
    "ky = np.zeros(Ny)\n",
    "for i in range(Ny):\n",
    "    if i < Ny/2:\n",
    "        ky[i] = i * delky\n",
    "    else:\n",
    "        ky[i] = (i-Ny)*delky\n",
    "        \n",
    "kpow2 = np.zeros([Nx,Ny])\n",
    "for i in range(Nx):\n",
    "    for j in range(Ny):\n",
    "        kpow2[i,j] = kx[i]**2 + ky[j]**2\n",
    "\n",
    "kpow4 = np.zeros([Nx,Ny])\n",
    "kpow4 = np.square(kpow2)\n",
    "\n",
    "for n in range(10000):\n",
    "    mult = np.multiply(1-cnew,1-2*cnew)\n",
    "    g = 2*A*np.multiply(cnew,mult)\n",
    "    ghat = np.fft.fft2(g)\n",
    "    chat = np.fft.fft2(cnew)\n",
    "    chat = (chat - M*dt*kpow2*ghat)/(1+2*M*kappa*kpow4*dt)\n",
    "    cnew = np.fft.ifft2(chat).real\n",
    "    if n%2000==0:\n",
    "        fnam = str(n).zfill(5)\n",
    "        X,Y = np.meshgrid(range(Nx),range(Ny))        \n",
    "        plt.contourf(X,Y,cnew,cmap = 'jet')\n",
    "        plt.colorbar()\n",
    "        plt.savefig('Spino' + fnam + '.jpg')\n",
    "        plt.show()\n",
    "        "
   ]
  },
  {
   "cell_type": "code",
   "execution_count": null,
   "metadata": {
    "id": "pWrK5WlSpyrr"
   },
   "outputs": [],
   "source": []
  }
 ],
 "metadata": {
  "colab": {
   "provenance": []
  },
  "kernelspec": {
   "display_name": "Python 3 (ipykernel)",
   "language": "python",
   "name": "python3"
  },
  "language_info": {
   "codemirror_mode": {
    "name": "ipython",
    "version": 3
   },
   "file_extension": ".py",
   "mimetype": "text/x-python",
   "name": "python",
   "nbconvert_exporter": "python",
   "pygments_lexer": "ipython3",
   "version": "3.9.10"
  }
 },
 "nbformat": 4,
 "nbformat_minor": 0
}
