{
 "cells": [
  {
   "cell_type": "code",
   "execution_count": null,
   "id": "f2ca5fe3",
   "metadata": {},
   "outputs": [],
   "source": [
    "import pyvista as pv\n",
    "import numpy as np\n",
    "import matplotlib.pyplot as plt\n",
    "import plotSaveUtils\n",
    "from matplotlib.animation import FuncAnimation\n",
    "import matplotlib.animation as animation\n",
    "from IPython.display import HTML"
   ]
  },
  {
   "cell_type": "code",
   "execution_count": null,
   "id": "d4064f7e",
   "metadata": {},
   "outputs": [],
   "source": [
    "resPath = '/home/darpan/Desktop/Desktop/8thSem/MS5033/project/FinalRes/chi5/simulation_output'\n",
    "phi = 'phi'\n",
    "sigma = 'sigma'"
   ]
  },
  {
   "cell_type": "code",
   "execution_count": null,
   "id": "23bc34af",
   "metadata": {},
   "outputs": [],
   "source": [
    "# Load the .vtu file\n",
    "# mesh = pv.read(\"/home/darpan/Desktop/Desktop/8thSem/MS5033/project/data2D__N=64/sigma000080.vtu\")\n",
    "mesh = pv.read(f'{resPath}/{phi}000080.vtu')"
   ]
  },
  {
   "cell_type": "code",
   "execution_count": null,
   "id": "c17836c9",
   "metadata": {},
   "outputs": [],
   "source": [
    "# get the mesh points\n",
    "X = mesh.points[:, 0]\n",
    "Y = mesh.points[:, 1]\n",
    "val = mesh.active_scalars"
   ]
  },
  {
   "cell_type": "code",
   "execution_count": null,
   "id": "8991543e",
   "metadata": {},
   "outputs": [],
   "source": [
    "points_Q1 = np.stack([X, Y], axis=-1)\n",
    "values_Q1 = val\n",
    "\n",
    "# Reflect to 2nd quadrant (x -> -x, y)\n",
    "points_Q2 = np.stack([-X, Y], axis=-1)\n",
    "values_Q2 = values_Q1  # Same values due to symmetry\n",
    "\n",
    "# Reflect to 4th quadrant (x, y -> -y)\n",
    "points_Q4 = np.stack([X, -Y], axis=-1)\n",
    "values_Q4 = values_Q1  # Same values\n",
    "\n",
    "# Reflect to 3rd quadrant (x -> -x, y -> -y)\n",
    "points_Q3 = np.stack([-X, -Y], axis=-1)\n",
    "values_Q3 = values_Q1  # Same values\n",
    "\n",
    "# Combine all points and values\n",
    "points_full = np.concatenate([points_Q1, points_Q2, points_Q3, points_Q4], axis=0)\n",
    "values_full = np.concatenate([values_Q1, values_Q2, values_Q3, values_Q4], axis=0)"
   ]
  },
  {
   "cell_type": "code",
   "execution_count": null,
   "id": "530f62ef",
   "metadata": {},
   "outputs": [],
   "source": [
    "# plot the data\n",
    "fig, ax = plt.subplots()\n",
    "sc = ax.scatter(points_full[:, 0], points_full[:, 1], c=values_full, cmap='viridis', s=1)\n",
    "# sc = ax.tricontourf(points_full[:, 0], points_full[:, 1], values_full, levels=15, cmap='viridis')\n",
    "# ax.set_aspect('equal')\n",
    "plt.colorbar(sc, ax=ax, label='Value')\n",
    "plt.title('2D Data with Symmetry')\n",
    "plt.xlabel('X-axis')\n",
    "plt.ylabel('Y-axis')\n",
    "# plt.axis('off')\n",
    "# plt.xlim(-6, 6)\n",
    "# plt.ylim(-6, 6)\n",
    "plt.show()"
   ]
  },
  {
   "cell_type": "code",
   "execution_count": null,
   "id": "a26edd4e",
   "metadata": {},
   "outputs": [],
   "source": [
    "idx = 100\n",
    "# convert it into 6 digit string\n",
    "idx_str = str(idx).zfill(6)\n",
    "print(idx_str)"
   ]
  },
  {
   "cell_type": "markdown",
   "id": "5a37a3bc",
   "metadata": {},
   "source": [
    "## plot function"
   ]
  },
  {
   "cell_type": "code",
   "execution_count": null,
   "id": "bed557bf",
   "metadata": {},
   "outputs": [],
   "source": [
    "# plot 4x3 grid, plot every 10th output\n",
    "# Eg: sigma000000.vtu, sigma000010.vtu, sigma000020.vtu, sigma000030.vtu, sigma000040.vtu, sigma000050.vtu, sigma000060.vtu, sigma000070.vtu, sigma000080.vtu\n",
    "def plotResult(cnt, resPath, param, row, col, figSaveName, plotType='scatter', cntLevels=25):\n",
    "    fig, ax = plt.subplots(row, col, figsize=(25, 20))\n",
    "    idx = 1\n",
    "    for i in range(row):\n",
    "        for j in range(col):\n",
    "        # Load the .vtu file\n",
    "        # idx = i*18 + j*7 + 1\n",
    "            # if (idx)<10:\n",
    "            #     # mesh = pv.read(f\"/home/darpan/Desktop/Desktop/8thSem/MS5033/project/data2D__N=64/mu00000{idx}.vtu\")\n",
    "            #     mesh = pv.read(f\"{resPath}/{param}00000{idx}.vtu\")\n",
    "            # else:\n",
    "            #     # mesh = pv.read(f\"/home/darpan/Desktop/Desktop/8thSem/MS5033/project/data2D__N=64/mu0000{idx}.vtu\")\n",
    "            #     mesh = pv.read(f\"{resPath}/{param}0000{idx}.vtu\")\n",
    "            idx_str = str(idx).zfill(6)\n",
    "            mesh = pv.read(f\"{resPath}/{param}{idx_str}.vtu\")\n",
    "        # get the mesh points\n",
    "            X = mesh.points[:, 0]\n",
    "            Y = mesh.points[:, 1]\n",
    "            val = mesh.active_scalars\n",
    "\n",
    "            points_Q1 = np.stack([X, Y], axis=-1)\n",
    "            values_Q1 = val\n",
    "\n",
    "        # Reflect to 2nd quadrant (x -> -x, y)\n",
    "            points_Q2 = np.stack([-X, Y], axis=-1)\n",
    "            values_Q2 = values_Q1  # Same values due to symmetry\n",
    "\n",
    "        # Reflect to 4th quadrant (x, y -> -y)\n",
    "            points_Q4 = np.stack([X, -Y], axis=-1)\n",
    "            values_Q4 = values_Q1  # Same values\n",
    "\n",
    "        # Reflect to 3rd quadrant (x -> -x, y -> -y)\n",
    "            points_Q3 = np.stack([-X, -Y], axis=-1)\n",
    "            values_Q3 = values_Q1  # Same values\n",
    "\n",
    "        # Combine all points and values\n",
    "            points_full = np.concatenate([points_Q1, points_Q2, points_Q3, points_Q4], axis=0)\n",
    "            values_full = np.concatenate([values_Q1, values_Q2, values_Q3, values_Q4], axis=0)\n",
    "\n",
    "            if plotType == 'contour':\n",
    "                sc = ax[i][j].tricontourf(points_full[:, 0], points_full[:, 1], values_full, levels=cntLevels, cmap='rainbow')\n",
    "            elif plotType == 'scatter':\n",
    "                sc = ax[i][j].scatter(points_full[:, 0], points_full[:, 1], c=values_full, cmap='rainbow', s=3)\n",
    "            else:\n",
    "                raise ValueError(\"Invalid plot type. Use 'scatter' or 'contour'.\")\n",
    "            tit = f't = {idx}'\n",
    "            ax[i, j].set_title(tit)\n",
    "            ax[i, j].set_xlabel('X-axis')\n",
    "            ax[i, j].set_ylabel('Y-axis')\n",
    "            plt.colorbar(sc, ax=ax[i][j], label='Value')\n",
    "        # ax[i][j].axis('off')\n",
    "            ax[i][j].set_xlim(-6, 6)\n",
    "            ax[i][j].set_ylim(-6, 6)\n",
    "\n",
    "            idx += cnt\n",
    "\n",
    "# add title for big figure\n",
    "\n",
    "    fig.suptitle(f'{param} visualization with time', fontsize=16)\n",
    "    plt.tight_layout()\n",
    "    plt.savefig(figSaveName, dpi=300)\n",
    "    plt.show()\n",
    "    "
   ]
  },
  {
   "cell_type": "markdown",
   "id": "5b0de700",
   "metadata": {},
   "source": [
    "### Chi=5"
   ]
  },
  {
   "cell_type": "code",
   "execution_count": null,
   "id": "bef1c7ae",
   "metadata": {},
   "outputs": [],
   "source": [
    "resPath = '/home/darpan/Desktop/Desktop/8thSem/MS5033/project/FinalRes/chi5/simulation_output'\n",
    "phi = 'phi'\n",
    "sigma = 'sigma'"
   ]
  },
  {
   "cell_type": "markdown",
   "id": "eee2c4cd",
   "metadata": {},
   "source": [
    "#### phi"
   ]
  },
  {
   "cell_type": "code",
   "execution_count": null,
   "id": "cf771306",
   "metadata": {},
   "outputs": [],
   "source": [
    "plotResult(10, resPath, phi, 4, 3, 'phiVsT_contour_chi5', 'contour', cntLevels=25)"
   ]
  },
  {
   "cell_type": "code",
   "execution_count": null,
   "id": "e98091c7",
   "metadata": {},
   "outputs": [],
   "source": [
    "plotResult(10, resPath, phi, 4, 3, 'phiVsT_scatter_chi5', 'scatter', cntLevels=25)"
   ]
  },
  {
   "cell_type": "markdown",
   "id": "452fd70a",
   "metadata": {},
   "source": [
    "#### sigma"
   ]
  },
  {
   "cell_type": "code",
   "execution_count": null,
   "id": "027c4212",
   "metadata": {},
   "outputs": [],
   "source": [
    "plotResult(10, resPath, sigma, 4, 3, 'sigmaVsT_contour_chi5', 'contour', cntLevels=25)"
   ]
  },
  {
   "cell_type": "code",
   "execution_count": null,
   "id": "cf0d5b5d",
   "metadata": {},
   "outputs": [],
   "source": [
    "plotResult(10, resPath, sigma, 4, 3, 'sigmaVsT_scatter_chi5', 'scatter', cntLevels=25)"
   ]
  },
  {
   "cell_type": "markdown",
   "id": "4b12c0e4",
   "metadata": {},
   "source": [
    "### Chi=10"
   ]
  },
  {
   "cell_type": "code",
   "execution_count": null,
   "id": "fa04f964",
   "metadata": {},
   "outputs": [],
   "source": [
    "resPath = '/home/darpan/Desktop/Desktop/8thSem/MS5033/project/FinalRes/chi10/simulation_output'\n",
    "phi = 'phi'\n",
    "sigma = 'sigma'"
   ]
  },
  {
   "cell_type": "markdown",
   "id": "499a1fd3",
   "metadata": {},
   "source": [
    "#### phi"
   ]
  },
  {
   "cell_type": "code",
   "execution_count": null,
   "id": "65e49572",
   "metadata": {},
   "outputs": [],
   "source": [
    "plotResult(4, resPath, phi, 3, 3, 'phiVsT_contour_chi10', 'contour', cntLevels=210)"
   ]
  },
  {
   "cell_type": "code",
   "execution_count": null,
   "id": "c06f6e32",
   "metadata": {},
   "outputs": [],
   "source": [
    "plotResult(4, resPath, phi, 3, 3, 'phiVsT_scatter_chi10', 'scatter', cntLevels=25)"
   ]
  },
  {
   "cell_type": "markdown",
   "id": "d22f4e12",
   "metadata": {},
   "source": [
    "#### sigma"
   ]
  },
  {
   "cell_type": "code",
   "execution_count": null,
   "id": "b4cc2749",
   "metadata": {},
   "outputs": [],
   "source": [
    "plotResult(4, resPath, sigma, 3, 3, 'sigmaVsT_contour_chi10', 'contour', cntLevels=25)"
   ]
  },
  {
   "cell_type": "code",
   "execution_count": null,
   "id": "93e6a3fa",
   "metadata": {},
   "outputs": [],
   "source": [
    "plotResult(4, resPath, sigma, 3, 3, 'sigmaVsT_scatter_chi10', 'scatter', cntLevels=25)"
   ]
  },
  {
   "cell_type": "markdown",
   "id": "a6edab80",
   "metadata": {},
   "source": [
    "### Animation"
   ]
  },
  {
   "cell_type": "code",
   "execution_count": null,
   "id": "de41783a",
   "metadata": {},
   "outputs": [],
   "source": [
    "# define figure\n",
    "fig, ax = plt.subplots(1, 2, figsize=(25, 10))\n",
    "resPath = '/home/darpan/Desktop/Desktop/8thSem/MS5033/project/FinalRes/chi10/simulation_output'\n",
    "phi = 'phi'\n",
    "sigma = 'sigma'\n",
    "mesh_phi = pv.read(f\"{resPath}/{phi}000001.vtu\")\n",
    "X_phi = mesh_phi.points[:, 0]\n",
    "Y_phi = mesh_phi.points[:, 1]\n",
    "val_phi = mesh_phi.active_scalars\n",
    "points_Q1_phi = np.stack([X_phi, Y_phi], axis=-1)\n",
    "values_Q1_phi = val_phi\n",
    "points_Q2_phi = np.stack([-X_phi, Y_phi], axis=-1)\n",
    "values_Q2_phi = values_Q1_phi  # Same values due to symmetry\n",
    "points_Q4_phi = np.stack([X_phi, -Y_phi], axis=-1)\n",
    "values_Q4_phi = values_Q1_phi  # Same values\n",
    "points_Q3_phi = np.stack([-X_phi, -Y_phi], axis=-1)\n",
    "values_Q3_phi = values_Q1_phi  # Same values\n",
    "# Combine all points and values\n",
    "points_full_phi = np.concatenate([points_Q1_phi, points_Q2_phi, points_Q3_phi, points_Q4_phi], axis=0)\n",
    "values_full_phi = np.concatenate([values_Q1_phi, values_Q2_phi, values_Q3_phi, values_Q4_phi], axis=0)\n",
    "sc_phi = ax[0].scatter(points_full_phi[:, 0], points_full_phi[:, 1], c=values_full_phi, cmap='rainbow', s=1)\n",
    "# sc_phi = ax[0].tricontourf(points_full_phi[:, 0], points_full_phi[:, 1], values_full_phi, levels=25, cmap='rainbow')\n",
    "plt.colorbar(sc_phi, ax=ax[0], label='Value')\n",
    "ax[0].set_title('2D Data with Symmetry')\n",
    "ax[0].set_xlabel('X-axis')\n",
    "ax[0].set_ylabel('Y-axis')\n",
    "# ax[0].axis('off')\n",
    "ax[0].set_xlim(-9, 9)\n",
    "ax[0].set_ylim(-9, 9)\n",
    "mesh_sigma = pv.read(f\"{resPath}/{sigma}000001.vtu\")\n",
    "X_sigma = mesh_sigma.points[:, 0]\n",
    "Y_sigma = mesh_sigma.points[:, 1]\n",
    "val_sigma = mesh_sigma.active_scalars\n",
    "points_Q1_sigma = np.stack([X_sigma, Y_sigma], axis=-1)\n",
    "values_Q1_sigma = val_sigma\n",
    "points_Q2_sigma = np.stack([-X_sigma, Y_sigma], axis=-1)\n",
    "values_Q2_sigma = values_Q1_sigma  # Same values due to symmetry\n",
    "points_Q4_sigma = np.stack([X_sigma, -Y_sigma], axis=-1)\n",
    "values_Q4_sigma = values_Q1_sigma  # Same values\n",
    "points_Q3_sigma = np.stack([-X_sigma, -Y_sigma], axis=-1)\n",
    "values_Q3_sigma = values_Q1_sigma  # Same values\n",
    "# Combine all points and values\n",
    "points_full_sigma = np.concatenate([points_Q1_sigma, points_Q2_sigma, points_Q3_sigma, points_Q4_sigma], axis=0)\n",
    "values_full_sigma = np.concatenate([values_Q1_sigma, values_Q2_sigma, values_Q3_sigma, values_Q4_sigma], axis=0)\n",
    "sc_sigma = ax[1].scatter(points_full_sigma[:, 0], points_full_sigma[:, 1], c=values_full_sigma, cmap='rainbow', s=1)\n",
    "plt.colorbar(sc_sigma, ax=ax[1], label='Value')\n",
    "ax[1].set_title('2D Data with Symmetry')\n",
    "ax[1].set_xlabel('X-axis')\n",
    "ax[1].set_ylabel('Y-axis')\n",
    "# ax[1].axis('off')\n",
    "ax[1].set_xlim(-9, 9)\n",
    "ax[1].set_ylim(-9, 9)\n",
    "\n",
    "\n",
    "step = 1\n",
    "\n",
    "def update(frame):\n",
    "    print(f\"frame: {frame}\")\n",
    "    idx = frame * step+1\n",
    "    idx_str = str(idx).zfill(6)\n",
    "    mesh_phi = pv.read(f\"{resPath}/phi{idx_str}.vtu\")\n",
    "    X_phi = mesh_phi.points[:, 0]\n",
    "    Y_phi = mesh_phi.points[:, 1]\n",
    "    val_phi = mesh_phi.active_scalars\n",
    "    points_Q1_phi = np.stack([X_phi, Y_phi], axis=-1)\n",
    "    values_Q1_phi = val_phi\n",
    "    points_Q2_phi = np.stack([-X_phi, Y_phi], axis=-1)\n",
    "    values_Q2_phi = values_Q1_phi  # Same values due to symmetry\n",
    "    points_Q4_phi = np.stack([X_phi, -Y_phi], axis=-1)\n",
    "    values_Q4_phi = values_Q1_phi  # Same values\n",
    "    points_Q3_phi = np.stack([-X_phi, -Y_phi], axis=-1)\n",
    "    values_Q3_phi = values_Q1_phi  # Same values\n",
    "    # Combine all points and values\n",
    "    points_full_phi = np.concatenate([points_Q1_phi, points_Q2_phi, points_Q3_phi, points_Q4_phi], axis=0)\n",
    "    values_full_phi = np.concatenate([values_Q1_phi, values_Q2_phi, values_Q3_phi, values_Q4_phi], axis=0)\n",
    "    sc_phi.set_offsets(points_full_phi)\n",
    "    sc_phi.set_array(values_full_phi)\n",
    "    ax[0].set_title(f'phi: t = {idx}')\n",
    "    mesh_sigma = pv.read(f\"{resPath}/sigma{idx_str}.vtu\")\n",
    "    X_sigma = mesh_sigma.points[:, 0]\n",
    "    Y_sigma = mesh_sigma.points[:, 1]\n",
    "    val_sigma = mesh_sigma.active_scalars\n",
    "    points_Q1_sigma = np.stack([X_sigma, Y_sigma], axis=-1)\n",
    "    values_Q1_sigma = val_sigma\n",
    "    points_Q2_sigma = np.stack([-X_sigma, Y_sigma], axis=-1)\n",
    "    values_Q2_sigma = values_Q1_sigma  # Same values due to symmetry\n",
    "    points_Q4_sigma = np.stack([X_sigma, -Y_sigma], axis=-1)\n",
    "    values_Q4_sigma = values_Q1_sigma  # Same values\n",
    "    points_Q3_sigma = np.stack([-X_sigma, -Y_sigma], axis=-1)\n",
    "    values_Q3_sigma = values_Q1_sigma  # Same values\n",
    "    # Combine all points and values\n",
    "    points_full_sigma = np.concatenate([points_Q1_sigma, points_Q2_sigma, points_Q3_sigma, points_Q4_sigma], axis=0)\n",
    "    values_full_sigma = np.concatenate([values_Q1_sigma, values_Q2_sigma, values_Q3_sigma, values_Q4_sigma], axis=0)\n",
    "    sc_sigma.set_offsets(points_full_sigma)\n",
    "    sc_sigma.set_array(values_full_sigma)\n",
    "    ax[1].set_title(f'sigma: t = {idx}')\n",
    "    return sc_phi, sc_sigma\n",
    "ani = FuncAnimation(fig, update, frames=range(0, 31), blit=True, interval=100)\n",
    "plt.close()\n",
    "# Save the animation as a video file\n",
    "# Set up formatting for the movie files\n",
    "writer = animation.FFMpegWriter(fps=3)\n",
    "\n",
    "ani.save('phi_sigma_chi10.mp4', writer=writer)\n",
    "\n",
    "HTML(ani.to_jshtml())\n",
    "\n",
    "\n",
    "    \n"
   ]
  },
  {
   "cell_type": "code",
   "execution_count": null,
   "id": "8679ea83",
   "metadata": {},
   "outputs": [],
   "source": []
  }
 ],
 "metadata": {
  "kernelspec": {
   "display_name": "fenics-env",
   "language": "python",
   "name": "python3"
  },
  "language_info": {
   "codemirror_mode": {
    "name": "ipython",
    "version": 3
   },
   "file_extension": ".py",
   "mimetype": "text/x-python",
   "name": "python",
   "nbconvert_exporter": "python",
   "pygments_lexer": "ipython3",
   "version": "3.11.12"
  }
 },
 "nbformat": 4,
 "nbformat_minor": 5
}
