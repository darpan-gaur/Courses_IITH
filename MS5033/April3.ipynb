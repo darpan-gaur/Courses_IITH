{
 "cells": [
  {
   "cell_type": "code",
   "execution_count": null,
   "metadata": {},
   "outputs": [],
   "source": [
    "import numpy as np\n",
    "import matplotlib.pyplot as plt"
   ]
  },
  {
   "cell_type": "code",
   "execution_count": null,
   "metadata": {},
   "outputs": [],
   "source": [
    "# numerical/grid parameters\n",
    "Nx = 128\n",
    "Ny = 128\n",
    "dx = 1.0\n",
    "dy = 1.0\n",
    "dt = 0.5\n",
    "nSteps = 2000\n",
    "printSteps = 50"
   ]
  },
  {
   "cell_type": "code",
   "execution_count": null,
   "metadata": {},
   "outputs": [],
   "source": [
    "# physical parameters\n",
    "# f = a c^2 (1-c)^2\n",
    "# df/dc = 2 a c (1-c)^2 - 2 a c^2 (1-c) = 2 a c (1-c) (1-2c)\n",
    "# \n",
    "\n",
    "# physics based parametrs\n",
    "A = 1.0\n",
    "kappa = 1.0\n",
    "M = 1.0\n",
    "c0 = 0.5\n",
    "noiseAmp = 0.005\n",
    "c = c0 * np.ones((Nx, Ny))\n",
    "\n",
    "np.random.seed(714)\n",
    "# add random noise with mean 0 and std 0.1\n",
    "noise = 2 * np.random.randn(Nx, Ny) - 1.0\n",
    "noise = noise - np.mean(noise)\n",
    "noise *= noiseAmp\n",
    "\n",
    "c = c + noise\n",
    "print(c.mean())"
   ]
  },
  {
   "cell_type": "code",
   "execution_count": null,
   "metadata": {},
   "outputs": [],
   "source": [
    "plt.imshow(noise)\n",
    "plt.colorbar()"
   ]
  },
  {
   "cell_type": "code",
   "execution_count": null,
   "metadata": {},
   "outputs": [],
   "source": [
    "# fourier transform\n",
    "# kx = np.fft.fftfreq(Nx, dx)\n",
    "kx = np.fft.fftshift(np.fft.fftfreq(Nx, dx))\n",
    "kx = 2 * np.pi * kx\n",
    "ky = np.fft.fftshift(np.fft.fftfreq(Ny, dy))\n",
    "ky = 2 * np.pi * ky\n",
    "kx2 = kx*kx\n",
    "ky2 = ky*ky\n",
    "k2 = kx2 + ky2\n",
    "k4 = k2*k2\n",
    "\n",
    "# solve the PDE\n",
    "c_hat = np.fft.fft2(c)\n",
    "c_hat = np.fft.fftshift(c_hat)\n",
    "\n",
    "g = 2 * A * c * (1 - c) * (1 - 2 * c)\n",
    "g_hat = np.fft.fft2(g)\n",
    "g_hat = np.fft.fftshift(g_hat)\n",
    "\n",
    "c_hat_new = (c_hat - M * dt * k2 * g_hat) / (1 + 2 * M * kappa * k4 * dt)\n"
   ]
  },
  {
   "cell_type": "code",
   "execution_count": null,
   "metadata": {},
   "outputs": [],
   "source": [
    "import numpy as np\n",
    "import matplotlib.pyplot as plt\n",
    "\n",
    "# Define spatial resolution and grid sizes\n",
    "Nx, Ny = 256, 256  # Grid sizes in x and y directions\n",
    "dx, dy = 1.0, 1.0  # Grid spacing in x and y directions\n",
    "dt = 0.01  # Time step\n",
    "M = 1.0  # Diffusion coefficient\n",
    "A = 1.0  # Parameter for the reaction term\n",
    "kappa = 0.1  # Diffusion parameter for the higher-order term\n",
    "timesteps = 100  # Number of timesteps to run the simulation\n",
    "\n",
    "# Create the grid in Fourier space\n",
    "kx = np.fft.fftfreq(Nx, dx)  # Frequency in x direction\n",
    "kx = np.fft.fftshift(kx)  # Shift to center the zero frequency\n",
    "kx = 2 * np.pi * kx  # Convert to wave numbers\n",
    "\n",
    "ky = np.fft.fftfreq(Ny, dy)  # Frequency in y direction\n",
    "ky = np.fft.fftshift(ky)  # Shift to center the zero frequency\n",
    "ky = 2 * np.pi * ky  # Convert to wave numbers\n",
    "\n",
    "# Compute k^2 and k^4\n",
    "kx2 = kx**2\n",
    "ky2 = ky**2\n",
    "k2 = kx2 + ky2  # k^2\n",
    "k4 = k2 * k2  # k^4\n",
    "\n",
    "# Initial condition for c (you can choose your own initial condition)\n",
    "c = np.random.rand(Nx, Ny)  # This is just an example; replace with actual initial condition\n",
    "\n",
    "# Fourier transform of c\n",
    "c_hat = np.fft.fft2(c)  # 2D Fourier transform of c\n",
    "c_hat = np.fft.fftshift(c_hat)  # Shift zero frequency to center\n",
    "\n",
    "# Time-stepping loop\n",
    "for t in range(timesteps):\n",
    "    # Reaction term g = 2 * A * c * (1 - c) * (1 - 2 * c)\n",
    "    g = 2 * A * c * (1 - c) * (1 - 2 * c)\n",
    "\n",
    "    # Fourier transform of g\n",
    "    g_hat = np.fft.fft2(g)  # 2D Fourier transform of g\n",
    "    g_hat = np.fft.fftshift(g_hat)  # Shift zero frequency to center\n",
    "\n",
    "    # Update rule for c_hat using implicit time-stepping\n",
    "    c_hat_new = (c_hat - M * dt * k2 * g_hat) / (1 + 2 * M * kappa * k4 * dt)\n",
    "\n",
    "    # Optional: Inverse FFT to get the updated field in real space\n",
    "    c_new = np.fft.ifft2(np.fft.ifftshift(c_hat_new))  # Inverse FFT to get c in real space\n",
    "    c_new = np.abs(c_new)  # Take absolute value if necessary, for real fields\n",
    "\n",
    "    # Update the field for the next iteration\n",
    "    c = c_new.copy()  # Copy the updated field back to c\n",
    "\n",
    "    # Optional: Display the solution at certain timesteps (for visualization)\n",
    "    if t % 10 == 0:  # Display every 10 timesteps\n",
    "        plt.imshow(c, cmap='viridis', origin='lower')\n",
    "        plt.title(f\"Timestep {t}\")\n",
    "        plt.colorbar()\n",
    "        plt.show()\n",
    "\n",
    "# After the loop, `c` holds the final solution\n"
   ]
  },
  {
   "cell_type": "code",
   "execution_count": null,
   "metadata": {},
   "outputs": [],
   "source": []
  }
 ],
 "metadata": {
  "kernelspec": {
   "display_name": "test",
   "language": "python",
   "name": "python3"
  },
  "language_info": {
   "codemirror_mode": {
    "name": "ipython",
    "version": 3
   },
   "file_extension": ".py",
   "mimetype": "text/x-python",
   "name": "python",
   "nbconvert_exporter": "python",
   "pygments_lexer": "ipython3",
   "version": "3.12.3"
  }
 },
 "nbformat": 4,
 "nbformat_minor": 2
}
