{
 "cells": [
  {
   "cell_type": "code",
   "execution_count": 70,
   "metadata": {},
   "outputs": [],
   "source": [
    "import numpy as np\n",
    "import matplotlib.pyplot as plt"
   ]
  },
  {
   "cell_type": "code",
   "execution_count": 71,
   "metadata": {},
   "outputs": [
    {
     "data": {
      "text/plain": [
       "1"
      ]
     },
     "execution_count": 71,
     "metadata": {},
     "output_type": "execute_result"
    }
   ],
   "source": [
    "# open output file\n",
    "f = open(\"output.txt\", \"w\")\n",
    "heading = ['lines', 'ways', 'blocks', 'hitRate', 'nHits', 'nMisses', 'totalAccesses']\n",
    "# write heading to file\n",
    "for i in range(0, len(heading)):\n",
    "    f.write(heading[i] + \",\")\n",
    "f.write(\"\\n\")\n"
   ]
  },
  {
   "cell_type": "code",
   "execution_count": 72,
   "metadata": {},
   "outputs": [
    {
     "name": "stdout",
     "output_type": "stream",
     "text": [
      "['lines', 'ways', 'blocks', 'hitRate', 'nHits', 'nMisses', 'totalAccesses'] \n",
      " [[ 1.      0.      2.      0.7424 49.     17.     66.    ]\n",
      " [ 2.      0.      2.      0.7424 49.     17.     66.    ]\n",
      " [ 3.      0.      2.      0.7424 49.     17.     66.    ]] \n",
      "\n",
      "[[ 3.      0.      3.      0.8636 57.      9.     66.    ]\n",
      " [ 3.      0.      4.      0.9242 61.      5.     66.    ]\n",
      " [ 3.      0.      5.      0.9545 63.      3.     66.    ]] \n",
      "\n",
      "[[ 3.      0.      2.      0.7424 49.     17.     66.    ]\n",
      " [ 3.      1.      2.      0.7424 49.     17.     66.    ]] \n",
      "\n"
     ]
    }
   ],
   "source": [
    "p1_88_lines = np.zeros((3, 7))\n",
    "p1_88_lines[0] = [1, 0, 2, 0.7424, 49, 17, 0]\n",
    "p1_88_lines[0][6] = p1_88_lines[0][4] + p1_88_lines[0][5]\n",
    "p1_88_lines[1] = [2, 0, 2, 0.7424, 49, 17, 0]\n",
    "p1_88_lines[1][6] = p1_88_lines[1][4] + p1_88_lines[1][5]\n",
    "p1_88_lines[2] = [3, 0, 2, 0.7424, 49, 17, 0]\n",
    "p1_88_lines[2][6] = p1_88_lines[2][4] + p1_88_lines[2][5]\n",
    "print(heading, \"\\n\", p1_88_lines, \"\\n\")\n",
    "\n",
    "p1_88_blocks = np.zeros((3, 7))\n",
    "p1_88_blocks[0] = [3, 0, 3, 0.8636, 57, 9, 0]\n",
    "p1_88_blocks[0][6] = p1_88_blocks[0][4] + p1_88_blocks[0][5]\n",
    "p1_88_blocks[1] = [3, 0, 4, 0.9242, 61, 5, 0]\n",
    "p1_88_blocks[1][6] = p1_88_blocks[1][4] + p1_88_blocks[1][5]\n",
    "p1_88_blocks[2] = [3, 0, 5, 0.9545, 63, 3, 0]\n",
    "p1_88_blocks[2][6] = p1_88_blocks[2][4] + p1_88_blocks[2][5]\n",
    "print(p1_88_blocks, \"\\n\")\n",
    "\n",
    "p1_88_ways = np.zeros((2, 7))\n",
    "p1_88_ways[0] = [3, 0, 2, 0.7424, 49, 17, 0]\n",
    "p1_88_ways[0][6] = p1_88_ways[0][4] + p1_88_ways[0][5]\n",
    "p1_88_ways[1] = [3, 1, 2, 0.7424, 49, 17, 0]\n",
    "p1_88_ways[1][6] = p1_88_ways[1][4] + p1_88_ways[1][5]\n",
    "print(p1_88_ways, \"\\n\")\n"
   ]
  },
  {
   "cell_type": "code",
   "execution_count": 73,
   "metadata": {},
   "outputs": [
    {
     "name": "stdout",
     "output_type": "stream",
     "text": [
      "['lines', 'ways', 'blocks', 'hitRate', 'nHits', 'nMisses', 'totalAccesses'] \n",
      " [[  1.       0.       2.       0.7481 193.      65.     258.    ]\n",
      " [  2.       0.       2.       0.7481 193.      65.     258.    ]\n",
      " [  3.       0.       2.       0.7481 193.      65.     258.    ]] \n",
      "\n",
      "[[  3.       0.       3.       0.8721 225.      33.     258.    ]\n",
      " [  3.       0.       4.       0.9341 241.      17.     258.    ]\n",
      " [  3.       0.       5.       0.9651 249.       9.     258.    ]] \n",
      "\n",
      "[[  3.       0.       2.       0.7481 193.      65.     258.    ]\n",
      " [  3.       1.       2.       0.7481 193.      65.     258.    ]] \n",
      "\n"
     ]
    }
   ],
   "source": [
    "p1_1616_lines = np.zeros((3, 7))\n",
    "p1_1616_lines[0] = [1, 0, 2, 0.7481, 193, 65, 0]\n",
    "p1_1616_lines[0][6] = p1_1616_lines[0][4] + p1_1616_lines[0][5]\n",
    "p1_1616_lines[1] = [2, 0, 2, 0.7481, 193, 65, 0]\n",
    "p1_1616_lines[1][6] = p1_1616_lines[1][4] + p1_1616_lines[1][5]\n",
    "p1_1616_lines[2] = [3, 0, 2, 0.7481, 193, 65, 0]\n",
    "p1_1616_lines[2][6] = p1_1616_lines[2][4] + p1_1616_lines[2][5]\n",
    "print(heading, \"\\n\", p1_1616_lines, \"\\n\")\n",
    "\n",
    "p1_1616_blocks = np.zeros((3, 7))\n",
    "p1_1616_blocks[0] = [3, 0, 3, 0.8721, 225, 33, 0]\n",
    "p1_1616_blocks[0][6] = p1_1616_blocks[0][4] + p1_1616_blocks[0][5]\n",
    "p1_1616_blocks[1] = [3, 0, 4, 0.9341, 241, 17, 0]\n",
    "p1_1616_blocks[1][6] = p1_1616_blocks[1][4] + p1_1616_blocks[1][5]\n",
    "p1_1616_blocks[2] = [3, 0, 5, 0.9651, 249, 9, 0]\n",
    "p1_1616_blocks[2][6] = p1_1616_blocks[2][4] + p1_1616_blocks[2][5]\n",
    "print(p1_1616_blocks, \"\\n\")\n",
    "\n",
    "p1_1616_ways = np.zeros((2, 7))\n",
    "p1_1616_ways[0] = [3, 0, 2, 0.7481, 193, 65, 0]\n",
    "p1_1616_ways[0][6] = p1_1616_ways[0][4] + p1_1616_ways[0][5]\n",
    "p1_1616_ways[1] = [3, 1, 2, 0.7481, 193, 65, 0]\n",
    "p1_1616_ways[1][6] = p1_1616_ways[1][4] + p1_1616_ways[1][5]\n",
    "print(p1_1616_ways, \"\\n\")"
   ]
  },
  {
   "cell_type": "code",
   "execution_count": 74,
   "metadata": {},
   "outputs": [
    {
     "name": "stdout",
     "output_type": "stream",
     "text": [
      "['lines', 'ways', 'blocks', 'hitRate', 'nHits', 'nMisses', 'totalAccesses'] \n",
      " [[ 1.       0.       2.       0.0303   2.      64.      66.     ]\n",
      " [ 2.       0.       2.       0.0303   2.      64.      66.     ]\n",
      " [ 3.       0.       2.       0.04545  3.      63.      66.     ]] \n",
      "\n",
      "[[ 3.      0.      3.      0.8636 57.      9.     66.    ]\n",
      " [ 3.      0.      4.      0.9242 61.      5.     66.    ]\n",
      " [ 3.      0.      5.      0.9545 63.      3.     66.    ]] \n",
      "\n",
      "[[ 3.       0.       2.       0.04545  3.      63.      66.     ]\n",
      " [ 3.       1.       2.       0.7424  49.      17.      66.     ]] \n",
      "\n"
     ]
    }
   ],
   "source": [
    "p2_88_lines = np.zeros((3, 7))\n",
    "p2_88_lines[0] = [1, 0, 2, 0.0303, 2, 64, 0]\n",
    "p2_88_lines[0][6] = p2_88_lines[0][4] + p2_88_lines[0][5]\n",
    "p2_88_lines[1] = [2, 0, 2, 0.0303, 2, 64, 0]\n",
    "p2_88_lines[1][6] = p2_88_lines[1][4] + p2_88_lines[1][5]\n",
    "p2_88_lines[2] = [3, 0, 2, 0.04545, 3, 63, 0]\n",
    "p2_88_lines[2][6] = p2_88_lines[2][4] + p2_88_lines[2][5]\n",
    "np.set_printoptions(suppress=True)\n",
    "print(heading, \"\\n\", p2_88_lines, \"\\n\")\n",
    "# dont print in scientific notation\n",
    "\n",
    "p2_88_blocks = np.zeros((3, 7))\n",
    "p2_88_blocks[0] = [3, 0, 3, 0.8636, 57, 9, 0]\n",
    "p2_88_blocks[0][6] = p2_88_blocks[0][4] + p2_88_blocks[0][5]\n",
    "p2_88_blocks[1] = [3, 0, 4, 0.9242, 61, 5, 0]\n",
    "p2_88_blocks[1][6] = p2_88_blocks[1][4] + p2_88_blocks[1][5]\n",
    "p2_88_blocks[2] = [3, 0, 5, 0.9545, 63, 3, 0]\n",
    "p2_88_blocks[2][6] = p2_88_blocks[2][4] + p2_88_blocks[2][5]\n",
    "print(p2_88_blocks, \"\\n\")\n",
    "\n",
    "p2_88_ways = np.zeros((2, 7))\n",
    "p2_88_ways[0] = [3, 0, 2, 0.04545, 3, 63, 0]\n",
    "p2_88_ways[0][6] = p2_88_ways[0][4] + p2_88_ways[0][5]\n",
    "p2_88_ways[1] = [3, 1, 2, 0.7424, 49, 17, 0]\n",
    "p2_88_ways[1][6] = p2_88_ways[1][4] + p2_88_ways[1][5]\n",
    "print(p2_88_ways, \"\\n\")"
   ]
  },
  {
   "cell_type": "code",
   "execution_count": 75,
   "metadata": {},
   "outputs": [
    {
     "name": "stdout",
     "output_type": "stream",
     "text": [
      "['lines', 'ways', 'blocks', 'hitRate', 'nHits', 'nMisses', 'totalAccesses'] \n",
      " [[  1.         0.         2.         0.007752   2.       256.\n",
      "  258.      ]\n",
      " [  2.         0.         2.         0.007752   2.       256.\n",
      "  258.      ]\n",
      " [  3.         0.         2.         0.007752   2.       256.\n",
      "  258.      ]] \n",
      "\n",
      "[[  3.         0.         3.         0.007752   2.       256.\n",
      "  258.      ]\n",
      " [  3.         0.         4.         0.01163    3.       255.\n",
      "  258.      ]\n",
      " [  3.         0.         5.         0.9574   247.        11.\n",
      "  258.      ]] \n",
      "\n",
      "[[  3.         0.         2.         0.007752   2.       256.\n",
      "  258.      ]\n",
      " [  3.         1.         2.         0.007752   2.       256.\n",
      "  258.      ]] \n",
      "\n"
     ]
    }
   ],
   "source": [
    "p2_1616_lines = np.zeros((3, 7))\n",
    "p2_1616_lines[0] = [1, 0, 2, 0.007752, 2, 256, 0]\n",
    "p2_1616_lines[0][6] = p2_1616_lines[0][4] + p2_1616_lines[0][5]\n",
    "p2_1616_lines[1] = [2, 0, 2, 0.007752, 2, 256, 0]\n",
    "p2_1616_lines[1][6] = p2_1616_lines[1][4] + p2_1616_lines[1][5]\n",
    "p2_1616_lines[2] = [3, 0, 2, 0.007752, 2, 256, 0]\n",
    "p2_1616_lines[2][6] = p2_1616_lines[2][4] + p2_1616_lines[2][5]\n",
    "print(heading, \"\\n\", p2_1616_lines, \"\\n\")\n",
    "\n",
    "p2_1616_blocks = np.zeros((3, 7))\n",
    "p2_1616_blocks[0] = [3, 0, 3, 0.007752, 2, 256, 0]\n",
    "p2_1616_blocks[0][6] = p2_1616_blocks[0][4] + p2_1616_blocks[0][5]\n",
    "p2_1616_blocks[1] = [3, 0, 4, 0.01163, 3, 255, 0]\n",
    "p2_1616_blocks[1][6] = p2_1616_blocks[1][4] + p2_1616_blocks[1][5]\n",
    "p2_1616_blocks[2] = [3, 0, 5, 0.9574, 247, 11, 0]\n",
    "p2_1616_blocks[2][6] = p2_1616_blocks[2][4] + p2_1616_blocks[2][5]\n",
    "print(p2_1616_blocks, \"\\n\")\n",
    "\n",
    "p2_1616_ways = np.zeros((2, 7))\n",
    "p2_1616_ways[0] = [3, 0, 2, 0.007752, 2, 256, 0]\n",
    "p2_1616_ways[0][6] = p2_1616_ways[0][4] + p2_1616_ways[0][5]\n",
    "p2_1616_ways[1] = [3, 1, 2, 0.007752, 2, 256, 0]\n",
    "p2_1616_ways[1][6] = p2_1616_ways[1][4] + p2_1616_ways[1][5]\n",
    "print(p2_1616_ways, \"\\n\")"
   ]
  },
  {
   "cell_type": "code",
   "execution_count": 76,
   "metadata": {},
   "outputs": [
    {
     "name": "stdout",
     "output_type": "stream",
     "text": [
      "['lines', 'ways', 'blocks', 'hitRate', 'nHits', 'nMisses', 'totalAccesses', 'writeBacks'] \n",
      " [[ 5.       0.       2.       0.7424  49.      17.      66.      64.     ]\n",
      " [ 5.       0.       2.       0.04545  3.      63.      66.      64.     ]\n",
      " [ 5.       0.       2.       0.7424  49.      17.      66.       0.     ]\n",
      " [ 5.       0.       2.       0.04545  3.      63.      66.      62.     ]] \n",
      "\n",
      "[[  5.        0.        2.        0.7481  193.       65.      258.\n",
      "  256.     ]\n",
      " [  5.        0.        2.        0.01163   3.      255.      258.\n",
      "  256.     ]\n",
      " [  5.        0.        2.        0.7481  193.       65.      258.\n",
      "    0.     ]\n",
      " [  5.        0.        2.        0.01163   3.      255.      258.\n",
      "  254.     ]] \n",
      "\n"
     ]
    }
   ],
   "source": [
    "heading1 = heading + ['writeBacks']\n",
    "heading2 = ['writeThrough_withAllocate', 'writeThrough_noAllocate', 'writeBack_withAllocate', 'writeBack_noAllocate']\n",
    "p1_88 = np.zeros((4, 8))\n",
    "p1_88[0] = [5, 0, 2, 0.7424, 49, 17, 0, 64]\n",
    "p1_88[0][6] = p1_88[0][4] + p1_88[0][5]\n",
    "p1_88[1] = [5, 0, 2, 0.04545, 3, 63, 0, 64]\n",
    "p1_88[1][6] = p1_88[1][4] + p1_88[1][5]\n",
    "p1_88[2] = [5, 0, 2, 0.7424, 49, 17, 0, 0]\n",
    "p1_88[2][6] = p1_88[2][4] + p1_88[2][5]\n",
    "p1_88[3] = [5, 0, 2, 0.04545, 3, 63, 0, 62]\n",
    "p1_88[3][6] = p1_88[3][4] + p1_88[3][5]\n",
    "print(heading1, \"\\n\", p1_88, \"\\n\")\n",
    "\n",
    "p1_1616 = np.zeros((4, 8))\n",
    "p1_1616[0] = [5, 0, 2, 0.7481, 193, 65, 0, 256]\n",
    "p1_1616[0][6] = p1_1616[0][4] + p1_1616[0][5]\n",
    "p1_1616[1] = [5, 0, 2, 0.01163, 3, 255, 0, 256]\n",
    "p1_1616[1][6] = p1_1616[1][4] + p1_1616[1][5]\n",
    "p1_1616[2] = [5, 0, 2, 0.7481, 193, 65, 0, 0]\n",
    "p1_1616[2][6] = p1_1616[2][4] + p1_1616[2][5]\n",
    "p1_1616[3] = [5, 0, 2, 0.01163, 3, 255, 0, 254]\n",
    "p1_1616[3][6] = p1_1616[3][4] + p1_1616[3][5]\n",
    "print(p1_1616, \"\\n\")\n"
   ]
  },
  {
   "cell_type": "code",
   "execution_count": 77,
   "metadata": {},
   "outputs": [
    {
     "name": "stdout",
     "output_type": "stream",
     "text": [
      "['lines', 'ways', 'blocks', 'hitRate', 'nHits', 'nMisses', 'totalAccesses'] \n",
      " [[ 5.       0.       2.       0.7424  49.      17.      66.      64.     ]\n",
      " [ 5.       0.       2.       0.04545  3.      63.      66.      64.     ]\n",
      " [ 5.       0.       2.       0.7474  49.      17.      66.       0.     ]\n",
      " [ 5.       0.       2.       0.04545  3.      63.      66.      62.     ]] \n",
      "\n",
      "[[  5.        0.        2.        0.01163   3.      255.      258.\n",
      "  256.     ]\n",
      " [  5.        0.        2.        0.01163   3.      255.      258.\n",
      "  256.     ]\n",
      " [  5.        0.        2.        0.01163   3.      255.      258.\n",
      "  223.     ]\n",
      " [  5.        0.        2.        0.01163   3.      255.      258.\n",
      "  254.     ]] \n",
      "\n"
     ]
    }
   ],
   "source": [
    "p2_88 = np.zeros((4, 8))\n",
    "p2_88[0] = [5, 0, 2, 0.7424, 49, 17, 0, 64]\n",
    "p2_88[0][6] = p2_88[0][4] + p2_88[0][5]\n",
    "p2_88[1] = [5, 0, 2, 0.04545, 3, 63, 0, 64]\n",
    "p2_88[1][6] = p2_88[1][4] + p2_88[1][5]\n",
    "p2_88[2] = [5, 0, 2, 0.7474, 49, 17, 0, 0]\n",
    "p2_88[2][6] = p2_88[2][4] + p2_88[2][5]\n",
    "p2_88[3] = [5, 0, 2, 0.04545, 3, 63, 0, 62]\n",
    "p2_88[3][6] = p2_88[3][4] + p2_88[3][5]\n",
    "print(heading, \"\\n\", p2_88, \"\\n\")\n",
    "\n",
    "p2_1616 = np.zeros((4, 8))\n",
    "p2_1616[0] = [5, 0, 2, 0.01163, 3, 255, 0, 256]\n",
    "p2_1616[0][6] = p2_1616[0][4] + p2_1616[0][5]\n",
    "p2_1616[1] = [5, 0, 2, 0.01163, 3, 255, 0, 256]\n",
    "p2_1616[1][6] = p2_1616[1][4] + p2_1616[1][5]\n",
    "p2_1616[2] = [5, 0, 2, 0.01163, 3, 255, 0, 223]\n",
    "p2_1616[2][6] = p2_1616[2][4] + p2_1616[2][5]\n",
    "p2_1616[3] = [5, 0, 2, 0.01163, 3, 255, 0, 254]\n",
    "p2_1616[3][6] = p2_1616[3][4] + p2_1616[3][5]\n",
    "print(p2_1616, \"\\n\")"
   ]
  },
  {
   "cell_type": "code",
   "execution_count": 78,
   "metadata": {},
   "outputs": [
    {
     "name": "stdout",
     "output_type": "stream",
     "text": [
      "['lines', 'ways', 'blocks', 'hitRate', 'nHits', 'nMisses', 'totalAccesses'] \n",
      " [[  5.        0.        2.        0.01538   2.      128.      130.     ]\n",
      " [  4.        1.        2.        0.7385   96.       34.      130.     ]\n",
      " [  0.        5.        2.        0.7385   96.       34.      130.     ]] \n",
      "\n",
      "[[  5.        0.        2.        0.06809  35.      479.      514.     ]\n",
      " [  4.        1.        2.        0.7471  384.      130.      514.     ]\n",
      " [  0.        5.        2.        0.7471  384.      130.      514.     ]] \n",
      "\n"
     ]
    }
   ],
   "source": [
    "heading3 = ['32-entry 4-word direct-mapped', '32-entry 4-word 2-way set associative', '32-entry 4-word fully associative']\n",
    "h3_88 = np.zeros((3, 7))\n",
    "h3_88[0] = [5, 0, 2, 0.01538, 2, 128, 0]\n",
    "h3_88[0][6] = h3_88[0][4] + h3_88[0][5]\n",
    "h3_88[1] = [4, 1, 2, 0.7385, 96, 34, 0]\n",
    "h3_88[1][6] = h3_88[1][4] + h3_88[1][5]\n",
    "h3_88[2] = [0, 5, 2, 0.7385, 96, 34, 0]\n",
    "h3_88[2][6] = h3_88[2][4] + h3_88[2][5]\n",
    "print(heading, \"\\n\", h3_88, \"\\n\")\n",
    "\n",
    "h3_1616 = np.zeros((3, 7))\n",
    "h3_1616[0] = [5, 0, 2, 0.06809, 35, 479, 0]\n",
    "h3_1616[0][6] = h3_1616[0][4] + h3_1616[0][5]\n",
    "h3_1616[1] = [4, 1, 2, 0.7471, 384, 130, 0]\n",
    "h3_1616[1][6] = h3_1616[1][4] + h3_1616[1][5]\n",
    "h3_1616[2] = [0, 5, 2, 0.7471, 384, 130, 0]\n",
    "h3_1616[2][6] = h3_1616[2][4] + h3_1616[2][5]\n",
    "print(h3_1616, \"\\n\")"
   ]
  },
  {
   "cell_type": "code",
   "execution_count": 85,
   "metadata": {},
   "outputs": [
    {
     "name": "stdout",
     "output_type": "stream",
     "text": [
      "Que3\n",
      "Program3 with L1(8,8)\n"
     ]
    },
    {
     "data": {
      "text/html": [
       "<table border=\"1\" class=\"dataframe\">\n",
       "  <thead>\n",
       "    <tr style=\"text-align: right;\">\n",
       "      <th></th>\n",
       "      <th>lines</th>\n",
       "      <th>ways</th>\n",
       "      <th>blocks</th>\n",
       "      <th>hitRate</th>\n",
       "      <th>nHits</th>\n",
       "      <th>nMisses</th>\n",
       "      <th>totalAccesses</th>\n",
       "    </tr>\n",
       "  </thead>\n",
       "  <tbody>\n",
       "    <tr>\n",
       "      <th>32-entry 4-word direct-mapped</th>\n",
       "      <td>5.0</td>\n",
       "      <td>0.0</td>\n",
       "      <td>2.0</td>\n",
       "      <td>0.01538</td>\n",
       "      <td>2.0</td>\n",
       "      <td>128.0</td>\n",
       "      <td>130.0</td>\n",
       "    </tr>\n",
       "    <tr>\n",
       "      <th>32-entry 4-word 2-way set associative</th>\n",
       "      <td>4.0</td>\n",
       "      <td>1.0</td>\n",
       "      <td>2.0</td>\n",
       "      <td>0.73850</td>\n",
       "      <td>96.0</td>\n",
       "      <td>34.0</td>\n",
       "      <td>130.0</td>\n",
       "    </tr>\n",
       "    <tr>\n",
       "      <th>32-entry 4-word fully associative</th>\n",
       "      <td>0.0</td>\n",
       "      <td>5.0</td>\n",
       "      <td>2.0</td>\n",
       "      <td>0.73850</td>\n",
       "      <td>96.0</td>\n",
       "      <td>34.0</td>\n",
       "      <td>130.0</td>\n",
       "    </tr>\n",
       "  </tbody>\n",
       "</table>"
      ],
      "text/plain": [
       "<IPython.core.display.HTML object>"
      ]
     },
     "metadata": {},
     "output_type": "display_data"
    },
    {
     "name": "stdout",
     "output_type": "stream",
     "text": [
      "Program3 with L1(16,16)\n"
     ]
    },
    {
     "data": {
      "text/html": [
       "<table border=\"1\" class=\"dataframe\">\n",
       "  <thead>\n",
       "    <tr style=\"text-align: right;\">\n",
       "      <th></th>\n",
       "      <th>lines</th>\n",
       "      <th>ways</th>\n",
       "      <th>blocks</th>\n",
       "      <th>hitRate</th>\n",
       "      <th>nHits</th>\n",
       "      <th>nMisses</th>\n",
       "      <th>totalAccesses</th>\n",
       "    </tr>\n",
       "  </thead>\n",
       "  <tbody>\n",
       "    <tr>\n",
       "      <th>32-entry 4-word direct-mapped</th>\n",
       "      <td>5.0</td>\n",
       "      <td>0.0</td>\n",
       "      <td>2.0</td>\n",
       "      <td>0.06809</td>\n",
       "      <td>35.0</td>\n",
       "      <td>479.0</td>\n",
       "      <td>514.0</td>\n",
       "    </tr>\n",
       "    <tr>\n",
       "      <th>32-entry 4-word 2-way set associative</th>\n",
       "      <td>4.0</td>\n",
       "      <td>1.0</td>\n",
       "      <td>2.0</td>\n",
       "      <td>0.74710</td>\n",
       "      <td>384.0</td>\n",
       "      <td>130.0</td>\n",
       "      <td>514.0</td>\n",
       "    </tr>\n",
       "    <tr>\n",
       "      <th>32-entry 4-word fully associative</th>\n",
       "      <td>0.0</td>\n",
       "      <td>5.0</td>\n",
       "      <td>2.0</td>\n",
       "      <td>0.74710</td>\n",
       "      <td>384.0</td>\n",
       "      <td>130.0</td>\n",
       "      <td>514.0</td>\n",
       "    </tr>\n",
       "  </tbody>\n",
       "</table>"
      ],
      "text/plain": [
       "<IPython.core.display.HTML object>"
      ]
     },
     "metadata": {},
     "output_type": "display_data"
    }
   ],
   "source": [
    "# display h3_88 as table with heading = heading and data = h3_88\n",
    "import pandas as pd\n",
    "from IPython.display import display\n",
    "\n",
    "print(\"Que3\")\n",
    "print(\"Program3 with L1(8,8)\")\n",
    "# don't display index\n",
    "df = pd.DataFrame(h3_88, columns=heading, index=heading3)\n",
    "display(HTML(df.to_html()))\n",
    "\n",
    "print(\"Program3 with L1(16,16)\")\n",
    "# display h3_1616 as table with heading = heading and data = h3_1616\n",
    "df = pd.DataFrame(h3_1616, columns=heading, index=heading3)\n",
    "display(HTML(df.to_html()))\n"
   ]
  },
  {
   "cell_type": "code",
   "execution_count": 80,
   "metadata": {},
   "outputs": [
    {
     "name": "stdout",
     "output_type": "stream",
     "text": [
      "Que2\n",
      "Program1 with L1(8,8)\n"
     ]
    },
    {
     "data": {
      "text/html": [
       "<table border=\"1\" class=\"dataframe\">\n",
       "  <thead>\n",
       "    <tr style=\"text-align: right;\">\n",
       "      <th></th>\n",
       "      <th>lines</th>\n",
       "      <th>ways</th>\n",
       "      <th>blocks</th>\n",
       "      <th>hitRate</th>\n",
       "      <th>nHits</th>\n",
       "      <th>nMisses</th>\n",
       "      <th>totalAccesses</th>\n",
       "      <th>writeBacks</th>\n",
       "    </tr>\n",
       "  </thead>\n",
       "  <tbody>\n",
       "    <tr>\n",
       "      <th>writeThrough_withAllocate</th>\n",
       "      <td>5.0</td>\n",
       "      <td>0.0</td>\n",
       "      <td>2.0</td>\n",
       "      <td>0.74240</td>\n",
       "      <td>49.0</td>\n",
       "      <td>17.0</td>\n",
       "      <td>66.0</td>\n",
       "      <td>64.0</td>\n",
       "    </tr>\n",
       "    <tr>\n",
       "      <th>writeThrough_noAllocate</th>\n",
       "      <td>5.0</td>\n",
       "      <td>0.0</td>\n",
       "      <td>2.0</td>\n",
       "      <td>0.04545</td>\n",
       "      <td>3.0</td>\n",
       "      <td>63.0</td>\n",
       "      <td>66.0</td>\n",
       "      <td>64.0</td>\n",
       "    </tr>\n",
       "    <tr>\n",
       "      <th>writeBack_withAllocate</th>\n",
       "      <td>5.0</td>\n",
       "      <td>0.0</td>\n",
       "      <td>2.0</td>\n",
       "      <td>0.74240</td>\n",
       "      <td>49.0</td>\n",
       "      <td>17.0</td>\n",
       "      <td>66.0</td>\n",
       "      <td>0.0</td>\n",
       "    </tr>\n",
       "    <tr>\n",
       "      <th>writeBack_noAllocate</th>\n",
       "      <td>5.0</td>\n",
       "      <td>0.0</td>\n",
       "      <td>2.0</td>\n",
       "      <td>0.04545</td>\n",
       "      <td>3.0</td>\n",
       "      <td>63.0</td>\n",
       "      <td>66.0</td>\n",
       "      <td>62.0</td>\n",
       "    </tr>\n",
       "  </tbody>\n",
       "</table>"
      ],
      "text/plain": [
       "<IPython.core.display.HTML object>"
      ]
     },
     "metadata": {},
     "output_type": "display_data"
    },
    {
     "name": "stdout",
     "output_type": "stream",
     "text": [
      "Program1 with L1(16,16)\n"
     ]
    },
    {
     "data": {
      "text/html": [
       "<table border=\"1\" class=\"dataframe\">\n",
       "  <thead>\n",
       "    <tr style=\"text-align: right;\">\n",
       "      <th></th>\n",
       "      <th>lines</th>\n",
       "      <th>ways</th>\n",
       "      <th>blocks</th>\n",
       "      <th>hitRate</th>\n",
       "      <th>nHits</th>\n",
       "      <th>nMisses</th>\n",
       "      <th>totalAccesses</th>\n",
       "      <th>writeBacks</th>\n",
       "    </tr>\n",
       "  </thead>\n",
       "  <tbody>\n",
       "    <tr>\n",
       "      <th>writeThrough_withAllocate</th>\n",
       "      <td>5.0</td>\n",
       "      <td>0.0</td>\n",
       "      <td>2.0</td>\n",
       "      <td>0.74810</td>\n",
       "      <td>193.0</td>\n",
       "      <td>65.0</td>\n",
       "      <td>258.0</td>\n",
       "      <td>256.0</td>\n",
       "    </tr>\n",
       "    <tr>\n",
       "      <th>writeThrough_noAllocate</th>\n",
       "      <td>5.0</td>\n",
       "      <td>0.0</td>\n",
       "      <td>2.0</td>\n",
       "      <td>0.01163</td>\n",
       "      <td>3.0</td>\n",
       "      <td>255.0</td>\n",
       "      <td>258.0</td>\n",
       "      <td>256.0</td>\n",
       "    </tr>\n",
       "    <tr>\n",
       "      <th>writeBack_withAllocate</th>\n",
       "      <td>5.0</td>\n",
       "      <td>0.0</td>\n",
       "      <td>2.0</td>\n",
       "      <td>0.74810</td>\n",
       "      <td>193.0</td>\n",
       "      <td>65.0</td>\n",
       "      <td>258.0</td>\n",
       "      <td>0.0</td>\n",
       "    </tr>\n",
       "    <tr>\n",
       "      <th>writeBack_noAllocate</th>\n",
       "      <td>5.0</td>\n",
       "      <td>0.0</td>\n",
       "      <td>2.0</td>\n",
       "      <td>0.01163</td>\n",
       "      <td>3.0</td>\n",
       "      <td>255.0</td>\n",
       "      <td>258.0</td>\n",
       "      <td>254.0</td>\n",
       "    </tr>\n",
       "  </tbody>\n",
       "</table>"
      ],
      "text/plain": [
       "<IPython.core.display.HTML object>"
      ]
     },
     "metadata": {},
     "output_type": "display_data"
    },
    {
     "name": "stdout",
     "output_type": "stream",
     "text": [
      "Program2 with L1(8,8)\n"
     ]
    },
    {
     "data": {
      "text/html": [
       "<table border=\"1\" class=\"dataframe\">\n",
       "  <thead>\n",
       "    <tr style=\"text-align: right;\">\n",
       "      <th></th>\n",
       "      <th>lines</th>\n",
       "      <th>ways</th>\n",
       "      <th>blocks</th>\n",
       "      <th>hitRate</th>\n",
       "      <th>nHits</th>\n",
       "      <th>nMisses</th>\n",
       "      <th>totalAccesses</th>\n",
       "      <th>writeBacks</th>\n",
       "    </tr>\n",
       "  </thead>\n",
       "  <tbody>\n",
       "    <tr>\n",
       "      <th>writeThrough_withAllocate</th>\n",
       "      <td>5.0</td>\n",
       "      <td>0.0</td>\n",
       "      <td>2.0</td>\n",
       "      <td>0.74240</td>\n",
       "      <td>49.0</td>\n",
       "      <td>17.0</td>\n",
       "      <td>66.0</td>\n",
       "      <td>64.0</td>\n",
       "    </tr>\n",
       "    <tr>\n",
       "      <th>writeThrough_noAllocate</th>\n",
       "      <td>5.0</td>\n",
       "      <td>0.0</td>\n",
       "      <td>2.0</td>\n",
       "      <td>0.04545</td>\n",
       "      <td>3.0</td>\n",
       "      <td>63.0</td>\n",
       "      <td>66.0</td>\n",
       "      <td>64.0</td>\n",
       "    </tr>\n",
       "    <tr>\n",
       "      <th>writeBack_withAllocate</th>\n",
       "      <td>5.0</td>\n",
       "      <td>0.0</td>\n",
       "      <td>2.0</td>\n",
       "      <td>0.74740</td>\n",
       "      <td>49.0</td>\n",
       "      <td>17.0</td>\n",
       "      <td>66.0</td>\n",
       "      <td>0.0</td>\n",
       "    </tr>\n",
       "    <tr>\n",
       "      <th>writeBack_noAllocate</th>\n",
       "      <td>5.0</td>\n",
       "      <td>0.0</td>\n",
       "      <td>2.0</td>\n",
       "      <td>0.04545</td>\n",
       "      <td>3.0</td>\n",
       "      <td>63.0</td>\n",
       "      <td>66.0</td>\n",
       "      <td>62.0</td>\n",
       "    </tr>\n",
       "  </tbody>\n",
       "</table>"
      ],
      "text/plain": [
       "<IPython.core.display.HTML object>"
      ]
     },
     "metadata": {},
     "output_type": "display_data"
    },
    {
     "name": "stdout",
     "output_type": "stream",
     "text": [
      "Program2 with L1(16,16)\n"
     ]
    },
    {
     "data": {
      "text/html": [
       "<table border=\"1\" class=\"dataframe\">\n",
       "  <thead>\n",
       "    <tr style=\"text-align: right;\">\n",
       "      <th></th>\n",
       "      <th>lines</th>\n",
       "      <th>ways</th>\n",
       "      <th>blocks</th>\n",
       "      <th>hitRate</th>\n",
       "      <th>nHits</th>\n",
       "      <th>nMisses</th>\n",
       "      <th>totalAccesses</th>\n",
       "      <th>writeBacks</th>\n",
       "    </tr>\n",
       "  </thead>\n",
       "  <tbody>\n",
       "    <tr>\n",
       "      <th>writeThrough_withAllocate</th>\n",
       "      <td>5.0</td>\n",
       "      <td>0.0</td>\n",
       "      <td>2.0</td>\n",
       "      <td>0.01163</td>\n",
       "      <td>3.0</td>\n",
       "      <td>255.0</td>\n",
       "      <td>258.0</td>\n",
       "      <td>256.0</td>\n",
       "    </tr>\n",
       "    <tr>\n",
       "      <th>writeThrough_noAllocate</th>\n",
       "      <td>5.0</td>\n",
       "      <td>0.0</td>\n",
       "      <td>2.0</td>\n",
       "      <td>0.01163</td>\n",
       "      <td>3.0</td>\n",
       "      <td>255.0</td>\n",
       "      <td>258.0</td>\n",
       "      <td>256.0</td>\n",
       "    </tr>\n",
       "    <tr>\n",
       "      <th>writeBack_withAllocate</th>\n",
       "      <td>5.0</td>\n",
       "      <td>0.0</td>\n",
       "      <td>2.0</td>\n",
       "      <td>0.01163</td>\n",
       "      <td>3.0</td>\n",
       "      <td>255.0</td>\n",
       "      <td>258.0</td>\n",
       "      <td>223.0</td>\n",
       "    </tr>\n",
       "    <tr>\n",
       "      <th>writeBack_noAllocate</th>\n",
       "      <td>5.0</td>\n",
       "      <td>0.0</td>\n",
       "      <td>2.0</td>\n",
       "      <td>0.01163</td>\n",
       "      <td>3.0</td>\n",
       "      <td>255.0</td>\n",
       "      <td>258.0</td>\n",
       "      <td>254.0</td>\n",
       "    </tr>\n",
       "  </tbody>\n",
       "</table>"
      ],
      "text/plain": [
       "<IPython.core.display.HTML object>"
      ]
     },
     "metadata": {},
     "output_type": "display_data"
    }
   ],
   "source": [
    "# display p1_88 as table with heading = heading and data = p1_88, index = heading2\n",
    "print(\"Que2\")\n",
    "print(\"Program1 with L1(8,8)\")\n",
    "df = pd.DataFrame(p1_88, columns=heading1, index=heading2)\n",
    "display(HTML(df.to_html()))\n",
    "\n",
    "# display p1_1616 as table with heading = heading and data = p1_1616, index = heading2\n",
    "print(\"Program1 with L1(16,16)\")\n",
    "df = pd.DataFrame(p1_1616, columns=heading1, index=heading2)\n",
    "display(HTML(df.to_html()))\n",
    "\n",
    "# display p2_88 as table with heading = heading and data = p2_88, index = heading2\n",
    "print(\"Program2 with L1(8,8)\")\n",
    "df = pd.DataFrame(p2_88, columns=heading1, index=heading2)\n",
    "display(HTML(df.to_html()))\n",
    "\n",
    "# display p2_1616 as table with heading = heading and data = p2_1616, index = heading2\n",
    "print(\"Program2 with L1(16,16)\")\n",
    "df = pd.DataFrame(p2_1616, columns=heading1, index=heading2)\n",
    "display(HTML(df.to_html()))"
   ]
  },
  {
   "cell_type": "code",
   "execution_count": 81,
   "metadata": {},
   "outputs": [
    {
     "name": "stdout",
     "output_type": "stream",
     "text": [
      "Que1\n",
      "Program1 with L1(8,8) with lines variation\n"
     ]
    },
    {
     "data": {
      "text/html": [
       "<table border=\"1\" class=\"dataframe\">\n",
       "  <thead>\n",
       "    <tr style=\"text-align: right;\">\n",
       "      <th>lines</th>\n",
       "      <th>ways</th>\n",
       "      <th>blocks</th>\n",
       "      <th>hitRate</th>\n",
       "      <th>nHits</th>\n",
       "      <th>nMisses</th>\n",
       "      <th>totalAccesses</th>\n",
       "    </tr>\n",
       "  </thead>\n",
       "  <tbody>\n",
       "    <tr>\n",
       "      <td>1.0</td>\n",
       "      <td>0.0</td>\n",
       "      <td>2.0</td>\n",
       "      <td>0.7424</td>\n",
       "      <td>49.0</td>\n",
       "      <td>17.0</td>\n",
       "      <td>66.0</td>\n",
       "    </tr>\n",
       "    <tr>\n",
       "      <td>2.0</td>\n",
       "      <td>0.0</td>\n",
       "      <td>2.0</td>\n",
       "      <td>0.7424</td>\n",
       "      <td>49.0</td>\n",
       "      <td>17.0</td>\n",
       "      <td>66.0</td>\n",
       "    </tr>\n",
       "    <tr>\n",
       "      <td>3.0</td>\n",
       "      <td>0.0</td>\n",
       "      <td>2.0</td>\n",
       "      <td>0.7424</td>\n",
       "      <td>49.0</td>\n",
       "      <td>17.0</td>\n",
       "      <td>66.0</td>\n",
       "    </tr>\n",
       "  </tbody>\n",
       "</table>"
      ],
      "text/plain": [
       "<IPython.core.display.HTML object>"
      ]
     },
     "metadata": {},
     "output_type": "display_data"
    },
    {
     "name": "stdout",
     "output_type": "stream",
     "text": [
      "Program1 with L1(8,8) with blocks variation\n"
     ]
    },
    {
     "data": {
      "text/html": [
       "<table border=\"1\" class=\"dataframe\">\n",
       "  <thead>\n",
       "    <tr style=\"text-align: right;\">\n",
       "      <th>lines</th>\n",
       "      <th>ways</th>\n",
       "      <th>blocks</th>\n",
       "      <th>hitRate</th>\n",
       "      <th>nHits</th>\n",
       "      <th>nMisses</th>\n",
       "      <th>totalAccesses</th>\n",
       "    </tr>\n",
       "  </thead>\n",
       "  <tbody>\n",
       "    <tr>\n",
       "      <td>3.0</td>\n",
       "      <td>0.0</td>\n",
       "      <td>3.0</td>\n",
       "      <td>0.8636</td>\n",
       "      <td>57.0</td>\n",
       "      <td>9.0</td>\n",
       "      <td>66.0</td>\n",
       "    </tr>\n",
       "    <tr>\n",
       "      <td>3.0</td>\n",
       "      <td>0.0</td>\n",
       "      <td>4.0</td>\n",
       "      <td>0.9242</td>\n",
       "      <td>61.0</td>\n",
       "      <td>5.0</td>\n",
       "      <td>66.0</td>\n",
       "    </tr>\n",
       "    <tr>\n",
       "      <td>3.0</td>\n",
       "      <td>0.0</td>\n",
       "      <td>5.0</td>\n",
       "      <td>0.9545</td>\n",
       "      <td>63.0</td>\n",
       "      <td>3.0</td>\n",
       "      <td>66.0</td>\n",
       "    </tr>\n",
       "  </tbody>\n",
       "</table>"
      ],
      "text/plain": [
       "<IPython.core.display.HTML object>"
      ]
     },
     "metadata": {},
     "output_type": "display_data"
    },
    {
     "name": "stdout",
     "output_type": "stream",
     "text": [
      "Program1 with L1(8,8) with ways variation\n"
     ]
    },
    {
     "data": {
      "text/html": [
       "<table border=\"1\" class=\"dataframe\">\n",
       "  <thead>\n",
       "    <tr style=\"text-align: right;\">\n",
       "      <th>lines</th>\n",
       "      <th>ways</th>\n",
       "      <th>blocks</th>\n",
       "      <th>hitRate</th>\n",
       "      <th>nHits</th>\n",
       "      <th>nMisses</th>\n",
       "      <th>totalAccesses</th>\n",
       "    </tr>\n",
       "  </thead>\n",
       "  <tbody>\n",
       "    <tr>\n",
       "      <td>3.0</td>\n",
       "      <td>0.0</td>\n",
       "      <td>2.0</td>\n",
       "      <td>0.7424</td>\n",
       "      <td>49.0</td>\n",
       "      <td>17.0</td>\n",
       "      <td>66.0</td>\n",
       "    </tr>\n",
       "    <tr>\n",
       "      <td>3.0</td>\n",
       "      <td>1.0</td>\n",
       "      <td>2.0</td>\n",
       "      <td>0.7424</td>\n",
       "      <td>49.0</td>\n",
       "      <td>17.0</td>\n",
       "      <td>66.0</td>\n",
       "    </tr>\n",
       "  </tbody>\n",
       "</table>"
      ],
      "text/plain": [
       "<IPython.core.display.HTML object>"
      ]
     },
     "metadata": {},
     "output_type": "display_data"
    },
    {
     "name": "stdout",
     "output_type": "stream",
     "text": [
      "Program1 with L1(16,16) with lines variation\n"
     ]
    },
    {
     "data": {
      "text/html": [
       "<table border=\"1\" class=\"dataframe\">\n",
       "  <thead>\n",
       "    <tr style=\"text-align: right;\">\n",
       "      <th>lines</th>\n",
       "      <th>ways</th>\n",
       "      <th>blocks</th>\n",
       "      <th>hitRate</th>\n",
       "      <th>nHits</th>\n",
       "      <th>nMisses</th>\n",
       "      <th>totalAccesses</th>\n",
       "    </tr>\n",
       "  </thead>\n",
       "  <tbody>\n",
       "    <tr>\n",
       "      <td>1.0</td>\n",
       "      <td>0.0</td>\n",
       "      <td>2.0</td>\n",
       "      <td>0.7481</td>\n",
       "      <td>193.0</td>\n",
       "      <td>65.0</td>\n",
       "      <td>258.0</td>\n",
       "    </tr>\n",
       "    <tr>\n",
       "      <td>2.0</td>\n",
       "      <td>0.0</td>\n",
       "      <td>2.0</td>\n",
       "      <td>0.7481</td>\n",
       "      <td>193.0</td>\n",
       "      <td>65.0</td>\n",
       "      <td>258.0</td>\n",
       "    </tr>\n",
       "    <tr>\n",
       "      <td>3.0</td>\n",
       "      <td>0.0</td>\n",
       "      <td>2.0</td>\n",
       "      <td>0.7481</td>\n",
       "      <td>193.0</td>\n",
       "      <td>65.0</td>\n",
       "      <td>258.0</td>\n",
       "    </tr>\n",
       "  </tbody>\n",
       "</table>"
      ],
      "text/plain": [
       "<IPython.core.display.HTML object>"
      ]
     },
     "metadata": {},
     "output_type": "display_data"
    },
    {
     "name": "stdout",
     "output_type": "stream",
     "text": [
      "Program1 with L1(16,16) with blocks variation\n"
     ]
    },
    {
     "data": {
      "text/html": [
       "<table border=\"1\" class=\"dataframe\">\n",
       "  <thead>\n",
       "    <tr style=\"text-align: right;\">\n",
       "      <th>lines</th>\n",
       "      <th>ways</th>\n",
       "      <th>blocks</th>\n",
       "      <th>hitRate</th>\n",
       "      <th>nHits</th>\n",
       "      <th>nMisses</th>\n",
       "      <th>totalAccesses</th>\n",
       "    </tr>\n",
       "  </thead>\n",
       "  <tbody>\n",
       "    <tr>\n",
       "      <td>3.0</td>\n",
       "      <td>0.0</td>\n",
       "      <td>3.0</td>\n",
       "      <td>0.8721</td>\n",
       "      <td>225.0</td>\n",
       "      <td>33.0</td>\n",
       "      <td>258.0</td>\n",
       "    </tr>\n",
       "    <tr>\n",
       "      <td>3.0</td>\n",
       "      <td>0.0</td>\n",
       "      <td>4.0</td>\n",
       "      <td>0.9341</td>\n",
       "      <td>241.0</td>\n",
       "      <td>17.0</td>\n",
       "      <td>258.0</td>\n",
       "    </tr>\n",
       "    <tr>\n",
       "      <td>3.0</td>\n",
       "      <td>0.0</td>\n",
       "      <td>5.0</td>\n",
       "      <td>0.9651</td>\n",
       "      <td>249.0</td>\n",
       "      <td>9.0</td>\n",
       "      <td>258.0</td>\n",
       "    </tr>\n",
       "  </tbody>\n",
       "</table>"
      ],
      "text/plain": [
       "<IPython.core.display.HTML object>"
      ]
     },
     "metadata": {},
     "output_type": "display_data"
    },
    {
     "name": "stdout",
     "output_type": "stream",
     "text": [
      "Program1 with L1(16,16) with ways variation\n"
     ]
    },
    {
     "data": {
      "text/html": [
       "<table border=\"1\" class=\"dataframe\">\n",
       "  <thead>\n",
       "    <tr style=\"text-align: right;\">\n",
       "      <th>lines</th>\n",
       "      <th>ways</th>\n",
       "      <th>blocks</th>\n",
       "      <th>hitRate</th>\n",
       "      <th>nHits</th>\n",
       "      <th>nMisses</th>\n",
       "      <th>totalAccesses</th>\n",
       "    </tr>\n",
       "  </thead>\n",
       "  <tbody>\n",
       "    <tr>\n",
       "      <td>3.0</td>\n",
       "      <td>0.0</td>\n",
       "      <td>2.0</td>\n",
       "      <td>0.7481</td>\n",
       "      <td>193.0</td>\n",
       "      <td>65.0</td>\n",
       "      <td>258.0</td>\n",
       "    </tr>\n",
       "    <tr>\n",
       "      <td>3.0</td>\n",
       "      <td>1.0</td>\n",
       "      <td>2.0</td>\n",
       "      <td>0.7481</td>\n",
       "      <td>193.0</td>\n",
       "      <td>65.0</td>\n",
       "      <td>258.0</td>\n",
       "    </tr>\n",
       "  </tbody>\n",
       "</table>"
      ],
      "text/plain": [
       "<IPython.core.display.HTML object>"
      ]
     },
     "metadata": {},
     "output_type": "display_data"
    }
   ],
   "source": [
    "# display p1_88_lines as table with heading = heading and data = p1_88_lines\n",
    "print(\"Que1\")\n",
    "print(\"Program1 with L1(8,8) with lines variation\")\n",
    "df = pd.DataFrame(p1_88_lines, columns=heading)\n",
    "display(HTML(df.to_html(index=False)))\n",
    "\n",
    "# display p1_88_blocks as table with heading = heading and data = p1_88_blocks\n",
    "print(\"Program1 with L1(8,8) with blocks variation\")\n",
    "df = pd.DataFrame(p1_88_blocks, columns=heading)\n",
    "display(HTML(df.to_html(index=False)))\n",
    "\n",
    "# display p1_88_ways as table with heading = heading and data = p1_88_ways\n",
    "print(\"Program1 with L1(8,8) with ways variation\")\n",
    "df = pd.DataFrame(p1_88_ways, columns=heading)\n",
    "display(HTML(df.to_html(index=False)))\n",
    "\n",
    "# display p1_1616_lines as table with heading = heading and data = p1_1616_lines\n",
    "print(\"Program1 with L1(16,16) with lines variation\")\n",
    "df = pd.DataFrame(p1_1616_lines, columns=heading)\n",
    "display(HTML(df.to_html(index=False)))\n",
    "\n",
    "# display p1_1616_blocks as table with heading = heading and data = p1_1616_blocks\n",
    "print(\"Program1 with L1(16,16) with blocks variation\")\n",
    "df = pd.DataFrame(p1_1616_blocks, columns=heading)\n",
    "display(HTML(df.to_html(index=False)))\n",
    "\n",
    "# display p1_1616_ways as table with heading = heading and data = p1_1616_ways\n",
    "print(\"Program1 with L1(16,16) with ways variation\")\n",
    "df = pd.DataFrame(p1_1616_ways, columns=heading)\n",
    "display(HTML(df.to_html(index=False)))\n"
   ]
  },
  {
   "cell_type": "code",
   "execution_count": 82,
   "metadata": {},
   "outputs": [
    {
     "name": "stdout",
     "output_type": "stream",
     "text": [
      "Que1\n",
      "Program2 with L1(8,8) with lines variation\n"
     ]
    },
    {
     "data": {
      "text/html": [
       "<table border=\"1\" class=\"dataframe\">\n",
       "  <thead>\n",
       "    <tr style=\"text-align: right;\">\n",
       "      <th>lines</th>\n",
       "      <th>ways</th>\n",
       "      <th>blocks</th>\n",
       "      <th>hitRate</th>\n",
       "      <th>nHits</th>\n",
       "      <th>nMisses</th>\n",
       "      <th>totalAccesses</th>\n",
       "    </tr>\n",
       "  </thead>\n",
       "  <tbody>\n",
       "    <tr>\n",
       "      <td>1.0</td>\n",
       "      <td>0.0</td>\n",
       "      <td>2.0</td>\n",
       "      <td>0.03030</td>\n",
       "      <td>2.0</td>\n",
       "      <td>64.0</td>\n",
       "      <td>66.0</td>\n",
       "    </tr>\n",
       "    <tr>\n",
       "      <td>2.0</td>\n",
       "      <td>0.0</td>\n",
       "      <td>2.0</td>\n",
       "      <td>0.03030</td>\n",
       "      <td>2.0</td>\n",
       "      <td>64.0</td>\n",
       "      <td>66.0</td>\n",
       "    </tr>\n",
       "    <tr>\n",
       "      <td>3.0</td>\n",
       "      <td>0.0</td>\n",
       "      <td>2.0</td>\n",
       "      <td>0.04545</td>\n",
       "      <td>3.0</td>\n",
       "      <td>63.0</td>\n",
       "      <td>66.0</td>\n",
       "    </tr>\n",
       "  </tbody>\n",
       "</table>"
      ],
      "text/plain": [
       "<IPython.core.display.HTML object>"
      ]
     },
     "metadata": {},
     "output_type": "display_data"
    },
    {
     "name": "stdout",
     "output_type": "stream",
     "text": [
      "Program2 with L1(8,8) with blocks variation\n"
     ]
    },
    {
     "data": {
      "text/html": [
       "<table border=\"1\" class=\"dataframe\">\n",
       "  <thead>\n",
       "    <tr style=\"text-align: right;\">\n",
       "      <th>lines</th>\n",
       "      <th>ways</th>\n",
       "      <th>blocks</th>\n",
       "      <th>hitRate</th>\n",
       "      <th>nHits</th>\n",
       "      <th>nMisses</th>\n",
       "      <th>totalAccesses</th>\n",
       "    </tr>\n",
       "  </thead>\n",
       "  <tbody>\n",
       "    <tr>\n",
       "      <td>3.0</td>\n",
       "      <td>0.0</td>\n",
       "      <td>3.0</td>\n",
       "      <td>0.8636</td>\n",
       "      <td>57.0</td>\n",
       "      <td>9.0</td>\n",
       "      <td>66.0</td>\n",
       "    </tr>\n",
       "    <tr>\n",
       "      <td>3.0</td>\n",
       "      <td>0.0</td>\n",
       "      <td>4.0</td>\n",
       "      <td>0.9242</td>\n",
       "      <td>61.0</td>\n",
       "      <td>5.0</td>\n",
       "      <td>66.0</td>\n",
       "    </tr>\n",
       "    <tr>\n",
       "      <td>3.0</td>\n",
       "      <td>0.0</td>\n",
       "      <td>5.0</td>\n",
       "      <td>0.9545</td>\n",
       "      <td>63.0</td>\n",
       "      <td>3.0</td>\n",
       "      <td>66.0</td>\n",
       "    </tr>\n",
       "  </tbody>\n",
       "</table>"
      ],
      "text/plain": [
       "<IPython.core.display.HTML object>"
      ]
     },
     "metadata": {},
     "output_type": "display_data"
    },
    {
     "name": "stdout",
     "output_type": "stream",
     "text": [
      "Program2 with L1(8,8) with ways variation\n"
     ]
    },
    {
     "data": {
      "text/html": [
       "<table border=\"1\" class=\"dataframe\">\n",
       "  <thead>\n",
       "    <tr style=\"text-align: right;\">\n",
       "      <th>lines</th>\n",
       "      <th>ways</th>\n",
       "      <th>blocks</th>\n",
       "      <th>hitRate</th>\n",
       "      <th>nHits</th>\n",
       "      <th>nMisses</th>\n",
       "      <th>totalAccesses</th>\n",
       "    </tr>\n",
       "  </thead>\n",
       "  <tbody>\n",
       "    <tr>\n",
       "      <td>3.0</td>\n",
       "      <td>0.0</td>\n",
       "      <td>2.0</td>\n",
       "      <td>0.04545</td>\n",
       "      <td>3.0</td>\n",
       "      <td>63.0</td>\n",
       "      <td>66.0</td>\n",
       "    </tr>\n",
       "    <tr>\n",
       "      <td>3.0</td>\n",
       "      <td>1.0</td>\n",
       "      <td>2.0</td>\n",
       "      <td>0.74240</td>\n",
       "      <td>49.0</td>\n",
       "      <td>17.0</td>\n",
       "      <td>66.0</td>\n",
       "    </tr>\n",
       "  </tbody>\n",
       "</table>"
      ],
      "text/plain": [
       "<IPython.core.display.HTML object>"
      ]
     },
     "metadata": {},
     "output_type": "display_data"
    },
    {
     "name": "stdout",
     "output_type": "stream",
     "text": [
      "Program2 with L1(16,16) with lines variation\n"
     ]
    },
    {
     "data": {
      "text/html": [
       "<table border=\"1\" class=\"dataframe\">\n",
       "  <thead>\n",
       "    <tr style=\"text-align: right;\">\n",
       "      <th>lines</th>\n",
       "      <th>ways</th>\n",
       "      <th>blocks</th>\n",
       "      <th>hitRate</th>\n",
       "      <th>nHits</th>\n",
       "      <th>nMisses</th>\n",
       "      <th>totalAccesses</th>\n",
       "    </tr>\n",
       "  </thead>\n",
       "  <tbody>\n",
       "    <tr>\n",
       "      <td>1.0</td>\n",
       "      <td>0.0</td>\n",
       "      <td>2.0</td>\n",
       "      <td>0.007752</td>\n",
       "      <td>2.0</td>\n",
       "      <td>256.0</td>\n",
       "      <td>258.0</td>\n",
       "    </tr>\n",
       "    <tr>\n",
       "      <td>2.0</td>\n",
       "      <td>0.0</td>\n",
       "      <td>2.0</td>\n",
       "      <td>0.007752</td>\n",
       "      <td>2.0</td>\n",
       "      <td>256.0</td>\n",
       "      <td>258.0</td>\n",
       "    </tr>\n",
       "    <tr>\n",
       "      <td>3.0</td>\n",
       "      <td>0.0</td>\n",
       "      <td>2.0</td>\n",
       "      <td>0.007752</td>\n",
       "      <td>2.0</td>\n",
       "      <td>256.0</td>\n",
       "      <td>258.0</td>\n",
       "    </tr>\n",
       "  </tbody>\n",
       "</table>"
      ],
      "text/plain": [
       "<IPython.core.display.HTML object>"
      ]
     },
     "metadata": {},
     "output_type": "display_data"
    },
    {
     "name": "stdout",
     "output_type": "stream",
     "text": [
      "Program2 with L1(16,16) with blocks variation\n"
     ]
    },
    {
     "data": {
      "text/html": [
       "<table border=\"1\" class=\"dataframe\">\n",
       "  <thead>\n",
       "    <tr style=\"text-align: right;\">\n",
       "      <th>lines</th>\n",
       "      <th>ways</th>\n",
       "      <th>blocks</th>\n",
       "      <th>hitRate</th>\n",
       "      <th>nHits</th>\n",
       "      <th>nMisses</th>\n",
       "      <th>totalAccesses</th>\n",
       "    </tr>\n",
       "  </thead>\n",
       "  <tbody>\n",
       "    <tr>\n",
       "      <td>3.0</td>\n",
       "      <td>0.0</td>\n",
       "      <td>3.0</td>\n",
       "      <td>0.007752</td>\n",
       "      <td>2.0</td>\n",
       "      <td>256.0</td>\n",
       "      <td>258.0</td>\n",
       "    </tr>\n",
       "    <tr>\n",
       "      <td>3.0</td>\n",
       "      <td>0.0</td>\n",
       "      <td>4.0</td>\n",
       "      <td>0.011630</td>\n",
       "      <td>3.0</td>\n",
       "      <td>255.0</td>\n",
       "      <td>258.0</td>\n",
       "    </tr>\n",
       "    <tr>\n",
       "      <td>3.0</td>\n",
       "      <td>0.0</td>\n",
       "      <td>5.0</td>\n",
       "      <td>0.957400</td>\n",
       "      <td>247.0</td>\n",
       "      <td>11.0</td>\n",
       "      <td>258.0</td>\n",
       "    </tr>\n",
       "  </tbody>\n",
       "</table>"
      ],
      "text/plain": [
       "<IPython.core.display.HTML object>"
      ]
     },
     "metadata": {},
     "output_type": "display_data"
    },
    {
     "name": "stdout",
     "output_type": "stream",
     "text": [
      "Program2 with L1(16,16) with ways variation\n"
     ]
    },
    {
     "data": {
      "text/html": [
       "<table border=\"1\" class=\"dataframe\">\n",
       "  <thead>\n",
       "    <tr style=\"text-align: right;\">\n",
       "      <th>lines</th>\n",
       "      <th>ways</th>\n",
       "      <th>blocks</th>\n",
       "      <th>hitRate</th>\n",
       "      <th>nHits</th>\n",
       "      <th>nMisses</th>\n",
       "      <th>totalAccesses</th>\n",
       "    </tr>\n",
       "  </thead>\n",
       "  <tbody>\n",
       "    <tr>\n",
       "      <td>3.0</td>\n",
       "      <td>0.0</td>\n",
       "      <td>2.0</td>\n",
       "      <td>0.007752</td>\n",
       "      <td>2.0</td>\n",
       "      <td>256.0</td>\n",
       "      <td>258.0</td>\n",
       "    </tr>\n",
       "    <tr>\n",
       "      <td>3.0</td>\n",
       "      <td>1.0</td>\n",
       "      <td>2.0</td>\n",
       "      <td>0.007752</td>\n",
       "      <td>2.0</td>\n",
       "      <td>256.0</td>\n",
       "      <td>258.0</td>\n",
       "    </tr>\n",
       "  </tbody>\n",
       "</table>"
      ],
      "text/plain": [
       "<IPython.core.display.HTML object>"
      ]
     },
     "metadata": {},
     "output_type": "display_data"
    }
   ],
   "source": [
    "# display p2_88_lines as table with heading = heading and data = p2_88_lines\n",
    "print(\"Que1\")\n",
    "print(\"Program2 with L1(8,8) with lines variation\")\n",
    "df = pd.DataFrame(p2_88_lines, columns=heading)\n",
    "display(HTML(df.to_html(index=False)))\n",
    "\n",
    "# display p2_88_blocks as table with heading = heading and data = p2_88_blocks\n",
    "print(\"Program2 with L1(8,8) with blocks variation\")\n",
    "df = pd.DataFrame(p2_88_blocks, columns=heading)\n",
    "display(HTML(df.to_html(index=False)))\n",
    "\n",
    "# display p2_88_ways as table with heading = heading and data = p2_88_ways\n",
    "print(\"Program2 with L1(8,8) with ways variation\")\n",
    "df = pd.DataFrame(p2_88_ways, columns=heading)\n",
    "display(HTML(df.to_html(index=False)))\n",
    "\n",
    "# display p2_1616_lines as table with heading = heading and data = p2_1616_lines\n",
    "print(\"Program2 with L1(16,16) with lines variation\")\n",
    "df = pd.DataFrame(p2_1616_lines, columns=heading)\n",
    "display(HTML(df.to_html(index=False)))\n",
    "\n",
    "# display p2_1616_blocks as table with heading = heading and data = p2_1616_blocks\n",
    "print(\"Program2 with L1(16,16) with blocks variation\")\n",
    "df = pd.DataFrame(p2_1616_blocks, columns=heading)\n",
    "display(HTML(df.to_html(index=False)))\n",
    "\n",
    "# display p2_1616_ways as table with heading = heading and data = p2_1616_ways\n",
    "print(\"Program2 with L1(16,16) with ways variation\")\n",
    "df = pd.DataFrame(p2_1616_ways, columns=heading)\n",
    "display(HTML(df.to_html(index=False)))"
   ]
  },
  {
   "cell_type": "code",
   "execution_count": null,
   "metadata": {},
   "outputs": [],
   "source": []
  }
 ],
 "metadata": {
  "kernelspec": {
   "display_name": "test",
   "language": "python",
   "name": "python3"
  },
  "language_info": {
   "codemirror_mode": {
    "name": "ipython",
    "version": 3
   },
   "file_extension": ".py",
   "mimetype": "text/x-python",
   "name": "python",
   "nbconvert_exporter": "python",
   "pygments_lexer": "ipython3",
   "version": "3.11.4"
  }
 },
 "nbformat": 4,
 "nbformat_minor": 2
}
