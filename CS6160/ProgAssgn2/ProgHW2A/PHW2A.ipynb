{
 "cells": [
  {
   "cell_type": "code",
   "execution_count": 1,
   "metadata": {},
   "outputs": [],
   "source": [
    "# import modules\n",
    "import os,binascii\n",
    "from cryptography.hazmat.primitives.ciphers import Cipher, algorithms, modes\n",
    "from aesLongKeyGen24 import *"
   ]
  },
  {
   "cell_type": "code",
   "execution_count": 2,
   "metadata": {},
   "outputs": [],
   "source": [
    "# brute force attack to find 20 bit key\n",
    "def bruteForceAttack(plainText, cipherText):\n",
    "    iv=b'\\0\\0\\0\\0\\0\\0\\0\\0\\0\\0\\0\\0\\0\\0\\0\\0'\n",
    "    plainText = plainText.encode('utf-8')\n",
    "    for shortKey in range(0, 2**20):\n",
    "        shortKey = shortKey << 4\n",
    "        shortKey = bytearray(shortKey.to_bytes(3, byteorder='big'))\n",
    "        longKey = expandKey(shortKey)\n",
    "        cipher = Cipher(algorithms.AES(longKey), modes.CBC(iv))\n",
    "        encryptor = cipher.encryptor()\n",
    "        encryptedText = encryptor.update(plainText) + encryptor.finalize()\n",
    "        if encryptedText.hex() == cipherText:\n",
    "            return shortKey\n",
    "    return -1"
   ]
  },
  {
   "cell_type": "code",
   "execution_count": 3,
   "metadata": {},
   "outputs": [
    {
     "name": "stdout",
     "output_type": "stream",
     "text": [
      "Plaintexts: ['Counterclockwise', 'sonicthehedgehog', 'TheDeterminantor', 'FeedbackRegister']\n",
      "Ciphertexts: ['fe0f42ae809fe1e2ff5b59725ef52048', 'ab4e40c6bf551a4d0794c0fd65074003', 'ffc7bb77f95466128a61f4ad9916b8ca', 'd9ff735a89509dc5c23d2eb27cf00904', 'ca6889853e3ddfaf621b87ee4966e274']\n"
     ]
    }
   ],
   "source": [
    "# read aesPlaintexts.txt and aesCiphertexts.txt\n",
    "with open('aesPlaintexts.txt', 'r') as f:\n",
    "    plainTexts = f.read().splitlines()\n",
    "with open('aesCiphertexts.txt', 'r') as f:\n",
    "    cipherTexts = f.read().splitlines()\n",
    "print(f'Plaintexts: {plainTexts}')\n",
    "print(f'Ciphertexts: {cipherTexts}')"
   ]
  },
  {
   "cell_type": "code",
   "execution_count": 4,
   "metadata": {},
   "outputs": [
    {
     "name": "stdout",
     "output_type": "stream",
     "text": [
      "Key found: 8e6330\n"
     ]
    }
   ],
   "source": [
    "# Tried to find key from 1st plaintext and ciphertext\n",
    "key = bruteForceAttack(plainTexts[0], cipherTexts[0])\n",
    "if key == -1:\n",
    "    print(\"Key not found\")\n",
    "else:\n",
    "    print(\"Key found: \" + str(key.hex()))"
   ]
  },
  {
   "cell_type": "code",
   "execution_count": 5,
   "metadata": {},
   "outputs": [
    {
     "name": "stdout",
     "output_type": "stream",
     "text": [
      "Secret plaintext: mediumaquamarine\n"
     ]
    }
   ],
   "source": [
    "# find secret plaintext by decrypting corresponding ciphertext with key\n",
    "# do the following if key is found\n",
    "sCt = cipherTexts[-1]\n",
    "sKey = bytearray.fromhex(key.hex())\n",
    "lKey = expandKey(sKey)\n",
    "iv=b'\\0\\0\\0\\0\\0\\0\\0\\0\\0\\0\\0\\0\\0\\0\\0\\0'\n",
    "cipher = Cipher(algorithms.AES(lKey), modes.CBC(iv))\n",
    "decryptor = cipher.decryptor()\n",
    "sPt = decryptor.update(bytearray.fromhex(sCt)) + decryptor.finalize()\n",
    "print(f'Secret plaintext: {sPt.decode(\"utf-8\")}')\n",
    "\n",
    "# write key, expandedKey and secret plaintext to secretInfo.txt\n",
    "with open('secretInfo.txt', 'w') as f:\n",
    "    f.write(f'Key: {key.hex()}\\n')\n",
    "    f.write(f'Expanded key: {lKey.hex()}\\n')\n",
    "    f.write(f'Secret plaintext: {sPt.decode(\"utf-8\")}\\n')"
   ]
  },
  {
   "cell_type": "code",
   "execution_count": 6,
   "metadata": {},
   "outputs": [
    {
     "name": "stdout",
     "output_type": "stream",
     "text": [
      "for plaintext:Counterclockwise and ciphertext:fe0f42ae809fe1e2ff5b59725ef52048\n",
      "short key found:  8e6330\n",
      "for plaintext:sonicthehedgehog and ciphertext:ab4e40c6bf551a4d0794c0fd65074003\n",
      "short key found:  8e6330\n",
      "for plaintext:TheDeterminantor and ciphertext:ffc7bb77f95466128a61f4ad9916b8ca\n",
      "short key found:  8e6330\n",
      "for plaintext:FeedbackRegister and ciphertext:d9ff735a89509dc5c23d2eb27cf00904\n",
      "short key found:  8e6330\n",
      "Keys: ['8e6330', '8e6330', '8e6330', '8e6330']\n"
     ]
    }
   ],
   "source": [
    "# find keys for all plaintexts and ciphertexts\n",
    "keys = []\n",
    "for i in range(len(plainTexts)):\n",
    "    shortKey = bruteForceAttack(plainTexts[i], cipherTexts[i])\n",
    "    keys.append(shortKey.hex())\n",
    "    if (shortKey == -1):\n",
    "        print(\"short key not found\")\n",
    "    else:\n",
    "        print(f'for plaintext:{plainTexts[i]} and ciphertext:{cipherTexts[i]}')\n",
    "        print(\"short key found: \", shortKey.hex())\n",
    "\n",
    "print(f'Keys: {keys}')"
   ]
  }
 ],
 "metadata": {
  "kernelspec": {
   "display_name": "test",
   "language": "python",
   "name": "python3"
  },
  "language_info": {
   "codemirror_mode": {
    "name": "ipython",
    "version": 3
   },
   "file_extension": ".py",
   "mimetype": "text/x-python",
   "name": "python",
   "nbconvert_exporter": "python",
   "pygments_lexer": "ipython3",
   "version": "3.11.4"
  }
 },
 "nbformat": 4,
 "nbformat_minor": 2
}
