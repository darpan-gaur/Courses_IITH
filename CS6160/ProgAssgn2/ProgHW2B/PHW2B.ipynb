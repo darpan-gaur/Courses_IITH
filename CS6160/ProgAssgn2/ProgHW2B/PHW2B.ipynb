{
 "cells": [
  {
   "cell_type": "code",
   "execution_count": 1,
   "metadata": {},
   "outputs": [],
   "source": [
    "# import modules\n",
    "import os,binascii\n",
    "from cryptography.hazmat.primitives.ciphers import Cipher, algorithms, modes\n",
    "from aesLongKeyGen16 import *"
   ]
  },
  {
   "cell_type": "code",
   "execution_count": 2,
   "metadata": {},
   "outputs": [],
   "source": [
    "# Subroutine for encryption\n",
    "def aesEncrypt(message_bytes, cipher):\n",
    "    encryptor = cipher.encryptor()\n",
    "    ciphertext = encryptor.update(message_bytes) + encryptor.finalize()\n",
    "    return ciphertext\n",
    "\n",
    "# Subroutine for decryption\n",
    "def aesDecrypt(ciphertext, cipher):\n",
    "    decryptor = cipher.decryptor()\n",
    "    plaintext = decryptor.update(ciphertext) + decryptor.finalize()\n",
    "    return plaintext\n",
    "\n",
    "# meet-in-the-middle attack to find 16 bit keys\n",
    "def meetInTheMiddleAttack(plaintext, ciphertext):\n",
    "    iv=b'\\0\\0\\0\\0\\0\\0\\0\\0\\0\\0\\0\\0\\0\\0\\0\\0'\n",
    "    plaintext = plaintext.encode('utf-8')\n",
    "    ciphertext = binascii.unhexlify(ciphertext)\n",
    "\n",
    "    encrypt1 = []\n",
    "    for shortKey1 in range(0, 2**16):\n",
    "        shortKey1 = bytearray(shortKey1.to_bytes(2, byteorder='big'))\n",
    "        longKey1 = expandKey(shortKey1)\n",
    "        cipher1 = Cipher(algorithms.AES(longKey1), modes.CBC(iv))\n",
    "        ct = aesEncrypt(plaintext, cipher1)\n",
    "        encrypt1.append([longKey1, ct, shortKey1])\n",
    "    encrypt1.sort(key=lambda x: x[1])\n",
    "\n",
    "    decrypt2 = []\n",
    "    for shortKey2 in range(0, 2**16):\n",
    "        shortKey2 = bytearray(shortKey2.to_bytes(2, byteorder='big'))\n",
    "        longKey2 = expandKey(shortKey2)\n",
    "        cipher2 = Cipher(algorithms.AES(longKey2), modes.CBC(iv))\n",
    "        pt = aesDecrypt(ciphertext, cipher2)\n",
    "        decrypt2.append([longKey2, pt, shortKey2])\n",
    "    decrypt2.sort(key=lambda x: x[1], reverse=True)\n",
    "\n",
    "    n = len(encrypt1)\n",
    "    i,j = 0, n-1\n",
    "    while i < n and j >= 0:\n",
    "        if encrypt1[i][1] == decrypt2[j][1]:\n",
    "            return (encrypt1[i][2], decrypt2[j][2])\n",
    "        elif encrypt1[i][1] < decrypt2[j][1]:\n",
    "            i += 1\n",
    "        else:\n",
    "            j -= 1\n",
    "    return -1, -1"
   ]
  },
  {
   "cell_type": "code",
   "execution_count": 3,
   "metadata": {},
   "outputs": [
    {
     "name": "stdout",
     "output_type": "stream",
     "text": [
      "Plaintexts: ['Hydrodynamometer', 'Circumnavigation', 'Crystallographer', 'Microphotography']\n",
      "Ciphertexts: ['ea7f6a9b8ca5641e5c574000342a6322', '24194bf1995f73a675ddabddbde46c43', 'b7f2292330b32d43f351a9588bdfa640', '85c9b1e834c4c361db037023520fb438', 'c85afb6a2947ee3497ddf2b10e3ac81b']\n"
     ]
    }
   ],
   "source": [
    "# read 2aesPlaintexts.txt and 2aesCiphertexts.txt\n",
    "with open('2aesPlaintexts.txt', 'r') as f:\n",
    "    plaintexts = f.read().splitlines()\n",
    "with open('2aesCiphertexts.txt', 'r') as f:\n",
    "    ciphertexts = f.read().splitlines()\n",
    "print(f'Plaintexts: {plaintexts}')\n",
    "print(f'Ciphertexts: {ciphertexts}')"
   ]
  },
  {
   "cell_type": "code",
   "execution_count": 4,
   "metadata": {},
   "outputs": [
    {
     "name": "stdout",
     "output_type": "stream",
     "text": [
      "Key found: \n",
      "Key1: b2df\n",
      "Key2: 16c3\n"
     ]
    }
   ],
   "source": [
    "# Tried to find key from 4th plaintext and ciphertext\n",
    "key = meetInTheMiddleAttack(plaintexts[3], ciphertexts[3])\n",
    "if key == (-1,-1):\n",
    "    print(\"Key not found\")\n",
    "else:\n",
    "    print(f'Key found: ')\n",
    "    print(f'Key1: {key[0].hex()}')\n",
    "    print(f'Key2: {key[1].hex()}')"
   ]
  },
  {
   "cell_type": "code",
   "execution_count": 5,
   "metadata": {},
   "outputs": [
    {
     "name": "stdout",
     "output_type": "stream",
     "text": [
      "Secret plaintext: paddlingcanoeist\n"
     ]
    }
   ],
   "source": [
    "# find secret plaintext by decrypting secret ciphertext\n",
    "# do the following if key is found\n",
    "sCt = ciphertexts[-1]\n",
    "sCt = binascii.unhexlify(sCt)\n",
    "sKey1 = bytearray(key[0])\n",
    "sKey2 = bytearray(key[1])\n",
    "lKey1 = expandKey(sKey1)\n",
    "lKey2 = expandKey(sKey2)\n",
    "iv=b'\\0\\0\\0\\0\\0\\0\\0\\0\\0\\0\\0\\0\\0\\0\\0\\0'\n",
    "cipher1 = Cipher(algorithms.AES(lKey1), modes.CBC(iv))\n",
    "cipher2 = Cipher(algorithms.AES(lKey2), modes.CBC(iv))\n",
    "decryptor1 = cipher1.decryptor()\n",
    "decryptor2 = cipher2.decryptor()\n",
    "p2 = decryptor2.update(sCt) + decryptor2.finalize()\n",
    "p1 = decryptor1.update(p2) + decryptor1.finalize()\n",
    "print(f'Secret plaintext: {p1.decode(\"UTF-8\")}')\n",
    "\n",
    "# write keys, expanded keys, and secret plaintext to file\n",
    "with open('secretInfo.txt', 'w') as f:\n",
    "    f.write(f'Key1: {key[0].hex()}\\n')\n",
    "    f.write(f'Key2: {key[1].hex()}\\n')\n",
    "    f.write(f'Expanded Key1: {lKey1.hex()}\\n')\n",
    "    f.write(f'Expanded Key2: {lKey2.hex()}\\n')\n",
    "    f.write(f'Secret Plaintext: {p1.decode(\"UTF-8\")}\\n')"
   ]
  },
  {
   "cell_type": "code",
   "execution_count": 6,
   "metadata": {},
   "outputs": [
    {
     "name": "stdout",
     "output_type": "stream",
     "text": [
      "for plaintext: Hydrodynamometer and ciphertext: ea7f6a9b8ca5641e5c574000342a6322\n",
      "Key1: b2df\n",
      "Key2: 16c3\n",
      "for plaintext: Circumnavigation and ciphertext: 24194bf1995f73a675ddabddbde46c43\n",
      "Key1: b2df\n",
      "Key2: 16c3\n",
      "for plaintext: Crystallographer and ciphertext: b7f2292330b32d43f351a9588bdfa640\n",
      "Key1: b2df\n",
      "Key2: 16c3\n",
      "for plaintext: Microphotography and ciphertext: 85c9b1e834c4c361db037023520fb438\n",
      "Key1: b2df\n",
      "Key2: 16c3\n",
      "Keys: [['b2df', '16c3'], ['b2df', '16c3'], ['b2df', '16c3'], ['b2df', '16c3']]\n"
     ]
    }
   ],
   "source": [
    "# find keys for all plaintexts and ciphertexts\n",
    "keys = []\n",
    "for i in range(0, len(plaintexts)):\n",
    "    shortKey = meetInTheMiddleAttack(plaintexts[i], ciphertexts[i])\n",
    "    keys.append([shortKey[0].hex(), shortKey[1].hex()])\n",
    "    if shortKey == (-1,-1):\n",
    "        print(f'Key not found for plaintext {i+1}')\n",
    "    else:\n",
    "        print(f'for plaintext: {plaintexts[i]} and ciphertext: {ciphertexts[i]}')\n",
    "        print(f'Key1: {shortKey[0].hex()}')\n",
    "        print(f'Key2: {shortKey[1].hex()}')\n",
    "\n",
    "print(f'Keys: {keys}')\n"
   ]
  }
 ],
 "metadata": {
  "kernelspec": {
   "display_name": "test",
   "language": "python",
   "name": "python3"
  },
  "language_info": {
   "codemirror_mode": {
    "name": "ipython",
    "version": 3
   },
   "file_extension": ".py",
   "mimetype": "text/x-python",
   "name": "python",
   "nbconvert_exporter": "python",
   "pygments_lexer": "ipython3",
   "version": "3.11.4"
  }
 },
 "nbformat": 4,
 "nbformat_minor": 2
}
