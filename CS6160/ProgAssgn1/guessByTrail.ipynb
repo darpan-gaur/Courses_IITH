{
 "cells": [
  {
   "cell_type": "code",
   "execution_count": 1,
   "metadata": {},
   "outputs": [
    {
     "name": "stdout",
     "output_type": "stream",
     "text": [
      "8cd7172de792e59cb563e4a943c7fd240dfb9c71979245339d75e5a651029e2f9143145c6933f8380ed966ac2809a061d228991b6174cd6d83724b9a79fede30184aa925923dd65507227b8d\n",
      "80df542bf68be290fc64acaf4281d6002bfb9c6888d750289d75e4bb4a1e9c6c88065b5d623bef381cd375b77b0eb6608024df5a6068cc7bcd6f51d96cefda78185fab238137c3010c3f7ccd5561e46d3213e9240d20b1296487ac56b023a7a8b395cd0a3961e765c2541a0eae\n",
      "9dd1117fee90fed2f475e5a04493c9453abfdd6cc4c5547b9534ffe945119220c50a150e793eef381bc266f93c0baf718022cc1d7c7485668272028d77aadf314c4ab566953786471c2278834629ec286115f6390772a6666d87e952be6087bfb291851c3161c969c05e1014a518e4dc1ae7356f4e617e7b3b58f05840d3a26bbc68482de5a8b69b7d\n",
      "88d70d7ff18cf490e27fe3ec4e88de1627b3d96ac4d343328c3debac5719982d8943164b793ee57c1b967bea7b1cb17bc438da137a67857a8c68469675aadf3d5f46b335cc64cf524e227383512efc7a6105aa69016ef2272292bd52ea66c6a5a7d4d6023a6f8b46c35f1b42b657fe9374e02522457a63\n",
      "9edc532dfbc2e2d5f07ee2ab0d95d90226a39c768bc5112f9034f2e94250962d96105b4b7522e3760bc27de3354ca075ce6ddb1f3463c47d9e6346d97af39b3c4d42a628c026c348002a668d1204e5616801e42c1c68f20d6d8dab56ec77\n",
      "88cd543ebe88fed2b57ee2b84895c60c2ba0903890d75d37d821eeac4e5082239044094b2d21e37404df7aeb7b18ac34c724cf1f34319438cd76478b7de9de3a4c01e7138e28c3521d6d61cb5761e3677040ef3a4861f2357680bd5aed778fa9a895cb45\n",
      "87dc023aecc2e1c5e137e3aa4bc7c40c22bb9c6c8bdf5e298a3af1e954189a38c51a145b2d35eb7648d27bac2f04a634c42cc05a7566d16d9f26569675e5c9265758e72c9537d2010f3e35d4572de526\n",
      "9ed11131beabb1c7f464acad0d8cd90162f7d161c4c250299d3bf2ba031d943a80075b4f2d3ae56c449676f92f4c8a34c121ce1b6d73856e82734c9d38fed3315501e7148f2086650f2372c64027e06d7e04\n",
      "9dd1117ffd97e3d5b571e3be0d85df172bb3d375c4db427b9b20f4a04c0392389c4d5b7a6533f87d4fc534e2344ca061d228991c7b72856b98744b966be3cf2d160f8329922bd249176d45c2402aec7a\n",
      "809e197ff58bfddcfc79ebec598edd006ea0d47188d71112d822e7a057509d23974317476b33aa6c079667e4341ba6668020dc5a6369d160cd6b479876e3d533184ea922c02cc7511e247bc64132a7285101ea3f016ef2276c85e97bf16184afb2\n",
      "80991c3ee887b1ddf07ae3be449dd5016ea3d4719792442f8c30f4a55a508e3f800f1e5d7e76fa710dd571ac340ae37dce2bd6087961d1618268029577e4dc745d41a833872c8655016d65c24132a9693214e33a1c20a3336792bd5af16dc8ea8295c91d3d2f8b6dc253552aaf5af2d649\n",
      "93dc0630b389ffdfe27be9a84a82900c20a3d96a85d145328e30a6b9511f942adf430c466c22ef6e0dc434f53419e377cf38d51e3463ca659d73569c38e8de32575da266992bd301072361c64020ea7c7704a63e0174ba666f84e952f067c6aba780c0192320d9688c560707e056ffc71ae1392942717f6a7b0c9f1a61daab6cb868432be7afae9660814451\n"
     ]
    }
   ],
   "source": [
    "# input 12 cyphertexts in hex from input file and store in list\n",
    "ciphertexts = []\n",
    "with open('streamciphertexts.txt', 'r') as f:\n",
    "    for line in f:\n",
    "        ciphertexts.append(line.strip())\n",
    "\n",
    "for ciphertext in ciphertexts:\n",
    "    print(ciphertext)"
   ]
  },
  {
   "cell_type": "code",
   "execution_count": 2,
   "metadata": {},
   "outputs": [
    {
     "name": "stdout",
     "output_type": "stream",
     "text": [
      "[140, 215, 23, 45, 231, 146, 229, 156, 181, 99, 228, 169, 67, 199, 253, 36, 13, 251, 156, 113, 151, 146, 69, 51, 157, 117, 229, 166, 81, 2, 158, 47, 145, 67, 20, 92, 105, 51, 248, 56, 14, 217, 102, 172, 40, 9, 160, 97, 210, 40, 153, 27, 97, 116, 205, 109, 131, 114, 75, 154, 121, 254, 222, 48, 24, 74, 169, 37, 146, 61, 214, 85, 7, 34, 123, 141]\n",
      "[128, 223, 84, 43, 246, 139, 226, 144, 252, 100, 172, 175, 66, 129, 214, 0, 43, 251, 156, 104, 136, 215, 80, 40, 157, 117, 228, 187, 74, 30, 156, 108, 136, 6, 91, 93, 98, 59, 239, 56, 28, 211, 117, 183, 123, 14, 182, 96, 128, 36, 223, 90, 96, 104, 204, 123, 205, 111, 81, 217, 108, 239, 218, 120, 24, 95, 171, 35, 129, 55, 195, 1, 12, 63, 124, 205, 85, 97, 228, 109, 50, 19, 233, 36, 13, 32, 177, 41, 100, 135, 172, 86, 176, 35, 167, 168, 179, 149, 205, 10, 57, 97, 231, 101, 194, 84, 26, 14, 174]\n",
      "[157, 209, 17, 127, 238, 144, 254, 210, 244, 117, 229, 160, 68, 147, 201, 69, 58, 191, 221, 108, 196, 197, 84, 123, 149, 52, 255, 233, 69, 17, 146, 32, 197, 10, 21, 14, 121, 62, 239, 56, 27, 194, 102, 249, 60, 11, 175, 113, 128, 34, 204, 29, 124, 116, 133, 102, 130, 114, 2, 141, 119, 170, 223, 49, 76, 74, 181, 102, 149, 55, 134, 71, 28, 34, 120, 131, 70, 41, 236, 40, 97, 21, 246, 57, 7, 114, 166, 102, 109, 135, 233, 82, 190, 96, 135, 191, 178, 145, 133, 28, 49, 97, 201, 105, 192, 94, 16, 20, 165, 24, 228, 220, 26, 231, 53, 111, 78, 97, 126, 123, 59, 88, 240, 88, 64, 211, 162, 107, 188, 104, 72, 45, 229, 168, 182, 155, 125]\n",
      "[136, 215, 13, 127, 241, 140, 244, 144, 226, 127, 227, 236, 78, 136, 222, 22, 39, 179, 217, 106, 196, 211, 67, 50, 140, 61, 235, 172, 87, 25, 152, 45, 137, 67, 22, 75, 121, 62, 229, 124, 27, 150, 123, 234, 123, 28, 177, 123, 196, 56, 218, 19, 122, 103, 133, 122, 140, 104, 70, 150, 117, 170, 223, 61, 95, 70, 179, 53, 204, 100, 207, 82, 78, 34, 115, 131, 81, 46, 252, 122, 97, 5, 170, 105, 1, 110, 242, 39, 34, 146, 189, 82, 234, 102, 198, 165, 167, 212, 214, 2, 58, 111, 139, 70, 195, 95, 27, 66, 182, 87, 254, 147, 116, 224, 37, 34, 69, 122, 99]\n",
      "[158, 220, 83, 45, 251, 194, 226, 213, 240, 126, 226, 171, 13, 149, 217, 2, 38, 163, 156, 118, 139, 197, 17, 47, 144, 52, 242, 233, 66, 80, 150, 45, 150, 16, 91, 75, 117, 34, 227, 118, 11, 194, 125, 227, 53, 76, 160, 117, 206, 109, 219, 31, 52, 99, 196, 125, 158, 99, 70, 217, 122, 243, 155, 60, 77, 66, 166, 40, 192, 38, 195, 72, 0, 42, 102, 141, 18, 4, 229, 97, 104, 1, 228, 44, 28, 104, 242, 13, 109, 141, 171, 86, 236, 119]\n",
      "[136, 205, 84, 62, 190, 136, 254, 210, 181, 126, 226, 184, 72, 149, 198, 12, 43, 160, 144, 56, 144, 215, 93, 55, 216, 33, 238, 172, 78, 80, 130, 35, 144, 68, 9, 75, 45, 33, 227, 116, 4, 223, 122, 235, 123, 24, 172, 52, 199, 36, 207, 31, 52, 49, 148, 56, 205, 118, 71, 139, 125, 233, 222, 58, 76, 1, 231, 19, 142, 40, 195, 82, 29, 109, 97, 203, 87, 97, 227, 103, 112, 64, 239, 58, 72, 97, 242, 53, 118, 128, 189, 90, 237, 119, 143, 169, 168, 149, 203, 69]\n",
      "[135, 220, 2, 58, 236, 194, 225, 197, 225, 55, 227, 170, 75, 199, 196, 12, 34, 187, 156, 108, 139, 223, 94, 41, 138, 58, 241, 233, 84, 24, 154, 56, 197, 26, 20, 91, 45, 53, 235, 118, 72, 210, 123, 172, 47, 4, 166, 52, 196, 44, 192, 90, 117, 102, 209, 109, 159, 38, 86, 150, 117, 229, 201, 38, 87, 88, 231, 44, 149, 55, 210, 1, 15, 62, 53, 212, 87, 45, 229, 38]\n",
      "[158, 209, 17, 49, 190, 171, 177, 199, 244, 100, 172, 173, 13, 140, 217, 1, 98, 247, 209, 97, 196, 194, 80, 41, 157, 59, 242, 186, 3, 29, 148, 58, 128, 7, 91, 79, 45, 58, 229, 108, 68, 150, 118, 249, 47, 76, 138, 52, 193, 33, 206, 27, 109, 115, 133, 110, 130, 115, 76, 157, 56, 254, 211, 49, 85, 1, 231, 20, 143, 32, 134, 101, 15, 35, 114, 198, 64, 39, 224, 109, 126, 4]\n",
      "[157, 209, 17, 127, 253, 151, 227, 213, 181, 113, 227, 190, 13, 133, 223, 23, 43, 179, 211, 117, 196, 219, 66, 123, 155, 32, 244, 160, 76, 3, 146, 56, 156, 77, 91, 122, 101, 51, 248, 125, 79, 197, 52, 226, 52, 76, 160, 97, 210, 40, 153, 28, 123, 114, 133, 107, 152, 116, 75, 150, 107, 227, 207, 45, 22, 15, 131, 41, 146, 43, 210, 73, 23, 109, 69, 194, 64, 42, 236, 122]\n",
      "[128, 158, 25, 127, 245, 139, 253, 220, 252, 121, 235, 236, 89, 142, 221, 0, 110, 160, 212, 113, 136, 215, 17, 18, 216, 34, 231, 160, 87, 80, 157, 35, 151, 67, 23, 71, 107, 51, 170, 108, 7, 150, 103, 228, 52, 27, 166, 102, 128, 32, 220, 90, 99, 105, 209, 96, 205, 107, 71, 152, 118, 227, 213, 51, 24, 78, 169, 34, 192, 44, 199, 81, 30, 36, 123, 198, 65, 50, 167, 40, 81, 1, 234, 63, 1, 110, 242, 39, 108, 133, 233, 123, 241, 97, 132, 175, 178]\n",
      "[128, 153, 28, 62, 232, 135, 177, 221, 240, 122, 227, 190, 68, 157, 213, 1, 110, 163, 212, 113, 151, 146, 68, 47, 140, 48, 244, 165, 90, 80, 142, 63, 128, 15, 30, 93, 126, 118, 250, 113, 13, 213, 113, 172, 52, 10, 227, 125, 206, 43, 214, 8, 121, 97, 209, 97, 130, 104, 2, 149, 119, 228, 220, 116, 93, 65, 168, 51, 135, 44, 134, 85, 1, 109, 101, 194, 65, 50, 169, 105, 50, 20, 227, 58, 28, 32, 163, 51, 103, 146, 189, 90, 241, 109, 200, 234, 130, 149, 201, 29, 61, 47, 139, 109, 194, 83, 85, 42, 175, 90, 242, 214, 73]\n",
      "[147, 220, 6, 48, 179, 137, 255, 223, 226, 123, 233, 168, 74, 130, 144, 12, 32, 163, 217, 106, 133, 209, 69, 50, 142, 48, 166, 185, 81, 31, 148, 42, 223, 67, 12, 70, 108, 34, 239, 110, 13, 196, 52, 245, 52, 25, 227, 119, 207, 56, 213, 30, 52, 99, 202, 101, 157, 115, 86, 156, 56, 232, 222, 50, 87, 93, 162, 102, 153, 43, 211, 1, 7, 35, 97, 198, 64, 32, 234, 124, 119, 4, 166, 62, 1, 116, 186, 102, 111, 132, 233, 82, 240, 103, 198, 171, 167, 128, 192, 25, 35, 32, 217, 104, 140, 86, 7, 7, 224, 86, 255, 199, 26, 225, 57, 41, 66, 113, 127, 106, 123, 12, 159, 26, 97, 218, 171, 108, 184, 104, 67, 43, 231, 175, 174, 150, 96, 129, 68, 81]\n"
     ]
    }
   ],
   "source": [
    "# convert hex ciphertexts to decimal by taking 2 hex characters at a time and converting to decimal\n",
    "ciphertexts_dec = []\n",
    "for ciphertext in ciphertexts:\n",
    "    ciphertexts_dec.append([int(ciphertext[i:i+2], 16) for i in range(0, len(ciphertext), 2)])\n",
    "\n",
    "# print decimal ciphertexts\n",
    "for ciphertext in ciphertexts_dec:\n",
    "    # print(len(ciphertext))\n",
    "    print(ciphertext)\n"
   ]
  },
  {
   "cell_type": "code",
   "execution_count": 3,
   "metadata": {},
   "outputs": [
    {
     "name": "stdout",
     "output_type": "stream",
     "text": [
      "m :- 1 :- Encrypt, then MAC, is the correct order for secure authenticated encryption.\n",
      "m :- 2 :- If this is coffee, please bring me some tea; but if this is tea, please bring me some coffee. Abraham Lincoln\n",
      "m :- 3 :- The probability that we may fail in the struggle ought not to deter us from the support of a cause we believe to be just. Abraham Lincoln\n",
      "m :- 4 :- Any one who consider arithmetical methods of producing random digits, is of course, in a state of sin. John von Neumann\n",
      "m :- 5 :- We're seeing right now that a mass extinction can be caused by human beings. Elizabeth Kolbert\n",
      "m :- 6 :- At a job interview, tell them you're willing to give 110 perecent. Unless the job is a statistician.\n",
      "m :- 7 :- Never put off till tomorrow what you can do the day after tomorrow just as well.\n",
      "m :- 8 :- When I was a kid, my parents moved a lot, but I always found them. Rod Dangerfield\n",
      "m :- 9 :- The cure for boredom is curiosity. There's no cure for curiosity. Dorothy Parker\n",
      "m :- 10 :- I'm killing time while I wait for life to shower me with meaning and happiness. Calvin and Hobbes\n",
      "m :- 11 :- I have memorized this utterly useless piece of information long enough to pass a test question. Calvin and Hobbes\n",
      "m :- 12 :- Zero-knowledge interactive proof: whatever you could compute before you interacted with me and afterward are not different. Shafi Goldwasser\n",
      "\n",
      "[201, 185, 116, 95, 158, 226, 145, 176, 149, 23, 140, 204, 45, 231, 176, 101, 78, 215, 188, 24, 228, 178, 49, 91, 248, 85, 134, 201, 35, 112, 251, 76, 229, 99, 123, 46, 13, 86, 138, 24, 104, 182, 20, 140, 91, 108, 195, 20, 160, 77, 185, 122, 20, 0, 165, 8, 237, 6, 34, 249, 24, 138, 187, 84, 56, 47, 199, 70, 224, 68, 166, 33, 110, 77, 21, 163, 50, 65, 137, 8, 18, 96, 134, 73, 104, 0, 210, 70, 2, 225, 201, 51, 158, 3, 230, 202, 193, 244, 165, 107, 84, 65, 171, 12, 172, 55, 117, 98, 192, 56, 144, 179, 58, 133, 80, 79, 36, 20, 13, 15, 21, 120, 177, 58, 50, 178, 202, 10, 209, 72, 4, 68, 139, 203, 217, 247, 19, 242, 33, 35]\n"
     ]
    }
   ],
   "source": [
    "# guess the key\n",
    "keySz = max([len(ciphertext) for ciphertext in ciphertexts_dec])\n",
    "key = []\n",
    "currLen = 0\n",
    "while (currLen < keySz):\n",
    "    msg = int(input(\"Guess for which message? \"))-1\n",
    "    if (currLen >= len(ciphertexts_dec[msg])):\n",
    "        print(\"Already guessed for this message\")\n",
    "        continue\n",
    "    guess = input(\"Enter guess : \")\n",
    "    if (currLen+len(guess) > len(ciphertexts_dec[msg])):\n",
    "        print(\"Guess too long\")\n",
    "        continue\n",
    "    tempKey = key.copy()\n",
    "    for (i, m) in enumerate(guess):\n",
    "        tempKey.append(ord(m)^ciphertexts_dec[msg][currLen+i])\n",
    "    for i in range(len(ciphertexts_dec)):\n",
    "        print(f\"m :- {i+1} :- \",end='')\n",
    "        for j in range(len(tempKey)):\n",
    "            if (j>=len(ciphertexts_dec[i])):\n",
    "                break\n",
    "            print(chr(ciphertexts_dec[i][j]^tempKey[j]),end='')\n",
    "        print()\n",
    "    correctGuess = input(\"Is this correct? (1/0/2) \")\n",
    "    if (correctGuess == '1'):\n",
    "        key = tempKey\n",
    "        currLen += len(guess)\n",
    "    elif (correctGuess == '2'):\n",
    "        break\n",
    "    print()\n",
    "\n",
    "print(key)\n",
    "    \n"
   ]
  },
  {
   "cell_type": "code",
   "execution_count": 4,
   "metadata": {},
   "outputs": [],
   "source": [
    "# write key in output file in hex\n",
    "with open('streamkey.txt', 'w') as f:\n",
    "    f.write(''.join([hex(k)[2:] for k in key]))\n"
   ]
  },
  {
   "cell_type": "code",
   "execution_count": 5,
   "metadata": {},
   "outputs": [],
   "source": [
    "# write plaintexts in output file\n",
    "with open('streamplaintexts.txt', 'w') as f:\n",
    "    for i in range(len(ciphertexts_dec)):\n",
    "        f.write(f\"m :- {i+1} :- \")\n",
    "        for j in range(len(key)):\n",
    "            if (j>=len(ciphertexts_dec[i])):\n",
    "                break\n",
    "            f.write(chr(ciphertexts_dec[i][j]^key[j]))\n",
    "        f.write('\\n')\n"
   ]
  },
  {
   "cell_type": "code",
   "execution_count": null,
   "metadata": {},
   "outputs": [],
   "source": []
  }
 ],
 "metadata": {
  "kernelspec": {
   "display_name": "test",
   "language": "python",
   "name": "python3"
  },
  "language_info": {
   "codemirror_mode": {
    "name": "ipython",
    "version": 3
   },
   "file_extension": ".py",
   "mimetype": "text/x-python",
   "name": "python",
   "nbconvert_exporter": "python",
   "pygments_lexer": "ipython3",
   "version": "3.11.4"
  },
  "orig_nbformat": 4
 },
 "nbformat": 4,
 "nbformat_minor": 2
}
