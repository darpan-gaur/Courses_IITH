{
 "cells": [
  {
   "cell_type": "markdown",
   "metadata": {},
   "source": [
    "## Assignment 3\n",
    "- Darpan Gaur        CO21BTECH11004\n",
    "- Aditya Bacharwar      ES21BTECH11003\n",
    "- Bapatu Manoj Kumar Reddy      ES21BTECH11010"
   ]
  },
  {
   "cell_type": "code",
   "execution_count": 70,
   "metadata": {},
   "outputs": [],
   "source": [
    "# import libraries\n",
    "import numpy as np\n",
    "import pandas as pd"
   ]
  },
  {
   "cell_type": "markdown",
   "metadata": {},
   "source": [
    "Input data format: Input csv file with m+2 rows and n+1 columns\n",
    "- The first row excluding the last element is the inital feasible point z of lenght n\n",
    "- The second row excluding the last element is the cost vector c of length n\n",
    "- The last column excluding the top two elements is the constraint vector b of lenght m\n",
    "- Rows third to m+2 and columns one to n is the matrix A of size m*n"
   ]
  },
  {
   "cell_type": "markdown",
   "metadata": {},
   "source": [
    "### Utils"
   ]
  },
  {
   "cell_type": "code",
   "execution_count": 71,
   "metadata": {},
   "outputs": [],
   "source": [
    "def get_input(input_file_path):\n",
    "    '''\n",
    "    Read input file and return z, c, b, A\n",
    "    '''\n",
    "    # read input file\n",
    "    df = pd.read_csv(input_file_path, header=None)\n",
    "\n",
    "    # z -> first row, except last column\n",
    "    z = df.iloc[0, :-1].values\n",
    "\n",
    "    # c -> second row, except last column\n",
    "    c = df.iloc[1, :-1].values\n",
    "\n",
    "    # b -> next m rows, last column\n",
    "    b = df.iloc[2:, -1].values\n",
    "\n",
    "    # A -> next m rows, except last column\n",
    "    A = df.iloc[2:, :-1].values\n",
    "\n",
    "    return z, c, b, A"
   ]
  },
  {
   "cell_type": "code",
   "execution_count": 72,
   "metadata": {},
   "outputs": [],
   "source": [
    "# Function to compute tight or untight constraints\n",
    "def compute_constraints(z, A, b, tight=True):\n",
    "    '''\n",
    "    Compute tight or untight constraints\n",
    "\n",
    "    Returns:\n",
    "        A_tight, b_tight or A_untight, b_untight\n",
    "    '''\n",
    "    rows, constraints = [], []\n",
    "    for i in range(A.shape[0]):\n",
    "        row = A[i]\n",
    "        constraint = b[i]\n",
    "\n",
    "        # check if row.dot(z) == constraint\n",
    "        if (np.isclose(np.dot(row, z), constraint)) == tight:\n",
    "            rows.append(row)\n",
    "            constraints.append(constraint)\n",
    "    return np.array(rows), np.array(constraints)"
   ]
  },
  {
   "cell_type": "code",
   "execution_count": 73,
   "metadata": {},
   "outputs": [],
   "source": [
    "# Function to compute directions\n",
    "def compute_directions(A):\n",
    "    '''\n",
    "    Compute directions from tight constraints\n",
    "    '''\n",
    "    try:\n",
    "        return -np.linalg.inv(A)\n",
    "    except np.linalg.LinAlgError:\n",
    "        raise ValueError('Unable to find inverse of A')"
   ]
  },
  {
   "cell_type": "code",
   "execution_count": 74,
   "metadata": {},
   "outputs": [],
   "source": [
    "# Function to find possible directions\n",
    "def find_possible_directions(c, directions):\n",
    "    '''\n",
    "    Find the first positive direction\n",
    "    '''\n",
    "    cost = np.dot(c, directions)\n",
    "    positive_cost_indices = np.where(cost > 0)[0]\n",
    "    if len(positive_cost_indices) == 0:\n",
    "        return None, None\n",
    "    return positive_cost_indices[0], directions[:, positive_cost_indices[0]]"
   ]
  },
  {
   "cell_type": "code",
   "execution_count": 75,
   "metadata": {},
   "outputs": [],
   "source": [
    "# Function to check unboundedness\n",
    "def check_unboundedness(A, direction):\n",
    "    '''\n",
    "    Check if the problem is unbounded in the direction\n",
    "    '''\n",
    "    feasible_direction = A @ direction > 0\n",
    "    if not np.any(feasible_direction):\n",
    "        raise Exception('Problem is unbounded')\n",
    "    return False"
   ]
  },
  {
   "cell_type": "code",
   "execution_count": 76,
   "metadata": {},
   "outputs": [],
   "source": [
    "# Handing Degeneracy: Course Notes, Lecture 8: Assumption 2 - small perturbations of the hyperplanes can remove the degeneracies.\n",
    "def add_noise(x, noise_level=1e-5):\n",
    "    '''\n",
    "    Add noise to the constraints vector\n",
    "    ''' \n",
    "    return x + np.random.uniform(0, noise_level, x.shape) + noise_level"
   ]
  },
  {
   "cell_type": "code",
   "execution_count": 77,
   "metadata": {},
   "outputs": [],
   "source": [
    "# Simplex Algorithm\n",
    "def simplex_algorithm(z, c, b, A, max_iters=1000):\n",
    "    '''\n",
    "    Simplex algorithm for maximizing the objective function\n",
    "    '''\n",
    "\n",
    "    z_temp = z          # initial point\n",
    "    degeneracy = False  # flag for deg\n",
    "    solved = False      # flag for solution\n",
    "\n",
    "    try:\n",
    "        for i in range(max_iters):\n",
    "            A_tight, b_tight = compute_constraints(z_temp, A, b)\n",
    "        \n",
    "            # check if degeneracy\n",
    "            if A_tight.shape[0] == 0 or A_tight.shape[0] != A_tight.shape[1]:\n",
    "                degeneracy = True\n",
    "                raise Exception('Degeneracy detected')\n",
    "\n",
    "            A_untight, b_untight = compute_constraints(z_temp, A, b, tight=False)\n",
    "        \n",
    "            # get directions\n",
    "            directions = compute_directions(A_tight)\n",
    "        \n",
    "            # find possible directions\n",
    "            direction_index, direction = find_possible_directions(c, directions)\n",
    "            \n",
    "            # check if direction is None\n",
    "            if direction is None:\n",
    "                break\n",
    "\n",
    "            # check if the problem is unbounded\n",
    "            if (check_unboundedness(A, direction)):\n",
    "                raise Exception('Problem is unbounded')\n",
    "            \n",
    "            # find the step size and take min eta > 0\n",
    "            eta = (b_untight - np.dot(A_untight, z_temp)) / np.dot(A_untight, direction)\n",
    "            eta_min = np.min(eta[eta>0])\n",
    "\n",
    "            # update\n",
    "            z_temp = z_temp + eta_min * direction\n",
    "            \n",
    "            # Output: vertex visited, the objective function\n",
    "            print(f'iteration: {i}, Vertex: {z_temp}, Cost objective: {np.dot(c, z_temp)}')\n",
    "\n",
    "    except Exception as e:\n",
    "        print(e)\n",
    "        if(degeneracy):\n",
    "            return False, None, None\n",
    "        return True, None, None\n",
    "    solved = True\n",
    "    return solved ,z_temp, np.dot(c, z_temp)"
   ]
  },
  {
   "cell_type": "code",
   "execution_count": 78,
   "metadata": {},
   "outputs": [
    {
     "name": "stdout",
     "output_type": "stream",
     "text": [
      "z: [0. 0.]\n",
      "c: [2. 3.]\n",
      "b: [1. 0. 0.]\n",
      "A: [[ 1  1]\n",
      " [-1  0]\n",
      " [ 0 -1]]\n"
     ]
    }
   ],
   "source": [
    "# set input file path\n",
    "input_file_path = 'test1.csv'\n",
    "z, c, b, A = get_input(input_file_path)\n",
    "\n",
    "# print input\n",
    "print('z:', z)\n",
    "print('c:', c)\n",
    "print('b:', b)\n",
    "print('A:', A)"
   ]
  },
  {
   "cell_type": "code",
   "execution_count": 79,
   "metadata": {},
   "outputs": [
    {
     "name": "stdout",
     "output_type": "stream",
     "text": [
      "iteration: 0, Vertex: [1. 0.], Cost objective: 2.0\n",
      "iteration: 1, Vertex: [0. 1.], Cost objective: 3.0\n",
      "Optimal solution found after 0 iterations\n",
      "optimal_z: [0. 1.]\n",
      "optimal_cost: 3.0\n"
     ]
    }
   ],
   "source": [
    "n_iterations = 1000\n",
    "iter_count = 0\n",
    "solved = False\n",
    "optimal_z = None\n",
    "optimal_cost = None\n",
    "\n",
    "# try finding the optimal solution n_iterations times\n",
    "for i in range(n_iterations):\n",
    "    z = z\n",
    "    solved ,optimal_z, optimal_cost = simplex_algorithm(z, c, b, A)\n",
    "\n",
    "    if solved:\n",
    "        iter_count = i\n",
    "        break\n",
    "    elif (i == n_iterations - 1):\n",
    "        print('Failed to find the optimal solution after', n_iterations, 'iterations')\n",
    "    else:\n",
    "        print('Iteration:', i, ', perturbing noise to the constraints')\n",
    "        b = add_noise(b)\n",
    "\n",
    "\n",
    "if solved and optimal_z is not None:\n",
    "    print('Optimal solution found after', iter_count, 'iterations')\n",
    "    print('optimal_z:', optimal_z) \n",
    "    print('optimal_cost:', optimal_cost)\n",
    "else:\n",
    "    print('Failed to find the optimal solution')\n"
   ]
  }
 ],
 "metadata": {
  "kernelspec": {
   "display_name": "base",
   "language": "python",
   "name": "python3"
  },
  "language_info": {
   "codemirror_mode": {
    "name": "ipython",
    "version": 3
   },
   "file_extension": ".py",
   "mimetype": "text/x-python",
   "name": "python",
   "nbconvert_exporter": "python",
   "pygments_lexer": "ipython3",
   "version": "3.12.2"
  }
 },
 "nbformat": 4,
 "nbformat_minor": 2
}
