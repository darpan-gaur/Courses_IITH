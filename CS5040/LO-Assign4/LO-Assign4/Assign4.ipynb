{
 "cells": [
  {
   "cell_type": "markdown",
   "metadata": {},
   "source": [
    "## Assignment 4\n",
    "- Darpan Gaur        CO21BTECH11004\n",
    "- Aditya Bacharwar      ES21BTECH11003\n",
    "- Bapatu Manoj Kumar Reddy      ES21BTECH11010"
   ]
  },
  {
   "cell_type": "code",
   "execution_count": 108,
   "metadata": {},
   "outputs": [],
   "source": [
    "# import libraries\n",
    "import numpy as np\n",
    "import pandas as pd"
   ]
  },
  {
   "cell_type": "markdown",
   "metadata": {},
   "source": [
    "Input data format: Input csv file with m+1 rows and n+1 columns\n",
    "- The first row excluding the last element is the cost vector c of length n\n",
    "- The last column excluding the top element is the constraint vector b of length m\n",
    "- Rows two to m+1 and column one to n is the matrix A of size m*n"
   ]
  },
  {
   "cell_type": "markdown",
   "metadata": {},
   "source": [
    "### Utils"
   ]
  },
  {
   "cell_type": "code",
   "execution_count": 109,
   "metadata": {},
   "outputs": [],
   "source": [
    "def get_input(input_file_path):\n",
    "    '''\n",
    "    Read input file and return c, b, A\n",
    "    '''\n",
    "    # read input file\n",
    "    df = pd.read_csv(input_file_path, header=None)\n",
    "\n",
    "    # c -> first row, except last column\n",
    "    c = df.iloc[0, :-1].values\n",
    "\n",
    "    # b - The last column excluding the top element (len) = m\n",
    "    # b -> next m rows, last column\n",
    "    b = df.iloc[1:, -1].values\n",
    "\n",
    "    # A -> next m rows, except last column\n",
    "    A = df.iloc[1:, :-1].values\n",
    "\n",
    "    return c, b, A"
   ]
  },
  {
   "cell_type": "code",
   "execution_count": 110,
   "metadata": {},
   "outputs": [],
   "source": [
    "def compute_constraints(z, A, b, tight=True):\n",
    "    '''\n",
    "    Compute tight / untight constraints\n",
    "\n",
    "    Returns:\n",
    "        A_tight, b_tight or A_untight, b_untight\n",
    "    '''\n",
    "    rows, constraints = [], []\n",
    "    for i in range(A.shape[0]):\n",
    "        row = A[i]\n",
    "        constraint = b[i]\n",
    "        \n",
    "        # check if row.dot(z) == constraint\n",
    "        if np.isclose(np.dot(row, z), constraint) == tight:\n",
    "            rows.append(row)\n",
    "            constraints.append(constraint)\n",
    "    return np.array(rows), np.array(constraints)"
   ]
  },
  {
   "cell_type": "code",
   "execution_count": 111,
   "metadata": {},
   "outputs": [],
   "source": [
    "def compute_directions(A):\n",
    "    '''\n",
    "    Compute directions from tight constraints\n",
    "    '''\n",
    "    try:\n",
    "        return -np.linalg.inv(A)\n",
    "    except np.linalg.LinAlgError:\n",
    "        raise ValueError('Unable to find inverse of A')"
   ]
  },
  {
   "cell_type": "code",
   "execution_count": 112,
   "metadata": {},
   "outputs": [],
   "source": [
    "def find_possible_directions(c, directions):\n",
    "    '''\n",
    "    Find the first positive direction\n",
    "    '''\n",
    "    \n",
    "    cost = np.dot(c, directions)\n",
    "    positive_cost_indices = np.where(cost > 0)[0]\n",
    "    if len(positive_cost_indices) == 0:\n",
    "        return None, None\n",
    "    return positive_cost_indices[0], directions[:, positive_cost_indices[0]]"
   ]
  },
  {
   "cell_type": "code",
   "execution_count": 113,
   "metadata": {},
   "outputs": [],
   "source": [
    "def check_unboundedness(A, direction):\n",
    "    '''\n",
    "    Check if the problem is unbounded in the direction\n",
    "    '''\n",
    "    \n",
    "    feasible_direction = A @ direction > 0\n",
    "    if not np.any(feasible_direction):\n",
    "        raise Exception('Problem is unbounded')\n",
    "    return False"
   ]
  },
  {
   "cell_type": "code",
   "execution_count": 114,
   "metadata": {},
   "outputs": [],
   "source": [
    "def intial_point(A, b, max_iters:int = 1000):\n",
    "    '''\n",
    "    Finds a random initial vertex that satisfies the constraints\n",
    "    - Selects n random rows from A\n",
    "    - checks if constraints are satisfied\n",
    "    - if not, repeat the process untl max_iters\n",
    "    - else return the point\n",
    "    '''\n",
    "    for i in range(max_iters):\n",
    "        \n",
    "        indices = np.random.choice(A.shape[0], A.shape[1], replace=False)\n",
    "        # get A, B candidate\n",
    "        A_candidate = A[indices]\n",
    "        b_candidate = b[indices]\n",
    "\n",
    "        # check if row are linearly independent\n",
    "        if np.linalg.matrix_rank(A_candidate) == A.shape[1]:\n",
    "\n",
    "            # find the point\n",
    "            point = np.linalg.inv(A_candidate) @ b_candidate\n",
    "            if np.all(A @ point <= b):\n",
    "                return point\n",
    "            \n",
    "    raise Exception('Initial point not found')"
   ]
  },
  {
   "cell_type": "code",
   "execution_count": 115,
   "metadata": {},
   "outputs": [],
   "source": [
    "# Handing Degeneracy: Course Notes, Lecture 8: Assumption 2 - small perturbations of the hyperplanes can remove the degeneracies.\n",
    "def add_noise(x, noise_level=1e-5):\n",
    "    '''\n",
    "    Add noise to the constraints vector\n",
    "    ''' \n",
    "    return x + np.random.uniform(0, noise_level, x.shape) + noise_level\n",
    "    "
   ]
  },
  {
   "cell_type": "code",
   "execution_count": 116,
   "metadata": {},
   "outputs": [],
   "source": [
    "def simplex_algorithm(z, c, b, A, max_iters = 10000):\n",
    "    '''\n",
    "    Simplex algorithm for maximizing objective function\n",
    "    '''\n",
    "\n",
    "    z_temp = z          # initial point\n",
    "    degeneracy = False  # flag for deg\n",
    "    solved = False      # flag for solution\n",
    "\n",
    "    try:\n",
    "        for _ in range(max_iters):\n",
    "            A_tight, b_tight = compute_constraints(z_temp, A, b)\n",
    "\n",
    "            # check if degeneracy\n",
    "            if A_tight.shape[0] == 0 or A_tight.shape[0] != A_tight.shape[1]:\n",
    "                degeneracy = True\n",
    "                raise Exception('Degeneracy detected')\n",
    "           \n",
    "            A_untight, b_untight = compute_constraints(z_temp, A, b, tight=False)\n",
    "\n",
    "            # get directions\n",
    "            directions = compute_directions(A_tight)\n",
    "\n",
    "            # find possible directions\n",
    "            direction_index, direction = find_possible_directions(c, directions)\n",
    "\n",
    "            # check if direction is None\n",
    "            if direction is None:\n",
    "                break\n",
    "\n",
    "            # check if the problem is unbounded\n",
    "            if (check_unboundedness(A, direction)):\n",
    "                raise Exception('Problem is unbounded')\n",
    "            \n",
    "            # find the step size and take min eta > 0\n",
    "            eta = (b_untight - np.dot(A_untight, z_temp)) / np.dot(A_untight, direction)\n",
    "            eta_min = np.min(eta[eta>0])\n",
    "\n",
    "            # update\n",
    "            z_temp = z_temp + eta_min * direction\n",
    "\n",
    "            # Output: vertex visited, the objective function\n",
    "            print(f'Vertex: {z_temp}, Objective: {np.dot(c, z_temp)}')\n",
    "\n",
    "    except Exception as e:\n",
    "        print(e)\n",
    "        if(degeneracy):\n",
    "            return False, None, None\n",
    "        return True, None, None\n",
    "    solved = True\n",
    "    return solved ,z_temp, np.dot(c, z_temp)"
   ]
  },
  {
   "cell_type": "code",
   "execution_count": 117,
   "metadata": {},
   "outputs": [
    {
     "name": "stdout",
     "output_type": "stream",
     "text": [
      "c: [1. 2.]\n",
      "b: [  0.    -8.   -63.09   4.29]\n",
      "A: [[  2.    3. ]\n",
      " [ -3.    1. ]\n",
      " [-17.   17. ]\n",
      " [  0.    0.1]]\n"
     ]
    }
   ],
   "source": [
    "# set input file path\n",
    "input_file_path = 'test1.csv'\n",
    "\n",
    "# get input\n",
    "c, b, A = get_input(input_file_path)\n",
    "\n",
    "# print input\n",
    "print('c:', c)\n",
    "print('b:', b)\n",
    "print('A:', A)"
   ]
  },
  {
   "cell_type": "code",
   "execution_count": 118,
   "metadata": {},
   "outputs": [
    {
     "name": "stdout",
     "output_type": "stream",
     "text": [
      "Optimal solution found with  0 th initial point\n",
      "optimal_z: [ 2.22670588 -1.48447059]\n",
      "optimal_cost: -0.7422352941176471\n"
     ]
    }
   ],
   "source": [
    "n_iterations = 1000\n",
    "iter_count = 0\n",
    "solved = False\n",
    "optimal_z = None\n",
    "optimal_cost = None\n",
    "\n",
    "# try finding the optimal solution n_iterations times\n",
    "for i in range(n_iterations):\n",
    "    z = intial_point(A, b)\n",
    "    solved ,optimal_z, optimal_cost = simplex_algorithm(z, c, b, A)\n",
    "    if solved:\n",
    "        iter_count = i\n",
    "        break\n",
    "    else:\n",
    "        print('Iteration:', i, ', perturbing noise to the constraints')\n",
    "        b = add_noise(b)\n",
    "\n",
    "if solved and optimal_z is not None:\n",
    "    print('Optimal solution found with ', iter_count, 'th initial point')\n",
    "    print('optimal_z:', optimal_z) \n",
    "    print('optimal_cost:', optimal_cost)\n",
    "else:\n",
    "    print('Failed to find the optimal solution')"
   ]
  }
 ],
 "metadata": {
  "kernelspec": {
   "display_name": "base",
   "language": "python",
   "name": "python3"
  },
  "language_info": {
   "codemirror_mode": {
    "name": "ipython",
    "version": 3
   },
   "file_extension": ".py",
   "mimetype": "text/x-python",
   "name": "python",
   "nbconvert_exporter": "python",
   "pygments_lexer": "ipython3",
   "version": "3.12.2"
  }
 },
 "nbformat": 4,
 "nbformat_minor": 2
}
