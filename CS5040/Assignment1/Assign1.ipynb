{
 "cells": [
  {
   "cell_type": "markdown",
   "metadata": {},
   "source": [
    "## Assignment 1\n",
    "- Darpan Gaur        CO21BTECH11004\n",
    "- Aditya Bacharwar      ES21BTECH11003\n",
    "- Bapatu Manoj Kumar Reddy      ES21BTECH11010"
   ]
  },
  {
   "cell_type": "code",
   "execution_count": 1,
   "metadata": {},
   "outputs": [],
   "source": [
    "# import libraries\n",
    "import numpy as np\n",
    "import pandas as pd"
   ]
  },
  {
   "cell_type": "markdown",
   "metadata": {},
   "source": [
    "Input data format: Input csv file with m+2 rows and n+1 columns\n",
    "- The first row excluding the last element is the inital feasible point z of lenght n\n",
    "- The second row excluding the last element is the cost vector c of length n\n",
    "- The last column excluding the top two elements is the constraint vector b of lenght m\n",
    "- Rows third to m+2 and columns one to n is the matrix A of size m*n"
   ]
  },
  {
   "cell_type": "code",
   "execution_count": 2,
   "metadata": {},
   "outputs": [],
   "source": [
    "def get_input(input_file_path):\n",
    "    '''\n",
    "    Read input file and return z, c, b, A\n",
    "    '''\n",
    "    # read input file\n",
    "    df = pd.read_csv(input_file_path, header=None)\n",
    "\n",
    "    # z -> first row, except last column\n",
    "    z = df.iloc[0, :-1].values\n",
    "\n",
    "    # c -> second row, except last column\n",
    "    c = df.iloc[1, :-1].values\n",
    "\n",
    "    # b -> next m rows, last column\n",
    "    b = df.iloc[2:, -1].values\n",
    "\n",
    "    # A -> next m rows, except last column\n",
    "    A = df.iloc[2:, :-1].values\n",
    "\n",
    "    return z, c, b, A"
   ]
  },
  {
   "cell_type": "code",
   "execution_count": 3,
   "metadata": {},
   "outputs": [],
   "source": [
    "def compute_constrainsts(z, A, b, tight=True):\n",
    "    '''\n",
    "    Compute tight / untight constraints\n",
    "\n",
    "    Returns:\n",
    "        A_tight, b_tight or A_untight, b_untight\n",
    "    '''\n",
    "    rows, constraints = [], []\n",
    "    for i in range(A.shape[0]):\n",
    "        row = A[i]\n",
    "        constraint = b[i]\n",
    "        if (np.dot(row, z) == constraint) == tight:\n",
    "            rows.append(row)\n",
    "            constraints.append(constraint)\n",
    "    return np.array(rows), np.array(constraints)"
   ]
  },
  {
   "cell_type": "code",
   "execution_count": 4,
   "metadata": {},
   "outputs": [],
   "source": [
    "def compute_directions(A):\n",
    "    '''\n",
    "    Compute directions from tight constraints\n",
    "    '''\n",
    "    \n",
    "    return -np.linalg.inv(A)\n"
   ]
  },
  {
   "cell_type": "code",
   "execution_count": 5,
   "metadata": {},
   "outputs": [],
   "source": [
    "def find_possible_directions(c, directions):\n",
    "    '''\n",
    "    Find the first positive direction\n",
    "    '''\n",
    "    \n",
    "    cost = np.dot(c, directions)\n",
    "    positive_cost_indices = np.where(cost > 0)[0]\n",
    "    if len(positive_cost_indices) == 0:\n",
    "        return None, None\n",
    "    return positive_cost_indices[0], directions[:, positive_cost_indices[0]]\n",
    "    "
   ]
  },
  {
   "cell_type": "code",
   "execution_count": 6,
   "metadata": {},
   "outputs": [],
   "source": [
    "def check_unboundedness(A, direction):\n",
    "    '''\n",
    "    Check if the problem is unbounded in the direction\n",
    "    '''\n",
    "    \n",
    "    try:\n",
    "        if (np.where(A@direction > 0)[0].size == 0):\n",
    "            raise Exception('Problem is unbounded')\n",
    "    except:\n",
    "        return True\n",
    "        "
   ]
  },
  {
   "cell_type": "code",
   "execution_count": 7,
   "metadata": {},
   "outputs": [],
   "source": [
    "def simplex_algorithm(z, c, b, A, max_iters = 1000):\n",
    "    '''\n",
    "    Simplex algorithm for maximizing objective function\n",
    "    '''\n",
    "\n",
    "    z_temp = z\n",
    "    iter = 0\n",
    "    try:\n",
    "        while iter<max_iters:\n",
    "            A_tight, b_tight = compute_constrainsts(z_temp, A, b)\n",
    "            A_untight, b_untight = compute_constrainsts(z_temp, A, b, tight=False)\n",
    "            print(A_tight, b_tight)\n",
    "            directions = compute_directions(A_tight)\n",
    "            direction_index, direction = find_possible_directions(c, directions)\n",
    "            if direction is None:\n",
    "                break\n",
    "            if (check_unboundedness(A, direction)):\n",
    "                raise Exception('Problem is unbounded')\n",
    "            eta = (b_untight - np.dot(A_untight, z_temp)) / np.dot(A_untight, direction)\n",
    "            eta_min = np.min(eta[eta>0])\n",
    "            z_temp = z_temp + eta_min * direction\n",
    "            iter += 1\n",
    "    except Exception as e:\n",
    "        print(e)\n",
    "        return None, None\n",
    "    return z_temp, np.dot(c, z_temp)\n",
    "\n",
    "    "
   ]
  },
  {
   "cell_type": "code",
   "execution_count": 8,
   "metadata": {},
   "outputs": [
    {
     "name": "stdout",
     "output_type": "stream",
     "text": [
      "z: [5 0 0]\n",
      "c: [ 2 -1  2]\n",
      "b: [10 20  5  0  0  0]\n",
      "A: [[ 2  1  0]\n",
      " [ 1  2 -2]\n",
      " [ 0  1  2]\n",
      " [-1  0  0]\n",
      " [ 0 -1  0]\n",
      " [ 0  0 -1]]\n"
     ]
    }
   ],
   "source": [
    "# set input file path\n",
    "input_file_path = './input1.csv'\n",
    "\n",
    "# get input\n",
    "z, c, b, A = get_input(input_file_path)\n",
    "\n",
    "# print input\n",
    "print('z:', z)\n",
    "print('c:', c)\n",
    "print('b:', b)\n",
    "print('A:', A)"
   ]
  },
  {
   "cell_type": "code",
   "execution_count": 9,
   "metadata": {},
   "outputs": [
    {
     "name": "stdout",
     "output_type": "stream",
     "text": [
      "[[ 2  1  0]\n",
      " [ 0 -1  0]\n",
      " [ 0  0 -1]] [10  0  0]\n",
      "[[ 2  1  0]\n",
      " [ 0  1  2]\n",
      " [ 0 -1  0]] [10  5  0]\n",
      "optimal_z: [5.  0.  2.5]\n",
      "optimal_cost: 15.0\n"
     ]
    },
    {
     "name": "stderr",
     "output_type": "stream",
     "text": [
      "/tmp/ipykernel_6450/2728729025.py:19: RuntimeWarning: divide by zero encountered in divide\n",
      "  eta = (b_untight - np.dot(A_untight, z_temp)) / np.dot(A_untight, direction)\n"
     ]
    }
   ],
   "source": [
    "# run simplex algorithm\n",
    "optimal_z, optimal_cost = simplex_algorithm(z, c, b, A)\n",
    "\n",
    "# print output\n",
    "print('optimal_z:', optimal_z)\n",
    "print('optimal_cost:', optimal_cost)"
   ]
  },
  {
   "cell_type": "code",
   "execution_count": null,
   "metadata": {},
   "outputs": [],
   "source": []
  }
 ],
 "metadata": {
  "kernelspec": {
   "display_name": "test",
   "language": "python",
   "name": "python3"
  },
  "language_info": {
   "codemirror_mode": {
    "name": "ipython",
    "version": 3
   },
   "file_extension": ".py",
   "mimetype": "text/x-python",
   "name": "python",
   "nbconvert_exporter": "python",
   "pygments_lexer": "ipython3",
   "version": "3.11.4"
  }
 },
 "nbformat": 4,
 "nbformat_minor": 2
}
