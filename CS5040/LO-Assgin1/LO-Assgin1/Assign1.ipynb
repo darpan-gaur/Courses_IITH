{
 "cells": [
  {
   "cell_type": "markdown",
   "metadata": {},
   "source": [
    "## Assignment 1\n",
    "- Darpan Gaur CO21BTECH11004\n",
    "- Aditya Bacharwar ES21BTECH11003\n",
    "- Bapatu Manoj Kumar Reddy ES21BTECH11010"
   ]
  },
  {
   "cell_type": "code",
   "execution_count": 10,
   "metadata": {},
   "outputs": [],
   "source": [
    "# import libraries\n",
    "import numpy as np\n",
    "import pandas as pd"
   ]
  },
  {
   "cell_type": "markdown",
   "metadata": {},
   "source": [
    "Input data format: Input csv file with m+2 rows and n+1 columns\n",
    "- The first row excluding the last element is the inital feasible point z of lenght n\n",
    "- The second row excluding the last element is the cost vector c of length n\n",
    "- The last column excluding the top two elements is the constraint vector b of lenght m\n",
    "- Rows third to m+2 and columns one to n is the matrix A of size m*n"
   ]
  },
  {
   "cell_type": "markdown",
   "metadata": {},
   "source": [
    "### Utils"
   ]
  },
  {
   "cell_type": "code",
   "execution_count": 11,
   "metadata": {},
   "outputs": [],
   "source": [
    "def get_input(input_file_path):\n",
    "    '''\n",
    "    Read input file and return z, c, b, A\n",
    "    '''\n",
    "    # read input file\n",
    "    df = pd.read_csv(input_file_path, header=None)\n",
    "\n",
    "    # z -> first row, except last column\n",
    "    z = df.iloc[0, :-1].values\n",
    "\n",
    "    # c -> second row, except last column\n",
    "    c = df.iloc[1, :-1].values\n",
    "\n",
    "    # b -> next m rows, last column\n",
    "    b = df.iloc[2:, -1].values\n",
    "\n",
    "    # A -> next m rows, except last column\n",
    "    A = df.iloc[2:, :-1].values\n",
    "\n",
    "    return z, c, b, A"
   ]
  },
  {
   "cell_type": "code",
   "execution_count": 12,
   "metadata": {},
   "outputs": [],
   "source": [
    "def compute_constraints(z, A, b, tight=True):\n",
    "    '''\n",
    "    Compute tight / untight constraints\n",
    "\n",
    "    Returns:\n",
    "        A_tight, b_tight or A_untight, b_untight\n",
    "    '''\n",
    "    rows, constraints = [], []\n",
    "    for i in range(A.shape[0]):\n",
    "        row = A[i]\n",
    "        constraint = b[i]\n",
    "        \n",
    "        # check if row.dot(z) == constraint\n",
    "        if np.isclose(np.dot(row, z), constraint) == tight:\n",
    "            rows.append(row)\n",
    "            constraints.append(constraint)\n",
    "    return np.array(rows), np.array(constraints)"
   ]
  },
  {
   "cell_type": "code",
   "execution_count": 13,
   "metadata": {},
   "outputs": [],
   "source": [
    "def compute_directions(A):\n",
    "    '''\n",
    "    Compute directions from tight constraints\n",
    "    '''\n",
    "    try:\n",
    "        return -np.linalg.inv(A)\n",
    "    except np.linalg.LinAlgError:\n",
    "        raise ValueError('Unable to find inverse of A')"
   ]
  },
  {
   "cell_type": "code",
   "execution_count": 14,
   "metadata": {},
   "outputs": [],
   "source": [
    "def find_possible_directions(c, directions):\n",
    "    '''\n",
    "    Find the first positive direction\n",
    "    '''\n",
    "    \n",
    "    cost = np.dot(c, directions)\n",
    "    positive_cost_indices = np.where(cost > 0)[0]\n",
    "    if len(positive_cost_indices) == 0:\n",
    "        return None, None\n",
    "    return positive_cost_indices[0], directions[:, positive_cost_indices[0]]\n",
    "    "
   ]
  },
  {
   "cell_type": "code",
   "execution_count": 15,
   "metadata": {},
   "outputs": [],
   "source": [
    "def check_unboundedness(A, direction):\n",
    "    '''\n",
    "    Check if the problem is unbounded in the direction\n",
    "    '''\n",
    "    \n",
    "    feasible_direction = A @ direction > 0\n",
    "    if not np.any(feasible_direction):\n",
    "        raise Exception('Problem is unbounded')\n",
    "    return False"
   ]
  },
  {
   "cell_type": "code",
   "execution_count": 16,
   "metadata": {},
   "outputs": [],
   "source": [
    "def simplex_algorithm(z, c, b, A, max_iters = 1000):\n",
    "    '''\n",
    "    Simplex algorithm for maximizing objective function\n",
    "    '''\n",
    "    z_temp = z          # initial point\n",
    "    solved = False      # flag for solution\n",
    "\n",
    "    try:\n",
    "        for i in range(max_iters):\n",
    "            A_tight, b_tight = compute_constraints(z_temp, A, b)\n",
    "            A_untight, b_untight = compute_constraints(z_temp, A, b, tight=False)\n",
    "\n",
    "            # get directions\n",
    "            directions = compute_directions(A_tight)\n",
    "\n",
    "            # find possible directions\n",
    "            direction_index, direction = find_possible_directions(c, directions)\n",
    "\n",
    "            # check if direction is None\n",
    "            if direction is None:\n",
    "                break\n",
    "\n",
    "            # check if the problem is unbounded\n",
    "            if (check_unboundedness(A, direction)):\n",
    "                raise Exception('Problem is unbounded')\n",
    "            \n",
    "            # find the step size and take min eta > 0\n",
    "            eta = (b_untight - np.dot(A_untight, z_temp)) / np.dot(A_untight, direction)\n",
    "            eta_min = np.min(eta[eta>0])\n",
    "\n",
    "            # update\n",
    "            z_temp = z_temp + eta_min * direction\n",
    "\n",
    "            # Output: vertex visited, the objective function\n",
    "            print(f'iteration: {i}, Vertex: {z_temp}, Cost objective: {np.dot(c, z_temp)}')\n",
    "\n",
    "    except Exception as e:\n",
    "        print(e)\n",
    "        return False, None, None\n",
    "    solved = True\n",
    "    return solved ,z_temp, np.dot(c, z_temp)\n",
    "    "
   ]
  },
  {
   "cell_type": "code",
   "execution_count": 17,
   "metadata": {},
   "outputs": [
    {
     "name": "stdout",
     "output_type": "stream",
     "text": [
      "z: [10.  0.]\n",
      "c: [4. 5.]\n",
      "b: [10. 42.  0.  0.]\n",
      "A: [[ 1  1]\n",
      " [ 3  7]\n",
      " [-1  0]\n",
      " [ 0 -1]]\n"
     ]
    }
   ],
   "source": [
    "# set input file path\n",
    "input_file_path = 'test1.csv'\n",
    "\n",
    "# get input\n",
    "z, c, b, A = get_input(input_file_path)\n",
    "\n",
    "# print input\n",
    "print('z:', z)\n",
    "print('c:', c)\n",
    "print('b:', b)\n",
    "print('A:', A)\n",
    "\n"
   ]
  },
  {
   "cell_type": "code",
   "execution_count": 18,
   "metadata": {},
   "outputs": [
    {
     "name": "stdout",
     "output_type": "stream",
     "text": [
      "iteration: 0, Vertex: [7. 3.], Cost objective: 43.0\n",
      "Solution found\n",
      "optimal_z: [7. 3.]\n",
      "optimal_cost: 43.0\n"
     ]
    }
   ],
   "source": [
    "# run simplex algorithm\n",
    "solved, optimal_z, optimal_cost = simplex_algorithm(z, c, b, A)\n",
    "\n",
    "# print output\n",
    "if solved:\n",
    "    print('Solution found')\n",
    "    print('optimal_z:', optimal_z)\n",
    "    print('optimal_cost:', optimal_cost)\n",
    "else:\n",
    "    print('Solution not found')"
   ]
  },
  {
   "cell_type": "code",
   "execution_count": null,
   "metadata": {},
   "outputs": [],
   "source": []
  }
 ],
 "metadata": {
  "kernelspec": {
   "display_name": "test",
   "language": "python",
   "name": "python3"
  },
  "language_info": {
   "codemirror_mode": {
    "name": "ipython",
    "version": 3
   },
   "file_extension": ".py",
   "mimetype": "text/x-python",
   "name": "python",
   "nbconvert_exporter": "python",
   "pygments_lexer": "ipython3",
   "version": "3.11.4"
  }
 },
 "nbformat": 4,
 "nbformat_minor": 2
}
