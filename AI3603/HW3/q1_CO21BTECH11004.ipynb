{
 "cells": [
  {
   "cell_type": "code",
   "execution_count": 1,
   "metadata": {},
   "outputs": [],
   "source": [
    "# import libraries\n",
    "import numpy as np\n",
    "import matplotlib.pyplot as plt\n",
    "from PIL import Image\n",
    "import cv2"
   ]
  },
  {
   "cell_type": "code",
   "execution_count": 9,
   "metadata": {},
   "outputs": [],
   "source": [
    "# read image\n",
    "left = cv2.imread('left.png', -1)\n",
    "right = cv2.imread('right.png', -1)"
   ]
  },
  {
   "cell_type": "markdown",
   "metadata": {},
   "source": [
    "## Que 1(a)"
   ]
  },
  {
   "cell_type": "code",
   "execution_count": 14,
   "metadata": {},
   "outputs": [],
   "source": [
    "def get_normalized_histogram(img):\n",
    "    # custum histogram function\n",
    "    hist = np.zeros(256)\n",
    "    for i in img.flatten():\n",
    "        hist[i] += 1\n",
    "    hist = hist / np.sum(hist)\n",
    "    return hist"
   ]
  },
  {
   "cell_type": "code",
   "execution_count": 21,
   "metadata": {},
   "outputs": [
    {
     "name": "stdout",
     "output_type": "stream",
     "text": [
      "KL Divergence of p and q is 0.45849625007211564\n"
     ]
    }
   ],
   "source": [
    "def KL_divergence(p, q):\n",
    "    p = np.array(p)\n",
    "    q = np.array(q)\n",
    "    # remove zeros\n",
    "    p1 = p[(p != 0) | (q != 0)]\n",
    "    q1 = q[(p != 0) | (q != 0)]\n",
    "    return np.sum(p1 * np.log2(p1/q1))\n",
    "\n",
    "p = [0.1, 0.2, 0.3, 0.4]\n",
    "q = [0.2, 0.3, 0.4, 0.1]\n",
    "\n",
    "print(f\"KL Divergence of p and q is {KL_divergence(p, q)}\")"
   ]
  },
  {
   "cell_type": "code",
   "execution_count": 22,
   "metadata": {},
   "outputs": [
    {
     "name": "stdout",
     "output_type": "stream",
     "text": [
      "KL Divergence of left and right images is 0.015104015237387056\n",
      "KL Divergence of right and left images is 0.014409785833354479\n"
     ]
    }
   ],
   "source": [
    "# KL divergence of left and right images\n",
    "hist_left = get_normalized_histogram(left)\n",
    "hist_right = get_normalized_histogram(right)\n",
    "\n",
    "KL_lr = KL_divergence(hist_left, hist_right)\n",
    "KL_rl = KL_divergence(hist_right, hist_left)\n",
    "\n",
    "print(f\"KL Divergence of left and right images is {KL_lr}\")\n",
    "print(f\"KL Divergence of right and left images is {KL_rl}\")"
   ]
  },
  {
   "cell_type": "markdown",
   "metadata": {},
   "source": [
    "- As KL(left|right) != KL(right|left), the KL divergence is not symmetric."
   ]
  },
  {
   "cell_type": "markdown",
   "metadata": {},
   "source": [
    "## Que 1(b)"
   ]
  },
  {
   "cell_type": "code",
   "execution_count": 23,
   "metadata": {},
   "outputs": [],
   "source": [
    "def get_cross_entropy(p, q):\n",
    "    ce = 0\n",
    "    for pi, qi in zip(p, q):\n",
    "        if pi == 0 or qi == 0:\n",
    "            continue\n",
    "        ce += pi * np.log2(qi)\n",
    "    return -ce\n",
    "\n",
    "def get_jensenShannon_divergence(p, q):\n",
    "    m = 0.5 * (p + q)\n",
    "    return 0.5 * get_cross_entropy(p, m) + 0.5 * get_cross_entropy(q, m)"
   ]
  },
  {
   "cell_type": "code",
   "execution_count": 24,
   "metadata": {},
   "outputs": [
    {
     "name": "stdout",
     "output_type": "stream",
     "text": [
      "Jensen-Shannon Divergence of left and right images is 7.2721328579923465\n",
      "Jensen-Shannon Divergence of right and left images is 7.2721328579923465\n"
     ]
    }
   ],
   "source": [
    "hist_left = get_normalized_histogram(left)\n",
    "hist_right = get_normalized_histogram(right)\n",
    "\n",
    "JS_lr = get_jensenShannon_divergence(hist_left, hist_right)\n",
    "JS_rl = get_jensenShannon_divergence(hist_right, hist_left)\n",
    "\n",
    "print(f\"Jensen-Shannon Divergence of left and right images is {JS_lr}\")\n",
    "print(f\"Jensen-Shannon Divergence of right and left images is {JS_rl}\")"
   ]
  },
  {
   "cell_type": "markdown",
   "metadata": {},
   "source": [
    "- Here JSD is symmetric, as JSD(left|right) = JSD(right|left), while KL is not symmetric, as seen in the previous question."
   ]
  },
  {
   "cell_type": "markdown",
   "metadata": {},
   "source": [
    "## Que 1(c)"
   ]
  },
  {
   "cell_type": "code",
   "execution_count": 25,
   "metadata": {},
   "outputs": [
    {
     "name": "stdout",
     "output_type": "stream",
     "text": [
      "Example 1: True\n",
      "Example 2: False\n"
     ]
    }
   ],
   "source": [
    "def check_p_in_Pi(p, r, s):\n",
    "    # check if marginals are equal\n",
    "    rX = np.sum(p, axis=1)\n",
    "    sY = np.sum(p, axis=0)\n",
    "    if np.allclose(rX, r) and np.allclose(sY, s):\n",
    "        return True\n",
    "    return False\n",
    "\n",
    "# Example 1 -> positive case\n",
    "p_xy = np.array([[0.1, 0.2], [0.2, 0.5]])\n",
    "r = np.array([0.3, 0.7])\n",
    "s = np.array([0.3, 0.7])\n",
    "print('Example 1:', check_p_in_Pi(p_xy, r, s))\n",
    "\n",
    "# Example 2 -> negative case\n",
    "p_xy = np.array([[0.1, 0.2], [0.2, 0.5]])\n",
    "r = np.array([0.3, 0.7])\n",
    "s = np.array([0.2, 0.8])\n",
    "print('Example 2:', check_p_in_Pi(p_xy, r, s))"
   ]
  }
 ],
 "metadata": {
  "kernelspec": {
   "display_name": "test",
   "language": "python",
   "name": "python3"
  },
  "language_info": {
   "codemirror_mode": {
    "name": "ipython",
    "version": 3
   },
   "file_extension": ".py",
   "mimetype": "text/x-python",
   "name": "python",
   "nbconvert_exporter": "python",
   "pygments_lexer": "ipython3",
   "version": "3.11.4"
  }
 },
 "nbformat": 4,
 "nbformat_minor": 2
}
